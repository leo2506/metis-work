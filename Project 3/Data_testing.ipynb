{
 "cells": [
  {
   "cell_type": "code",
   "execution_count": 1,
   "metadata": {
    "ExecuteTime": {
     "end_time": "2018-10-19T17:10:01.686464Z",
     "start_time": "2018-10-19T17:10:00.177556Z"
    }
   },
   "outputs": [
    {
     "name": "stderr",
     "output_type": "stream",
     "text": [
      "/Users/liuriguang/anaconda3/lib/python3.6/site-packages/sklearn/cross_validation.py:41: DeprecationWarning: This module was deprecated in version 0.18 in favor of the model_selection module into which all the refactored classes and functions are moved. Also note that the interface of the new CV iterators are different from that of this module. This module will be removed in 0.20.\n",
      "  \"This module will be removed in 0.20.\", DeprecationWarning)\n"
     ]
    }
   ],
   "source": [
    "import pandas as pd\n",
    "import numpy as np\n",
    "import seaborn as sns\n",
    "import matplotlib.pyplot as plt\n",
    "from sklearn.linear_model import LinearRegression\n",
    "from sklearn.linear_model import RidgeCV\n",
    "from sklearn.model_selection import train_test_split\n",
    "from sklearn.pipeline import make_pipeline\n",
    "from sklearn.preprocessing import PolynomialFeatures\n",
    "from sklearn.cross_validation import KFold\n",
    "from sklearn.preprocessing import StandardScaler\n",
    "\n",
    "\n",
    "%config InlineBackend.figure_format = 'svg'\n",
    "%matplotlib inline"
   ]
  },
  {
   "cell_type": "code",
   "execution_count": 2,
   "metadata": {
    "ExecuteTime": {
     "end_time": "2018-10-19T17:10:12.574592Z",
     "start_time": "2018-10-19T17:10:01.688555Z"
    }
   },
   "outputs": [
    {
     "name": "stderr",
     "output_type": "stream",
     "text": [
      "/Users/liuriguang/anaconda3/lib/python3.6/site-packages/IPython/core/interactiveshell.py:2785: DtypeWarning: Columns (19,55) have mixed types. Specify dtype option on import or set low_memory=False.\n",
      "  interactivity=interactivity, compiler=compiler, result=result)\n"
     ]
    }
   ],
   "source": [
    "df = pd.read_csv(\"data/loan.csv\")"
   ]
  },
  {
   "cell_type": "code",
   "execution_count": 3,
   "metadata": {
    "ExecuteTime": {
     "end_time": "2018-10-19T17:10:12.761795Z",
     "start_time": "2018-10-19T17:10:12.576952Z"
    }
   },
   "outputs": [],
   "source": [
    "df_test = df.sample(50000, random_state=25)"
   ]
  },
  {
   "cell_type": "code",
   "execution_count": 4,
   "metadata": {
    "ExecuteTime": {
     "end_time": "2018-10-19T17:10:12.772069Z",
     "start_time": "2018-10-19T17:10:12.764318Z"
    }
   },
   "outputs": [
    {
     "data": {
      "text/plain": [
       "(50000, 74)"
      ]
     },
     "execution_count": 4,
     "metadata": {},
     "output_type": "execute_result"
    }
   ],
   "source": [
    "df_test.shape"
   ]
  },
  {
   "cell_type": "code",
   "execution_count": 5,
   "metadata": {
    "ExecuteTime": {
     "end_time": "2018-10-19T17:10:12.906084Z",
     "start_time": "2018-10-19T17:10:12.774606Z"
    }
   },
   "outputs": [
    {
     "name": "stdout",
     "output_type": "stream",
     "text": [
      "<class 'pandas.core.frame.DataFrame'>\n",
      "Int64Index: 50000 entries, 348281 to 351889\n",
      "Data columns (total 74 columns):\n",
      "id                             50000 non-null int64\n",
      "member_id                      50000 non-null int64\n",
      "loan_amnt                      50000 non-null float64\n",
      "funded_amnt                    50000 non-null float64\n",
      "funded_amnt_inv                50000 non-null float64\n",
      "term                           50000 non-null object\n",
      "int_rate                       50000 non-null float64\n",
      "installment                    50000 non-null float64\n",
      "grade                          50000 non-null object\n",
      "sub_grade                      50000 non-null object\n",
      "emp_title                      47101 non-null object\n",
      "emp_length                     47499 non-null object\n",
      "home_ownership                 50000 non-null object\n",
      "annual_inc                     50000 non-null float64\n",
      "verification_status            50000 non-null object\n",
      "issue_d                        50000 non-null object\n",
      "loan_status                    50000 non-null object\n",
      "pymnt_plan                     50000 non-null object\n",
      "url                            50000 non-null object\n",
      "desc                           7050 non-null object\n",
      "purpose                        50000 non-null object\n",
      "title                          49995 non-null object\n",
      "zip_code                       50000 non-null object\n",
      "addr_state                     50000 non-null object\n",
      "dti                            50000 non-null float64\n",
      "delinq_2yrs                    49998 non-null float64\n",
      "earliest_cr_line               49998 non-null object\n",
      "inq_last_6mths                 49998 non-null float64\n",
      "mths_since_last_delinq         24442 non-null float64\n",
      "mths_since_last_record         7740 non-null float64\n",
      "open_acc                       49998 non-null float64\n",
      "pub_rec                        49998 non-null float64\n",
      "revol_bal                      50000 non-null float64\n",
      "revol_util                     49969 non-null float64\n",
      "total_acc                      49998 non-null float64\n",
      "initial_list_status            50000 non-null object\n",
      "out_prncp                      50000 non-null float64\n",
      "out_prncp_inv                  50000 non-null float64\n",
      "total_pymnt                    50000 non-null float64\n",
      "total_pymnt_inv                50000 non-null float64\n",
      "total_rec_prncp                50000 non-null float64\n",
      "total_rec_int                  50000 non-null float64\n",
      "total_rec_late_fee             50000 non-null float64\n",
      "recoveries                     50000 non-null float64\n",
      "collection_recovery_fee        50000 non-null float64\n",
      "last_pymnt_d                   49012 non-null object\n",
      "last_pymnt_amnt                50000 non-null float64\n",
      "next_pymnt_d                   35708 non-null object\n",
      "last_credit_pull_d             49995 non-null object\n",
      "collections_12_mths_ex_med     49993 non-null float64\n",
      "mths_since_last_major_derog    12438 non-null float64\n",
      "policy_code                    50000 non-null float64\n",
      "application_type               50000 non-null object\n",
      "annual_inc_joint               29 non-null float64\n",
      "dti_joint                      29 non-null float64\n",
      "verification_status_joint      29 non-null object\n",
      "acc_now_delinq                 49998 non-null float64\n",
      "tot_coll_amt                   46013 non-null float64\n",
      "tot_cur_bal                    46013 non-null float64\n",
      "open_acc_6m                    1195 non-null float64\n",
      "open_il_6m                     1195 non-null float64\n",
      "open_il_12m                    1195 non-null float64\n",
      "open_il_24m                    1195 non-null float64\n",
      "mths_since_rcnt_il             1165 non-null float64\n",
      "total_bal_il                   1195 non-null float64\n",
      "il_util                        1048 non-null float64\n",
      "open_rv_12m                    1195 non-null float64\n",
      "open_rv_24m                    1195 non-null float64\n",
      "max_bal_bc                     1195 non-null float64\n",
      "all_util                       1195 non-null float64\n",
      "total_rev_hi_lim               46013 non-null float64\n",
      "inq_fi                         1195 non-null float64\n",
      "total_cu_tl                    1195 non-null float64\n",
      "inq_last_12m                   1195 non-null float64\n",
      "dtypes: float64(49), int64(2), object(23)\n",
      "memory usage: 28.6+ MB\n"
     ]
    }
   ],
   "source": [
    "df_test.info()"
   ]
  },
  {
   "cell_type": "code",
   "execution_count": 6,
   "metadata": {
    "ExecuteTime": {
     "end_time": "2018-10-19T17:10:12.938634Z",
     "start_time": "2018-10-19T17:10:12.908682Z"
    }
   },
   "outputs": [
    {
     "data": {
      "text/html": [
       "<div>\n",
       "<style scoped>\n",
       "    .dataframe tbody tr th:only-of-type {\n",
       "        vertical-align: middle;\n",
       "    }\n",
       "\n",
       "    .dataframe tbody tr th {\n",
       "        vertical-align: top;\n",
       "    }\n",
       "\n",
       "    .dataframe thead th {\n",
       "        text-align: right;\n",
       "    }\n",
       "</style>\n",
       "<table border=\"1\" class=\"dataframe\">\n",
       "  <thead>\n",
       "    <tr style=\"text-align: right;\">\n",
       "      <th></th>\n",
       "      <th>id</th>\n",
       "      <th>member_id</th>\n",
       "      <th>loan_amnt</th>\n",
       "      <th>funded_amnt</th>\n",
       "      <th>funded_amnt_inv</th>\n",
       "      <th>term</th>\n",
       "      <th>int_rate</th>\n",
       "      <th>installment</th>\n",
       "      <th>grade</th>\n",
       "      <th>sub_grade</th>\n",
       "      <th>...</th>\n",
       "      <th>total_bal_il</th>\n",
       "      <th>il_util</th>\n",
       "      <th>open_rv_12m</th>\n",
       "      <th>open_rv_24m</th>\n",
       "      <th>max_bal_bc</th>\n",
       "      <th>all_util</th>\n",
       "      <th>total_rev_hi_lim</th>\n",
       "      <th>inq_fi</th>\n",
       "      <th>total_cu_tl</th>\n",
       "      <th>inq_last_12m</th>\n",
       "    </tr>\n",
       "  </thead>\n",
       "  <tbody>\n",
       "    <tr>\n",
       "      <th>161186</th>\n",
       "      <td>3495613</td>\n",
       "      <td>4377902</td>\n",
       "      <td>8400.0</td>\n",
       "      <td>8400.0</td>\n",
       "      <td>8400.0</td>\n",
       "      <td>36 months</td>\n",
       "      <td>6.03</td>\n",
       "      <td>255.66</td>\n",
       "      <td>A</td>\n",
       "      <td>A1</td>\n",
       "      <td>...</td>\n",
       "      <td>NaN</td>\n",
       "      <td>NaN</td>\n",
       "      <td>NaN</td>\n",
       "      <td>NaN</td>\n",
       "      <td>NaN</td>\n",
       "      <td>NaN</td>\n",
       "      <td>30600.0</td>\n",
       "      <td>NaN</td>\n",
       "      <td>NaN</td>\n",
       "      <td>NaN</td>\n",
       "    </tr>\n",
       "    <tr>\n",
       "      <th>357043</th>\n",
       "      <td>20048815</td>\n",
       "      <td>22311450</td>\n",
       "      <td>31575.0</td>\n",
       "      <td>31575.0</td>\n",
       "      <td>31275.0</td>\n",
       "      <td>36 months</td>\n",
       "      <td>14.49</td>\n",
       "      <td>1086.69</td>\n",
       "      <td>C</td>\n",
       "      <td>C4</td>\n",
       "      <td>...</td>\n",
       "      <td>NaN</td>\n",
       "      <td>NaN</td>\n",
       "      <td>NaN</td>\n",
       "      <td>NaN</td>\n",
       "      <td>NaN</td>\n",
       "      <td>NaN</td>\n",
       "      <td>63900.0</td>\n",
       "      <td>NaN</td>\n",
       "      <td>NaN</td>\n",
       "      <td>NaN</td>\n",
       "    </tr>\n",
       "    <tr>\n",
       "      <th>187266</th>\n",
       "      <td>1705746</td>\n",
       "      <td>1998620</td>\n",
       "      <td>10075.0</td>\n",
       "      <td>10075.0</td>\n",
       "      <td>10075.0</td>\n",
       "      <td>36 months</td>\n",
       "      <td>17.77</td>\n",
       "      <td>363.08</td>\n",
       "      <td>D</td>\n",
       "      <td>D1</td>\n",
       "      <td>...</td>\n",
       "      <td>NaN</td>\n",
       "      <td>NaN</td>\n",
       "      <td>NaN</td>\n",
       "      <td>NaN</td>\n",
       "      <td>NaN</td>\n",
       "      <td>NaN</td>\n",
       "      <td>19800.0</td>\n",
       "      <td>NaN</td>\n",
       "      <td>NaN</td>\n",
       "      <td>NaN</td>\n",
       "    </tr>\n",
       "    <tr>\n",
       "      <th>146161</th>\n",
       "      <td>4376393</td>\n",
       "      <td>5608659</td>\n",
       "      <td>16750.0</td>\n",
       "      <td>16750.0</td>\n",
       "      <td>16750.0</td>\n",
       "      <td>36 months</td>\n",
       "      <td>12.12</td>\n",
       "      <td>557.31</td>\n",
       "      <td>B</td>\n",
       "      <td>B3</td>\n",
       "      <td>...</td>\n",
       "      <td>NaN</td>\n",
       "      <td>NaN</td>\n",
       "      <td>NaN</td>\n",
       "      <td>NaN</td>\n",
       "      <td>NaN</td>\n",
       "      <td>NaN</td>\n",
       "      <td>22100.0</td>\n",
       "      <td>NaN</td>\n",
       "      <td>NaN</td>\n",
       "      <td>NaN</td>\n",
       "    </tr>\n",
       "    <tr>\n",
       "      <th>145904</th>\n",
       "      <td>4434907</td>\n",
       "      <td>5667087</td>\n",
       "      <td>10000.0</td>\n",
       "      <td>10000.0</td>\n",
       "      <td>10000.0</td>\n",
       "      <td>36 months</td>\n",
       "      <td>15.31</td>\n",
       "      <td>348.18</td>\n",
       "      <td>C</td>\n",
       "      <td>C2</td>\n",
       "      <td>...</td>\n",
       "      <td>NaN</td>\n",
       "      <td>NaN</td>\n",
       "      <td>NaN</td>\n",
       "      <td>NaN</td>\n",
       "      <td>NaN</td>\n",
       "      <td>NaN</td>\n",
       "      <td>17600.0</td>\n",
       "      <td>NaN</td>\n",
       "      <td>NaN</td>\n",
       "      <td>NaN</td>\n",
       "    </tr>\n",
       "  </tbody>\n",
       "</table>\n",
       "<p>5 rows × 74 columns</p>\n",
       "</div>"
      ],
      "text/plain": [
       "              id  member_id  loan_amnt  funded_amnt  funded_amnt_inv  \\\n",
       "161186   3495613    4377902     8400.0       8400.0           8400.0   \n",
       "357043  20048815   22311450    31575.0      31575.0          31275.0   \n",
       "187266   1705746    1998620    10075.0      10075.0          10075.0   \n",
       "146161   4376393    5608659    16750.0      16750.0          16750.0   \n",
       "145904   4434907    5667087    10000.0      10000.0          10000.0   \n",
       "\n",
       "              term  int_rate  installment grade sub_grade     ...       \\\n",
       "161186   36 months      6.03       255.66     A        A1     ...        \n",
       "357043   36 months     14.49      1086.69     C        C4     ...        \n",
       "187266   36 months     17.77       363.08     D        D1     ...        \n",
       "146161   36 months     12.12       557.31     B        B3     ...        \n",
       "145904   36 months     15.31       348.18     C        C2     ...        \n",
       "\n",
       "       total_bal_il il_util open_rv_12m  open_rv_24m max_bal_bc all_util  \\\n",
       "161186          NaN     NaN         NaN          NaN        NaN      NaN   \n",
       "357043          NaN     NaN         NaN          NaN        NaN      NaN   \n",
       "187266          NaN     NaN         NaN          NaN        NaN      NaN   \n",
       "146161          NaN     NaN         NaN          NaN        NaN      NaN   \n",
       "145904          NaN     NaN         NaN          NaN        NaN      NaN   \n",
       "\n",
       "       total_rev_hi_lim inq_fi total_cu_tl inq_last_12m  \n",
       "161186          30600.0    NaN         NaN          NaN  \n",
       "357043          63900.0    NaN         NaN          NaN  \n",
       "187266          19800.0    NaN         NaN          NaN  \n",
       "146161          22100.0    NaN         NaN          NaN  \n",
       "145904          17600.0    NaN         NaN          NaN  \n",
       "\n",
       "[5 rows x 74 columns]"
      ]
     },
     "execution_count": 6,
     "metadata": {},
     "output_type": "execute_result"
    }
   ],
   "source": [
    "df_test.sample(5)"
   ]
  },
  {
   "cell_type": "code",
   "execution_count": 7,
   "metadata": {
    "ExecuteTime": {
     "end_time": "2018-10-19T17:10:12.949102Z",
     "start_time": "2018-10-19T17:10:12.940548Z"
    }
   },
   "outputs": [
    {
     "data": {
      "text/plain": [
       "0.00        48559\n",
       "453.04          2\n",
       "400.00          2\n",
       "12.00           2\n",
       "12.58           2\n",
       "996.74          2\n",
       "10.30           2\n",
       "10.10           2\n",
       "792.01          1\n",
       "1150.30         1\n",
       "5137.34         1\n",
       "2031.56         1\n",
       "725.56          1\n",
       "2812.40         1\n",
       "955.08          1\n",
       "942.93          1\n",
       "1057.26         1\n",
       "4368.57         1\n",
       "1273.30         1\n",
       "1953.01         1\n",
       "2926.29         1\n",
       "15958.26        1\n",
       "2088.89         1\n",
       "406.42          1\n",
       "304.52          1\n",
       "4090.34         1\n",
       "10.86           1\n",
       "4574.36         1\n",
       "1882.36         1\n",
       "2820.17         1\n",
       "            ...  \n",
       "460.93          1\n",
       "523.03          1\n",
       "747.00          1\n",
       "2769.36         1\n",
       "310.94          1\n",
       "2329.07         1\n",
       "403.38          1\n",
       "742.94          1\n",
       "1362.12         1\n",
       "1608.27         1\n",
       "1517.32         1\n",
       "1573.14         1\n",
       "2729.74         1\n",
       "170.48          1\n",
       "1143.15         1\n",
       "3090.57         1\n",
       "2966.01         1\n",
       "109.25          1\n",
       "22.50           1\n",
       "1158.20         1\n",
       "807.51          1\n",
       "2785.30         1\n",
       "1492.50         1\n",
       "237.09          1\n",
       "1432.94         1\n",
       "2094.37         1\n",
       "2815.20         1\n",
       "3753.50         1\n",
       "2353.38         1\n",
       "4190.09         1\n",
       "Name: recoveries, Length: 1435, dtype: int64"
      ]
     },
     "execution_count": 7,
     "metadata": {},
     "output_type": "execute_result"
    }
   ],
   "source": [
    "df_test.recoveries.value_counts()"
   ]
  },
  {
   "cell_type": "code",
   "execution_count": 8,
   "metadata": {
    "ExecuteTime": {
     "end_time": "2018-10-19T17:10:12.965813Z",
     "start_time": "2018-10-19T17:10:12.951378Z"
    }
   },
   "outputs": [
    {
     "data": {
      "text/plain": [
       "Current                                                33939\n",
       "Fully Paid                                             11702\n",
       "Charged Off                                             2590\n",
       "Late (31-120 days)                                       614\n",
       "Issued                                                   440\n",
       "In Grace Period                                          345\n",
       "Late (16-30 days)                                        160\n",
       "Does not meet the credit policy. Status:Fully Paid        92\n",
       "Default                                                   78\n",
       "Does not meet the credit policy. Status:Charged Off       40\n",
       "Name: loan_status, dtype: int64"
      ]
     },
     "execution_count": 8,
     "metadata": {},
     "output_type": "execute_result"
    }
   ],
   "source": [
    "df_test.loan_status.value_counts()"
   ]
  },
  {
   "cell_type": "code",
   "execution_count": 9,
   "metadata": {
    "ExecuteTime": {
     "end_time": "2018-10-19T17:10:12.979885Z",
     "start_time": "2018-10-19T17:10:12.967800Z"
    }
   },
   "outputs": [
    {
     "data": {
      "text/plain": [
       "B    14392\n",
       "C    13863\n",
       "A     8277\n",
       "D     7909\n",
       "E     3904\n",
       "F     1334\n",
       "G      321\n",
       "Name: grade, dtype: int64"
      ]
     },
     "execution_count": 9,
     "metadata": {},
     "output_type": "execute_result"
    }
   ],
   "source": [
    "df_test.grade.value_counts()"
   ]
  },
  {
   "cell_type": "code",
   "execution_count": 10,
   "metadata": {
    "ExecuteTime": {
     "end_time": "2018-10-19T17:10:12.994282Z",
     "start_time": "2018-10-19T17:10:12.981803Z"
    }
   },
   "outputs": [
    {
     "data": {
      "text/plain": [
       "Source Verified    18640\n",
       "Verified           16381\n",
       "Not Verified       14979\n",
       "Name: verification_status, dtype: int64"
      ]
     },
     "execution_count": 10,
     "metadata": {},
     "output_type": "execute_result"
    }
   ],
   "source": [
    "df_test.verification_status.value_counts()"
   ]
  },
  {
   "cell_type": "code",
   "execution_count": 50,
   "metadata": {
    "ExecuteTime": {
     "end_time": "2018-10-19T19:48:06.364796Z",
     "start_time": "2018-10-19T19:48:06.284478Z"
    }
   },
   "outputs": [],
   "source": [
    "df_short = df_test.loc[:,[\"loan_status\", \"funded_amnt_inv\", \"term\", \"int_rate\",\n",
    "                           \"installment\", \"emp_title\", \"emp_length\", \"home_ownership\",\n",
    "                            \"annual_inc\", \"purpose\", \"addr_state\", \"grade\", \"delinq_2yrs\",\n",
    "                             \"mths_since_last_delinq\", \"total_rec_late_fee\"]]"
   ]
  },
  {
   "cell_type": "code",
   "execution_count": 51,
   "metadata": {
    "ExecuteTime": {
     "end_time": "2018-10-19T19:48:07.023262Z",
     "start_time": "2018-10-19T19:48:07.005261Z"
    }
   },
   "outputs": [
    {
     "data": {
      "text/html": [
       "<div>\n",
       "<style scoped>\n",
       "    .dataframe tbody tr th:only-of-type {\n",
       "        vertical-align: middle;\n",
       "    }\n",
       "\n",
       "    .dataframe tbody tr th {\n",
       "        vertical-align: top;\n",
       "    }\n",
       "\n",
       "    .dataframe thead th {\n",
       "        text-align: right;\n",
       "    }\n",
       "</style>\n",
       "<table border=\"1\" class=\"dataframe\">\n",
       "  <thead>\n",
       "    <tr style=\"text-align: right;\">\n",
       "      <th></th>\n",
       "      <th>loan_status</th>\n",
       "      <th>funded_amnt_inv</th>\n",
       "      <th>term</th>\n",
       "      <th>int_rate</th>\n",
       "      <th>installment</th>\n",
       "      <th>emp_title</th>\n",
       "      <th>emp_length</th>\n",
       "      <th>home_ownership</th>\n",
       "      <th>annual_inc</th>\n",
       "      <th>purpose</th>\n",
       "      <th>addr_state</th>\n",
       "      <th>grade</th>\n",
       "      <th>delinq_2yrs</th>\n",
       "      <th>mths_since_last_delinq</th>\n",
       "      <th>total_rec_late_fee</th>\n",
       "    </tr>\n",
       "  </thead>\n",
       "  <tbody>\n",
       "    <tr>\n",
       "      <th>348281</th>\n",
       "      <td>Current</td>\n",
       "      <td>6650.0</td>\n",
       "      <td>36 months</td>\n",
       "      <td>14.49</td>\n",
       "      <td>228.87</td>\n",
       "      <td>Reseach Associate</td>\n",
       "      <td>&lt; 1 year</td>\n",
       "      <td>RENT</td>\n",
       "      <td>36000.0</td>\n",
       "      <td>car</td>\n",
       "      <td>CA</td>\n",
       "      <td>C</td>\n",
       "      <td>0.0</td>\n",
       "      <td>NaN</td>\n",
       "      <td>0.0</td>\n",
       "    </tr>\n",
       "    <tr>\n",
       "      <th>440716</th>\n",
       "      <td>Late (31-120 days)</td>\n",
       "      <td>5000.0</td>\n",
       "      <td>36 months</td>\n",
       "      <td>9.67</td>\n",
       "      <td>160.57</td>\n",
       "      <td>Executive Assistant</td>\n",
       "      <td>4 years</td>\n",
       "      <td>RENT</td>\n",
       "      <td>67000.0</td>\n",
       "      <td>credit_card</td>\n",
       "      <td>NY</td>\n",
       "      <td>B</td>\n",
       "      <td>1.0</td>\n",
       "      <td>13.0</td>\n",
       "      <td>0.0</td>\n",
       "    </tr>\n",
       "    <tr>\n",
       "      <th>84524</th>\n",
       "      <td>Fully Paid</td>\n",
       "      <td>4000.0</td>\n",
       "      <td>36 months</td>\n",
       "      <td>14.30</td>\n",
       "      <td>137.30</td>\n",
       "      <td>Mental Health worker</td>\n",
       "      <td>10+ years</td>\n",
       "      <td>RENT</td>\n",
       "      <td>50000.0</td>\n",
       "      <td>credit_card</td>\n",
       "      <td>CA</td>\n",
       "      <td>C</td>\n",
       "      <td>1.0</td>\n",
       "      <td>20.0</td>\n",
       "      <td>0.0</td>\n",
       "    </tr>\n",
       "    <tr>\n",
       "      <th>522105</th>\n",
       "      <td>Current</td>\n",
       "      <td>21000.0</td>\n",
       "      <td>36 months</td>\n",
       "      <td>9.99</td>\n",
       "      <td>677.52</td>\n",
       "      <td>Electrician</td>\n",
       "      <td>&lt; 1 year</td>\n",
       "      <td>RENT</td>\n",
       "      <td>88000.0</td>\n",
       "      <td>credit_card</td>\n",
       "      <td>CA</td>\n",
       "      <td>B</td>\n",
       "      <td>0.0</td>\n",
       "      <td>NaN</td>\n",
       "      <td>0.0</td>\n",
       "    </tr>\n",
       "    <tr>\n",
       "      <th>490550</th>\n",
       "      <td>Current</td>\n",
       "      <td>18400.0</td>\n",
       "      <td>36 months</td>\n",
       "      <td>10.64</td>\n",
       "      <td>599.27</td>\n",
       "      <td>Server</td>\n",
       "      <td>10+ years</td>\n",
       "      <td>RENT</td>\n",
       "      <td>40000.0</td>\n",
       "      <td>debt_consolidation</td>\n",
       "      <td>TN</td>\n",
       "      <td>B</td>\n",
       "      <td>0.0</td>\n",
       "      <td>59.0</td>\n",
       "      <td>0.0</td>\n",
       "    </tr>\n",
       "  </tbody>\n",
       "</table>\n",
       "</div>"
      ],
      "text/plain": [
       "               loan_status  funded_amnt_inv        term  int_rate  \\\n",
       "348281             Current           6650.0   36 months     14.49   \n",
       "440716  Late (31-120 days)           5000.0   36 months      9.67   \n",
       "84524           Fully Paid           4000.0   36 months     14.30   \n",
       "522105             Current          21000.0   36 months      9.99   \n",
       "490550             Current          18400.0   36 months     10.64   \n",
       "\n",
       "        installment             emp_title emp_length home_ownership  \\\n",
       "348281       228.87     Reseach Associate   < 1 year           RENT   \n",
       "440716       160.57   Executive Assistant    4 years           RENT   \n",
       "84524        137.30  Mental Health worker  10+ years           RENT   \n",
       "522105       677.52          Electrician    < 1 year           RENT   \n",
       "490550       599.27                Server  10+ years           RENT   \n",
       "\n",
       "        annual_inc             purpose addr_state grade  delinq_2yrs  \\\n",
       "348281     36000.0                 car         CA     C          0.0   \n",
       "440716     67000.0         credit_card         NY     B          1.0   \n",
       "84524      50000.0         credit_card         CA     C          1.0   \n",
       "522105     88000.0         credit_card         CA     B          0.0   \n",
       "490550     40000.0  debt_consolidation         TN     B          0.0   \n",
       "\n",
       "        mths_since_last_delinq  total_rec_late_fee  \n",
       "348281                     NaN                 0.0  \n",
       "440716                    13.0                 0.0  \n",
       "84524                     20.0                 0.0  \n",
       "522105                     NaN                 0.0  \n",
       "490550                    59.0                 0.0  "
      ]
     },
     "execution_count": 51,
     "metadata": {},
     "output_type": "execute_result"
    }
   ],
   "source": [
    "df_short.head()"
   ]
  },
  {
   "cell_type": "code",
   "execution_count": 52,
   "metadata": {
    "ExecuteTime": {
     "end_time": "2018-10-19T19:48:21.990814Z",
     "start_time": "2018-10-19T19:48:21.956874Z"
    }
   },
   "outputs": [
    {
     "name": "stdout",
     "output_type": "stream",
     "text": [
      "<class 'pandas.core.frame.DataFrame'>\n",
      "Int64Index: 50000 entries, 348281 to 351889\n",
      "Data columns (total 15 columns):\n",
      "loan_status               50000 non-null object\n",
      "funded_amnt_inv           50000 non-null float64\n",
      "term                      50000 non-null object\n",
      "int_rate                  50000 non-null float64\n",
      "installment               50000 non-null float64\n",
      "emp_title                 47101 non-null object\n",
      "emp_length                47499 non-null object\n",
      "home_ownership            50000 non-null object\n",
      "annual_inc                50000 non-null float64\n",
      "purpose                   50000 non-null object\n",
      "addr_state                50000 non-null object\n",
      "grade                     50000 non-null object\n",
      "delinq_2yrs               49998 non-null float64\n",
      "mths_since_last_delinq    24442 non-null float64\n",
      "total_rec_late_fee        50000 non-null float64\n",
      "dtypes: float64(7), object(8)\n",
      "memory usage: 6.1+ MB\n"
     ]
    }
   ],
   "source": [
    "df_short.info()"
   ]
  },
  {
   "cell_type": "code",
   "execution_count": 53,
   "metadata": {
    "ExecuteTime": {
     "end_time": "2018-10-19T19:48:31.702549Z",
     "start_time": "2018-10-19T19:48:31.690954Z"
    }
   },
   "outputs": [
    {
     "data": {
      "text/plain": [
       " 36 months    35164\n",
       " 60 months    14836\n",
       "Name: term, dtype: int64"
      ]
     },
     "execution_count": 53,
     "metadata": {},
     "output_type": "execute_result"
    }
   ],
   "source": [
    "df_short.term.value_counts()"
   ]
  },
  {
   "cell_type": "code",
   "execution_count": 54,
   "metadata": {
    "ExecuteTime": {
     "end_time": "2018-10-19T19:48:33.949207Z",
     "start_time": "2018-10-19T19:48:33.768055Z"
    }
   },
   "outputs": [],
   "source": [
    "df_short[\"term_yrs\"] = df_short.term.str.extract('(\\d\\d)')"
   ]
  },
  {
   "cell_type": "code",
   "execution_count": 55,
   "metadata": {
    "ExecuteTime": {
     "end_time": "2018-10-19T19:48:34.356585Z",
     "start_time": "2018-10-19T19:48:34.326005Z"
    }
   },
   "outputs": [],
   "source": [
    "df_short[\"term_yrs\"] = pd.to_numeric(df_short.term_yrs)/12"
   ]
  },
  {
   "cell_type": "code",
   "execution_count": 56,
   "metadata": {
    "ExecuteTime": {
     "end_time": "2018-10-19T19:48:34.850506Z",
     "start_time": "2018-10-19T19:48:34.835907Z"
    }
   },
   "outputs": [],
   "source": [
    "df_short.drop(\"term\",axis=1,inplace=True)"
   ]
  },
  {
   "cell_type": "code",
   "execution_count": 57,
   "metadata": {
    "ExecuteTime": {
     "end_time": "2018-10-19T19:48:37.465652Z",
     "start_time": "2018-10-19T19:48:37.453974Z"
    }
   },
   "outputs": [
    {
     "data": {
      "text/plain": [
       "10+ years    16248\n",
       "2 years       4408\n",
       "< 1 year      4066\n",
       "3 years       3909\n",
       "1 year        3306\n",
       "5 years       3082\n",
       "4 years       2963\n",
       "7 years       2577\n",
       "8 years       2501\n",
       "6 years       2483\n",
       "9 years       1956\n",
       "Name: emp_length, dtype: int64"
      ]
     },
     "execution_count": 57,
     "metadata": {},
     "output_type": "execute_result"
    }
   ],
   "source": [
    "df_short.emp_length.value_counts()"
   ]
  },
  {
   "cell_type": "code",
   "execution_count": 58,
   "metadata": {
    "ExecuteTime": {
     "end_time": "2018-10-19T19:48:39.344621Z",
     "start_time": "2018-10-19T19:48:39.247001Z"
    }
   },
   "outputs": [],
   "source": [
    "df_short[\"emp_length_yrs\"]= 0\n",
    "\n",
    "temp = df_short[\"emp_length\"] == \"< 1 year\"\n",
    "df_short.loc[temp,\"emp_length_yrs\"] = 0\n",
    "\n",
    "temp = df_short[\"emp_length\"] == \"1 year\"\n",
    "df_short.loc[temp,\"emp_length_yrs\"] = 1\n",
    "\n",
    "temp = df_short.emp_length == \"10+ years\"\n",
    "df_short.loc[temp,\"emp_length_yrs\"] = 10\n",
    "\n",
    "for i in range(2,10):\n",
    "    temp = df_short.emp_length == f\"{i} years\"\n",
    "    df_short.loc[temp,\"emp_length_yrs\"] = i\n",
    "    \n",
    "temp = df_short.emp_length.isnull()\n",
    "df_short.loc[temp,\"emp_length_yrs\"] = np.median(df_short.emp_length_yrs)"
   ]
  },
  {
   "cell_type": "code",
   "execution_count": 59,
   "metadata": {
    "ExecuteTime": {
     "end_time": "2018-10-19T19:48:40.585581Z",
     "start_time": "2018-10-19T19:48:40.577899Z"
    }
   },
   "outputs": [
    {
     "data": {
      "text/plain": [
       "10.0    16248\n",
       "6.0      4984\n",
       "2.0      4408\n",
       "0.0      4066\n",
       "3.0      3909\n",
       "1.0      3306\n",
       "5.0      3082\n",
       "4.0      2963\n",
       "7.0      2577\n",
       "8.0      2501\n",
       "9.0      1956\n",
       "Name: emp_length_yrs, dtype: int64"
      ]
     },
     "execution_count": 59,
     "metadata": {},
     "output_type": "execute_result"
    }
   ],
   "source": [
    "df_short.emp_length_yrs.value_counts()"
   ]
  },
  {
   "cell_type": "code",
   "execution_count": 60,
   "metadata": {
    "ExecuteTime": {
     "end_time": "2018-10-19T19:48:41.666472Z",
     "start_time": "2018-10-19T19:48:41.660686Z"
    }
   },
   "outputs": [
    {
     "data": {
      "text/plain": [
       "0"
      ]
     },
     "execution_count": 60,
     "metadata": {},
     "output_type": "execute_result"
    }
   ],
   "source": [
    "sum(df_short.emp_length_yrs.isnull())"
   ]
  },
  {
   "cell_type": "code",
   "execution_count": 61,
   "metadata": {
    "ExecuteTime": {
     "end_time": "2018-10-19T19:48:44.345465Z",
     "start_time": "2018-10-19T19:48:44.328924Z"
    }
   },
   "outputs": [],
   "source": [
    "df_short.drop(columns=\"emp_length\", inplace=True)"
   ]
  },
  {
   "cell_type": "code",
   "execution_count": 62,
   "metadata": {
    "ExecuteTime": {
     "end_time": "2018-10-19T19:48:56.398351Z",
     "start_time": "2018-10-19T19:48:56.381386Z"
    }
   },
   "outputs": [
    {
     "data": {
      "text/html": [
       "<div>\n",
       "<style scoped>\n",
       "    .dataframe tbody tr th:only-of-type {\n",
       "        vertical-align: middle;\n",
       "    }\n",
       "\n",
       "    .dataframe tbody tr th {\n",
       "        vertical-align: top;\n",
       "    }\n",
       "\n",
       "    .dataframe thead th {\n",
       "        text-align: right;\n",
       "    }\n",
       "</style>\n",
       "<table border=\"1\" class=\"dataframe\">\n",
       "  <thead>\n",
       "    <tr style=\"text-align: right;\">\n",
       "      <th></th>\n",
       "      <th>loan_status</th>\n",
       "      <th>funded_amnt_inv</th>\n",
       "      <th>int_rate</th>\n",
       "      <th>installment</th>\n",
       "      <th>emp_title</th>\n",
       "      <th>home_ownership</th>\n",
       "      <th>annual_inc</th>\n",
       "      <th>purpose</th>\n",
       "      <th>addr_state</th>\n",
       "      <th>grade</th>\n",
       "      <th>delinq_2yrs</th>\n",
       "      <th>mths_since_last_delinq</th>\n",
       "      <th>total_rec_late_fee</th>\n",
       "      <th>term_yrs</th>\n",
       "      <th>emp_length_yrs</th>\n",
       "    </tr>\n",
       "  </thead>\n",
       "  <tbody>\n",
       "    <tr>\n",
       "      <th>348281</th>\n",
       "      <td>Current</td>\n",
       "      <td>6650.0</td>\n",
       "      <td>14.49</td>\n",
       "      <td>228.87</td>\n",
       "      <td>Reseach Associate</td>\n",
       "      <td>RENT</td>\n",
       "      <td>36000.0</td>\n",
       "      <td>car</td>\n",
       "      <td>CA</td>\n",
       "      <td>C</td>\n",
       "      <td>0.0</td>\n",
       "      <td>NaN</td>\n",
       "      <td>0.0</td>\n",
       "      <td>3.0</td>\n",
       "      <td>0.0</td>\n",
       "    </tr>\n",
       "    <tr>\n",
       "      <th>440716</th>\n",
       "      <td>Late (31-120 days)</td>\n",
       "      <td>5000.0</td>\n",
       "      <td>9.67</td>\n",
       "      <td>160.57</td>\n",
       "      <td>Executive Assistant</td>\n",
       "      <td>RENT</td>\n",
       "      <td>67000.0</td>\n",
       "      <td>credit_card</td>\n",
       "      <td>NY</td>\n",
       "      <td>B</td>\n",
       "      <td>1.0</td>\n",
       "      <td>13.0</td>\n",
       "      <td>0.0</td>\n",
       "      <td>3.0</td>\n",
       "      <td>4.0</td>\n",
       "    </tr>\n",
       "    <tr>\n",
       "      <th>84524</th>\n",
       "      <td>Fully Paid</td>\n",
       "      <td>4000.0</td>\n",
       "      <td>14.30</td>\n",
       "      <td>137.30</td>\n",
       "      <td>Mental Health worker</td>\n",
       "      <td>RENT</td>\n",
       "      <td>50000.0</td>\n",
       "      <td>credit_card</td>\n",
       "      <td>CA</td>\n",
       "      <td>C</td>\n",
       "      <td>1.0</td>\n",
       "      <td>20.0</td>\n",
       "      <td>0.0</td>\n",
       "      <td>3.0</td>\n",
       "      <td>10.0</td>\n",
       "    </tr>\n",
       "    <tr>\n",
       "      <th>522105</th>\n",
       "      <td>Current</td>\n",
       "      <td>21000.0</td>\n",
       "      <td>9.99</td>\n",
       "      <td>677.52</td>\n",
       "      <td>Electrician</td>\n",
       "      <td>RENT</td>\n",
       "      <td>88000.0</td>\n",
       "      <td>credit_card</td>\n",
       "      <td>CA</td>\n",
       "      <td>B</td>\n",
       "      <td>0.0</td>\n",
       "      <td>NaN</td>\n",
       "      <td>0.0</td>\n",
       "      <td>3.0</td>\n",
       "      <td>0.0</td>\n",
       "    </tr>\n",
       "    <tr>\n",
       "      <th>490550</th>\n",
       "      <td>Current</td>\n",
       "      <td>18400.0</td>\n",
       "      <td>10.64</td>\n",
       "      <td>599.27</td>\n",
       "      <td>Server</td>\n",
       "      <td>RENT</td>\n",
       "      <td>40000.0</td>\n",
       "      <td>debt_consolidation</td>\n",
       "      <td>TN</td>\n",
       "      <td>B</td>\n",
       "      <td>0.0</td>\n",
       "      <td>59.0</td>\n",
       "      <td>0.0</td>\n",
       "      <td>3.0</td>\n",
       "      <td>10.0</td>\n",
       "    </tr>\n",
       "  </tbody>\n",
       "</table>\n",
       "</div>"
      ],
      "text/plain": [
       "               loan_status  funded_amnt_inv  int_rate  installment  \\\n",
       "348281             Current           6650.0     14.49       228.87   \n",
       "440716  Late (31-120 days)           5000.0      9.67       160.57   \n",
       "84524           Fully Paid           4000.0     14.30       137.30   \n",
       "522105             Current          21000.0      9.99       677.52   \n",
       "490550             Current          18400.0     10.64       599.27   \n",
       "\n",
       "                   emp_title home_ownership  annual_inc             purpose  \\\n",
       "348281     Reseach Associate           RENT     36000.0                 car   \n",
       "440716   Executive Assistant           RENT     67000.0         credit_card   \n",
       "84524   Mental Health worker           RENT     50000.0         credit_card   \n",
       "522105          Electrician            RENT     88000.0         credit_card   \n",
       "490550                Server           RENT     40000.0  debt_consolidation   \n",
       "\n",
       "       addr_state grade  delinq_2yrs  mths_since_last_delinq  \\\n",
       "348281         CA     C          0.0                     NaN   \n",
       "440716         NY     B          1.0                    13.0   \n",
       "84524          CA     C          1.0                    20.0   \n",
       "522105         CA     B          0.0                     NaN   \n",
       "490550         TN     B          0.0                    59.0   \n",
       "\n",
       "        total_rec_late_fee  term_yrs  emp_length_yrs  \n",
       "348281                 0.0       3.0             0.0  \n",
       "440716                 0.0       3.0             4.0  \n",
       "84524                  0.0       3.0            10.0  \n",
       "522105                 0.0       3.0             0.0  \n",
       "490550                 0.0       3.0            10.0  "
      ]
     },
     "execution_count": 62,
     "metadata": {},
     "output_type": "execute_result"
    }
   ],
   "source": [
    "df_short.head()"
   ]
  },
  {
   "cell_type": "code",
   "execution_count": 63,
   "metadata": {
    "ExecuteTime": {
     "end_time": "2018-10-19T19:48:59.201889Z",
     "start_time": "2018-10-19T19:48:59.191677Z"
    }
   },
   "outputs": [
    {
     "data": {
      "text/plain": [
       "B    14392\n",
       "C    13863\n",
       "A     8277\n",
       "D     7909\n",
       "E     3904\n",
       "F     1334\n",
       "G      321\n",
       "Name: grade, dtype: int64"
      ]
     },
     "execution_count": 63,
     "metadata": {},
     "output_type": "execute_result"
    }
   ],
   "source": [
    "df_short.grade.value_counts()"
   ]
  },
  {
   "cell_type": "code",
   "execution_count": 64,
   "metadata": {
    "ExecuteTime": {
     "end_time": "2018-10-19T19:49:03.120918Z",
     "start_time": "2018-10-19T19:49:03.069889Z"
    }
   },
   "outputs": [],
   "source": [
    "df_short[\"credit_score\"] = 0\n",
    "rank = [\"A\",\"B\",\"C\",\"D\",\"E\",\"F\",\"G\"]\n",
    "\n",
    "for i in range(len(rank)):\n",
    "    temp = df_short.grade == rank[i]\n",
    "    df_short.loc[temp,\"credit_score\"] = len(rank)-i"
   ]
  },
  {
   "cell_type": "code",
   "execution_count": 65,
   "metadata": {
    "ExecuteTime": {
     "end_time": "2018-10-19T19:49:04.310923Z",
     "start_time": "2018-10-19T19:49:04.302850Z"
    }
   },
   "outputs": [
    {
     "data": {
      "text/plain": [
       "6    14392\n",
       "5    13863\n",
       "7     8277\n",
       "4     7909\n",
       "3     3904\n",
       "2     1334\n",
       "1      321\n",
       "Name: credit_score, dtype: int64"
      ]
     },
     "execution_count": 65,
     "metadata": {},
     "output_type": "execute_result"
    }
   ],
   "source": [
    "df_short.credit_score.value_counts()"
   ]
  },
  {
   "cell_type": "code",
   "execution_count": 66,
   "metadata": {
    "ExecuteTime": {
     "end_time": "2018-10-19T19:49:06.218715Z",
     "start_time": "2018-10-19T19:49:06.210254Z"
    }
   },
   "outputs": [],
   "source": [
    "df_short.drop(columns=\"grade\",inplace=True)"
   ]
  },
  {
   "cell_type": "code",
   "execution_count": 67,
   "metadata": {
    "ExecuteTime": {
     "end_time": "2018-10-19T19:49:07.984338Z",
     "start_time": "2018-10-19T19:49:07.953574Z"
    }
   },
   "outputs": [
    {
     "name": "stdout",
     "output_type": "stream",
     "text": [
      "<class 'pandas.core.frame.DataFrame'>\n",
      "Int64Index: 50000 entries, 348281 to 351889\n",
      "Data columns (total 15 columns):\n",
      "loan_status               50000 non-null object\n",
      "funded_amnt_inv           50000 non-null float64\n",
      "int_rate                  50000 non-null float64\n",
      "installment               50000 non-null float64\n",
      "emp_title                 47101 non-null object\n",
      "home_ownership            50000 non-null object\n",
      "annual_inc                50000 non-null float64\n",
      "purpose                   50000 non-null object\n",
      "addr_state                50000 non-null object\n",
      "delinq_2yrs               49998 non-null float64\n",
      "mths_since_last_delinq    24442 non-null float64\n",
      "total_rec_late_fee        50000 non-null float64\n",
      "term_yrs                  50000 non-null float64\n",
      "emp_length_yrs            50000 non-null float64\n",
      "credit_score              50000 non-null int64\n",
      "dtypes: float64(9), int64(1), object(5)\n",
      "memory usage: 6.1+ MB\n"
     ]
    }
   ],
   "source": [
    "df_short.info()"
   ]
  },
  {
   "cell_type": "code",
   "execution_count": 68,
   "metadata": {
    "ExecuteTime": {
     "end_time": "2018-10-19T19:49:21.357054Z",
     "start_time": "2018-10-19T19:49:21.305936Z"
    }
   },
   "outputs": [
    {
     "data": {
      "text/plain": [
       "Teacher                                    746\n",
       "Manager                                    587\n",
       "Owner                                      352\n",
       "Registered Nurse                           314\n",
       "Supervisor                                 290\n",
       "RN                                         253\n",
       "Sales                                      242\n",
       "Project Manager                            227\n",
       "Office Manager                             198\n",
       "General Manager                            185\n",
       "manager                                    179\n",
       "Driver                                     179\n",
       "teacher                                    173\n",
       "Director                                   171\n",
       "owner                                      167\n",
       "Engineer                                   152\n",
       "President                                  148\n",
       "driver                                     125\n",
       "Attorney                                   121\n",
       "Administrative Assistant                   121\n",
       "Vice President                             120\n",
       "Accountant                                 113\n",
       "Sales Manager                              109\n",
       "Operations Manager                         108\n",
       "Police Officer                             102\n",
       "supervisor                                  98\n",
       "sales                                       98\n",
       "Technician                                  89\n",
       "Nurse                                       88\n",
       "Store Manager                               87\n",
       "                                          ... \n",
       "College professor                            1\n",
       "Asst service manager                         1\n",
       "Field engineer                               1\n",
       "Septa                                        1\n",
       "Inflight crew scheduler                      1\n",
       "Bed Placement                                1\n",
       "Shuttle Car Operator                         1\n",
       "garney                                       1\n",
       "ANDREWS TECHNOLOGIES,INC                     1\n",
       "Field Project Manager                        1\n",
       "Customer Service Team Leader                 1\n",
       "Principal Member of Technical Staff          1\n",
       "Sr. Tech Support Analyst                     1\n",
       "New York City Police Department              1\n",
       "Acxiom                                       1\n",
       "Membership Services                          1\n",
       "Bloomberg L.P.                               1\n",
       "Director of Talent Acquisition               1\n",
       "Crisis Aide                                  1\n",
       "Ball Metal Corp.                             1\n",
       "Springfield Technical Community College      1\n",
       "Sales/Leasing                                1\n",
       "Sales Professional                           1\n",
       "lutz family dentistry                        1\n",
       "Load Builder                                 1\n",
       "Operations Nuclear Supervisor                1\n",
       "Senior Support Staff                         1\n",
       "Associate (Pending NY Bar Admission)         1\n",
       "APPRAISER                                    1\n",
       "Waxie Sanitary Supply                        1\n",
       "Name: emp_title, Length: 26258, dtype: int64"
      ]
     },
     "execution_count": 68,
     "metadata": {},
     "output_type": "execute_result"
    }
   ],
   "source": [
    "df_short.emp_title.value_counts()"
   ]
  },
  {
   "cell_type": "code",
   "execution_count": 69,
   "metadata": {
    "ExecuteTime": {
     "end_time": "2018-10-19T19:49:25.602315Z",
     "start_time": "2018-10-19T19:49:25.591368Z"
    }
   },
   "outputs": [
    {
     "data": {
      "text/plain": [
       "MORTGAGE    24908\n",
       "RENT        20176\n",
       "OWN          4902\n",
       "OTHER          10\n",
       "NONE            4\n",
       "Name: home_ownership, dtype: int64"
      ]
     },
     "execution_count": 69,
     "metadata": {},
     "output_type": "execute_result"
    }
   ],
   "source": [
    "df_short.home_ownership.value_counts()"
   ]
  },
  {
   "cell_type": "code",
   "execution_count": 70,
   "metadata": {
    "ExecuteTime": {
     "end_time": "2018-10-19T19:49:26.552246Z",
     "start_time": "2018-10-19T19:49:26.530678Z"
    }
   },
   "outputs": [],
   "source": [
    "df_short[\"own_home\"] = 0\n",
    "\n",
    "musk = df_short.home_ownership==\"OWN\"\n",
    "df_short.loc[musk,\"own_home\"]=2\n",
    "musk = df_short.home_ownership==\"MORTGAGE\"\n",
    "df_short.loc[musk,\"own_home\"]=1"
   ]
  },
  {
   "cell_type": "code",
   "execution_count": 71,
   "metadata": {
    "ExecuteTime": {
     "end_time": "2018-10-19T19:49:30.238770Z",
     "start_time": "2018-10-19T19:49:30.232132Z"
    }
   },
   "outputs": [
    {
     "data": {
      "text/plain": [
       "1    24908\n",
       "0    20190\n",
       "2     4902\n",
       "Name: own_home, dtype: int64"
      ]
     },
     "execution_count": 71,
     "metadata": {},
     "output_type": "execute_result"
    }
   ],
   "source": [
    "df_short.own_home.value_counts()"
   ]
  },
  {
   "cell_type": "code",
   "execution_count": 73,
   "metadata": {
    "ExecuteTime": {
     "end_time": "2018-10-19T19:49:55.500605Z",
     "start_time": "2018-10-19T19:49:55.487330Z"
    }
   },
   "outputs": [
    {
     "data": {
      "text/plain": [
       "Current                                                33939\n",
       "Fully Paid                                             11702\n",
       "Charged Off                                             2590\n",
       "Late (31-120 days)                                       614\n",
       "Issued                                                   440\n",
       "In Grace Period                                          345\n",
       "Late (16-30 days)                                        160\n",
       "Does not meet the credit policy. Status:Fully Paid        92\n",
       "Default                                                   78\n",
       "Does not meet the credit policy. Status:Charged Off       40\n",
       "Name: loan_status, dtype: int64"
      ]
     },
     "execution_count": 73,
     "metadata": {},
     "output_type": "execute_result"
    }
   ],
   "source": [
    "df_short.loan_status.value_counts()"
   ]
  },
  {
   "cell_type": "code",
   "execution_count": 74,
   "metadata": {
    "ExecuteTime": {
     "end_time": "2018-10-19T19:50:15.598235Z",
     "start_time": "2018-10-19T19:50:15.575340Z"
    }
   },
   "outputs": [],
   "source": [
    "good = [\"Current\", \"Fully Paid\", \"Issued\"]\n",
    "df_short.loc[df_short.loan_status.isin(good), \"loan_status\"] = \"Good\"\n",
    "df_short.loc[df_short.loan_status != \"Good\", \"loan_status\"] = \"Bad\""
   ]
  },
  {
   "cell_type": "code",
   "execution_count": 75,
   "metadata": {
    "ExecuteTime": {
     "end_time": "2018-10-19T19:50:16.176882Z",
     "start_time": "2018-10-19T19:50:16.166440Z"
    }
   },
   "outputs": [
    {
     "data": {
      "text/plain": [
       "Good    46081\n",
       "Bad      3919\n",
       "Name: loan_status, dtype: int64"
      ]
     },
     "execution_count": 75,
     "metadata": {},
     "output_type": "execute_result"
    }
   ],
   "source": [
    "df_short.loan_status.value_counts()"
   ]
  },
  {
   "cell_type": "code",
   "execution_count": 99,
   "metadata": {
    "ExecuteTime": {
     "end_time": "2018-10-19T21:01:57.361869Z",
     "start_time": "2018-10-19T21:01:57.356823Z"
    }
   },
   "outputs": [
    {
     "data": {
      "text/plain": [
       "348281    Good\n",
       "440716     Bad\n",
       "84524     Good\n",
       "522105    Good\n",
       "490550    Good\n",
       "Name: loan_status, dtype: object"
      ]
     },
     "execution_count": 99,
     "metadata": {},
     "output_type": "execute_result"
    }
   ],
   "source": [
    "df_short.loan_status.head()"
   ]
  },
  {
   "cell_type": "code",
   "execution_count": 76,
   "metadata": {
    "ExecuteTime": {
     "end_time": "2018-10-19T19:50:22.589596Z",
     "start_time": "2018-10-19T19:50:22.586971Z"
    }
   },
   "outputs": [],
   "source": [
    "from patsy import dmatrices"
   ]
  },
  {
   "cell_type": "code",
   "execution_count": 77,
   "metadata": {
    "ExecuteTime": {
     "end_time": "2018-10-19T19:50:23.332011Z",
     "start_time": "2018-10-19T19:50:23.165899Z"
    }
   },
   "outputs": [],
   "source": [
    "y,X=dmatrices('loan_status ~ funded_amnt_inv+ \\\n",
    "              int_rate+ \\\n",
    "              installment+ \\\n",
    "              annual_inc+ \\\n",
    "              term_yrs+ \\\n",
    "              emp_length_yrs+ \\\n",
    "              credit_score+ \\\n",
    "              own_home',\n",
    "              data=df_short,return_type='dataframe')"
   ]
  },
  {
   "cell_type": "code",
   "execution_count": 106,
   "metadata": {
    "ExecuteTime": {
     "end_time": "2018-10-19T22:22:17.740812Z",
     "start_time": "2018-10-19T22:22:17.737480Z"
    }
   },
   "outputs": [],
   "source": [
    "y = y.iloc[:,1]"
   ]
  },
  {
   "cell_type": "code",
   "execution_count": 107,
   "metadata": {
    "ExecuteTime": {
     "end_time": "2018-10-19T22:22:19.414935Z",
     "start_time": "2018-10-19T22:22:19.403715Z"
    }
   },
   "outputs": [],
   "source": [
    "from sklearn.neighbors import KNeighborsClassifier\n",
    "from sklearn import metrics\n",
    "from sklearn.model_selection import train_test_split\n",
    "X_train, X_test, y_train, y_test = train_test_split(X, y, test_size=0.3, random_state=25)"
   ]
  },
  {
   "cell_type": "code",
   "execution_count": 108,
   "metadata": {
    "ExecuteTime": {
     "end_time": "2018-10-19T22:22:20.976051Z",
     "start_time": "2018-10-19T22:22:20.970756Z"
    }
   },
   "outputs": [
    {
     "name": "stdout",
     "output_type": "stream",
     "text": [
      "(35000, 9)\n",
      "(15000, 9)\n"
     ]
    }
   ],
   "source": [
    "print(X_train.shape)\n",
    "print(X_test.shape)"
   ]
  },
  {
   "cell_type": "code",
   "execution_count": 109,
   "metadata": {
    "ExecuteTime": {
     "end_time": "2018-10-19T22:22:22.247797Z",
     "start_time": "2018-10-19T22:22:22.244188Z"
    }
   },
   "outputs": [
    {
     "name": "stdout",
     "output_type": "stream",
     "text": [
      "(35000,)\n",
      "(15000,)\n"
     ]
    }
   ],
   "source": [
    "print(y_train.shape)\n",
    "print(y_test.shape)"
   ]
  },
  {
   "cell_type": "code",
   "execution_count": 110,
   "metadata": {
    "ExecuteTime": {
     "end_time": "2018-10-19T22:22:25.205740Z",
     "start_time": "2018-10-19T22:22:25.054064Z"
    }
   },
   "outputs": [
    {
     "name": "stdout",
     "output_type": "stream",
     "text": [
      "0.9210666666666667\n"
     ]
    }
   ],
   "source": [
    "knn = KNeighborsClassifier(n_neighbors=5)\n",
    "knn.fit(X_train, y_train)\n",
    "y_pred = knn.predict(X_test)\n",
    "print(metrics.accuracy_score(y_test, y_pred))"
   ]
  },
  {
   "cell_type": "code",
   "execution_count": 111,
   "metadata": {
    "ExecuteTime": {
     "end_time": "2018-10-19T22:22:27.218038Z",
     "start_time": "2018-10-19T22:22:27.041970Z"
    }
   },
   "outputs": [
    {
     "name": "stdout",
     "output_type": "stream",
     "text": [
      "0.9236\n"
     ]
    }
   ],
   "source": [
    "knn = KNeighborsClassifier(n_neighbors=7)\n",
    "knn.fit(X_train, y_train)\n",
    "y_pred = knn.predict(X_test)\n",
    "print(metrics.accuracy_score(y_test, y_pred))"
   ]
  },
  {
   "cell_type": "code",
   "execution_count": 112,
   "metadata": {
    "ExecuteTime": {
     "end_time": "2018-10-19T22:22:28.741543Z",
     "start_time": "2018-10-19T22:22:28.602456Z"
    }
   },
   "outputs": [
    {
     "name": "stdout",
     "output_type": "stream",
     "text": [
      "0.8654666666666667\n"
     ]
    }
   ],
   "source": [
    "knn = KNeighborsClassifier(n_neighbors=1)\n",
    "knn.fit(X_train, y_train)\n",
    "y_pred = knn.predict(X_test)\n",
    "print(metrics.accuracy_score(y_test, y_pred))"
   ]
  },
  {
   "cell_type": "code",
   "execution_count": 113,
   "metadata": {
    "ExecuteTime": {
     "end_time": "2018-10-19T22:22:30.413932Z",
     "start_time": "2018-10-19T22:22:30.272987Z"
    }
   },
   "outputs": [
    {
     "name": "stdout",
     "output_type": "stream",
     "text": [
      "0.9122\n"
     ]
    }
   ],
   "source": [
    "knn = KNeighborsClassifier(n_neighbors=3)\n",
    "knn.fit(X_train, y_train)\n",
    "y_pred = knn.predict(X_test)\n",
    "print(metrics.accuracy_score(y_test, y_pred))"
   ]
  },
  {
   "cell_type": "code",
   "execution_count": 114,
   "metadata": {
    "ExecuteTime": {
     "end_time": "2018-10-19T22:22:32.598810Z",
     "start_time": "2018-10-19T22:22:32.595990Z"
    }
   },
   "outputs": [],
   "source": [
    "from sklearn.model_selection import cross_val_score"
   ]
  },
  {
   "cell_type": "code",
   "execution_count": 146,
   "metadata": {
    "ExecuteTime": {
     "end_time": "2018-10-20T00:32:06.959863Z",
     "start_time": "2018-10-20T00:32:06.955850Z"
    }
   },
   "outputs": [],
   "source": [
    "def accuracy_score(model,x,y,cv=10,scoring=\"accuracy\"):\n",
    "    score = cross_val_score(model,x,y,cv=cv,scoring=scoring).mean()\n",
    "    return score"
   ]
  },
  {
   "cell_type": "code",
   "execution_count": 153,
   "metadata": {
    "ExecuteTime": {
     "end_time": "2018-10-20T00:36:53.752677Z",
     "start_time": "2018-10-20T00:36:51.582871Z"
    }
   },
   "outputs": [
    {
     "name": "stdout",
     "output_type": "stream",
     "text": [
      "0.9193143157224514\n",
      "0.9202036302765022\n",
      "0.9989443597046556\n",
      "0.957958624400068\n",
      "0.5387512926783338\n"
     ]
    }
   ],
   "source": [
    "knn = KNeighborsClassifier(n_neighbors=9)\n",
    "print(accuracy_score(knn,X_train,y_train,10,'accuracy'))\n",
    "print(accuracy_score(knn,X_train,y_train,10,'precision'))\n",
    "print(accuracy_score(knn,X_train,y_train,10,'recall'))\n",
    "print(accuracy_score(knn,X_train,y_train,10,'f1'))\n",
    "print(accuracy_score(knn,X_train,y_train,10,'roc_auc'))"
   ]
  },
  {
   "cell_type": "code",
   "execution_count": null,
   "metadata": {},
   "outputs": [],
   "source": []
  }
 ],
 "metadata": {
  "kernelspec": {
   "display_name": "Python 3",
   "language": "python",
   "name": "python3"
  },
  "language_info": {
   "codemirror_mode": {
    "name": "ipython",
    "version": 3
   },
   "file_extension": ".py",
   "mimetype": "text/x-python",
   "name": "python",
   "nbconvert_exporter": "python",
   "pygments_lexer": "ipython3",
   "version": "3.6.5"
  }
 },
 "nbformat": 4,
 "nbformat_minor": 2
}
