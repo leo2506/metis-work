{
 "cells": [
  {
   "cell_type": "code",
   "execution_count": 326,
   "metadata": {
    "ExecuteTime": {
     "end_time": "2018-10-07T05:28:33.700673Z",
     "start_time": "2018-10-07T05:28:32.034118Z"
    }
   },
   "outputs": [],
   "source": [
    "from bs4 import BeautifulSoup\n",
    "from selenium import webdriver\n",
    "from selenium.webdriver.common.keys import Keys \n",
    "\n",
    "import numpy as np\n",
    "import pandas as pd\n",
    "\n",
    "import pickle\n",
    "import re\n",
    "import time\n",
    "import os\n",
    "\n",
    "chromedriver = f\"{os.environ['HOME']}/.local/bin/chromedriver\" # path to the chromedriver executable\n",
    "os.environ[\"webdriver.chrome.driver\"] = chromedriver\n",
    "\n",
    "driver = webdriver.Chrome(chromedriver)"
   ]
  },
  {
   "cell_type": "code",
   "execution_count": 307,
   "metadata": {
    "ExecuteTime": {
     "end_time": "2018-10-07T04:41:36.050960Z",
     "start_time": "2018-10-07T04:41:32.345949Z"
    }
   },
   "outputs": [
    {
     "data": {
      "text/plain": [
       "bs4.BeautifulSoup"
      ]
     },
     "execution_count": 307,
     "metadata": {},
     "output_type": "execute_result"
    }
   ],
   "source": [
    "# For test purposes\n",
    "url = \"https://www.realtor.com/realestateandhomes-detail/8-W-Howe-St_Seattle_WA_98119_M17329-57568\"\n",
    "driver.get(url)\n",
    "soup1 = BeautifulSoup(driver.page_source, 'html.parser')\n",
    "type(soup1)"
   ]
  },
  {
   "cell_type": "code",
   "execution_count": 76,
   "metadata": {
    "ExecuteTime": {
     "end_time": "2018-10-07T00:38:56.566876Z",
     "start_time": "2018-10-07T00:38:56.561070Z"
    }
   },
   "outputs": [],
   "source": [
    "def floorplan_scrapper(soup, room_type):\n",
    "    content = soup.find(id=room_type)\n",
    "    \n",
    "    df = pd.DataFrame(columns=['Room Type','Bath','Sqft','Price'])\n",
    "    \n",
    "    for row in content.find_all('tr'):\n",
    "        name = room_type.replace('floorplan-','')\n",
    "        bath = float(row.find(class_=\"col-bath\").text.strip()[0])\n",
    "        sqft = float(row.\n",
    "                     find(class_=\"col-sqft\").\n",
    "                     text.strip().\n",
    "                     split()[0].\n",
    "                     replace(',',''))\n",
    "        price = row.find(class_=\"col-price\").text.strip()\n",
    "        if price == \"N/A\":\n",
    "            continue\n",
    "        price = float(price.replace('$','').replace(',',''))\n",
    "        \n",
    "        temp = [name,bath,sqft,price]\n",
    "        df = df.append(pd.DataFrame([temp],columns=['Room Type','Bath','Sqft','Price']),ignore_index=True)\n",
    "        \n",
    "    return df"
   ]
  },
  {
   "cell_type": "code",
   "execution_count": 274,
   "metadata": {
    "ExecuteTime": {
     "end_time": "2018-10-07T04:08:28.144197Z",
     "start_time": "2018-10-07T04:08:28.139781Z"
    }
   },
   "outputs": [],
   "source": [
    "def floorplan_scrapper1(soup):\n",
    "    ids = []\n",
    "    floorplan=soup.find(class_=\"list-floorplans\")\n",
    "    df = pd.DataFrame(columns=['Room Type','Bath','Sqft','Price'])\n",
    "    if floorplan: \n",
    "        for panel in floorplan.find_all(class_=\"panel\"):\n",
    "            ids.append(panel[\"id\"])\n",
    "\n",
    "        for id_ in ids:\n",
    "            df = df.append(floorplan_scrapper(soup, id_),ignore_index=True)\n",
    "        \n",
    "        return df"
   ]
  },
  {
   "cell_type": "code",
   "execution_count": 275,
   "metadata": {
    "ExecuteTime": {
     "end_time": "2018-10-07T04:08:28.792307Z",
     "start_time": "2018-10-07T04:08:28.729982Z"
    }
   },
   "outputs": [],
   "source": [
    "# for test purposes\n",
    "df_floorplan = floorplan_scrapper1(soup1)\n",
    "df_floorplan"
   ]
  },
  {
   "cell_type": "code",
   "execution_count": 276,
   "metadata": {
    "ExecuteTime": {
     "end_time": "2018-10-07T04:08:29.404625Z",
     "start_time": "2018-10-07T04:08:29.400916Z"
    }
   },
   "outputs": [],
   "source": [
    "def get_address_str(address):\n",
    "    a = address.text.strip().split('\\n')[1:]\n",
    "    b = []\n",
    "    for add in a:\n",
    "        b.append(add.strip())\n",
    "    return ' '.join(b)"
   ]
  },
  {
   "cell_type": "code",
   "execution_count": 277,
   "metadata": {
    "ExecuteTime": {
     "end_time": "2018-10-07T04:08:30.190855Z",
     "start_time": "2018-10-07T04:08:30.186202Z"
    }
   },
   "outputs": [],
   "source": [
    "def get_features_list(list_a):    \n",
    "    la = []\n",
    "    for l in list_a:\n",
    "        la.append(l.text.strip().split('\\n'))\n",
    "    lb = []\n",
    "    for l in la:\n",
    "        lbb = []\n",
    "        for ll in l:\n",
    "            lbb.append(ll.strip())\n",
    "        lb.append(lbb)\n",
    "    return lb"
   ]
  },
  {
   "cell_type": "code",
   "execution_count": 329,
   "metadata": {
    "ExecuteTime": {
     "end_time": "2018-10-07T05:39:38.441607Z",
     "start_time": "2018-10-07T05:39:38.431893Z"
    }
   },
   "outputs": [],
   "source": [
    "def trait_scrapper(soup):\n",
    "    section = soup.find(class_=\"listing-subsection-overview\")\n",
    "    items = section.find_all(class_=\"ldp-key-fact-item\")\n",
    "    \n",
    "    traits = []\n",
    "    for item in items:\n",
    "        traits.append(item.text.split())\n",
    "        \n",
    "    # Add columns of property type and year-built\n",
    "    df = pd.DataFrame(traits)\n",
    "    df = df.transpose()\n",
    "    headers=df.iloc[0]\n",
    "    df=df.iloc[1:]\n",
    "    df.rename(columns=headers, inplace=True)\n",
    "    df.index = df.reset_index().index\n",
    "    \n",
    "    # Add columns of property name and address\n",
    "    address = soup.find(class_=\"ldp-header-address \").find(itemprop=\"address\")\n",
    "    name = address.text.strip().split('\\n')[0]\n",
    "    if name[0].isnumeric():\n",
    "        df[\"Address\"] = name + ' ' + get_address_str(address)\n",
    "    else:    \n",
    "        df[\"Address\"] = get_address_str(address)\n",
    "        df[\"Name\"] = name\n",
    "\n",
    "    # Add columns of Community Features and Unit Features,\n",
    "    # which are stored in a list\n",
    "    section = soup.find(class_=\"listing-subsection-features\")\n",
    "    if section:\n",
    "        list1 = get_features_list(section.find_all(class_=\"col-sm-6\"))\n",
    "    \n",
    "    # Change df into object type to enable it to store list values\n",
    "    df.astype(object)\n",
    "    if soup.find(text=re.compile(\"Community Features\")):\n",
    "        df[\"Community Features\"] = [list1[0]+list1[1]]\n",
    "    if soup.find(text=re.compile(\"Unit Features\")):       \n",
    "        df[\"Unit Features\"] = [list1[2]+list1[3]]\n",
    "    \n",
    "    # Add columns of number of surrounding rated schools\n",
    "    # and their average ratings \n",
    "    school = soup.find_all(class_=\"school-rating\")\n",
    "    \n",
    "    rating_list = []\n",
    "    for s in school:\n",
    "        rating_list.append(s.text)\n",
    "    \n",
    "    rating = [int(a) for a in rating_list if a.isnumeric() ]\n",
    "    df[\"Number of Schools\"] = len(rating)\n",
    "    df[\"Average School Rating\"] = round(np.mean(rating),2)\n",
    "    \n",
    "    # Add columns of median rental price and median listing price\n",
    "    # in the neighborhood\n",
    "    nb = soup.find_all(class_ = \"neighborhood-flex-item\")\n",
    "    \n",
    "    if len(nb) != 0:\n",
    "        nb_list = []\n",
    "        for nb1 in nb:\n",
    "            nb_list.append(nb1.text.strip().split('\\n'))\n",
    "\n",
    "        title1 = nb_list[0][-1].strip()\n",
    "        title2 = nb_list[1][-1].strip()\n",
    "        value1 = float(nb_list[0][0].replace('$','').replace(',',''))\n",
    "        value2 = float(nb_list[1][0].replace('$','').replace(',',''))\n",
    "        df[title1] = value1\n",
    "        df[title2] = value2\n",
    "\n",
    "    return df"
   ]
  },
  {
   "cell_type": "code",
   "execution_count": 309,
   "metadata": {
    "ExecuteTime": {
     "end_time": "2018-10-07T04:42:55.562948Z",
     "start_time": "2018-10-07T04:42:55.518412Z"
    }
   },
   "outputs": [],
   "source": [
    "soup1.find(\"div\", text=\"Property Features\")"
   ]
  },
  {
   "cell_type": "code",
   "execution_count": 310,
   "metadata": {
    "ExecuteTime": {
     "end_time": "2018-10-07T04:42:56.633704Z",
     "start_time": "2018-10-07T04:42:56.324985Z"
    }
   },
   "outputs": [
    {
     "data": {
      "text/html": [
       "<div>\n",
       "<style scoped>\n",
       "    .dataframe tbody tr th:only-of-type {\n",
       "        vertical-align: middle;\n",
       "    }\n",
       "\n",
       "    .dataframe tbody tr th {\n",
       "        vertical-align: top;\n",
       "    }\n",
       "\n",
       "    .dataframe thead th {\n",
       "        text-align: right;\n",
       "    }\n",
       "</style>\n",
       "<table border=\"1\" class=\"dataframe\">\n",
       "  <thead>\n",
       "    <tr style=\"text-align: right;\">\n",
       "      <th></th>\n",
       "      <th>Type</th>\n",
       "      <th>Address</th>\n",
       "      <th>Number of Schools</th>\n",
       "      <th>Average School Rating</th>\n",
       "      <th>Median Rental Price</th>\n",
       "      <th>Median Listing Price</th>\n",
       "    </tr>\n",
       "  </thead>\n",
       "  <tbody>\n",
       "    <tr>\n",
       "      <th>0</th>\n",
       "      <td>Apartment</td>\n",
       "      <td>8 W Howe Street 8 W Howe St, Seattle, WA 98119</td>\n",
       "      <td>5</td>\n",
       "      <td>8.4</td>\n",
       "      <td>2650.0</td>\n",
       "      <td>684990.0</td>\n",
       "    </tr>\n",
       "  </tbody>\n",
       "</table>\n",
       "</div>"
      ],
      "text/plain": [
       "        Type                                         Address  \\\n",
       "0  Apartment  8 W Howe Street 8 W Howe St, Seattle, WA 98119   \n",
       "\n",
       "   Number of Schools  Average School Rating  Median Rental Price  \\\n",
       "0                  5                    8.4               2650.0   \n",
       "\n",
       "   Median Listing Price  \n",
       "0              684990.0  "
      ]
     },
     "execution_count": 310,
     "metadata": {},
     "output_type": "execute_result"
    }
   ],
   "source": [
    "trait_scrapper(soup1)"
   ]
  },
  {
   "cell_type": "code",
   "execution_count": 311,
   "metadata": {
    "ExecuteTime": {
     "end_time": "2018-10-07T04:43:03.810826Z",
     "start_time": "2018-10-07T04:43:03.806633Z"
    }
   },
   "outputs": [],
   "source": [
    "def meta_extract(soup, info):\n",
    "    meta = soup.find(id=\"ldp-property-meta\")\n",
    "    l = meta.find(\"li\", attrs={\"data-label\": f\"property-meta-{info}\"})\n",
    "    if l:\n",
    "        return l.text.strip().split()"
   ]
  },
  {
   "cell_type": "code",
   "execution_count": 312,
   "metadata": {
    "ExecuteTime": {
     "end_time": "2018-10-07T04:43:09.232606Z",
     "start_time": "2018-10-07T04:43:09.218948Z"
    }
   },
   "outputs": [
    {
     "data": {
      "text/plain": [
       "<div class=\"ldp-header-meta mobile-wrapper margin-bottom\" id=\"ldp-property-meta\">\n",
       "<ul class=\"property-meta list-horizontal list-style-disc list-spaced\" itemprop=\"description\">\n",
       "<li data-label=\"property-meta-beds\">\n",
       "<span class=\"data-value\">0</span>\n",
       "      beds\n",
       "    </li>\n",
       "<li data-label=\"property-meta-bath\">\n",
       "<span class=\"data-value\">1</span>\n",
       "      bath\n",
       "    </li>\n",
       "<li data-label=\"property-meta-sqft\">\n",
       "<span class=\"data-value\">400</span> sq ft\n",
       "    </li>\n",
       "</ul>\n",
       "</div>"
      ]
     },
     "execution_count": 312,
     "metadata": {},
     "output_type": "execute_result"
    }
   ],
   "source": [
    "l = soup1.find(id=\"ldp-property-meta\")\n",
    "l"
   ]
  },
  {
   "cell_type": "code",
   "execution_count": 322,
   "metadata": {
    "ExecuteTime": {
     "end_time": "2018-10-07T05:03:52.870742Z",
     "start_time": "2018-10-07T05:03:52.863664Z"
    }
   },
   "outputs": [],
   "source": [
    "def single_page_scraper(soup):\n",
    "    df_trait = trait_scrapper(soup)\n",
    "\n",
    "    # Add floorplan to properties which have a table of floorplans,\n",
    "    # othrewise extract meta property information\n",
    "    if floorplan_scrapper1(soup) is not None:\n",
    "        df_floorplan = floorplan_scrapper1(soup)\n",
    "        # Avoid expanding the DataFrame for multiple times by accident\n",
    "        if(df_trait.shape[0] != df_floorplan.shape[0]):\n",
    "            df_trait = pd.concat([df_trait] * df_floorplan.shape[0], \n",
    "                           ignore_index=True)  \n",
    "        # Right append the trait columns to the floorplan DataFram\n",
    "        df1 = pd.concat([df_trait,df_floorplan], axis=1)\n",
    "        \n",
    "    else:\n",
    "        df1 = df_trait\n",
    "        beds = meta_extract(soup, \"beds\")\n",
    "        bath = meta_extract(soup, \"bath\")\n",
    "        sqft = meta_extract(soup, \"sqft\")\n",
    "        pets = meta_extract(soup, \"pets\")\n",
    "        if beds:\n",
    "            df1[\"Room Type\"] = beds[0] + \"-bedroom\" \n",
    "        if bath:\n",
    "            if len(bath) <= 2:\n",
    "                df1[\"Bath\"] = int(bath[0])\n",
    "            else:\n",
    "                df1[\"Bath\"] = int(bath[0]) + int(bath[2])*0.5 \n",
    "        if sqft:        \n",
    "            df1[\"Sqft\"] = float(sqft[0].replace(',',''))\n",
    "        if pets:\n",
    "            df1[\"Unit Features\"] = ' '.join(pets)\n",
    "        df1[\"Price\"] = float(soup.\n",
    "                             find(itemprop=\"price\").\n",
    "                             text.strip().\n",
    "                             replace('$','').\n",
    "                             replace(',',''))\n",
    "    \n",
    "    # Reorder columns and fill missing values as Nan objects\n",
    "    cols = [\"Name\",\"Type\",\"Address\",\"Built\",\n",
    "                     \"Room Type\",\"Bath\",\"Sqft\",\"Price\",\n",
    "                    \"Number of Schools\",\"Average School Rating\",\n",
    "                    \"Median Rental Price\", \"Median Listing Price\",\n",
    "                    \"Community Features\",\"Unit Features\"]     \n",
    "    df2 = pd.DataFrame(columns = cols)\n",
    "    df = pd.concat([df2,df1], ignore_index = True)\n",
    "    df = df[cols]\n",
    "    \n",
    "    return df"
   ]
  },
  {
   "cell_type": "code",
   "execution_count": 314,
   "metadata": {
    "ExecuteTime": {
     "end_time": "2018-10-07T04:43:17.035901Z",
     "start_time": "2018-10-07T04:43:16.679936Z"
    },
    "scrolled": false
   },
   "outputs": [
    {
     "name": "stderr",
     "output_type": "stream",
     "text": [
      "/Users/liuriguang/anaconda3/lib/python3.6/site-packages/ipykernel_launcher.py:45: FutureWarning: Sorting because non-concatenation axis is not aligned. A future version\n",
      "of pandas will change to not sort by default.\n",
      "\n",
      "To accept the future behavior, pass 'sort=True'.\n",
      "\n",
      "To retain the current behavior and silence the warning, pass sort=False\n",
      "\n"
     ]
    },
    {
     "data": {
      "text/html": [
       "<div>\n",
       "<style scoped>\n",
       "    .dataframe tbody tr th:only-of-type {\n",
       "        vertical-align: middle;\n",
       "    }\n",
       "\n",
       "    .dataframe tbody tr th {\n",
       "        vertical-align: top;\n",
       "    }\n",
       "\n",
       "    .dataframe thead th {\n",
       "        text-align: right;\n",
       "    }\n",
       "</style>\n",
       "<table border=\"1\" class=\"dataframe\">\n",
       "  <thead>\n",
       "    <tr style=\"text-align: right;\">\n",
       "      <th></th>\n",
       "      <th>Name</th>\n",
       "      <th>Type</th>\n",
       "      <th>Address</th>\n",
       "      <th>Built</th>\n",
       "      <th>Room Type</th>\n",
       "      <th>Bath</th>\n",
       "      <th>Sqft</th>\n",
       "      <th>Price</th>\n",
       "      <th>Number of Schools</th>\n",
       "      <th>Average School Rating</th>\n",
       "      <th>Median Rental Price</th>\n",
       "      <th>Median Listing Price</th>\n",
       "      <th>Community Features</th>\n",
       "      <th>Unit Features</th>\n",
       "    </tr>\n",
       "  </thead>\n",
       "  <tbody>\n",
       "    <tr>\n",
       "      <th>0</th>\n",
       "      <td>NaN</td>\n",
       "      <td>Apartment</td>\n",
       "      <td>8 W Howe Street 8 W Howe St, Seattle, WA 98119</td>\n",
       "      <td>NaN</td>\n",
       "      <td>studio</td>\n",
       "      <td>1.0</td>\n",
       "      <td>400.0</td>\n",
       "      <td>1245.0</td>\n",
       "      <td>5</td>\n",
       "      <td>8.4</td>\n",
       "      <td>2650.0</td>\n",
       "      <td>684990.0</td>\n",
       "      <td>NaN</td>\n",
       "      <td>NaN</td>\n",
       "    </tr>\n",
       "  </tbody>\n",
       "</table>\n",
       "</div>"
      ],
      "text/plain": [
       "  Name       Type                                         Address Built  \\\n",
       "0  NaN  Apartment  8 W Howe Street 8 W Howe St, Seattle, WA 98119   NaN   \n",
       "\n",
       "  Room Type  Bath   Sqft   Price Number of Schools  Average School Rating  \\\n",
       "0    studio   1.0  400.0  1245.0                 5                    8.4   \n",
       "\n",
       "   Median Rental Price  Median Listing Price Community Features Unit Features  \n",
       "0               2650.0              684990.0                NaN           NaN  "
      ]
     },
     "execution_count": 314,
     "metadata": {},
     "output_type": "execute_result"
    }
   ],
   "source": [
    "# for test purposes\n",
    "df1 = single_page_scraper(soup1)\n",
    "df1"
   ]
  },
  {
   "cell_type": "markdown",
   "metadata": {},
   "source": [
    "## Let's try multiple pages"
   ]
  },
  {
   "cell_type": "code",
   "execution_count": 27,
   "metadata": {
    "ExecuteTime": {
     "end_time": "2018-10-06T22:34:29.051335Z",
     "start_time": "2018-10-06T22:34:29.046213Z"
    }
   },
   "outputs": [],
   "source": [
    "def url_scrapper():\n",
    "    driver.get(\"https://www.realtor.com/apartments/Seattle_WA\")\n",
    "    \n",
    "    # Scrap 22 pages of urls of apartment for leasing into a list\n",
    "    j = 0 \n",
    "    urls = []\n",
    "    while j < 22:\n",
    "        next_button = driver.find_element_by_class_name(\"next \")\n",
    "        next_button.click()\n",
    "        time.sleep(5) # Let's give the computer 5 seconds rest \n",
    "                      # after scraping a whole page of urls\n",
    "        soup = BeautifulSoup(driver.page_source,'html.parser')\n",
    "        for link in soup.find_all(class_=\"photo-wrap\"): \n",
    "            urls.append(\"https://www.realtor.com\"+link.find(\"a\")[\"href\"])\n",
    "        j += 1\n",
    "\n",
    "    # Save the url list in a csv file\n",
    "    url_file = open(\"urls.csv\", 'w')\n",
    "    for url in urls:\n",
    "        url_file.write(url + '\\n')\n",
    "    url_file.close()"
   ]
  },
  {
   "cell_type": "code",
   "execution_count": 29,
   "metadata": {
    "ExecuteTime": {
     "end_time": "2018-10-06T22:40:33.839537Z",
     "start_time": "2018-10-06T22:37:08.054934Z"
    }
   },
   "outputs": [],
   "source": [
    "url_scrapper()"
   ]
  },
  {
   "cell_type": "code",
   "execution_count": 44,
   "metadata": {
    "ExecuteTime": {
     "end_time": "2018-10-06T23:03:34.121613Z",
     "start_time": "2018-10-06T23:03:34.116024Z"
    }
   },
   "outputs": [],
   "source": [
    "with open(\"urls.csv\", 'r') as f:\n",
    "    urls = f.read().split('\\n')\n",
    "    urls = list(set(urls)) # Keep unique urls\n",
    "    urls.remove('') # Remove empty strings\n",
    "    f.close()\n",
    "\n",
    "with open(\"urls.pkl\",'wb') as picklefile:\n",
    "    pickle.dump(urls, picklefile)"
   ]
  },
  {
   "cell_type": "code",
   "execution_count": 317,
   "metadata": {
    "ExecuteTime": {
     "end_time": "2018-10-07T04:55:26.381376Z",
     "start_time": "2018-10-07T04:55:26.377355Z"
    }
   },
   "outputs": [],
   "source": [
    "def pickle_files(name):\n",
    "    if name.split('.')[1] == \"csv\":\n",
    "        data = pd.read_csv(name)\n",
    "    else: \n",
    "        f = open(name, 'r')\n",
    "        data = f.read().split('\\n')\n",
    "\n",
    "    pkl = name.split('.')[0] + \".pkl\"\n",
    "    with open(pkl,'wb') as picklefile:\n",
    "        pickle.dump(data, picklefile)"
   ]
  },
  {
   "cell_type": "code",
   "execution_count": 49,
   "metadata": {
    "ExecuteTime": {
     "end_time": "2018-10-06T23:04:41.607505Z",
     "start_time": "2018-10-06T23:04:41.603522Z"
    }
   },
   "outputs": [
    {
     "data": {
      "text/plain": [
       "['https://www.realtor.com/realestateandhomes-detail/300-11th-Ave_Seattle_WA_98122_M10614-86517',\n",
       " 'https://www.realtor.com/realestateandhomes-detail/5912-California-Ave-SW-Apt-101_Seattle_WA_98136_M21371-66358',\n",
       " 'https://www.realtor.com/realestateandhomes-detail/924-16th-Ave_Seattle_WA_98122_M10894-90024',\n",
       " 'https://www.realtor.com/realestateandhomes-detail/715-2nd-Ave-N_Seattle_WA_98109_M29948-78771',\n",
       " 'https://www.realtor.com/realestateandhomes-detail/1909-Franklin-Ave-E_Seattle_WA_98102_M21110-14592']"
      ]
     },
     "execution_count": 49,
     "metadata": {},
     "output_type": "execute_result"
    }
   ],
   "source": [
    "urls[:5]"
   ]
  },
  {
   "cell_type": "code",
   "execution_count": 62,
   "metadata": {
    "ExecuteTime": {
     "end_time": "2018-10-06T23:57:23.115178Z",
     "start_time": "2018-10-06T23:57:23.111043Z"
    }
   },
   "outputs": [],
   "source": [
    "cols = [\"Name\",\"Type\",\"Address\",\"Built\",\n",
    "           \"Room Type\",\"Bath\",\"Sqft\",\"Price\",\n",
    "           \"Number of Schools\",\"Average School Rating\",\n",
    "           \"Median Rental Price\", \"Median Listing Price\",\n",
    "           \"Community Features\",\"Unit Features\",\"url\"]"
   ]
  },
  {
   "cell_type": "code",
   "execution_count": 335,
   "metadata": {
    "ExecuteTime": {
     "end_time": "2018-10-07T05:57:11.192937Z",
     "start_time": "2018-10-07T05:56:04.952152Z"
    }
   },
   "outputs": [
    {
     "name": "stderr",
     "output_type": "stream",
     "text": [
      "/Users/liuriguang/anaconda3/lib/python3.6/site-packages/ipykernel_launcher.py:45: FutureWarning: Sorting because non-concatenation axis is not aligned. A future version\n",
      "of pandas will change to not sort by default.\n",
      "\n",
      "To accept the future behavior, pass 'sort=True'.\n",
      "\n",
      "To retain the current behavior and silence the warning, pass sort=False\n",
      "\n"
     ]
    }
   ],
   "source": [
    "df = pd.DataFrame(columns = cols)\n",
    "\n",
    "for url in urls[:10]:\n",
    "    driver.get(url)\n",
    "    soup = BeautifulSoup(driver.page_source,\"html5lib\")\n",
    "    df_property = single_page_scraper(soup)\n",
    "    df_property[\"url\"] = url\n",
    "    df = pd.concat([df, df_property], ignore_index=True)\n",
    "    df.to_csv(\"rental_data2.csv\")\n",
    "    time.sleep(2)"
   ]
  },
  {
   "cell_type": "code",
   "execution_count": 318,
   "metadata": {
    "ExecuteTime": {
     "end_time": "2018-10-07T04:55:33.133735Z",
     "start_time": "2018-10-07T04:55:33.117690Z"
    }
   },
   "outputs": [],
   "source": [
    "pickle_files(\"rental_data.csv\")\n",
    "\n",
    "!ls"
   ]
  }
 ],
 "metadata": {
  "kernelspec": {
   "display_name": "Python 3",
   "language": "python",
   "name": "python3"
  },
  "language_info": {
   "codemirror_mode": {
    "name": "ipython",
    "version": 3
   },
   "file_extension": ".py",
   "mimetype": "text/x-python",
   "name": "python",
   "nbconvert_exporter": "python",
   "pygments_lexer": "ipython3",
   "version": "3.6.5"
  }
 },
 "nbformat": 4,
 "nbformat_minor": 2
}
