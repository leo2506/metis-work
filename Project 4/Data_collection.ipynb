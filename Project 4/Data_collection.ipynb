{
 "cells": [
  {
   "cell_type": "markdown",
   "metadata": {},
   "source": [
    "### Use newsapi to collect all pieces of news about trade war and store them in jsons"
   ]
  },
  {
   "cell_type": "code",
   "execution_count": 1,
   "metadata": {
    "ExecuteTime": {
     "end_time": "2018-11-07T22:01:45.106576Z",
     "start_time": "2018-11-07T22:01:44.858932Z"
    }
   },
   "outputs": [],
   "source": [
    "import requests"
   ]
  },
  {
   "cell_type": "code",
   "execution_count": 2,
   "metadata": {
    "ExecuteTime": {
     "end_time": "2018-11-07T22:01:46.260851Z",
     "start_time": "2018-11-07T22:01:46.257901Z"
    }
   },
   "outputs": [],
   "source": [
    "import pprint"
   ]
  },
  {
   "cell_type": "code",
   "execution_count": 80,
   "metadata": {
    "ExecuteTime": {
     "end_time": "2018-11-08T00:30:48.602205Z",
     "start_time": "2018-11-08T00:30:48.598607Z"
    }
   },
   "outputs": [],
   "source": [
    "def generate_url(page):\n",
    "    url = ('https://newsapi.org/v2/everything?'\n",
    "       'q=\"trade war\"&'\n",
    "       'sources=[\"the-new-york-times\",\"cnn\",\"xinhua-net\"]&'\n",
    "       'from=2018-10-27&'\n",
    "       'to=2018-11-07&'\n",
    "       'sortBy=relevancy&'\n",
    "       'pageSize=100&'\n",
    "       f'page={page}&'\n",
    "       'apiKey=fc8921bcf53e482ba461714a254c0d7c'\n",
    "       )\n",
    "    return url"
   ]
  },
  {
   "cell_type": "code",
   "execution_count": 81,
   "metadata": {
    "ExecuteTime": {
     "end_time": "2018-11-08T00:30:56.990805Z",
     "start_time": "2018-11-08T00:30:49.218556Z"
    }
   },
   "outputs": [],
   "source": [
    "result = []\n",
    "for i in range(1,11):\n",
    "    response = requests.get(generate_url(i))\n",
    "    result.extend(response.json()['articles'])       "
   ]
  },
  {
   "cell_type": "code",
   "execution_count": 82,
   "metadata": {
    "ExecuteTime": {
     "end_time": "2018-11-08T00:30:57.936355Z",
     "start_time": "2018-11-08T00:30:57.931876Z"
    }
   },
   "outputs": [
    {
     "data": {
      "text/plain": [
       "1000"
      ]
     },
     "execution_count": 82,
     "metadata": {},
     "output_type": "execute_result"
    }
   ],
   "source": [
    "len(result)"
   ]
  },
  {
   "cell_type": "code",
   "execution_count": 19,
   "metadata": {
    "ExecuteTime": {
     "end_time": "2018-11-07T22:18:09.086293Z",
     "start_time": "2018-11-07T22:18:09.082833Z"
    }
   },
   "outputs": [],
   "source": [
    "pp = pprint.PrettyPrinter(indent=4)"
   ]
  },
  {
   "cell_type": "code",
   "execution_count": 7,
   "metadata": {
    "ExecuteTime": {
     "end_time": "2018-11-07T22:04:24.873201Z",
     "start_time": "2018-11-07T22:04:24.327066Z"
    }
   },
   "outputs": [],
   "source": [
    "import pandas as pd\n",
    "import numpy as np\n",
    "\n",
    "pd.set_option('max_colwidth',10000)"
   ]
  },
  {
   "cell_type": "markdown",
   "metadata": {},
   "source": [
    "#### To insert data into a DataFrame, it is faster and easier to transform all data into a list of dictionaries and then tranform it into a DataFrame"
   ]
  },
  {
   "cell_type": "code",
   "execution_count": 83,
   "metadata": {
    "ExecuteTime": {
     "end_time": "2018-11-08T00:31:16.791917Z",
     "start_time": "2018-11-08T00:31:16.765514Z"
    }
   },
   "outputs": [],
   "source": [
    "col = ['title','description','content','url','publishedAt']\n",
    "df_dict = []\n",
    "for article in result:\n",
    "    temp = {}\n",
    "    for c in col:\n",
    "        try: \n",
    "            temp[c] = article[c]\n",
    "        except:\n",
    "            temp[c] = np.nan\n",
    "    df_dict.append(temp)\n",
    "df = pd.DataFrame(df_dict,columns=col)\n",
    "df.to_csv('data/article_info(1027-1107).csv')"
   ]
  },
  {
   "cell_type": "code",
   "execution_count": 84,
   "metadata": {
    "ExecuteTime": {
     "end_time": "2018-11-08T00:33:14.670949Z",
     "start_time": "2018-11-08T00:33:14.651152Z"
    }
   },
   "outputs": [],
   "source": [
    "df = pd.read_csv('data/article_info.csv')"
   ]
  },
  {
   "cell_type": "markdown",
   "metadata": {},
   "source": [
    "### Now, try some NLP stuff"
   ]
  },
  {
   "cell_type": "code",
   "execution_count": 10,
   "metadata": {
    "ExecuteTime": {
     "end_time": "2018-11-07T22:06:02.559046Z",
     "start_time": "2018-11-07T22:06:01.450132Z"
    }
   },
   "outputs": [],
   "source": [
    "import nltk\n",
    "from nltk.util import ngrams\n",
    "\n",
    "from textblob import TextBlob\n",
    "\n",
    "from collections import Counter\n",
    "from operator import itemgetter\n",
    "\n",
    "from nltk.corpus import stopwords"
   ]
  },
  {
   "cell_type": "code",
   "execution_count": 15,
   "metadata": {
    "ExecuteTime": {
     "end_time": "2018-11-07T22:16:24.522730Z",
     "start_time": "2018-11-07T22:16:24.519300Z"
    }
   },
   "outputs": [],
   "source": [
    "from sklearn.feature_extraction.text import CountVectorizer"
   ]
  },
  {
   "cell_type": "code",
   "execution_count": 85,
   "metadata": {
    "ExecuteTime": {
     "end_time": "2018-11-08T00:33:25.583388Z",
     "start_time": "2018-11-08T00:33:25.576961Z"
    }
   },
   "outputs": [],
   "source": [
    "# fill null values with empty strings\n",
    "df.fillna('',inplace=True)"
   ]
  },
  {
   "cell_type": "code",
   "execution_count": 86,
   "metadata": {
    "ExecuteTime": {
     "end_time": "2018-11-08T00:33:27.950803Z",
     "start_time": "2018-11-08T00:33:27.947818Z"
    }
   },
   "outputs": [],
   "source": [
    "import re\n",
    "import string"
   ]
  },
  {
   "cell_type": "code",
   "execution_count": 87,
   "metadata": {
    "ExecuteTime": {
     "end_time": "2018-11-08T00:33:29.518970Z",
     "start_time": "2018-11-08T00:33:29.492201Z"
    }
   },
   "outputs": [
    {
     "name": "stdout",
     "output_type": "stream",
     "text": [
      "['Struggling toy industry braces for next round in US China trade war', 'China tariffs are taking a toll on robot vacuums', 'China slashes banks  reserve requirements as trade war imperils growth', 'Trade war  spy claims cloud horizon for China airshow', 'UPS profit gain overshadowed by trade war worries  shares fall']\n"
     ]
    }
   ],
   "source": [
    "clean_title = []\n",
    "for title in df.title:\n",
    "    # Replace punctuations with a white space\n",
    "    ct = re.sub('[%s]' % re.escape(string.punctuation), ' ', title)\n",
    "    # Remove all words containing digits\n",
    "    ct = re.sub('\\w*\\d\\w*', ' ',ct)\n",
    "    clean_title.append(ct)\n",
    "print(clean_title[:5])"
   ]
  },
  {
   "cell_type": "code",
   "execution_count": 88,
   "metadata": {
    "ExecuteTime": {
     "end_time": "2018-11-08T00:33:37.285264Z",
     "start_time": "2018-11-08T00:33:37.222435Z"
    },
    "scrolled": false
   },
   "outputs": [
    {
     "name": "stdout",
     "output_type": "stream",
     "text": [
      "['aapl', 'abandon', 'abandons', 'abe', 'activity', 'activity slows', 'activity slows october', 'add', 'add dour', 'add dour mood', 'adding', 'adding fuel', 'adding fuel trade', 'administration', 'administration plans', 'administration plans help', 'advice', 'adviser', 'affairs', 'ahead', 'ahead meeting', 'ahead november', 'ahead november elections', 'ai', 'aim', 'aims', 'air', 'airbus', 'airbus china', 'airshow', 'alibaba', 'alibaba jack', 'alibaba jack ma', 'allies', 'aluminum', 'amazon', 'ambassador', 'ambassador says', 'ambassador says beijing', 'amd', 'america', 'america awaits', 'america awaits midterm', 'american', 'american manufacturers', 'american manufacturers seriously', 'americans', 'amid', 'amid global', 'amid influence', 'amid influence battle', 'amid report', 'amid report trump', 'amid trade', 'amid trade war', 'amzn', 'analyst', 'analysts', 'analysts say', 'antonio', 'anxiety', 'anxiety wisconsin', 'anxiety wisconsin manufacturers', 'apparel', 'apparel industry', 'apple', 'apple products', 'apple stock', 'apple stock attractive', 'approach', 'approvals', 'approvals ivanka', 'approvals ivanka trump', 'aren', 'argentina', 'arms', 'arvind', 'asia', 'asia investment', 'asia investment briefing', 'asia sell', 'asia shares', 'asia shares extend', 'asia shares reap', 'asia stocks', 'asian', 'asian shares', 'asian shares bounce', 'asian shares edge', 'asian stocks', 'asks', 'asks wto', 'asks wto panel', 'attacks', 'attacks trade', 'attacks trade war', 'attractive', 'attractive entry', 'attractive entry point', 'aussie', 'aussie dollar', 'aussie dollar rebounds', 'australian', 'auto', 'auto stocks', 'avoid', 'avoid using', 'avoid using currency', 'awaits', 'awaits midterm', 'awaits midterm election', 'away', 'backed', 'backlash', 'baidu', 'bailout', 'ban', 'ban higher', 'ban higher ethanol', 'bank', 'bank head', 'bank head says', 'bank kim', 'bank kim sees', 'banks', 'banks reserve', 'banks reserve requirements', 'battle', 'bbc', 'bbc news', 'bears', 'beats', 'begin', 'begin bite', 'begin november', 'begin november stronger', 'beijing', 'beijing doesn', 'beijing doesn know', 'beijing visit', 'bell', 'belt', 'benefit', 'benefit trade', 'benefit trade war', 'benefits', 'bets', 'bets big', 'bets big china', 'bid', 'big', 'big china', 'big china lng', 'big gains', 'big gains news', 'big win', 'bigger', 'biggest', 'biggest drop', 'biggest drop years', 'biggest trade', 'biggest trade fair', 'billion', 'billion tariffs', 'billion tariffs biting', 'bite', 'bite reuters', 'bite reuters poll', 'bites', 'bites growth', 'biting', 'biting quarter', 'biting quarter profit', 'blackrock', 'blame', 'blame china', 'blames', 'bleeding', 'blk', 'bloomberg', 'blown', 'blown china', 'blown china trade', 'bmw', 'boeing', 'boeing airbus', 'bolsonaro', 'bolsonaro bromance', 'bolsonaro bromance brewing', 'bolton', 'bond', 'bond report', 'bond report treasury', 'bond yields', 'bonds', 'bonds amid', 'bonds amid trade', 'booming', 'booming america', 'boost', 'boost liquidity', 'boost liquidity amid', 'boosts', 'bounce', 'bounce choppy', 'bounce choppy trade', 'bounce day', 'bounce day slide', 'box', 'brazil', 'brazilian', 'brazilian big', 'brazilian big win', 'brewing', 'brewing brazilian', 'brewing brazilian big', 'brexit', 'briefing', 'briefing china', 'briefing china trade', 'briefing trump', 'bring', 'bringing', 'bromance', 'bromance brewing', 'bromance brewing brazilian', 'budget', 'building', 'business', 'business insider', 'business investment', 'business live', 'business times', 'business week', 'businesses', 'buy', 'buy right', 'buying', 'called', 'calls', 'campaign', 'canada', 'capitol', 'capitol report', 'caps', 'caps gains', 'car', 'car purchase', 'car purchase tax', 'cars', 'cars likely', 'cars likely trade', 'cash', 'casualty', 'caught', 'cause', 'caused', 'caused trump', 'caused trump trade', 'causing', 'cautious', 'cellphone', 'center', 'central', 'central bank', 'ceo', 'ceo china', 'ceo says', 'challenge', 'challenge trump', 'challenge trump metals', 'chance', 'change', 'chaos', 'charges', 'chart', 'chat', 'cheap', 'chief', 'chiefs', 'china', 'china airshow', 'china biggest', 'china biggest trade', 'china central', 'china central bank', 'china concerns', 'china concerns linger', 'china currency', 'china data', 'china demands', 'china demands stop', 'china denies', 'china denounces', 'china denounces pompeo', 'china echoes', 'china echoes imf', 'china economic', 'china economic growth', 'china economy', 'china europe', 'china europe escalate', 'china exporters', 'china eyeing', 'china eyeing relocation', 'china factory', 'china factory activity', 'china gdp', 'china gdp growth', 'china grants', 'china grants trademark', 'china growth', 'china growth fears', 'china growth forecast', 'china hold', 'china hold key', 'china imports', 'china inches', 'china inches stimulus', 'china japan', 'china lng', 'china lng sidesteps', 'china luxury', 'china moves', 'china moves boost', 'china opens', 'china premier', 'china premier says', 'china pumps', 'china quarter', 'china quarter gdp', 'china ready', 'china ready reach', 'china regulator', 'china russia', 'china russia listening', 'china says', 'china says communication', 'china says ready', 'china sea', 'china seeks', 'china sells', 'china september', 'china september exports', 'china september trade', 'china slams', 'china slams pompeo', 'china slashes', 'china slashes banks', 'china slashes lpg', 'china slump', 'china slump treasuries', 'china soybean', 'china soybean imports', 'china stocks', 'china stocks gain', 'china stocks slide', 'china stocks tumble', 'china surplus', 'china surplus hits', 'china takes', 'china tariff', 'china tariffs', 'china tariffs hit', 'china tensions', 'china ties', 'china ties ahead', 'china trade', 'china trade deal', 'china trade fox', 'china trade surplus', 'china trade tensions', 'china trade war', 'china try', 'china vietnam', 'china visit', 'china xi', 'china xi meet', 'china yuan', 'chinese', 'chinese ambassador', 'chinese ambassador says', 'chinese exports', 'chinese exports surging', 'chinese growth', 'chinese growth year', 'chinese spies', 'chinese stocks', 'chinese yuan', 'chip', 'chipmaker', 'choppy', 'choppy trade', 'choppy trade trade', 'christine', 'citing', 'citing trade', 'citing trade war', 'city', 'claims', 'claims cloud', 'claims cloud horizon', 'claw', 'claw losses', 'claw losses possible', 'clear', 'clear economic', 'clear economic slowdown', 'clients', 'climate', 'climate change', 'climb', 'climb time', 'climb time days', 'cloud', 'cloud horizon', 'cloud horizon china', 'cocktail', 'cocktail china', 'cocktail china slump', 'cold', 'cold war', 'com', 'com stock', 'comments', 'comments amid', 'comments amid influence', 'commerce', 'commodities', 'communication', 'communication amid', 'communication amid report', 'companies', 'company', 'concerns', 'concerns linger', 'conference', 'confidence', 'consumer', 'continues', 'continues nasdaq', 'continues nasdaq flirts', 'control', 'cook', 'cools', 'copper', 'corporate', 'corporate earnings', 'correction', 'cost', 'cost china', 'costs', 'counter', 'countering', 'countering global', 'countering global protectionism', 'countries', 'crash', 'crazy', 'crazy trump', 'crazy trump trade', 'creating', 'creating record', 'creating record surplus', 'credit', 'crisis', 'crisis trade', 'crisis trade war', 'criticizes', 'crude', 'currencies', 'currency', 'currency practices', 'currency report', 'currency trade', 'currency trade war', 'cut', 'cuts', 'cuts revenue', 'cuts world', 'cuts world economic', 'damage', 'data', 'day', 'day rout', 'day slide', 'day slump', 'days', 'deal', 'deal china', 'deal end', 'deal repeats', 'deal repeats threat', 'deal trump', 'dealbook', 'dealbook briefing', 'deals', 'deals japan', 'deals japan uk', 'debacle', 'debt', 'decades', 'deep', 'deepens', 'deepens asia', 'deficit', 'deliveries', 'delong', 'delong faq', 'demand', 'demands', 'demands stop', 'demands stop groundless', 'democrat', 'democrats', 'denies', 'denounces', 'denounces pompeo', 'denounces pompeo malicious', 'dependent', 'dependent booming', 'dependent booming america', 'despite', 'despite strong', 'despite tariffs', 'despite trade', 'despite trade war', 'did', 'digital', 'dims', 'dip', 'diplomatic', 'dips', 'ditching', 'dived', 'doesn', 'doesn know', 'doesn know deal', 'doesn want', 'dollar', 'dollar bond', 'dollar bonds', 'dollar gains', 'dollar rebounds', 'don', 'donald', 'donald trump', 'donald trump waging', 'dour', 'dour mood', 'dow', 'drag', 'drive', 'drives', 'driving', 'drop', 'drop spreads', 'drop spreads wall', 'drop years', 'drop years amid', 'drops', 'dust', 'earnings', 'earnings outlook', 'ease', 'easing', 'eavesdropping', 'ecb', 'echoes', 'echoes imf', 'echoes imf pledges', 'economic', 'economic growth', 'economic growth forecasts', 'economic growth slows', 'economic issues', 'economic slowdown', 'economic slowdown trade', 'economic woes', 'economists', 'economy', 'economy bloomberg', 'economy looks', 'economy looks dependent', 'economy slowing', 'economy slows', 'economy trade', 'economy trade war', 'edge', 'edge day', 'edge day rout', 'election', 'election results', 'elections', 'emerging', 'emerging market', 'emerging market strains', 'emerging markets', 'end', 'end trade', 'end trade war', 'ends', 'entry', 'entry point', 'entry point aapl', 'equities', 'equities year', 'equities year low', 'equity', 'erase', 'escalate', 'escalate wto', 'escalate wto challenge', 'escalates', 'escalates reuters', 'escalating', 'ethanol', 'ethanol gasoline', 'ethanol gasoline ahead', 'eu', 'europe', 'europe escalate', 'europe escalate wto', 'europe stocks', 'europe stocks sharply', 'european', 'european shares', 'eurozone', 'ex', 'examiner', 'exclusive', 'exclusive asks', 'exclusive asks wto', 'exemptions', 'expectations', 'expected', 'experts', 'expo', 'export', 'exporters', 'exports', 'exports china', 'exports fall', 'exports fall time', 'exports seen', 'exports seen slowing', 'exports surge', 'exports surge creating', 'exports surging', 'extend', 'extend slump', 'extend slump global', 'extends', 'extends slide', 'extra', 'exxon', 'exxon mobil', 'exxon mobil bets', 'eyeing', 'eyeing relocation', 'eyes', 'face', 'faces', 'factories', 'factory', 'factory activity', 'factory activity slows', 'fades', 'fail', 'fails', 'fair', 'fall', 'fall percent', 'fall percent rising', 'fall time', 'fall time trade', 'falling', 'falls', 'falls lowest', 'family', 'faq', 'far', 'farm', 'farmers', 'farmers trade', 'farmers trade war', 'fast', 'fbi', 'fear', 'fears', 'fears dollar', 'fears dollar gains', 'fears drag', 'fears high', 'fears high yields', 'fears mount', 'fed', 'fed isn', 'fed isn crazy', 'federal', 'feel', 'fell', 'fell month', 'fight', 'finance', 'financial', 'financial crisis', 'financial crisis trade', 'firm', 'firm including', 'firm including voting', 'firms', 'firms china', 'firms china eyeing', 'fix', 'flat', 'fledged', 'fledged trade', 'fledged trade war', 'flirts', 'flirts correction', 'focus', 'forbes', 'forbes asia', 'forbes asia investment', 'ford', 'forecast', 'forecast citing', 'forecast citing trade', 'forecast global', 'forecasts', 'forecasts tariff', 'forecasts tariff war', 'foreign', 'foreign policy', 'fox', 'foxconn', 'free', 'fresh', 'fret', 'friction', 'friday', 'frost', 'frost thaws', 'frost thaws china', 'ftse', 'ftse falls', 'fuel', 'fuel trade', 'fuel trade war', 'future', 'futures', 'gain', 'gain overshadowed', 'gain overshadowed trade', 'gains', 'gains news', 'gains news trump', 'game', 'gap', 'gas', 'gasoline', 'gasoline ahead', 'gasoline ahead november', 'gauge', 'gdp', 'gdp growth', 'gdp growth seen', 'gdp growth set', 'georgia', 'gets', 'getting', 'getting worse', 'giant', 'giants', 'gives', 'giving', 'global', 'global economy', 'global financial', 'global financial crisis', 'global growth', 'global growth says', 'global markets', 'global protectionism', 'global protectionism pacific', 'global sentiment', 'global sentiment sours', 'global shares', 'global stock', 'global stock markets', 'global stocks', 'global stocks begin', 'global stocks slide', 'global trade', 'global trade war', 'gloom', 'going', 'gold', 'goldman', 'good', 'good news', 'goog', 'google', 'gop', 'government', 'grants', 'grants trademark', 'grants trademark approvals', 'great', 'ground', 'groundless', 'groundless attacks', 'groundless attacks trade', 'grows', 'growth', 'growth fears', 'growth fears dollar', 'growth fears high', 'growth forecast', 'growth forecast citing', 'growth forecasts', 'growth forecasts tariff', 'growth hits', 'growth outlook', 'growth says', 'growth seen', 'growth seen hitting', 'growth set', 'growth set hit', 'growth slowest', 'growth slows', 'growth weakest', 'growth weakest years', 'growth year', 'growth year imf', 'guest', 'guest tariffs', 'guest tariffs loom', 'haley', 'hard', 'head', 'head says', 'head says trade', 'headed', 'heads', 'headwinds', 'heartland', 'heats', 'help', 'help farmers', 'help farmers trade', 'helps', 'high', 'high yields', 'higher', 'higher ethanol', 'higher ethanol gasoline', 'higher tariffs', 'higher tariffs japanese', 'higher trade', 'higher trade deal', 'higher trade optimism', 'hike', 'hints', 'historic', 'hit', 'hit china', 'hit chinese', 'hit chinese growth', 'hit weakest', 'hit weakest amid', 'hits', 'hits month', 'hits month low', 'hits record', 'hits record adding', 'hits week', 'hitting', 'hitting lowest', 'hold', 'hold key', 'hold key talks', 'holds', 'home', 'hong', 'hong kong', 'hope', 'hope thaw', 'hope thaw trade', 'hopes', 'horizon', 'horizon china', 'horizon china airshow', 'house', 'huawei', 'huawei instead', 'humming', 'hurt', 'hurting', 'ice', 'idea', 'imf', 'imf cuts', 'imf cuts world', 'imf lowers', 'imf lowers china', 'imf pledges', 'imf pledges avoid', 'imf warns', 'immigration', 'impact', 'impact deepens', 'impact deepens asia', 'imperils', 'imperils growth', 'import', 'import expo', 'important', 'imported', 'imports', 'imports amid', 'imports amid trade', 'imports set', 'imports set biggest', 'improve', 'inches', 'inches stimulus', 'inches stimulus economy', 'including', 'including voting', 'including voting machines', 'increases', 'india', 'indonesia', 'indonesian', 'indonesian president', 'industrial', 'industrials', 'industrials add', 'industrials add dour', 'industry', 'inflation', 'influence', 'influence battle', 'inside', 'insider', 'instant', 'instant view', 'instant view share', 'instead', 'instruments', 'international', 'international business', 'international business times', 'international shipping', 'international trade', 'investment', 'investment briefing', 'investors', 'iowa', 'iphone', 'iphone china', 'iphone china russia', 'iphone suggests', 'iphone suggests huawei', 'iphone xs', 'iran', 'iran sanctions', 'iran sanctions china', 'isn', 'isn crazy', 'isn crazy trump', 'isn thing', 'isn thing slowing', 'issues', 'italy', 'ivanka', 'ivanka trump', 'ivanka trump firm', 'jab', 'jack', 'jack ma', 'jack ma says', 'japan', 'japan china', 'japan exports', 'japan exports fall', 'japan uk', 'japan uk eu', 'japanese', 'japanese cars', 'japanese cars likely', 'jinping', 'jobs', 'jobs data', 'jong', 'journal', 'jpmorgan', 'jump', 'jump america', 'jump america awaits', 'jumps', 'just', 'kavanaugh', 'kevin', 'key', 'key talks', 'kim', 'kim jong', 'kim sees', 'kim sees clear', 'know', 'know deal', 'kong', 'korea', 'kotok', 'ksat', 'ksat san', 'ksat san antonio', 'kudlow', 'land', 'largest', 'larry', 'latam', 'latam comments', 'latam comments amid', 'latest', 'latest china', 'launches', 'lead', 'leader', 'leaders', 'leadership', 'leave', 'legal', 'lessons', 'let', 'level', 'lift', 'lift ban', 'lift ban higher', 'lift confidence', 'lifted', 'lifted results', 'lifted results trade', 'like', 'likely', 'likely trade', 'likely trade war', 'limit', 'linger', 'links', 'liquidity', 'liquidity amid', 'liquidity amid trade', 'listening', 'listening report', 'little', 'live', 'll', 'lng', 'lng sidesteps', 'lng sidesteps trade', 'local', 'long', 'long trade', 'looks', 'looks dependent', 'looks dependent booming', 'loom', 'loom china', 'loom china biggest', 'looming', 'looming iran', 'looming iran sanctions', 'looms', 'lose', 'losers', 'losers trump', 'losers trump trade', 'loses', 'loses ground', 'losing', 'loss', 'losses', 'losses possible', 'losses possible trump', 'lot', 'lot china', 'lot china trade', 'low', 'lower', 'lower asia', 'lower asia sell', 'lowers', 'lowers china', 'lowers china growth', 'lowest', 'lowest rate', 'lpg', 'lpg imports', 'lpg imports amid', 'luxury', 'luxury stocks', 'lvmh', 'lvmh shares', 'ma', 'ma says', 'ma says china', 'machines', 'make', 'making', 'malaysia', 'malicious', 'malicious latam', 'malicious latam comments', 'manager', 'manipulator', 'manufacturers', 'manufacturers amid', 'manufacturers amid trade', 'manufacturers seriously', 'manufacturers seriously worried', 'manufacturing', 'market', 'market drop', 'market drop spreads', 'market extra', 'market investors', 'market strains', 'markets', 'markets wrap', 'materials', 'means', 'media', 'meet', 'meet washington', 'meeting', 'meets', 'metals', 'metals tariff', 'metals tariff retaliation', 'metals tariffs', 'michael', 'midterm', 'midterm election', 'midterm election results', 'midterms', 'midwest', 'mike', 'mike pompeo', 'military', 'milk', 'million', 'millions', 'millions jobs', 'minimum', 'minister', 'ministry', 'minutes', 'misses', 'mnuchin', 'mnuchin says', 'mobil', 'mobil bets', 'mobil bets big', 'mocks', 'model', 'monday', 'money', 'month', 'month low', 'months', 'months anxiety', 'months anxiety wisconsin', 'mood', 'motors', 'mount', 'mounting', 'mounting pressure', 'mounting pressure caused', 'moves', 'moves boost', 'moves boost liquidity', 'moves lift', 'moves lift confidence', 'moves negotiate', 'moves negotiate trade', 'mueller', 'mulls', 'nafta', 'nasdaq', 'nasdaq flirts', 'nasdaq flirts correction', 'national', 'navigate', 'near', 'nears', 'nears takeoff', 'need', 'need know', 'negative', 'negotiate', 'negotiate trade', 'negotiate trade deals', 'new', 'new cold', 'new cold war', 'new nafta', 'new york', 'new york times', 'news', 'news trump', 'news trump xi', 'news world', 'news world report', 'nikki', 'nikki haley', 'north', 'north korea', 'november', 'november elections', 'november stronger', 'november stronger lifted', 'nuclear', 'nuclear option', 'nutting', 'obama', 'october', 'october amid', 'october amid trade', 'official', 'officials', 'offset', 'oil', 'oil exports', 'oil prices', 'oil prices climb', 'oil prices fall', 'old', 'old postal', 'open', 'open higher', 'open higher trade', 'opening', 'opening bell', 'opens', 'opinion', 'opportunities', 'optimism', 'optimistic', 'option', 'orders', 'outlook', 'outlook dims', 'output', 'outside', 'outside box', 'overshadowed', 'overshadowed trade', 'overshadowed trade war', 'pace', 'pacific', 'pacific trade', 'pacific trade pact', 'pact', 'pact nears', 'pact nears takeoff', 'pain', 'panel', 'panel metals', 'panel metals tariff', 'pants', 'partner', 'peace', 'people', 'percent', 'percent rising', 'percent rising supply', 'personal', 'personal iphone', 'peter', 'philly', 'phone', 'phone chat', 'plan', 'planning', 'planning tariffs', 'plans', 'plans help', 'plans help farmers', 'play', 'play trade', 'pledges', 'pledges avoid', 'pledges avoid using', 'plummets', 'plunge', 'plunging', 'pm', 'pmi', 'podcast', 'point', 'point aapl', 'points', 'policy', 'policymakers', 'political', 'poll', 'poll reuters', 'pompeo', 'pompeo beijing', 'pompeo beijing visit', 'pompeo malicious', 'pompeo malicious latam', 'portfolio', 'posing', 'posing risk', 'possible', 'possible china', 'possible trump', 'possible trump xi', 'post', 'postal', 'postal treaty', 'postal union', 'pound', 'pound hits', 'pound hits week', 'poverty', 'power', 'powerful', 'powerful cocktail', 'powerful cocktail china', 'powerhouse', 'practices', 'pre', 'predicts', 'premier', 'premier says', 'premier says sino', 'prepare', 'president', 'president says', 'president trump', 'president trump trade', 'pressure', 'pressure caused', 'pressure caused trump', 'price', 'prices', 'prices climb', 'prices climb time', 'prices fall', 'prices fall percent', 'problem', 'producing', 'production', 'products', 'profit', 'profit bloomberg', 'profit gain', 'profit gain overshadowed', 'progress', 'promises', 'prospect', 'prospect trump', 'prospect trump xi', 'prospects', 'protectionism', 'protectionism pacific', 'protectionism pacific trade', 'pull', 'pulling', 'pumps', 'purchase', 'purchase tax', 'quarter', 'quarter gdp', 'quarter gdp growth', 'quarter profit', 'quarter profit bloomberg', 'quarterly', 'quicktake', 'rabobank', 'radio', 'raises', 'raises hope', 'raises hope thaw', 'rally', 'rate', 'rate hike', 'rates', 'ratings', 'rbc', 'rbc apple', 'rbc apple stock', 'reach', 'reach trade', 'reach trade deal', 'reads', 'ready', 'ready reach', 'ready reach trade', 'ready talks', 'ready talks sees', 'really', 'reap', 'reap big', 'reap big gains', 'reasons', 'rebound', 'rebounds', 'recession', 'record', 'record adding', 'record adding fuel', 'record billion', 'record high', 'record low', 'record surplus', 'record surplus despite', 'red', 'red october', 'reduce', 'reform', 'regulator', 'relations', 'relocation', 'remain', 'repeats', 'repeats threat', 'repeats threat tariffs', 'report', 'report seen', 'report spies', 'report spies trump', 'report treasury', 'report treasury yields', 'report trump', 'report trump xi', 'reportedly', 'reportedly planning', 'reportedly planning tariffs', 'reports', 'republicans', 'requirements', 'requirements trade', 'requirements trade war', 'reserve', 'reserve requirements', 'reserve requirements trade', 'results', 'results trade', 'results trade war', 'resume', 'retaliation', 'retreat', 'return', 'reuters', 'reuters poll', 'reuters poll reuters', 'revenue', 'revenue jumps', 'rex', 'rex nutting', 'right', 'rise', 'rises', 'rising', 'rising supply', 'rising supply trade', 'risk', 'risks', 'rivals', 'robot', 'room', 'rose', 'rout', 'row', 'rules', 'rules washington', 'rules washington post', 'run', 'rupee', 'russia', 'russia china', 'russia listening', 'russia listening report', 'russian', 'sail', 'sail taiwan', 'sail taiwan strait', 'sales', 'san', 'san antonio', 'sanctions', 'sanctions china', 'sanctions china trade', 'saudi', 'save', 'say', 'saying', 'says', 'says american', 'says beijing', 'says beijing doesn', 'says china', 'says china ready', 'says china trade', 'says communication', 'says communication amid', 'says lot', 'says lot china', 'says ready', 'says ready talks', 'says sino', 'says sino ties', 'says switch', 'says switch huawei', 'says trade', 'says trade tensions', 'says trade war', 'says trump', 'scrap', 'sea', 'season', 'sector', 'security', 'seek', 'seeks', 'seen', 'seen hitting', 'seen hitting lowest', 'seen slowing', 'seen slowing tariffs', 'sees', 'sees clear', 'sees clear economic', 'sees winners', 'sees winners trade', 'self', 'sell', 'selloff', 'sells', 'semiconductor', 'senator', 'send', 'senior', 'sent', 'sentiment', 'sentiment sours', 'sept', 'september', 'september exports', 'september exports seen', 'september exports surge', 'september trade', 'september trade surplus', 'seriously', 'seriously worried', 'seriously worried mounting', 'set', 'set biggest', 'set biggest drop', 'set fall', 'set hit', 'set hit weakest', 'set open', 'set open higher', 'set worst', 'shanghai', 'share', 'share tumble', 'share tumble continues', 'shares', 'shares bounce', 'shares bounce choppy', 'shares edge', 'shares edge day', 'shares extend', 'shares extend slump', 'shares fall', 'shares rally', 'shares reap', 'shares reap big', 'shares slide', 'shares slide china', 'shares slide powerful', 'sharp', 'sharply', 'sharply lower', 'sharply lower asia', 'shine', 'shipping', 'shock', 'shoppers', 'shopping', 'shot', 'shot china', 'shouldn', 'shows', 'sidesteps', 'sidesteps trade', 'sidesteps trade war', 'signals', 'signs', 'silicon', 'silicon valley', 'singapore', 'singles', 'sink', 'sinks', 'sino', 'sino ties', 'sino ties improve', 'slams', 'slams pompeo', 'slams pompeo malicious', 'slashes', 'slashes banks', 'slashes banks reserve', 'slashes lpg', 'slashes lpg imports', 'slashing', 'slide', 'slide china', 'slide china concerns', 'slide china growth', 'slide investors', 'slide nasdaq', 'slide powerful', 'slide powerful cocktail', 'slip', 'slowdown', 'slowdown trade', 'slowdown trade war', 'slowest', 'slowing', 'slowing china', 'slowing china economy', 'slowing tariffs', 'slowing tariffs bite', 'slows', 'slows october', 'slows october amid', 'slows trade', 'slows trade war', 'slump', 'slump global', 'slump global sentiment', 'slump treasuries', 'slump treasuries italy', 'slumps', 'small', 'snap', 'soar', 'soar trump', 'soaring', 'social', 'soon', 'sours', 'south', 'south china', 'south china sea', 'soybean', 'soybean farmers', 'soybean imports', 'soybean imports set', 'soybeans', 'speech', 'spending', 'spies', 'spies reportedly', 'spies trump', 'spies trump iphone', 'spoils', 'spotlight', 'spreads', 'spreads wall', 'spreads wall street', 'spy', 'spy claims', 'spy claims cloud', 'st', 'st extends', 'st extends slide', 'stabilize', 'stage', 'stalls', 'stamps', 'stamps com', 'stamps com stock', 'standard', 'start', 'started', 'starts', 'state', 'state media', 'states', 'steel', 'step', 'sticks', 'stimulus', 'stimulus economy', 'stimulus economy slows', 'stock', 'stock attractive', 'stock attractive entry', 'stock fell', 'stock just', 'stock market', 'stock market drop', 'stock market investors', 'stock markets', 'stocks', 'stocks begin', 'stocks begin november', 'stocks edge', 'stocks fall', 'stocks gain', 'stocks jump', 'stocks jump america', 'stocks sharply', 'stocks sharply lower', 'stocks slide', 'stocks slide investors', 'stocks tumble', 'stop', 'stop groundless', 'stop groundless attacks', 'strain', 'strains', 'strait', 'strait amid', 'street', 'street bounce', 'street bounce day', 'street journal', 'street set', 'street set fall', 'street set open', 'street tumbles', 'strong', 'stronger', 'stronger lifted', 'stronger lifted results', 'struggle', 'struggling', 'stupid', 'stupid thing', 'stupid thing world', 'suffers', 'suggests', 'suggests huawei', 'suggests huawei instead', 'summit', 'supply', 'supply trade', 'supply trade war', 'support', 'support economy', 'surface', 'surface pompeo', 'surface pompeo beijing', 'surge', 'surge creating', 'surge creating record', 'surging', 'surplus', 'surplus despite', 'surplus despite tariffs', 'surplus hits', 'surplus hits record', 'surplus widens', 'surplus widens record', 'survey', 'switch', 'switch huawei', 'taiwan', 'taiwan strait', 'taiwan strait amid', 'takeoff', 'takes', 'takes aim', 'taking', 'talk', 'talks', 'talks raises', 'talks raises hope', 'talks sees', 'talks sees winners', 'tapped', 'targets', 'tariff', 'tariff retaliation', 'tariff war', 'tariff war emerging', 'tariffs', 'tariffs bite', 'tariffs bite reuters', 'tariffs biting', 'tariffs biting quarter', 'tariffs china', 'tariffs hit', 'tariffs imported', 'tariffs japanese', 'tariffs japanese cars', 'tariffs loom', 'tariffs loom china', 'tariffs reuters', 'tariffs tax', 'tat', 'tata', 'tata motors', 'tax', 'tax cut', 'tax cuts', 'tech', 'tech giants', 'tech stocks', 'tensions', 'tensions surface', 'tensions surface pompeo', 'tensions worsen', 'tensions worsen poverty', 'tesla', 'tesla reportedly', 'texas', 'texas instruments', 'thanks', 'thanks trump', 'thaw', 'thaw trade', 'thaw trade war', 'thaws', 'thaws china', 'thaws china ties', 'thing', 'thing slowing', 'thing slowing china', 'thing world', 'things', 'things need', 'things need know', 'think', 'threat', 'threat tariffs', 'threatens', 'threats', 'ties', 'ties ahead', 'ties ahead meeting', 'ties improve', 'tim', 'tim cook', 'time', 'time days', 'time trade', 'time trade war', 'times', 'tit', 'tit tat', 'today', 'toll', 'tomorrow', 'tool', 'total', 'trade', 'trade china', 'trade deal', 'trade deal repeats', 'trade deals', 'trade deals japan', 'trade fair', 'trade fox', 'trade friction', 'trade gap', 'trade optimism', 'trade pact', 'trade pact nears', 'trade row', 'trade rules', 'trade rules washington', 'trade surplus', 'trade surplus widens', 'trade talks', 'trade tensions', 'trade tensions worsen', 'trade trade', 'trade trade war', 'trade war', 'trade war bbc', 'trade war benefits', 'trade war bites', 'trade war bringing', 'trade war caps', 'trade war causing', 'trade war china', 'trade war chinese', 'trade war concerns', 'trade war cost', 'trade war delong', 'trade war driving', 'trade war escalates', 'trade war fears', 'trade war getting', 'trade war heats', 'trade war hit', 'trade war hits', 'trade war hurt', 'trade war hurting', 'trade war impact', 'trade war imperils', 'trade war isn', 'trade war looms', 'trade war new', 'trade war nuclear', 'trade war posing', 'trade war progress', 'trade war says', 'trade war spy', 'trade war starts', 'trade war strain', 'trade war stupid', 'trade war takes', 'trade war tensions', 'trade war threatens', 'trade war tool', 'trade war uncertainty', 'trade war woes', 'trade war won', 'trade war worries', 'trade war yahoo', 'trade war yi', 'trade wars', 'trademark', 'trademark approvals', 'trademark approvals ivanka', 'trademarks', 'traders', 'treasuries', 'treasuries italy', 'treasury', 'treasury yields', 'treaty', 'trigger', 'trump', 'trump administration', 'trump administration plans', 'trump bloomberg', 'trump bolsonaro', 'trump bolsonaro bromance', 'trump cellphone', 'trump china', 'trump china xi', 'trump fed', 'trump firm', 'trump firm including', 'trump foreign', 'trump foreign policy', 'trump hints', 'trump iphone', 'trump iphone suggests', 'trump lift', 'trump lift ban', 'trump metals', 'trump metals tariffs', 'trump moves', 'trump predicts', 'trump reportedly', 'trump right', 'trump says', 'trump says china', 'trump says lot', 'trump tariffs', 'trump trade', 'trump trade war', 'trump uses', 'trump uses unsecured', 'trump waging', 'trump waging trade', 'trump xi', 'trump xi meet', 'trump xi phone', 'trump xi talks', 'try', 'trying', 'tsmc', 'tumble', 'tumble continues', 'tumble continues nasdaq', 'tumbles', 'turmoil', 'turns', 'uk', 'uk eu', 'uncertain', 'uncertain future', 'uncertainty', 'uncertainty china', 'union', 'unsecured', 'unsecured iphone', 'unsecured iphone china', 'unwelcome', 'unwelcome guest', 'unwelcome guest tariffs', 'ups', 'ups profit', 'ups profit gain', 'urges', 'usd', 'use', 'uses', 'uses unsecured', 'uses unsecured iphone', 'using', 'using currency', 'using currency trade', 'valley', 'vehicle', 'victim', 'vietnam', 'view', 'view china', 'view share', 'view share tumble', 'visit', 'vote', 'voting', 'voting machines', 'vows', 'wage', 'waging', 'waging trade', 'waging trade war', 'wait', 'wait deal', 'wait deal trump', 'waiting', 'wake', 'wall', 'wall st', 'wall st extends', 'wall street', 'wall street bounce', 'wall street journal', 'wall street set', 'wall street tumbles', 'want', 'wants', 'war', 'war bbc', 'war bbc news', 'war benefits', 'war bites', 'war bites growth', 'war bringing', 'war caps', 'war caps gains', 'war causing', 'war china', 'war china premier', 'war chinese', 'war chinese exports', 'war concerns', 'war cost', 'war cost china', 'war delong', 'war delong faq', 'war driving', 'war emerging', 'war emerging market', 'war escalates', 'war escalates reuters', 'war fears', 'war fears drag', 'war fears mount', 'war getting', 'war getting worse', 'war heats', 'war hit', 'war hit china', 'war hit chinese', 'war hits', 'war hurt', 'war hurting', 'war impact', 'war impact deepens', 'war imperils', 'war imperils growth', 'war india', 'war isn', 'war isn thing', 'war looms', 'war new', 'war nuclear', 'war posing', 'war posing risk', 'war progress', 'war says', 'war spy', 'war spy claims', 'war starts', 'war strain', 'war stupid', 'war stupid thing', 'war takes', 'war tensions', 'war tensions surface', 'war threatens', 'war tool', 'war uncertainty', 'war woes', 'war won', 'war worries', 'war worries remain', 'war worries shares', 'war yahoo', 'war yahoo news', 'war yi', 'war yi says', 'warn', 'warning', 'warning shot', 'warning shot china', 'warns', 'warns china', 'warns trade', 'warns trade war', 'wars', 'warships', 'warships sail', 'warships sail taiwan', 'wary', 'washington', 'washington examiner', 'washington post', 'watch', 'watching', 'ways', 'weak', 'weak industrials', 'weak industrials add', 'weakening', 'weakest', 'weakest amid', 'weakest amid trade', 'weakest years', 'weakness', 'weapon', 'wednesday', 'wednesday briefing', 'week', 'weekly', 'weigh', 'white', 'white house', 'widens', 'widens record', 'widens record billion', 'win', 'window', 'winner', 'winner china', 'winner china trade', 'winners', 'winners trade', 'winners trade war', 'winning', 'winningest', 'winningest losers', 'winningest losers trump', 'wins', 'wisconsin', 'wisconsin manufacturers', 'wisconsin manufacturers amid', 'woes', 'won', 'won save', 'words', 'world', 'world bank', 'world bank head', 'world bank kim', 'world economic', 'world economic growth', 'world economy', 'world economy looks', 'world equities', 'world equities year', 'world largest', 'world markets', 'world report', 'world shares', 'worldwide', 'worried', 'worried mounting', 'worried mounting pressure', 'worries', 'worries remain', 'worries shares', 'worries shares fall', 'worry', 'worse', 'worsen', 'worsen poverty', 'worst', 'worst hit', 'wrap', 'wrong', 'wto', 'wto challenge', 'wto challenge trump', 'wto panel', 'wto panel metals', 'xi', 'xi jinping', 'xi meet', 'xi meet washington', 'xi meeting', 'xi phone', 'xi phone chat', 'xi pledges', 'xi talks', 'xi talks raises', 'xs', 'yahoo', 'yahoo news', 'year', 'year imf', 'year imf warns', 'year low', 'year old', 'year old postal', 'years', 'years amid', 'yi', 'yi says', 'yield', 'yields', 'yoga', 'yoga pants', 'york', 'york times', 'yuan', 'yuan falls', 'zegna', '一張海報背後', '一張海報背後 藏著台灣單車王國', '一張海報背後 藏著台灣單車王國 年最大危機', '市值蒸發千億', '市值蒸發千億 一張海報背後', '市值蒸發千億 一張海報背後 藏著台灣單車王國', '年最大危機', '藏著台灣單車王國', '藏著台灣單車王國 年最大危機']\n"
     ]
    }
   ],
   "source": [
    "cv = CountVectorizer(stop_words='english',ngram_range=(1,3),min_df=2)\n",
    "\n",
    "cv.fit(clean_title)\n",
    "\n",
    "print(cv.get_feature_names())"
   ]
  },
  {
   "cell_type": "code",
   "execution_count": 97,
   "metadata": {
    "ExecuteTime": {
     "end_time": "2018-11-08T00:39:57.537389Z",
     "start_time": "2018-11-08T00:39:57.534006Z"
    }
   },
   "outputs": [],
   "source": [
    "from collections import defaultdict"
   ]
  },
  {
   "cell_type": "code",
   "execution_count": 111,
   "metadata": {
    "ExecuteTime": {
     "end_time": "2018-11-08T00:50:49.117391Z",
     "start_time": "2018-11-08T00:50:48.740941Z"
    }
   },
   "outputs": [
    {
     "name": "stdout",
     "output_type": "stream",
     "text": [
      "           trade war 353\n",
      "            trump 's 54\n",
      "            china 's 49\n",
      "      us-china trade 40\n",
      "            's trade 34\n",
      "         wall street 27\n",
      "             china ’ 23\n",
      "          amid trade 23\n",
      "             trump ’ 21\n",
      "          yahoo news 21\n",
      "    u.s.-china trade 18\n",
      "        donald trump 18\n",
      "           war china 17\n",
      "             ’ trade 17\n",
      "         china trade 16\n",
      "              war is 14\n",
      "            us trade 13\n",
      "     washington post 13\n",
      "          trade deal 12\n",
      "        stock market 12\n",
      "           the trade 12\n",
      "     economic growth 11\n",
      "             wall st 10\n",
      "         trump trade 10\n",
      "            us china 10\n",
      "          oil prices 10\n",
      "       global growth 9\n",
      "           war could 9\n",
      "             here 's 9\n",
      "      trade tensions 9\n"
     ]
    }
   ],
   "source": [
    "# Top bigrams in titles\n",
    "stop = stopwords.words('english')\n",
    "stop += ['.', ',', '(', ')', \"'\", '\"']\n",
    "stop = set(stop)\n",
    "\n",
    "counter = Counter()\n",
    "\n",
    "n = 2\n",
    "for title in df.title:\n",
    "    words = TextBlob(title).words\n",
    "    words = [w.lower() for w in words if w not in stop]\n",
    "    bigrams = ngrams(words, n)\n",
    "    counter += Counter(bigrams)\n",
    "\n",
    "for phrase, count in counter.most_common(30):\n",
    "    print('%20s %i' % (\" \".join(phrase), count))"
   ]
  },
  {
   "cell_type": "code",
   "execution_count": 114,
   "metadata": {
    "ExecuteTime": {
     "end_time": "2018-11-08T00:55:44.889925Z",
     "start_time": "2018-11-08T00:55:44.151923Z"
    }
   },
   "outputs": [
    {
     "name": "stdout",
     "output_type": "stream",
     "text": [
      "           trade war 384\n",
      "       united states 114\n",
      "        donald trump 103\n",
      "            china 's 99\n",
      "    president donald 68\n",
      "         wall street 49\n",
      "            trump 's 45\n",
      "      us-china trade 44\n",
      "           war china 41\n",
      "          yahoo news 39\n",
      "          xi jinping 37\n",
      "     economic growth 33\n",
      "             trump ’ 31\n",
      "          war united 31\n",
      "    escalating trade 30\n",
      "             china ’ 30\n",
      "     washington post 29\n",
      "trump administration 28\n",
      "      trade tensions 27\n",
      "            's trade 27\n",
      "    u.s.-china trade 26\n",
      "      interest rates 26\n",
      "            world 's 25\n",
      "            new york 24\n",
      "              war us 23\n",
      "international monetary 22\n",
      "       monetary fund 22\n",
      "     president trump 22\n",
      "        president xi 21\n",
      "       stock markets 19\n"
     ]
    }
   ],
   "source": [
    "# Top bigrams in descriptions\n",
    "stop = stopwords.words('english')\n",
    "stop += ['.', ',', '(', ')', \"'\", '\"']\n",
    "stop = set(stop)\n",
    "\n",
    "counter = Counter()\n",
    "\n",
    "n = 2\n",
    "for des in df.description:\n",
    "    words = TextBlob(des).words\n",
    "    words = [w.lower() for w in words if w not in stop]\n",
    "    bigrams = ngrams(words, n)\n",
    "    counter += Counter(bigrams)\n",
    "\n",
    "for phrase, count in counter.most_common(30):\n",
    "    print('%20s %i' % (\" \".join(phrase), count))"
   ]
  },
  {
   "cell_type": "code",
   "execution_count": 92,
   "metadata": {
    "ExecuteTime": {
     "end_time": "2018-11-08T00:36:20.344512Z",
     "start_time": "2018-11-08T00:36:20.102253Z"
    }
   },
   "outputs": [],
   "source": [
    "import matplotlib.pyplot as plt\n",
    "\n",
    "%matplotlib inline"
   ]
  },
  {
   "cell_type": "code",
   "execution_count": 109,
   "metadata": {
    "ExecuteTime": {
     "end_time": "2018-11-08T00:45:29.727218Z",
     "start_time": "2018-11-08T00:45:29.716701Z"
    }
   },
   "outputs": [
    {
     "ename": "TypeError",
     "evalue": "unhashable type: 'slice'",
     "output_type": "error",
     "traceback": [
      "\u001b[0;31m---------------------------------------------------------------------------\u001b[0m",
      "\u001b[0;31mTypeError\u001b[0m                                 Traceback (most recent call last)",
      "\u001b[0;32m<ipython-input-109-8fc280c9ae6d>\u001b[0m in \u001b[0;36m<module>\u001b[0;34m()\u001b[0m\n\u001b[0;32m----> 1\u001b[0;31m \u001b[0mplt\u001b[0m\u001b[0;34m.\u001b[0m\u001b[0mbar\u001b[0m\u001b[0;34m(\u001b[0m\u001b[0mphrase_count\u001b[0m\u001b[0;34m[\u001b[0m\u001b[0;36m10\u001b[0m\u001b[0;34m:\u001b[0m\u001b[0;36m20\u001b[0m\u001b[0;34m]\u001b[0m\u001b[0;34m.\u001b[0m\u001b[0mkeys\u001b[0m\u001b[0;34m(\u001b[0m\u001b[0;34m)\u001b[0m\u001b[0;34m,\u001b[0m\u001b[0mphrase_count\u001b[0m\u001b[0;34m[\u001b[0m\u001b[0;36m10\u001b[0m\u001b[0;34m:\u001b[0m\u001b[0;36m20\u001b[0m\u001b[0;34m]\u001b[0m\u001b[0;34m.\u001b[0m\u001b[0mvalues\u001b[0m\u001b[0;34m(\u001b[0m\u001b[0;34m)\u001b[0m\u001b[0;34m)\u001b[0m\u001b[0;34m\u001b[0m\u001b[0m\n\u001b[0m",
      "\u001b[0;31mTypeError\u001b[0m: unhashable type: 'slice'"
     ]
    }
   ],
   "source": [
    "plt.bar(phrase_count.keys(),phrase_count.values())"
   ]
  },
  {
   "cell_type": "code",
   "execution_count": 110,
   "metadata": {
    "ExecuteTime": {
     "end_time": "2018-11-08T00:46:23.507717Z",
     "start_time": "2018-11-08T00:46:23.484902Z"
    }
   },
   "outputs": [
    {
     "ename": "AttributeError",
     "evalue": "'list' object has no attribute 'words'",
     "output_type": "error",
     "traceback": [
      "\u001b[0;31m---------------------------------------------------------------------------\u001b[0m",
      "\u001b[0;31mAttributeError\u001b[0m                            Traceback (most recent call last)",
      "\u001b[0;32m<ipython-input-110-f4a929e06f48>\u001b[0m in \u001b[0;36m<module>\u001b[0;34m()\u001b[0m\n\u001b[0;32m----> 1\u001b[0;31m \u001b[0mwords_corpus\u001b[0m \u001b[0;34m=\u001b[0m \u001b[0mset\u001b[0m\u001b[0;34m(\u001b[0m\u001b[0mwords\u001b[0m\u001b[0;34m.\u001b[0m\u001b[0mwords\u001b[0m\u001b[0;34m(\u001b[0m\u001b[0;34m)\u001b[0m\u001b[0;34m)\u001b[0m\u001b[0;34m\u001b[0m\u001b[0m\n\u001b[0m\u001b[1;32m      2\u001b[0m \u001b[0manalyzer\u001b[0m \u001b[0;34m=\u001b[0m \u001b[0mCountVectorizer\u001b[0m\u001b[0;34m(\u001b[0m\u001b[0;34m)\u001b[0m\u001b[0;34m.\u001b[0m\u001b[0mbuild_analyzer\u001b[0m\u001b[0;34m(\u001b[0m\u001b[0;34m)\u001b[0m\u001b[0;34m\u001b[0m\u001b[0m\n\u001b[1;32m      3\u001b[0m \u001b[0;34m\u001b[0m\u001b[0m\n\u001b[1;32m      4\u001b[0m \u001b[0;32mdef\u001b[0m \u001b[0menglish_corpus\u001b[0m\u001b[0;34m(\u001b[0m\u001b[0mdoc\u001b[0m\u001b[0;34m)\u001b[0m\u001b[0;34m:\u001b[0m\u001b[0;34m\u001b[0m\u001b[0m\n\u001b[1;32m      5\u001b[0m     \u001b[0;32mreturn\u001b[0m \u001b[0;34m[\u001b[0m\u001b[0mw\u001b[0m \u001b[0;32mfor\u001b[0m \u001b[0mw\u001b[0m \u001b[0;32min\u001b[0m \u001b[0manalyzer\u001b[0m\u001b[0;34m(\u001b[0m\u001b[0mdoc\u001b[0m\u001b[0;34m)\u001b[0m \u001b[0;32mif\u001b[0m \u001b[0mw\u001b[0m \u001b[0;32min\u001b[0m \u001b[0mwords_corpus\u001b[0m\u001b[0;34m]\u001b[0m\u001b[0;34m\u001b[0m\u001b[0m\n",
      "\u001b[0;31mAttributeError\u001b[0m: 'list' object has no attribute 'words'"
     ]
    }
   ],
   "source": [
    "words_corpus = set(words.words())\n",
    "analyzer = CountVectorizer().build_analyzer()\n",
    "\n",
    "def english_corpus(doc):\n",
    "    return [w for w in analyzer(doc) if w in words_corpus]\n",
    "\n",
    "cv = CountVectorizer(stop_words='english', analyzer=english_corpus, min_df = 2, max_df = .95, ngram_range=(1, 2),\n",
    "                     strip_accents='unicode', encoding='utf-8')"
   ]
  },
  {
   "cell_type": "code",
   "execution_count": null,
   "metadata": {},
   "outputs": [],
   "source": []
  }
 ],
 "metadata": {
  "kernelspec": {
   "display_name": "Python 3",
   "language": "python",
   "name": "python3"
  },
  "language_info": {
   "codemirror_mode": {
    "name": "ipython",
    "version": 3
   },
   "file_extension": ".py",
   "mimetype": "text/x-python",
   "name": "python",
   "nbconvert_exporter": "python",
   "pygments_lexer": "ipython3",
   "version": "3.6.5"
  }
 },
 "nbformat": 4,
 "nbformat_minor": 2
}
