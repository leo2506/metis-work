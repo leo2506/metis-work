{
 "cells": [
  {
   "cell_type": "markdown",
   "metadata": {},
   "source": [
    "### Use newsapi to collect all pieces of news about trade war and store them in jsons"
   ]
  },
  {
   "cell_type": "code",
   "execution_count": 1,
   "metadata": {
    "ExecuteTime": {
     "end_time": "2018-11-11T06:19:21.178741Z",
     "start_time": "2018-11-11T06:19:20.264785Z"
    }
   },
   "outputs": [],
   "source": [
    "import requests\n",
    "\n",
    "import pandas as pd\n",
    "import numpy as np\n",
    "import pprint\n",
    "import matplotlib.pyplot as plt\n",
    "\n",
    "pd.set_option('max_colwidth',10000)\n",
    "\n",
    "%matplotlib inline"
   ]
  },
  {
   "cell_type": "code",
   "execution_count": null,
   "metadata": {
    "ExecuteTime": {
     "end_time": "2018-11-08T21:22:21.488570Z",
     "start_time": "2018-11-08T21:22:21.484147Z"
    }
   },
   "outputs": [],
   "source": [
    "# A function specifies search conditions and generates an API url\n",
    "def generate_url(page,start,end):\n",
    "    url = ('https://newsapi.org/v2/everything?'\n",
    "       'q=\"trade war\"&'\n",
    "       'sources=[\"the-new-york-times\",\"cnn\",\"xinhua-net\"]&'\n",
    "       f'from={start}&'\n",
    "       f'to={end}&'\n",
    "       'sortBy=relevancy&'\n",
    "       'pageSize=100&'\n",
    "       f'page={page}&'\n",
    "       'apiKey=fc8921bcf53e482ba461714a254c0d7c'\n",
    "       )\n",
    "    return url"
   ]
  },
  {
   "cell_type": "code",
   "execution_count": null,
   "metadata": {
    "ExecuteTime": {
     "end_time": "2018-11-08T21:27:18.489383Z",
     "start_time": "2018-11-08T21:27:18.483178Z"
    }
   },
   "outputs": [],
   "source": [
    "# A function takes in start and end dates of a time period,\n",
    "# and first searchs for articles within that period \n",
    "# based on the condition specified in the API url,\n",
    "# then writes the first 1000 articles of the searching result\n",
    "# into a csv file.\n",
    "def write_result(start,end):\n",
    "    \n",
    "    # Collect information about each article returned by the search\n",
    "    # Store the information in a list of jsons\n",
    "    result = []\n",
    "    for i in range(1,11):\n",
    "        response = requests.get(generate_url(i,start,end))\n",
    "        result.extend(response.json()['articles'])       \n",
    "\n",
    "    # Transport critical information of the article to a list of dictionaries\n",
    "    col = ['title','description','content','url','publishedAt']\n",
    "    df_dict = []\n",
    "    for article in result:\n",
    "        temp = {}\n",
    "        for c in col:\n",
    "            try: \n",
    "                temp[c] = article[c]\n",
    "            except:\n",
    "                temp[c] = np.nan\n",
    "        temp['source'] = article['source']['name']\n",
    "        df_dict.append(temp)\n",
    "    \n",
    "    # Convert the list of dicts into a pandas DataFrame\n",
    "    df = pd.DataFrame(df_dict,columns=col.append('source'))\n",
    "    \n",
    "    # Write the DataFrame into a csv file\n",
    "    st = ''.join(start.split('-')[1:])\n",
    "    en = ''.join(end.split('-')[1:])\n",
    "    df.to_csv(f'data/article_info({st}-{en}).csv')\n",
    "    \n",
    "    return df"
   ]
  },
  {
   "cell_type": "code",
   "execution_count": null,
   "metadata": {
    "ExecuteTime": {
     "end_time": "2018-11-08T21:33:48.337592Z",
     "start_time": "2018-11-08T21:32:43.964593Z"
    }
   },
   "outputs": [],
   "source": [
    "df1 = write_result('2018-11-04','2018-11-08')\n",
    "df2 = write_result('2018-10-30','2018-11-03')\n",
    "df3 = write_result('2018-10-25','2018-10-29')\n",
    "df4 = write_result('2018-10-20','2018-10-24')\n",
    "df5 = write_result('2018-10-15','2018-10-19')\n",
    "df6 = write_result('2018-10-10','2018-10-14')"
   ]
  },
  {
   "cell_type": "code",
   "execution_count": null,
   "metadata": {
    "ExecuteTime": {
     "end_time": "2018-11-08T21:47:54.289114Z",
     "start_time": "2018-11-08T21:47:54.277693Z"
    }
   },
   "outputs": [],
   "source": [
    "df_list = [df1,df2,df3,df4,df5,df6]\n",
    "df=pd.concat(df_list,ignore_index=True)"
   ]
  },
  {
   "cell_type": "code",
   "execution_count": null,
   "metadata": {
    "ExecuteTime": {
     "end_time": "2018-11-08T21:48:02.104326Z",
     "start_time": "2018-11-08T21:48:02.100012Z"
    }
   },
   "outputs": [],
   "source": [
    "df.shape"
   ]
  },
  {
   "cell_type": "code",
   "execution_count": null,
   "metadata": {
    "ExecuteTime": {
     "end_time": "2018-11-08T21:50:10.129934Z",
     "start_time": "2018-11-08T21:50:10.118801Z"
    }
   },
   "outputs": [],
   "source": [
    "df.head()"
   ]
  },
  {
   "cell_type": "code",
   "execution_count": null,
   "metadata": {
    "ExecuteTime": {
     "end_time": "2018-11-08T21:52:40.427933Z",
     "start_time": "2018-11-08T21:52:40.419040Z"
    }
   },
   "outputs": [],
   "source": [
    "df.fillna('',inplace=True)"
   ]
  },
  {
   "cell_type": "code",
   "execution_count": null,
   "metadata": {
    "ExecuteTime": {
     "end_time": "2018-11-09T00:41:00.652551Z",
     "start_time": "2018-11-09T00:41:00.611291Z"
    }
   },
   "outputs": [],
   "source": [
    "df.isnull().sum()"
   ]
  },
  {
   "cell_type": "code",
   "execution_count": null,
   "metadata": {
    "ExecuteTime": {
     "end_time": "2018-11-08T21:53:40.416569Z",
     "start_time": "2018-11-08T21:53:40.309016Z"
    }
   },
   "outputs": [],
   "source": [
    "df.to_csv('data/article_info_6000.csv')"
   ]
  },
  {
   "cell_type": "markdown",
   "metadata": {},
   "source": [
    "### Word Preprocessing and Vectorizing"
   ]
  },
  {
   "cell_type": "code",
   "execution_count": 1,
   "metadata": {
    "ExecuteTime": {
     "end_time": "2018-11-11T08:30:51.273862Z",
     "start_time": "2018-11-11T08:30:50.230368Z"
    }
   },
   "outputs": [],
   "source": [
    "import requests\n",
    "\n",
    "import pandas as pd\n",
    "import numpy as np\n",
    "import pprint\n",
    "import matplotlib.pyplot as plt\n",
    "\n",
    "pd.set_option('max_colwidth',10000)\n",
    "\n",
    "%matplotlib inline"
   ]
  },
  {
   "cell_type": "code",
   "execution_count": 2,
   "metadata": {
    "ExecuteTime": {
     "end_time": "2018-11-11T08:30:51.382481Z",
     "start_time": "2018-11-11T08:30:51.276173Z"
    }
   },
   "outputs": [],
   "source": [
    "df = pd.read_csv('data/article_info_6000.csv')"
   ]
  },
  {
   "cell_type": "code",
   "execution_count": 3,
   "metadata": {
    "ExecuteTime": {
     "end_time": "2018-11-11T08:30:52.369809Z",
     "start_time": "2018-11-11T08:30:51.384614Z"
    }
   },
   "outputs": [],
   "source": [
    "import nltk\n",
    "from nltk.util import ngrams\n",
    "\n",
    "from textblob import TextBlob\n",
    "\n",
    "from collections import Counter\n",
    "from operator import itemgetter\n",
    "\n",
    "from nltk.corpus import stopwords"
   ]
  },
  {
   "cell_type": "code",
   "execution_count": 4,
   "metadata": {
    "ExecuteTime": {
     "end_time": "2018-11-11T08:30:52.376516Z",
     "start_time": "2018-11-11T08:30:52.373786Z"
    }
   },
   "outputs": [],
   "source": [
    "from sklearn.feature_extraction.text import CountVectorizer\n",
    "from sklearn.feature_extraction.text import TfidfVectorizer"
   ]
  },
  {
   "cell_type": "code",
   "execution_count": 5,
   "metadata": {
    "ExecuteTime": {
     "end_time": "2018-11-11T08:30:52.386467Z",
     "start_time": "2018-11-11T08:30:52.383661Z"
    }
   },
   "outputs": [],
   "source": [
    "import re\n",
    "import string"
   ]
  },
  {
   "cell_type": "markdown",
   "metadata": {
    "ExecuteTime": {
     "end_time": "2018-11-08T22:00:25.516475Z",
     "start_time": "2018-11-08T22:00:25.513682Z"
    }
   },
   "source": [
    "#### Documents Cleanup"
   ]
  },
  {
   "cell_type": "code",
   "execution_count": 6,
   "metadata": {
    "ExecuteTime": {
     "end_time": "2018-11-11T08:30:52.406629Z",
     "start_time": "2018-11-11T08:30:52.397110Z"
    }
   },
   "outputs": [],
   "source": [
    "def cleanup_doc(doc):\n",
    "    # Replace punctuations with a white space\n",
    "    doc = re.sub('[%s]' % re.escape(string.punctuation), ' ', doc)\n",
    "    # Remove all words containing digits\n",
    "    doc = re.sub('\\w*\\d\\w*', ' ', doc)\n",
    "    # Keep US as a special term\n",
    "    doc = re.sub('U.S.', 'US', doc)\n",
    "    # Change all words into lowercases\n",
    "    doc = doc.lower()\n",
    "    # Remove all non English characters\n",
    "    doc = ' '.join(w for w in nltk.word_tokenize(doc) if w.isalpha())\n",
    "    # Remove stopwords\n",
    "    stop = stopwords.words('english')\n",
    "    stop = set(stop)\n",
    "    doc = ' '.join(w for w in nltk.word_tokenize(doc) if w not in stop)\n",
    "    \n",
    "    return doc"
   ]
  },
  {
   "cell_type": "code",
   "execution_count": 7,
   "metadata": {
    "ExecuteTime": {
     "end_time": "2018-11-11T08:30:52.418902Z",
     "start_time": "2018-11-11T08:30:52.409082Z"
    }
   },
   "outputs": [],
   "source": [
    "def super_clean(collection):\n",
    "    clean = []\n",
    "    for c in collection:\n",
    "        clean.append(cleanup_doc(c))\n",
    "    return clean"
   ]
  },
  {
   "cell_type": "code",
   "execution_count": 8,
   "metadata": {
    "ExecuteTime": {
     "end_time": "2018-11-11T08:30:52.676849Z",
     "start_time": "2018-11-11T08:30:52.421605Z"
    }
   },
   "outputs": [],
   "source": [
    "content = df.title+' '+df.description"
   ]
  },
  {
   "cell_type": "code",
   "execution_count": 9,
   "metadata": {
    "ExecuteTime": {
     "end_time": "2018-11-11T08:30:52.690714Z",
     "start_time": "2018-11-11T08:30:52.680190Z"
    }
   },
   "outputs": [],
   "source": [
    "content.dropna(inplace=True)"
   ]
  },
  {
   "cell_type": "code",
   "execution_count": 10,
   "metadata": {
    "ExecuteTime": {
     "end_time": "2018-11-11T08:31:00.937629Z",
     "start_time": "2018-11-11T08:30:52.693368Z"
    }
   },
   "outputs": [],
   "source": [
    "content = super_clean(content)"
   ]
  },
  {
   "cell_type": "code",
   "execution_count": 11,
   "metadata": {
    "ExecuteTime": {
     "end_time": "2018-11-11T08:31:00.947513Z",
     "start_time": "2018-11-11T08:31:00.940216Z"
    }
   },
   "outputs": [],
   "source": [
    "def find_top_bigrams(collection, num):\n",
    "    counter = Counter()\n",
    "\n",
    "    n = 2\n",
    "    for c in collection:\n",
    "        words = TextBlob(c).words\n",
    "        bigrams = ngrams(words, n)\n",
    "        counter += Counter(bigrams)\n",
    "\n",
    "    res = []\n",
    "    for phrase, count in counter.most_common(num):\n",
    "        res_tuple = (\" \".join(phrase), count)\n",
    "        res.append(res_tuple)\n",
    "    \n",
    "    return res"
   ]
  },
  {
   "cell_type": "code",
   "execution_count": 12,
   "metadata": {
    "ExecuteTime": {
     "end_time": "2018-11-11T08:31:53.205574Z",
     "start_time": "2018-11-11T08:31:00.949683Z"
    }
   },
   "outputs": [],
   "source": [
    "top30 = set(find_top_bigrams(content, 30))\n",
    "top60 = set(find_top_bigrams(content, 60))\n",
    "top90 = set(find_top_bigrams(content, 90))"
   ]
  },
  {
   "cell_type": "code",
   "execution_count": 13,
   "metadata": {
    "ExecuteTime": {
     "end_time": "2018-11-11T08:31:53.218574Z",
     "start_time": "2018-11-11T08:31:53.207757Z"
    }
   },
   "outputs": [
    {
     "data": {
      "text/plain": [
       "[('us treasury', 83),\n",
       " ('first time', 83),\n",
       " ('states china', 91),\n",
       " ('sino us', 90),\n",
       " ('trade deal', 75),\n",
       " ('us stocks', 106),\n",
       " ('global financial', 71),\n",
       " ('central bank', 90),\n",
       " ('trump xi', 93),\n",
       " ('per cent', 105),\n",
       " ('last week', 75),\n",
       " ('yahoo news', 96),\n",
       " ('china us', 109),\n",
       " ('reuters china', 74),\n",
       " ('emerging markets', 71),\n",
       " ('federal reserve', 79),\n",
       " ('amid trade', 87),\n",
       " ('war fears', 71),\n",
       " ('global stocks', 84),\n",
       " ('gold prices', 74),\n",
       " ('global growth', 87),\n",
       " ('china economy', 85),\n",
       " ('tech stocks', 75),\n",
       " ('financial crisis', 100),\n",
       " ('saudi arabia', 103),\n",
       " ('asian stocks', 89),\n",
       " ('appeared first', 84),\n",
       " ('escalating trade', 96),\n",
       " ('us dollar', 80),\n",
       " ('global trade', 71)]"
      ]
     },
     "execution_count": 13,
     "metadata": {},
     "output_type": "execute_result"
    }
   ],
   "source": [
    "list(top60.difference(top30))"
   ]
  },
  {
   "cell_type": "code",
   "execution_count": 14,
   "metadata": {
    "ExecuteTime": {
     "end_time": "2018-11-11T08:31:53.228778Z",
     "start_time": "2018-11-11T08:31:53.220698Z"
    }
   },
   "outputs": [
    {
     "data": {
      "text/plain": [
       "[('trade wars', 59),\n",
       " ('next month', 69),\n",
       " ('last month', 51),\n",
       " ('china united', 60),\n",
       " ('us tariffs', 70),\n",
       " ('iran sanctions', 53),\n",
       " ('month low', 59),\n",
       " ('gdp growth', 57),\n",
       " ('nov reuters', 52),\n",
       " ('us stock', 70),\n",
       " ('next year', 68),\n",
       " ('year low', 51),\n",
       " ('chinese president', 68),\n",
       " ('china says', 58),\n",
       " ('free trade', 52),\n",
       " ('global economy', 56),\n",
       " ('china economic', 67),\n",
       " ('dow jones', 62),\n",
       " ('us economy', 68),\n",
       " ('york times', 60),\n",
       " ('need know', 64),\n",
       " ('us midterm', 68),\n",
       " ('trump tariffs', 60),\n",
       " ('growth slows', 50),\n",
       " ('trade talks', 54),\n",
       " ('us sanctions', 53),\n",
       " ('wall st', 67),\n",
       " ('shinzo abe', 55),\n",
       " ('washington post', 70),\n",
       " ('prime minister', 59)]"
      ]
     },
     "execution_count": 14,
     "metadata": {},
     "output_type": "execute_result"
    }
   ],
   "source": [
    "list(top90.difference(top60))"
   ]
  },
  {
   "cell_type": "code",
   "execution_count": 15,
   "metadata": {
    "ExecuteTime": {
     "end_time": "2018-11-11T08:31:53.235958Z",
     "start_time": "2018-11-11T08:31:53.231089Z"
    }
   },
   "outputs": [],
   "source": [
    "def fit_stuff(doc,cv,ngram,max_df,min_df):\n",
    "    cv.ngram_range=(1,ngram)\n",
    "    cv.max_df = max_df\n",
    "    cv.min_df = min_df\n",
    "    x = cv.fit_transform(doc).toarray()\n",
    "    x = pd.DataFrame(x, columns=cv.get_feature_names())\n",
    "    return x"
   ]
  },
  {
   "cell_type": "code",
   "execution_count": 16,
   "metadata": {
    "ExecuteTime": {
     "end_time": "2018-11-11T08:31:54.019551Z",
     "start_time": "2018-11-11T08:31:53.237948Z"
    }
   },
   "outputs": [
    {
     "data": {
      "text/plain": [
       "(5916, 26902)"
      ]
     },
     "execution_count": 16,
     "metadata": {},
     "output_type": "execute_result"
    }
   ],
   "source": [
    "X_tfidf = fit_stuff(content,TfidfVectorizer(),2,0.2,2)\n",
    "X_tfidf.shape"
   ]
  },
  {
   "cell_type": "code",
   "execution_count": 17,
   "metadata": {
    "ExecuteTime": {
     "end_time": "2018-11-11T08:31:54.711459Z",
     "start_time": "2018-11-11T08:31:54.021515Z"
    }
   },
   "outputs": [
    {
     "data": {
      "text/plain": [
       "(5916, 26902)"
      ]
     },
     "execution_count": 17,
     "metadata": {},
     "output_type": "execute_result"
    }
   ],
   "source": [
    "X_cv = fit_stuff(content,CountVectorizer(),2,0.2,2)\n",
    "X_cv.shape"
   ]
  },
  {
   "cell_type": "code",
   "execution_count": 18,
   "metadata": {
    "ExecuteTime": {
     "end_time": "2018-11-11T08:31:54.717150Z",
     "start_time": "2018-11-11T08:31:54.714212Z"
    }
   },
   "outputs": [],
   "source": [
    "from sklearn.model_selection import train_test_split"
   ]
  },
  {
   "cell_type": "code",
   "execution_count": 19,
   "metadata": {
    "ExecuteTime": {
     "end_time": "2018-11-11T08:31:55.950645Z",
     "start_time": "2018-11-11T08:31:54.719010Z"
    }
   },
   "outputs": [],
   "source": [
    "X_train_cv, X_test_cv = train_test_split(X_cv, test_size=0.3, random_state=42)"
   ]
  },
  {
   "cell_type": "code",
   "execution_count": 20,
   "metadata": {
    "ExecuteTime": {
     "end_time": "2018-11-11T08:31:57.709144Z",
     "start_time": "2018-11-11T08:31:55.952833Z"
    }
   },
   "outputs": [],
   "source": [
    "X_train_tfidf, X_test_tfidf = train_test_split(X_tfidf, test_size=0.3, random_state=42)"
   ]
  },
  {
   "cell_type": "code",
   "execution_count": 21,
   "metadata": {
    "ExecuteTime": {
     "end_time": "2018-11-11T08:31:57.728134Z",
     "start_time": "2018-11-11T08:31:57.723255Z"
    }
   },
   "outputs": [
    {
     "name": "stdout",
     "output_type": "stream",
     "text": [
      "(4141, 26902) (1775, 26902)\n"
     ]
    }
   ],
   "source": [
    "print(X_train_tfidf.shape,X_test_tfidf.shape)"
   ]
  },
  {
   "cell_type": "code",
   "execution_count": 22,
   "metadata": {
    "ExecuteTime": {
     "end_time": "2018-11-11T08:32:01.947100Z",
     "start_time": "2018-11-11T08:31:57.733923Z"
    }
   },
   "outputs": [
    {
     "data": {
      "text/plain": [
       "array(['trump', 'global', 'chinese', 'stocks', 'market', 'markets',\n",
       "       'president', 'growth', 'us china', 'world', 'new', 'china trade',\n",
       "       'economic', 'reuters', 'year', 'tariffs', 'economy', 'stock',\n",
       "       'donald', 'donald trump', 'beijing', 'oil', 'wall', 'united',\n",
       "       'investors', 'said', 'states', 'could', 'prices', 'says',\n",
       "       'united states', 'shares', 'week', 'amid', 'month', 'street', 'xi',\n",
       "       'wall street', 'since', 'news', 'asian', 'percent', 'two', 'asia',\n",
       "       'first', 'president donald', 'thursday', 'dollar', 'earnings',\n",
       "       'monday', 'friday', 'quarter', 'tuesday', 'tensions', 'business',\n",
       "       'washington', 'day', 'third', 'higher', 'next', 'may', 'report',\n",
       "       'wednesday', 'concerns', 'gold', 'october', 'top', 'last', 'tech',\n",
       "       'bank', 'oct', 'years', 'billion', 'time', 'high', 'one',\n",
       "       'financial', 'rising', 'companies', 'post', 'hit', 'september',\n",
       "       'fears', 'back', 'japan', 'oil prices', 'sales', 'fell', 'demand',\n",
       "       'fall', 'expected', 'xi jinping', 'jinping', 'deal', 'elections',\n",
       "       'third quarter', 'trump trade', 'american', 'biggest', 'gains'], dtype=object)"
      ]
     },
     "execution_count": 22,
     "metadata": {},
     "output_type": "execute_result"
    }
   ],
   "source": [
    "vocab = np.array(X_cv.columns)\n",
    "counts = np.array(X_cv.sum(0))[0:,]\n",
    "vocab[np.argsort(-counts)[:100]]"
   ]
  },
  {
   "cell_type": "code",
   "execution_count": 23,
   "metadata": {
    "ExecuteTime": {
     "end_time": "2018-11-11T08:32:02.100356Z",
     "start_time": "2018-11-11T08:32:01.959964Z"
    }
   },
   "outputs": [
    {
     "data": {
      "text/plain": [
       "array([8, 4, 4, ..., 2, 2, 2])"
      ]
     },
     "execution_count": 23,
     "metadata": {},
     "output_type": "execute_result"
    }
   ],
   "source": [
    "counts"
   ]
  },
  {
   "cell_type": "code",
   "execution_count": 24,
   "metadata": {
    "ExecuteTime": {
     "end_time": "2018-11-11T08:32:02.115297Z",
     "start_time": "2018-11-11T08:32:02.102828Z"
    }
   },
   "outputs": [],
   "source": [
    "from collections import Counter\n",
    "\n",
    "countfreq = np.array(Counter(counts).most_common()).T"
   ]
  },
  {
   "cell_type": "code",
   "execution_count": 25,
   "metadata": {
    "ExecuteTime": {
     "end_time": "2018-11-11T08:32:02.125206Z",
     "start_time": "2018-11-11T08:32:02.117985Z"
    }
   },
   "outputs": [
    {
     "data": {
      "text/plain": [
       "array([[    2,     3,     4,     5,     6,     7,     8,     9,    10,\n",
       "           11,    12,    13,    15,    14,    18,    16,    19,    17,\n",
       "           20,    21,    22,    24,    23,    27,    26,    28,    25,\n",
       "           31,    29,    30,    33,    32,    36,    35,    39,    37,\n",
       "           40,    38,    45,    34,    41,    47,    44,    51,    46,\n",
       "           50,    55,    58,    42,    43,    54,    48,    74,    69,\n",
       "           68,    49,    60,    57,    76,    70,    52,    73,    63,\n",
       "           67,    61,    89,    64,    71,    56,    62,   105,    59,\n",
       "           66,    83,    53,    97,    72,    75,    65,    87,   121,\n",
       "          111,   103,    77,    79,    82,   125,   104,    98,    92,\n",
       "          106,   138,   141,   108,    94,    90,   100,   112,   117,\n",
       "          129,   161,   122,    78,   107,    88,    91,    84,   185,\n",
       "          157,   109,   167,    95,   187,   228,   133,   150,   126,\n",
       "          131,    96,   256,    86,    80,   186,   154,   195,   220,\n",
       "          116,   414,   218,   258,   152,   123,    85,   254,    99,\n",
       "          132,   101,   192,   113,   233,   354,   599,   212,    93,\n",
       "          119,   115,   249,   151,   149,    81,   177,   184,   501,\n",
       "          137,   156,   213,   143,   102,   114,   153,   160,   148,\n",
       "          110,   474,   307,   208,   146,   470,   383,   241,   263,\n",
       "          532,   305,   139,   614,  1039,   277,   499,   164,   176,\n",
       "          302,   552,   542,   347,   577,   222,   201,   135,   229,\n",
       "          204,   231,   245,   255,   363,   323,   142,  1111,   276,\n",
       "          127,   196,   735,   299,   158,   193,   168,   169,   240,\n",
       "          182,   198,   266,   165,   136,   155,   831,   811,   285,\n",
       "          190,   324,   452,   616,   291,   259,   269,   529,   238,\n",
       "          179,   404,   180,   210,   251,   799,   361,   134,   491,\n",
       "          124,   314,   283,   140,   236,   478,   214,   432,   197,\n",
       "          500,   555,   130,   979,   450,   173,   585,   170,   265,\n",
       "          300,   221,   144,   120,   267,   147,  1811,   402,   507,\n",
       "          476,   702,   511,   435,   304,   279,   652,   203,   215,\n",
       "          446,   592],\n",
       "       [10623,  4704,  2918,  1745,  1160,   811,   664,   485,   409,\n",
       "          271,   263,   204,   189,   165,   121,   120,   109,   101,\n",
       "           93,    82,    77,    71,    69,    66,    59,    52,    52,\n",
       "           46,    44,    43,    41,    38,    34,    29,    28,    27,\n",
       "           27,    26,    25,    22,    20,    18,    17,    15,    15,\n",
       "           15,    15,    15,    15,    15,    13,    13,    13,    13,\n",
       "           12,    12,    12,    11,    11,    11,    11,     9,     9,\n",
       "            9,     9,     8,     8,     8,     8,     8,     7,     7,\n",
       "            7,     7,     7,     7,     7,     6,     6,     5,     5,\n",
       "            5,     5,     5,     5,     5,     5,     5,     5,     5,\n",
       "            5,     4,     4,     4,     4,     4,     4,     4,     4,\n",
       "            4,     4,     4,     4,     4,     3,     3,     3,     3,\n",
       "            3,     3,     3,     3,     3,     3,     3,     3,     3,\n",
       "            3,     3,     3,     3,     3,     3,     2,     2,     2,\n",
       "            2,     2,     2,     2,     2,     2,     2,     2,     2,\n",
       "            2,     2,     2,     2,     2,     2,     2,     2,     2,\n",
       "            2,     2,     2,     2,     2,     2,     2,     2,     2,\n",
       "            2,     2,     2,     2,     2,     2,     2,     2,     2,\n",
       "            2,     2,     2,     1,     1,     1,     1,     1,     1,\n",
       "            1,     1,     1,     1,     1,     1,     1,     1,     1,\n",
       "            1,     1,     1,     1,     1,     1,     1,     1,     1,\n",
       "            1,     1,     1,     1,     1,     1,     1,     1,     1,\n",
       "            1,     1,     1,     1,     1,     1,     1,     1,     1,\n",
       "            1,     1,     1,     1,     1,     1,     1,     1,     1,\n",
       "            1,     1,     1,     1,     1,     1,     1,     1,     1,\n",
       "            1,     1,     1,     1,     1,     1,     1,     1,     1,\n",
       "            1,     1,     1,     1,     1,     1,     1,     1,     1,\n",
       "            1,     1,     1,     1,     1,     1,     1,     1,     1,\n",
       "            1,     1,     1,     1,     1,     1,     1,     1,     1,\n",
       "            1,     1,     1,     1,     1,     1,     1,     1,     1,\n",
       "            1,     1]])"
      ]
     },
     "execution_count": 25,
     "metadata": {},
     "output_type": "execute_result"
    }
   ],
   "source": [
    "countfreq"
   ]
  },
  {
   "cell_type": "code",
   "execution_count": 26,
   "metadata": {
    "ExecuteTime": {
     "end_time": "2018-11-11T08:32:02.133004Z",
     "start_time": "2018-11-11T08:32:02.127651Z"
    }
   },
   "outputs": [
    {
     "data": {
      "text/plain": [
       "[array([ 2,  3,  4,  5,  6,  7,  8,  9, 10, 11, 12, 13, 15, 14, 18, 16, 19,\n",
       "        17, 20, 21])]"
      ]
     },
     "execution_count": 26,
     "metadata": {},
     "output_type": "execute_result"
    }
   ],
   "source": [
    "[countfreq[0,:20]]"
   ]
  },
  {
   "cell_type": "code",
   "execution_count": 27,
   "metadata": {
    "ExecuteTime": {
     "end_time": "2018-11-11T08:32:03.686353Z",
     "start_time": "2018-11-11T08:32:02.135811Z"
    }
   },
   "outputs": [
    {
     "data": {
      "image/png": "[encoded data removed]",
      "text/plain": [
       "<Figure size 2400x1800 with 1 Axes>"
      ]
     },
     "metadata": {},
     "output_type": "display_data"
    }
   ],
   "source": [
    "%config InlineBackend.figure_format = 'png'\n",
    "plt.figure(dpi=300,figsize=(8,6))\n",
    "plt.plot(*countfreq,'.',alpha=0.5)\n",
    "plt.xscale('log')\n",
    "plt.yscale('log')\n",
    "plt.xlabel(\"$n$\")\n",
    "plt.ylabel(\"Number of words occurring $n$ times\");"
   ]
  },
  {
   "cell_type": "markdown",
   "metadata": {},
   "source": [
    "### LDA Dimension Reduction"
   ]
  },
  {
   "cell_type": "code",
   "execution_count": 28,
   "metadata": {
    "ExecuteTime": {
     "end_time": "2018-11-11T08:32:03.719936Z",
     "start_time": "2018-11-11T08:32:03.697044Z"
    }
   },
   "outputs": [],
   "source": [
    "from sklearn.decomposition import NMF, LatentDirichletAllocation"
   ]
  },
  {
   "cell_type": "code",
   "execution_count": 29,
   "metadata": {
    "ExecuteTime": {
     "end_time": "2018-11-11T08:32:34.057541Z",
     "start_time": "2018-11-11T08:32:03.722372Z"
    }
   },
   "outputs": [
    {
     "data": {
      "text/plain": [
       "LatentDirichletAllocation(batch_size=256, doc_topic_prior=None,\n",
       "             evaluate_every=-1, learning_decay=0.6,\n",
       "             learning_method='online', learning_offset=1024,\n",
       "             max_doc_update_iter=100, max_iter=10, mean_change_tol=0.001,\n",
       "             n_components=30, n_jobs=1, n_topics=None, perp_tol=0.1,\n",
       "             random_state=0, topic_word_prior=0.005,\n",
       "             total_samples=1000000.0, verbose=0)"
      ]
     },
     "execution_count": 29,
     "metadata": {},
     "output_type": "execute_result"
    }
   ],
   "source": [
    "n_components = 30\n",
    "\n",
    "lda = LatentDirichletAllocation(n_components=n_components, \n",
    "                                learning_method='online',\n",
    "                                learning_decay = 0.6,\n",
    "                                batch_size = 256,\n",
    "                                learning_offset=1024,\n",
    "                                topic_word_prior = 0.005,\n",
    "                                random_state=0)\n",
    "\n",
    "lda.fit(X_cv)"
   ]
  },
  {
   "cell_type": "code",
   "execution_count": 30,
   "metadata": {
    "ExecuteTime": {
     "end_time": "2018-11-11T08:32:37.622880Z",
     "start_time": "2018-11-11T08:32:34.059946Z"
    }
   },
   "outputs": [
    {
     "data": {
      "text/plain": [
       "387549.02427362202"
      ]
     },
     "execution_count": 30,
     "metadata": {},
     "output_type": "execute_result"
    }
   ],
   "source": [
    "lda.perplexity(X_cv)"
   ]
  },
  {
   "cell_type": "code",
   "execution_count": 31,
   "metadata": {
    "ExecuteTime": {
     "end_time": "2018-11-11T08:32:41.130975Z",
     "start_time": "2018-11-11T08:32:37.625342Z"
    }
   },
   "outputs": [
    {
     "name": "stdout",
     "output_type": "stream",
     "text": [
      "TOPIC 0\n",
      "jet\n",
      "harley\n",
      "davidson\n",
      "harley davidson\n",
      "model\n",
      "airshow\n",
      "fighter jet\n",
      "fighter\n",
      "flight\n",
      "roaring\n",
      "\n",
      "TOPIC 1\n",
      "middle\n",
      "class\n",
      "middle class\n",
      "goldman\n",
      "investment\n",
      "banking\n",
      "sachs\n",
      "asia\n",
      "goldman sachs\n",
      "investment banking\n",
      "\n",
      "TOPIC 2\n",
      "fund\n",
      "global fund\n",
      "avenir global\n",
      "avenir\n",
      "ended september\n",
      "commentary\n",
      "quarter ended\n",
      "ended\n",
      "fund commentary\n",
      "dear\n",
      "\n",
      "TOPIC 3\n",
      "trump\n",
      "president\n",
      "chinese\n",
      "donald\n",
      "donald trump\n",
      "ivanka\n",
      "beijing\n",
      "ivanka trump\n",
      "says\n",
      "adviser\n",
      "\n",
      "TOPIC 4\n",
      "profit\n",
      "apple\n",
      "yahoo\n",
      "yahoo news\n",
      "wto\n",
      "panel\n",
      "quarterly\n",
      "reported\n",
      "retaliation\n",
      "news\n",
      "\n",
      "TOPIC 5\n",
      "jd\n",
      "jd com\n",
      "democrat\n",
      "house\n",
      "com\n",
      "us house\n",
      "richest\n",
      "年最大危機\n",
      "allies\n",
      "trump trade\n",
      "\n",
      "TOPIC 6\n",
      "rupee\n",
      "internet\n",
      "paise\n",
      "dollar\n",
      "indian rupee\n",
      "farmers\n",
      "internet conference\n",
      "conference\n",
      "soybeans\n",
      "beans\n",
      "\n",
      "TOPIC 7\n",
      "kong\n",
      "hong kong\n",
      "hong\n",
      "city\n",
      "world report\n",
      "us news\n",
      "news world\n",
      "lawmakers\n",
      "news\n",
      "leader\n",
      "\n",
      "TOPIC 8\n",
      "asian\n",
      "asian shares\n",
      "brexit\n",
      "week\n",
      "shares\n",
      "sterling\n",
      "hopes\n",
      "pound\n",
      "two\n",
      "monday\n",
      "\n",
      "TOPIC 9\n",
      "risky\n",
      "correction\n",
      "correction wall\n",
      "flirts\n",
      "risky investments\n",
      "investments nasdaq\n",
      "nasdaq flirts\n",
      "flirts correction\n",
      "view us\n",
      "looked like\n",
      "\n",
      "TOPIC 10\n",
      "elections\n",
      "midterm\n",
      "midterm elections\n",
      "farmers\n",
      "reuters\n",
      "iran\n",
      "gold\n",
      "andrew galbraithshanghai\n",
      "galbraithshanghai\n",
      "collateral\n",
      "\n",
      "TOPIC 11\n",
      "thousands\n",
      "xinjiang\n",
      "china oppression\n",
      "oppression\n",
      "xinjiang long\n",
      "oppression xinjiang\n",
      "long history\n",
      "history\n",
      "cnn\n",
      "americans\n",
      "\n",
      "TOPIC 12\n",
      "bmw\n",
      "control\n",
      "venture\n",
      "take\n",
      "joint\n",
      "control china\n",
      "joint venture\n",
      "take control\n",
      "china joint\n",
      "carmaker\n",
      "\n",
      "TOPIC 13\n",
      "cloud\n",
      "spy claims\n",
      "united states\n",
      "horizon china\n",
      "horizon\n",
      "china airshow\n",
      "united\n",
      "set\n",
      "states\n",
      "spy\n",
      "\n",
      "TOPIC 14\n",
      "taiwan\n",
      "military\n",
      "strait\n",
      "taiwan strait\n",
      "ties\n",
      "warships\n",
      "mattis\n",
      "defense\n",
      "tensions\n",
      "chip\n",
      "\n",
      "TOPIC 15\n",
      "alibaba\n",
      "world\n",
      "jack\n",
      "us china\n",
      "stupid\n",
      "thing\n",
      "china trade\n",
      "war stupid\n",
      "stupid thing\n",
      "shanghai\n",
      "\n",
      "TOPIC 16\n",
      "xi\n",
      "accusations\n",
      "spy\n",
      "china says\n",
      "economy\n",
      "says\n",
      "shanghai\n",
      "import\n",
      "president xi\n",
      "fair\n",
      "\n",
      "TOPIC 17\n",
      "gold\n",
      "silver\n",
      "rs per\n",
      "daily\n",
      "newsletter\n",
      "rs\n",
      "gold silver\n",
      "warriors\n",
      "advice\n",
      "professional\n",
      "\n",
      "TOPIC 18\n",
      "north dakota\n",
      "dakota\n",
      "north\n",
      "heitkamp\n",
      "heidi\n",
      "heidi heitkamp\n",
      "com\n",
      "moody\n",
      "kompas\n",
      "kompas com\n",
      "\n",
      "TOPIC 19\n",
      "axios\n",
      "ministry official\n",
      "finance ministry\n",
      "ministry\n",
      "sneak\n",
      "peek\n",
      "sneak peek\n",
      "optimistic\n",
      "import\n",
      "chinese finance\n",
      "\n",
      "TOPIC 20\n",
      "nordea\n",
      "nordea markets\n",
      "fixed income\n",
      "fixed\n",
      "jan\n",
      "winners losers\n",
      "income\n",
      "von\n",
      "mexican\n",
      "predict\n",
      "\n",
      "TOPIC 21\n",
      "model\n",
      "life\n",
      "wang\n",
      "economic forum\n",
      "forum\n",
      "vice president\n",
      "wang qishan\n",
      "qishan\n",
      "vice\n",
      "zhuhai\n",
      "\n",
      "TOPIC 22\n",
      "luxury\n",
      "vuitton\n",
      "third quarter\n",
      "quarter\n",
      "lvmh\n",
      "third\n",
      "goods\n",
      "fears\n",
      "high end\n",
      "robust\n",
      "\n",
      "TOPIC 23\n",
      "ready\n",
      "china ready\n",
      "resolve\n",
      "wang\n",
      "resolve trade\n",
      "vice\n",
      "talks\n",
      "two largest\n",
      "qishan\n",
      "vice president\n",
      "\n",
      "TOPIC 24\n",
      "di\n",
      "ekonomi\n",
      "keuangan\n",
      "game thrones\n",
      "thrones\n",
      "ini\n",
      "game\n",
      "kondisi\n",
      "masih\n",
      "us dollar\n",
      "\n",
      "TOPIC 25\n",
      "de\n",
      "rapid\n",
      "faurecia\n",
      "growth despite\n",
      "ceo\n",
      "china business\n",
      "les\n",
      "rapid rise\n",
      "en\n",
      "robust china\n",
      "\n",
      "TOPIC 26\n",
      "grapple\n",
      "grapple grapple\n",
      "psychological\n",
      "uncertainty among\n",
      "psychological uncertainty\n",
      "partners\n",
      "airbus\n",
      "among\n",
      "uncertainty\n",
      "grapple spelled\n",
      "\n",
      "TOPIC 27\n",
      "trump\n",
      "global\n",
      "stocks\n",
      "chinese\n",
      "market\n",
      "markets\n",
      "growth\n",
      "president\n",
      "stock\n",
      "us china\n",
      "\n",
      "TOPIC 28\n",
      "china economy\n",
      "billions\n",
      "billions dollars\n",
      "dollars\n",
      "hundreds billions\n",
      "hundreds\n",
      "slowest pace\n",
      "slowest\n",
      "economy grew\n",
      "tim cook\n",
      "\n",
      "TOPIC 29\n",
      "brazil\n",
      "iowa\n",
      "farm\n",
      "boom\n",
      "trump trade\n",
      "delivers\n",
      "trump\n",
      "boom brazil\n",
      "farm boom\n",
      "war delivers\n",
      "\n"
     ]
    }
   ],
   "source": [
    "for topic in range(n_components):\n",
    "    print(f\"TOPIC {topic}\")\n",
    "    for j in np.argsort(-lda.components_,1)[topic,:10]:\n",
    "        print(vocab[j])\n",
    "    print()"
   ]
  },
  {
   "cell_type": "code",
   "execution_count": 32,
   "metadata": {
    "ExecuteTime": {
     "end_time": "2018-11-11T08:32:41.151886Z",
     "start_time": "2018-11-11T08:32:41.145978Z"
    }
   },
   "outputs": [],
   "source": [
    "cv = CountVectorizer(#tokenizer=my_tokenizer,\n",
    "                             strip_accents='ascii',\n",
    "                                max_df=0.2, \n",
    "                                min_df=2,\n",
    "                                ngram_range=(1,2),\n",
    "#                                 binary=True\n",
    "                               )"
   ]
  },
  {
   "cell_type": "code",
   "execution_count": 34,
   "metadata": {
    "ExecuteTime": {
     "end_time": "2018-11-11T20:36:56.432750Z",
     "start_time": "2018-11-11T20:36:56.270117Z"
    }
   },
   "outputs": [
    {
     "ename": "NameError",
     "evalue": "name 'pyLDAvis' is not defined",
     "output_type": "error",
     "traceback": [
      "\u001b[0;31m---------------------------------------------------------------------------\u001b[0m",
      "\u001b[0;31mNameError\u001b[0m                                 Traceback (most recent call last)",
      "\u001b[0;32m<ipython-input-34-db70f084ce2c>\u001b[0m in \u001b[0;36m<module>\u001b[0;34m()\u001b[0m\n\u001b[1;32m      1\u001b[0m \u001b[0;32mfrom\u001b[0m \u001b[0mpyLDAvis\u001b[0m \u001b[0;32mimport\u001b[0m \u001b[0msklearn\u001b[0m\u001b[0;34m\u001b[0m\u001b[0m\n\u001b[0;32m----> 2\u001b[0;31m \u001b[0mviz\u001b[0m\u001b[0;34m=\u001b[0m\u001b[0mpyLDAvis\u001b[0m\u001b[0;34m.\u001b[0m\u001b[0msklearn\u001b[0m\u001b[0;34m.\u001b[0m\u001b[0mprepare\u001b[0m\u001b[0;34m(\u001b[0m\u001b[0mlda\u001b[0m\u001b[0;34m,\u001b[0m \u001b[0mX_cv\u001b[0m\u001b[0;34m,\u001b[0m \u001b[0mcv\u001b[0m\u001b[0;34m)\u001b[0m\u001b[0;34m\u001b[0m\u001b[0m\n\u001b[0m\u001b[1;32m      3\u001b[0m \u001b[0mpyLDAvis\u001b[0m\u001b[0;34m.\u001b[0m\u001b[0mdisplay\u001b[0m\u001b[0;34m(\u001b[0m\u001b[0mviz\u001b[0m\u001b[0;34m)\u001b[0m\u001b[0;34m\u001b[0m\u001b[0m\n",
      "\u001b[0;31mNameError\u001b[0m: name 'pyLDAvis' is not defined"
     ]
    }
   ],
   "source": [
    "from pyLDAvis import sklearn\n",
    "viz=pyLDAvis.sklearn.prepare(lda, X_cv, cv)\n",
    "pyLDAvis.display(viz)"
   ]
  },
  {
   "cell_type": "markdown",
   "metadata": {},
   "source": [
    "### Sentiment Analysis"
   ]
  },
  {
   "cell_type": "code",
   "execution_count": null,
   "metadata": {},
   "outputs": [],
   "source": []
  },
  {
   "cell_type": "markdown",
   "metadata": {},
   "source": [
    "### Recommedation System for Readers"
   ]
  },
  {
   "cell_type": "code",
   "execution_count": null,
   "metadata": {},
   "outputs": [],
   "source": []
  },
  {
   "cell_type": "markdown",
   "metadata": {},
   "source": [
    "### Visualization"
   ]
  },
  {
   "cell_type": "code",
   "execution_count": null,
   "metadata": {
    "ExecuteTime": {
     "end_time": "2018-11-11T08:32:42.038902Z",
     "start_time": "2018-11-11T08:30:50.312Z"
    }
   },
   "outputs": [],
   "source": [
    "plt.bar(phrase_count.keys(),phrase_count.values())"
   ]
  },
  {
   "cell_type": "code",
   "execution_count": null,
   "metadata": {},
   "outputs": [],
   "source": []
  }
 ],
 "metadata": {
  "kernelspec": {
   "display_name": "Python 3",
   "language": "python",
   "name": "python3"
  },
  "language_info": {
   "codemirror_mode": {
    "name": "ipython",
    "version": 3
   },
   "file_extension": ".py",
   "mimetype": "text/x-python",
   "name": "python",
   "nbconvert_exporter": "python",
   "pygments_lexer": "ipython3",
   "version": "3.6.5"
  }
 },
 "nbformat": 4,
 "nbformat_minor": 2
}
