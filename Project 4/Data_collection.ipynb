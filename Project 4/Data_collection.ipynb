{
 "cells": [
  {
   "cell_type": "markdown",
   "metadata": {},
   "source": [
    "### Use newsapi to collect all pieces of news about trade war and store them in jsons"
   ]
  },
  {
   "cell_type": "code",
   "execution_count": 107,
   "metadata": {
    "ExecuteTime": {
     "end_time": "2018-11-08T23:10:57.344886Z",
     "start_time": "2018-11-08T23:10:57.055100Z"
    }
   },
   "outputs": [],
   "source": [
    "import requests\n",
    "\n",
    "import pandas as pd\n",
    "import numpy as np\n",
    "import pprint\n",
    "import matplotlib.pyplot as plt\n",
    "\n",
    "pd.set_option('max_colwidth',10000)\n",
    "\n",
    "%matplotlib inline"
   ]
  },
  {
   "cell_type": "code",
   "execution_count": 34,
   "metadata": {
    "ExecuteTime": {
     "end_time": "2018-11-08T21:22:21.488570Z",
     "start_time": "2018-11-08T21:22:21.484147Z"
    }
   },
   "outputs": [],
   "source": [
    "# A function specifies search conditions and generates an API url\n",
    "def generate_url(page,start,end):\n",
    "    url = ('https://newsapi.org/v2/everything?'\n",
    "       'q=\"trade war\"&'\n",
    "       'sources=[\"the-new-york-times\",\"cnn\",\"xinhua-net\"]&'\n",
    "       f'from={start}&'\n",
    "       f'to={end}&'\n",
    "       'sortBy=relevancy&'\n",
    "       'pageSize=100&'\n",
    "       f'page={page}&'\n",
    "       'apiKey=fc8921bcf53e482ba461714a254c0d7c'\n",
    "       )\n",
    "    return url"
   ]
  },
  {
   "cell_type": "code",
   "execution_count": 37,
   "metadata": {
    "ExecuteTime": {
     "end_time": "2018-11-08T21:27:18.489383Z",
     "start_time": "2018-11-08T21:27:18.483178Z"
    }
   },
   "outputs": [],
   "source": [
    "# A function takes in start and end dates of a time period,\n",
    "# and first searchs for articles within that period \n",
    "# based on the condition specified in the API url,\n",
    "# then writes the first 1000 articles of the searching result\n",
    "# into a csv file.\n",
    "def write_result(start,end):\n",
    "    \n",
    "    # Collect information about each article returned by the search\n",
    "    # Store the information in a list of jsons\n",
    "    result = []\n",
    "    for i in range(1,11):\n",
    "        response = requests.get(generate_url(i,start,end))\n",
    "        result.extend(response.json()['articles'])       \n",
    "\n",
    "    # Transport critical information of the article to a list of dictionaries\n",
    "    col = ['title','description','content','url','publishedAt']\n",
    "    df_dict = []\n",
    "    for article in result:\n",
    "        temp = {}\n",
    "        for c in col:\n",
    "            try: \n",
    "                temp[c] = article[c]\n",
    "            except:\n",
    "                temp[c] = np.nan\n",
    "        temp['source'] = article['source']['name']\n",
    "        df_dict.append(temp)\n",
    "    \n",
    "    # Convert the list of dicts into a pandas DataFrame\n",
    "    df = pd.DataFrame(df_dict,columns=col.append('source'))\n",
    "    \n",
    "    # Write the DataFrame into a csv file\n",
    "    st = ''.join(start.split('-')[1:])\n",
    "    en = ''.join(end.split('-')[1:])\n",
    "    df.to_csv(f'data/article_info({st}-{en}).csv')\n",
    "    \n",
    "    return df"
   ]
  },
  {
   "cell_type": "code",
   "execution_count": 38,
   "metadata": {
    "ExecuteTime": {
     "end_time": "2018-11-08T21:33:48.337592Z",
     "start_time": "2018-11-08T21:32:43.964593Z"
    }
   },
   "outputs": [],
   "source": [
    "df1 = write_result('2018-11-04','2018-11-08')\n",
    "df2 = write_result('2018-10-30','2018-11-03')\n",
    "df3 = write_result('2018-10-25','2018-10-29')\n",
    "df4 = write_result('2018-10-20','2018-10-24')\n",
    "df5 = write_result('2018-10-15','2018-10-19')\n",
    "df6 = write_result('2018-10-10','2018-10-14')"
   ]
  },
  {
   "cell_type": "code",
   "execution_count": 44,
   "metadata": {
    "ExecuteTime": {
     "end_time": "2018-11-08T21:47:54.289114Z",
     "start_time": "2018-11-08T21:47:54.277693Z"
    }
   },
   "outputs": [],
   "source": [
    "df_list = [df1,df2,df3,df4,df5,df6]\n",
    "df=pd.concat(df_list,ignore_index=True)"
   ]
  },
  {
   "cell_type": "code",
   "execution_count": 45,
   "metadata": {
    "ExecuteTime": {
     "end_time": "2018-11-08T21:48:02.104326Z",
     "start_time": "2018-11-08T21:48:02.100012Z"
    }
   },
   "outputs": [
    {
     "data": {
      "text/plain": [
       "(6000, 6)"
      ]
     },
     "execution_count": 45,
     "metadata": {},
     "output_type": "execute_result"
    }
   ],
   "source": [
    "df.shape"
   ]
  },
  {
   "cell_type": "code",
   "execution_count": 48,
   "metadata": {
    "ExecuteTime": {
     "end_time": "2018-11-08T21:50:10.129934Z",
     "start_time": "2018-11-08T21:50:10.118801Z"
    },
    "collapsed": true
   },
   "outputs": [
    {
     "data": {
      "text/html": [
       "<div>\n",
       "<style scoped>\n",
       "    .dataframe tbody tr th:only-of-type {\n",
       "        vertical-align: middle;\n",
       "    }\n",
       "\n",
       "    .dataframe tbody tr th {\n",
       "        vertical-align: top;\n",
       "    }\n",
       "\n",
       "    .dataframe thead th {\n",
       "        text-align: right;\n",
       "    }\n",
       "</style>\n",
       "<table border=\"1\" class=\"dataframe\">\n",
       "  <thead>\n",
       "    <tr style=\"text-align: right;\">\n",
       "      <th></th>\n",
       "      <th>content</th>\n",
       "      <th>description</th>\n",
       "      <th>publishedAt</th>\n",
       "      <th>source</th>\n",
       "      <th>title</th>\n",
       "      <th>url</th>\n",
       "    </tr>\n",
       "  </thead>\n",
       "  <tbody>\n",
       "    <tr>\n",
       "      <th>0</th>\n",
       "      <td>SHANGHAI/BEIJING (Reuters) - Trade frictions with the United States and accusations of industrial espionage are set to cast a cloud over China’s largest aerospace meeting this week, as suppliers consider what the country’s slowing economy could mean for boomi… [+4558 chars]</td>\n",
       "      <td>Trade frictions with the United States and accusations of industrial espionage are set to cast a cloud over China's largest aerospace meeting this week, as suppliers consider what the country's slowing economy could mean for booming jet demand.</td>\n",
       "      <td>2018-11-04T03:58:49Z</td>\n",
       "      <td>Reuters</td>\n",
       "      <td>Trade war, spy claims cloud horizon for China airshow</td>\n",
       "      <td>https://www.reuters.com/article/us-china-airshow-preview/trade-war-spy-claims-cloud-horizon-for-china-airshow-idUSKCN1N9026</td>\n",
       "    </tr>\n",
       "    <tr>\n",
       "      <th>1</th>\n",
       "      <td>ZHUHAI, China (Reuters) - Europe’s Airbus SE indicated on Tuesday that it did not expect a sales windfall from trade tensions between China and the United States, with the manufacturer’s China head saying there would be “no winner” from a prolonged economic c… [+519 chars]</td>\n",
       "      <td>Europe's Airbus SE indicated on Tuesday that it did not expect a sales windfall from trade tensions between China and the United States, with the manufacturer's China head saying there would be \"no winner\" from a prolonged economic conflict.</td>\n",
       "      <td>2018-11-06T06:06:33Z</td>\n",
       "      <td>Reuters</td>\n",
       "      <td>Airbus China CEO says \"no winner\" from U.S.-China trade war</td>\n",
       "      <td>https://www.reuters.com/article/us-china-airshow-airbus/airbus-china-ceo-says-no-winner-from-u-s-china-trade-war-idUSKCN1NB0GP</td>\n",
       "    </tr>\n",
       "    <tr>\n",
       "      <th>2</th>\n",
       "      <td>SYDNEY (Reuters) - Asian stocks sank on Monday as fears of faster rate hikes in the United States and uncertainty around the Sino-U.S. trade war deterred investment in riskier assets, while sterling jumped to a two-week high on hopes of an orderly Brexit. Mar… [+4073 chars]</td>\n",
       "      <td>Asian stocks sank on Monday as fears of faster rate hikes in the United States and uncertainty around the Sino-U.S. trade war deterred investment in riskier assets, while sterling jumped to a two-week high on hopes of an orderly Brexit.</td>\n",
       "      <td>2018-11-05T04:51:58Z</td>\n",
       "      <td>Reuters</td>\n",
       "      <td>Asian shares sink as risk sentiment sours, pound hits 2-week top</td>\n",
       "      <td>https://www.reuters.com/article/us-global-markets/asian-shares-sink-as-risk-sentiment-sours-pound-hits-2-week-top-idUSKCN1N90PQ</td>\n",
       "    </tr>\n",
       "    <tr>\n",
       "      <th>3</th>\n",
       "      <td>(Bloomberg) -- U.S. equity futures jumped, the dollar dropped and Treasuries climbed as investors seemed to cheer on an outlook for political gridlock in the wake of the American midterm elections. Risky assets were in favor after results showed Democrats win… [+4044 chars]</td>\n",
       "      <td>The biggest macro theme remains the trade war after recent warnings from major names including the IMF’s Christine Lagarde and former U.S. Treasury Secretary Hank Paulson.  Coming UpThe Fed’s next rate decision is Thursday.</td>\n",
       "      <td>2018-11-07T13:42:30Z</td>\n",
       "      <td>Yahoo.com</td>\n",
       "      <td>Stocks Climb as Investors Cheer On U.S. Gridlock: Markets Wrap</td>\n",
       "      <td>https://www.yahoo.com/news/asia-stocks-start-mixed-u-220816159.html</td>\n",
       "    </tr>\n",
       "    <tr>\n",
       "      <th>4</th>\n",
       "      <td>A US trade war, Brexit, Italy — you name it, Germany's economy is suffering from it. Europe's economic powerhouse is in one of the longest boom phases of the postwar period, but it's being pounded by a cocktail of international events that ING Economics says … [+2262 chars]</td>\n",
       "      <td>Trade war fears, ongoing Brexit negotiations, and the crisis surrounding Italy’s budget are all dragging on the German economy. Traditionally strong exports have disappointed in four of last six months. New rules on emissions for automakers aren't helping. Eu…</td>\n",
       "      <td>2018-11-08T11:16:43Z</td>\n",
       "      <td>Business Insider</td>\n",
       "      <td>Germany's economy is getting hammered by the rest of the world's problems</td>\n",
       "      <td>https://www.businessinsider.com/germanys-economy-is-getting-hit-by-the-rest-of-the-worlds-problems-2018-11</td>\n",
       "    </tr>\n",
       "  </tbody>\n",
       "</table>\n",
       "</div>"
      ],
      "text/plain": [
       "                                                                                                                                                                                                                                                                              content  \\\n",
       "0  SHANGHAI/BEIJING (Reuters) - Trade frictions with the United States and accusations of industrial espionage are set to cast a cloud over China’s largest aerospace meeting this week, as suppliers consider what the country’s slowing economy could mean for boomi… [+4558 chars]   \n",
       "1   ZHUHAI, China (Reuters) - Europe’s Airbus SE indicated on Tuesday that it did not expect a sales windfall from trade tensions between China and the United States, with the manufacturer’s China head saying there would be “no winner” from a prolonged economic c… [+519 chars]   \n",
       "2  SYDNEY (Reuters) - Asian stocks sank on Monday as fears of faster rate hikes in the United States and uncertainty around the Sino-U.S. trade war deterred investment in riskier assets, while sterling jumped to a two-week high on hopes of an orderly Brexit. Mar… [+4073 chars]   \n",
       "3  (Bloomberg) -- U.S. equity futures jumped, the dollar dropped and Treasuries climbed as investors seemed to cheer on an outlook for political gridlock in the wake of the American midterm elections. Risky assets were in favor after results showed Democrats win… [+4044 chars]   \n",
       "4  A US trade war, Brexit, Italy — you name it, Germany's economy is suffering from it. Europe's economic powerhouse is in one of the longest boom phases of the postwar period, but it's being pounded by a cocktail of international events that ING Economics says … [+2262 chars]   \n",
       "\n",
       "                                                                                                                                                                                                                                                            description  \\\n",
       "0                  Trade frictions with the United States and accusations of industrial espionage are set to cast a cloud over China's largest aerospace meeting this week, as suppliers consider what the country's slowing economy could mean for booming jet demand.   \n",
       "1                     Europe's Airbus SE indicated on Tuesday that it did not expect a sales windfall from trade tensions between China and the United States, with the manufacturer's China head saying there would be \"no winner\" from a prolonged economic conflict.   \n",
       "2                          Asian stocks sank on Monday as fears of faster rate hikes in the United States and uncertainty around the Sino-U.S. trade war deterred investment in riskier assets, while sterling jumped to a two-week high on hopes of an orderly Brexit.   \n",
       "3                                       The biggest macro theme remains the trade war after recent warnings from major names including the IMF’s Christine Lagarde and former U.S. Treasury Secretary Hank Paulson.  Coming UpThe Fed’s next rate decision is Thursday.   \n",
       "4  Trade war fears, ongoing Brexit negotiations, and the crisis surrounding Italy’s budget are all dragging on the German economy. Traditionally strong exports have disappointed in four of last six months. New rules on emissions for automakers aren't helping. Eu…   \n",
       "\n",
       "            publishedAt            source  \\\n",
       "0  2018-11-04T03:58:49Z           Reuters   \n",
       "1  2018-11-06T06:06:33Z           Reuters   \n",
       "2  2018-11-05T04:51:58Z           Reuters   \n",
       "3  2018-11-07T13:42:30Z         Yahoo.com   \n",
       "4  2018-11-08T11:16:43Z  Business Insider   \n",
       "\n",
       "                                                                       title  \\\n",
       "0                      Trade war, spy claims cloud horizon for China airshow   \n",
       "1                Airbus China CEO says \"no winner\" from U.S.-China trade war   \n",
       "2           Asian shares sink as risk sentiment sours, pound hits 2-week top   \n",
       "3             Stocks Climb as Investors Cheer On U.S. Gridlock: Markets Wrap   \n",
       "4  Germany's economy is getting hammered by the rest of the world's problems   \n",
       "\n",
       "                                                                                                                               url  \n",
       "0      https://www.reuters.com/article/us-china-airshow-preview/trade-war-spy-claims-cloud-horizon-for-china-airshow-idUSKCN1N9026  \n",
       "1   https://www.reuters.com/article/us-china-airshow-airbus/airbus-china-ceo-says-no-winner-from-u-s-china-trade-war-idUSKCN1NB0GP  \n",
       "2  https://www.reuters.com/article/us-global-markets/asian-shares-sink-as-risk-sentiment-sours-pound-hits-2-week-top-idUSKCN1N90PQ  \n",
       "3                                                              https://www.yahoo.com/news/asia-stocks-start-mixed-u-220816159.html  \n",
       "4                       https://www.businessinsider.com/germanys-economy-is-getting-hit-by-the-rest-of-the-worlds-problems-2018-11  "
      ]
     },
     "execution_count": 48,
     "metadata": {},
     "output_type": "execute_result"
    }
   ],
   "source": [
    "df.head()"
   ]
  },
  {
   "cell_type": "code",
   "execution_count": 54,
   "metadata": {
    "ExecuteTime": {
     "end_time": "2018-11-08T21:52:40.427933Z",
     "start_time": "2018-11-08T21:52:40.419040Z"
    }
   },
   "outputs": [],
   "source": [
    "df.fillna('',inplace=True)"
   ]
  },
  {
   "cell_type": "code",
   "execution_count": 141,
   "metadata": {
    "ExecuteTime": {
     "end_time": "2018-11-09T00:41:00.652551Z",
     "start_time": "2018-11-09T00:41:00.611291Z"
    }
   },
   "outputs": [
    {
     "data": {
      "text/plain": [
       "content        0\n",
       "description    0\n",
       "publishedAt    0\n",
       "source         0\n",
       "title          0\n",
       "url            0\n",
       "dtype: int64"
      ]
     },
     "execution_count": 141,
     "metadata": {},
     "output_type": "execute_result"
    }
   ],
   "source": [
    "df.isnull().sum()"
   ]
  },
  {
   "cell_type": "code",
   "execution_count": 55,
   "metadata": {
    "ExecuteTime": {
     "end_time": "2018-11-08T21:53:40.416569Z",
     "start_time": "2018-11-08T21:53:40.309016Z"
    }
   },
   "outputs": [],
   "source": [
    "df.to_csv('data/article_info_6000.csv')"
   ]
  },
  {
   "cell_type": "markdown",
   "metadata": {},
   "source": [
    "### Now, try some NLP stuff"
   ]
  },
  {
   "cell_type": "code",
   "execution_count": 56,
   "metadata": {
    "ExecuteTime": {
     "end_time": "2018-11-08T21:59:06.652771Z",
     "start_time": "2018-11-08T21:59:05.303374Z"
    }
   },
   "outputs": [],
   "source": [
    "import nltk\n",
    "from nltk.util import ngrams\n",
    "\n",
    "from textblob import TextBlob\n",
    "\n",
    "from collections import Counter\n",
    "from operator import itemgetter\n",
    "\n",
    "from nltk.corpus import stopwords"
   ]
  },
  {
   "cell_type": "code",
   "execution_count": 108,
   "metadata": {
    "ExecuteTime": {
     "end_time": "2018-11-08T23:11:57.123719Z",
     "start_time": "2018-11-08T23:11:57.119725Z"
    }
   },
   "outputs": [],
   "source": [
    "from sklearn.feature_extraction.text import CountVectorizer\n",
    "from sklearn.feature_extraction.text import TfidfVectorizer"
   ]
  },
  {
   "cell_type": "code",
   "execution_count": 58,
   "metadata": {
    "ExecuteTime": {
     "end_time": "2018-11-08T21:59:31.732628Z",
     "start_time": "2018-11-08T21:59:31.729771Z"
    }
   },
   "outputs": [],
   "source": [
    "import re\n",
    "import string"
   ]
  },
  {
   "cell_type": "markdown",
   "metadata": {
    "ExecuteTime": {
     "end_time": "2018-11-08T22:00:25.516475Z",
     "start_time": "2018-11-08T22:00:25.513682Z"
    }
   },
   "source": [
    "#### Documents Cleanup"
   ]
  },
  {
   "cell_type": "code",
   "execution_count": 93,
   "metadata": {
    "ExecuteTime": {
     "end_time": "2018-11-08T22:51:56.342894Z",
     "start_time": "2018-11-08T22:51:56.337874Z"
    }
   },
   "outputs": [],
   "source": [
    "def cleanup_doc(doc):\n",
    "    # Replace punctuations with a white space\n",
    "    doc = re.sub('[%s]' % re.escape(string.punctuation), ' ', doc)\n",
    "    # Remove all words containing digits\n",
    "    doc = re.sub('\\w*\\d\\w*', ' ', doc)\n",
    "    # Keep US as a special term\n",
    "    doc = re.sub('U.S.', 'US', doc)\n",
    "    # Change all words into lowercases\n",
    "    doc = doc.lower()\n",
    "    # Remove all non English characters\n",
    "    doc = ' '.join(w for w in nltk.word_tokenize(doc) if w.isalpha())\n",
    "    # Remove stopwords\n",
    "    stop = stopwords.words('english')\n",
    "    stop = set(stop)\n",
    "    doc = ' '.join(w for w in nltk.word_tokenize(doc) if w not in stop)\n",
    "    \n",
    "    return doc"
   ]
  },
  {
   "cell_type": "code",
   "execution_count": 94,
   "metadata": {
    "ExecuteTime": {
     "end_time": "2018-11-08T22:51:57.225660Z",
     "start_time": "2018-11-08T22:51:57.221877Z"
    }
   },
   "outputs": [],
   "source": [
    "def super_clean(collection):\n",
    "    clean = []\n",
    "    for c in collection:\n",
    "        clean.append(cleanup_doc(c))\n",
    "    return clean"
   ]
  },
  {
   "cell_type": "code",
   "execution_count": 95,
   "metadata": {
    "ExecuteTime": {
     "end_time": "2018-11-08T22:52:07.645283Z",
     "start_time": "2018-11-08T22:51:57.938827Z"
    }
   },
   "outputs": [],
   "source": [
    "clean_title = super_clean(df.title)\n",
    "clean_des = super_clean(df.description)\n",
    "clean_content = super_clean(df.content)"
   ]
  },
  {
   "cell_type": "code",
   "execution_count": 96,
   "metadata": {
    "ExecuteTime": {
     "end_time": "2018-11-08T22:52:07.651967Z",
     "start_time": "2018-11-08T22:52:07.646856Z"
    },
    "scrolled": true
   },
   "outputs": [
    {
     "data": {
      "text/plain": [
       "['trade war spy claims cloud horizon china airshow',\n",
       " 'airbus china ceo says winner us china trade war',\n",
       " 'asian shares sink risk sentiment sours pound hits week top',\n",
       " 'stocks climb investors cheer us gridlock markets wrap',\n",
       " 'germany economy getting hammered rest world problems']"
      ]
     },
     "execution_count": 96,
     "metadata": {},
     "output_type": "execute_result"
    }
   ],
   "source": [
    "clean_title[:5]"
   ]
  },
  {
   "cell_type": "code",
   "execution_count": 103,
   "metadata": {
    "ExecuteTime": {
     "end_time": "2018-11-08T23:02:41.520118Z",
     "start_time": "2018-11-08T23:02:41.516038Z"
    }
   },
   "outputs": [],
   "source": [
    "def find_top_bigrams(collection, num):\n",
    "    counter = Counter()\n",
    "\n",
    "    n = 2\n",
    "    for c in collection:\n",
    "        words = TextBlob(c).words\n",
    "        bigrams = ngrams(words, n)\n",
    "        counter += Counter(bigrams)\n",
    "\n",
    "    res = []\n",
    "    for phrase, count in counter.most_common(num):\n",
    "        res_tuple = (\" \".join(phrase), count)\n",
    "        res.append(res_tuple)\n",
    "    \n",
    "    return res"
   ]
  },
  {
   "cell_type": "code",
   "execution_count": 104,
   "metadata": {
    "ExecuteTime": {
     "end_time": "2018-11-08T23:02:46.203290Z",
     "start_time": "2018-11-08T23:02:42.135854Z"
    },
    "collapsed": true
   },
   "outputs": [
    {
     "data": {
      "text/plain": [
       "[('trade war', 1052),\n",
       " ('us china', 298),\n",
       " ('china trade', 289),\n",
       " ('wall street', 147),\n",
       " ('trump trade', 138),\n",
       " ('oil prices', 105),\n",
       " ('global markets', 77),\n",
       " ('donald trump', 75),\n",
       " ('stock market', 75),\n",
       " ('asian shares', 69),\n",
       " ('war china', 66),\n",
       " ('amid trade', 66),\n",
       " ('wall st', 62),\n",
       " ('trump xi', 56),\n",
       " ('us trade', 55),\n",
       " ('third quarter', 52),\n",
       " ('xi jinping', 50),\n",
       " ('iran sanctions', 48),\n",
       " ('china us', 48),\n",
       " ('trade tensions', 47),\n",
       " ('us stocks', 46),\n",
       " ('hong kong', 45),\n",
       " ('growth slows', 44),\n",
       " ('midterm elections', 42),\n",
       " ('trade deal', 42),\n",
       " ('china says', 42),\n",
       " ('global stocks', 42),\n",
       " ('trump says', 40),\n",
       " ('china xi', 39),\n",
       " ('gdp growth', 38)]"
      ]
     },
     "execution_count": 104,
     "metadata": {},
     "output_type": "execute_result"
    }
   ],
   "source": [
    "find_top_bigrams(clean_title, 30)"
   ]
  },
  {
   "cell_type": "code",
   "execution_count": 105,
   "metadata": {
    "ExecuteTime": {
     "end_time": "2018-11-08T23:03:53.939058Z",
     "start_time": "2018-11-08T23:03:43.569533Z"
    },
    "collapsed": true
   },
   "outputs": [
    {
     "data": {
      "text/plain": [
       "[('trade war', 1246),\n",
       " ('united states', 468),\n",
       " ('donald trump', 466),\n",
       " ('us china', 399),\n",
       " ('president donald', 360),\n",
       " ('china trade', 328),\n",
       " ('wall street', 289),\n",
       " ('oct reuters', 185),\n",
       " ('xi jinping', 178),\n",
       " ('third quarter', 169),\n",
       " ('us president', 147),\n",
       " ('us trade', 133),\n",
       " ('oil prices', 133),\n",
       " ('president xi', 125),\n",
       " ('economic growth', 122),\n",
       " ('war united', 118),\n",
       " ('war china', 117),\n",
       " ('stock market', 113),\n",
       " ('trump administration', 108),\n",
       " ('new york', 107),\n",
       " ('hong kong', 106),\n",
       " ('stock markets', 103),\n",
       " ('interest rates', 102),\n",
       " ('trade tensions', 100),\n",
       " ('president trump', 97),\n",
       " ('per cent', 97),\n",
       " ('war us', 96),\n",
       " ('saudi arabia', 91),\n",
       " ('trump trade', 90),\n",
       " ('states china', 89)]"
      ]
     },
     "execution_count": 105,
     "metadata": {},
     "output_type": "execute_result"
    }
   ],
   "source": [
    "find_top_bigrams(clean_des, 30)"
   ]
  },
  {
   "cell_type": "code",
   "execution_count": 106,
   "metadata": {
    "ExecuteTime": {
     "end_time": "2018-11-08T23:05:04.314121Z",
     "start_time": "2018-11-08T23:04:51.741722Z"
    },
    "collapsed": true
   },
   "outputs": [
    {
     "data": {
      "text/plain": [
       "[('trade war', 1289),\n",
       " ('donald trump', 614),\n",
       " ('united states', 573),\n",
       " ('president donald', 527),\n",
       " ('us china', 399),\n",
       " ('wall street', 346),\n",
       " ('china trade', 311),\n",
       " ('new york', 255),\n",
       " ('oct reuters', 252),\n",
       " ('xi jinping', 224),\n",
       " ('us president', 223),\n",
       " ('third quarter', 208),\n",
       " ('oil prices', 185),\n",
       " ('president xi', 184),\n",
       " ('hong kong', 178),\n",
       " ('us trade', 170),\n",
       " ('economic growth', 157),\n",
       " ('stock market', 148),\n",
       " ('amp p', 146),\n",
       " ('war united', 145),\n",
       " ('stock markets', 144),\n",
       " ('war china', 138),\n",
       " ('reuters china', 137),\n",
       " ('interest rates', 133),\n",
       " ('trump administration', 131),\n",
       " ('trade tensions', 129),\n",
       " ('midterm elections', 129),\n",
       " ('per cent', 114),\n",
       " ('saudi arabia', 113),\n",
       " ('reuters us', 112)]"
      ]
     },
     "execution_count": 106,
     "metadata": {},
     "output_type": "execute_result"
    }
   ],
   "source": [
    "find_top_bigrams(clean_content, 30)"
   ]
  },
  {
   "cell_type": "code",
   "execution_count": 115,
   "metadata": {
    "ExecuteTime": {
     "end_time": "2018-11-08T23:29:02.377940Z",
     "start_time": "2018-11-08T23:29:02.374844Z"
    }
   },
   "outputs": [],
   "source": [
    "def fit_stuff(doc,cv,ngram,max_df,min_df):\n",
    "    cv.ngram_range=(1,ngram)\n",
    "    cv.max_df = max_df\n",
    "    cv.min_df = min_df\n",
    "    x = cv.fit_transform(doc).toarray()\n",
    "    x = pd.DataFrame(X, columns=cv.get_feature_names())\n",
    "    return x"
   ]
  },
  {
   "cell_type": "code",
   "execution_count": 118,
   "metadata": {
    "ExecuteTime": {
     "end_time": "2018-11-08T23:32:26.817593Z",
     "start_time": "2018-11-08T23:32:22.381454Z"
    }
   },
   "outputs": [
    {
     "name": "stdout",
     "output_type": "stream",
     "text": [
      "[(6000, 27451), (6000, 20466), (6000, 9171)]\n"
     ]
    }
   ],
   "source": [
    "X_content = fit_stuff(clean_content,TfidfVectorizer(),2,0.9,2)\n",
    "X_des = fit_stuff(clean_des,TfidfVectorizer(),2,0.9,2)\n",
    "X_title = fit_stuff(clean_title,TfidfVectorizer(),2,0.9,2)\n",
    "print([X_content.shape,X_des.shape,X_title.shape])"
   ]
  },
  {
   "cell_type": "code",
   "execution_count": 123,
   "metadata": {
    "ExecuteTime": {
     "end_time": "2018-11-09T00:18:47.558071Z",
     "start_time": "2018-11-09T00:18:44.103885Z"
    }
   },
   "outputs": [
    {
     "name": "stdout",
     "output_type": "stream",
     "text": [
      "[(6000, 27451), (6000, 20466), (6000, 9171)]\n"
     ]
    }
   ],
   "source": [
    "X_content = fit_stuff(clean_content,CountVectorizer(),2,0.9,2)\n",
    "X_des = fit_stuff(clean_des,CountVectorizer(),2,0.9,2)\n",
    "X_title = fit_stuff(clean_title,CountVectorizer(),2,0.9,2)\n",
    "print([X_content.shape,X_des.shape,X_title.shape])"
   ]
  },
  {
   "cell_type": "code",
   "execution_count": 146,
   "metadata": {
    "ExecuteTime": {
     "end_time": "2018-11-09T00:45:55.773518Z",
     "start_time": "2018-11-09T00:45:55.315552Z"
    }
   },
   "outputs": [],
   "source": [
    "X_des.fillna(0,inplace=True)\n",
    "X_title.fillna(0,inplace=True)"
   ]
  },
  {
   "cell_type": "code",
   "execution_count": 147,
   "metadata": {
    "ExecuteTime": {
     "end_time": "2018-11-09T00:46:00.481782Z",
     "start_time": "2018-11-09T00:45:58.065117Z"
    }
   },
   "outputs": [
    {
     "data": {
      "text/plain": [
       "0"
      ]
     },
     "execution_count": 147,
     "metadata": {},
     "output_type": "execute_result"
    }
   ],
   "source": [
    "sum(X_des.isnull().sum() > 0)"
   ]
  },
  {
   "cell_type": "code",
   "execution_count": 148,
   "metadata": {
    "ExecuteTime": {
     "end_time": "2018-11-09T00:46:04.402166Z",
     "start_time": "2018-11-09T00:46:03.312208Z"
    }
   },
   "outputs": [
    {
     "data": {
      "text/plain": [
       "0"
      ]
     },
     "execution_count": 148,
     "metadata": {},
     "output_type": "execute_result"
    }
   ],
   "source": [
    "sum(X_title.isnull().sum() > 0)"
   ]
  },
  {
   "cell_type": "code",
   "execution_count": 124,
   "metadata": {
    "ExecuteTime": {
     "end_time": "2018-11-09T00:18:53.261860Z",
     "start_time": "2018-11-09T00:18:53.258043Z"
    }
   },
   "outputs": [],
   "source": [
    "from sklearn.model_selection import train_test_split"
   ]
  },
  {
   "cell_type": "code",
   "execution_count": 149,
   "metadata": {
    "ExecuteTime": {
     "end_time": "2018-11-09T00:46:12.614875Z",
     "start_time": "2018-11-09T00:46:11.399838Z"
    }
   },
   "outputs": [],
   "source": [
    "X_train_content, X_test_content = train_test_split(X_content, test_size=0.3, random_state=42)"
   ]
  },
  {
   "cell_type": "code",
   "execution_count": 150,
   "metadata": {
    "ExecuteTime": {
     "end_time": "2018-11-09T00:46:15.942892Z",
     "start_time": "2018-11-09T00:46:15.419965Z"
    }
   },
   "outputs": [],
   "source": [
    "X_train_des, X_test_des = train_test_split(X_des, test_size=0.3, random_state=42)"
   ]
  },
  {
   "cell_type": "code",
   "execution_count": 151,
   "metadata": {
    "ExecuteTime": {
     "end_time": "2018-11-09T00:46:15.942892Z",
     "start_time": "2018-11-09T00:46:15.419965Z"
    }
   },
   "outputs": [],
   "source": [
    "X_train_title, X_test_title = train_test_split(X_title, test_size=0.3, random_state=42)"
   ]
  },
  {
   "cell_type": "code",
   "execution_count": 152,
   "metadata": {
    "ExecuteTime": {
     "end_time": "2018-11-09T00:46:17.822538Z",
     "start_time": "2018-11-09T00:46:17.818490Z"
    }
   },
   "outputs": [
    {
     "name": "stdout",
     "output_type": "stream",
     "text": [
      "(4200, 27451) (1800, 27451)\n"
     ]
    }
   ],
   "source": [
    "print(X_train_content.shape,X_test_content.shape)"
   ]
  },
  {
   "cell_type": "markdown",
   "metadata": {},
   "source": [
    "### LDA Dimension Reduction"
   ]
  },
  {
   "cell_type": "code",
   "execution_count": 154,
   "metadata": {
    "ExecuteTime": {
     "end_time": "2018-11-09T00:46:36.451963Z",
     "start_time": "2018-11-09T00:46:36.448948Z"
    }
   },
   "outputs": [],
   "source": [
    "from sklearn.decomposition import NMF, LatentDirichletAllocation"
   ]
  },
  {
   "cell_type": "code",
   "execution_count": 157,
   "metadata": {
    "ExecuteTime": {
     "end_time": "2018-11-09T00:49:24.310454Z",
     "start_time": "2018-11-09T00:49:10.839760Z"
    }
   },
   "outputs": [],
   "source": [
    "n_components = 10\n",
    "lda = LatentDirichletAllocation(n_components=n_components, \n",
    "                                max_iter=5,\n",
    "                                learning_method='online',\n",
    "                                learning_offset=50.,\n",
    "                                random_state=0)\n",
    "lda.fit(X_train_des)\n",
    "\n",
    "vocab = X_train_des.columns"
   ]
  },
  {
   "cell_type": "code",
   "execution_count": 160,
   "metadata": {
    "ExecuteTime": {
     "end_time": "2018-11-09T01:04:49.476377Z",
     "start_time": "2018-11-09T01:04:49.445296Z"
    }
   },
   "outputs": [
    {
     "data": {
      "text/plain": [
       "array([[ 0.85231244,  0.01640959,  0.01640959,  0.01641082,  0.01640959,\n",
       "         0.01640961,  0.01640959,  0.01640959,  0.01640959,  0.0164096 ],\n",
       "       [ 0.81729774,  0.02029853,  0.02029769,  0.02030056,  0.02029769,\n",
       "         0.020317  ,  0.02029769,  0.02029769,  0.02029769,  0.0202977 ],\n",
       "       [ 0.01341605,  0.87929619,  0.01340868,  0.01342602,  0.01340868,\n",
       "         0.01340879,  0.01340868,  0.01340868,  0.01340868,  0.01340957],\n",
       "       [ 0.49726903,  0.01386723,  0.01386656,  0.01386809,  0.39179618,\n",
       "         0.01386656,  0.01386656,  0.01386664,  0.01386656,  0.01386656],\n",
       "       [ 0.63075872,  0.01213444,  0.01213444,  0.01213661,  0.01213447,\n",
       "         0.01213444,  0.01213444,  0.27216342,  0.01213444,  0.0121346 ]])"
      ]
     },
     "execution_count": 160,
     "metadata": {},
     "output_type": "execute_result"
    }
   ],
   "source": [
    "lda.transform(X_train_des[:5])"
   ]
  },
  {
   "cell_type": "code",
   "execution_count": 159,
   "metadata": {
    "ExecuteTime": {
     "end_time": "2018-11-09T00:53:24.423895Z",
     "start_time": "2018-11-09T00:53:24.255416Z"
    }
   },
   "outputs": [
    {
     "name": "stdout",
     "output_type": "stream",
     "text": [
      "TOPIC 0\n",
      "us\n",
      "china\n",
      "trade\n",
      "war\n",
      "trade war\n",
      "global\n",
      "reuters\n",
      "markets\n",
      "stocks\n",
      "market\n",
      "\n",
      "TOPIC 1\n",
      "spies\n",
      "uses\n",
      "york times\n",
      "friends\n",
      "chinese spies\n",
      "calls\n",
      "times\n",
      "spies often\n",
      "often\n",
      "eavesdropping\n",
      "\n",
      "TOPIC 2\n",
      "business environment\n",
      "state chinese\n",
      "gloom state\n",
      "amid gathering\n",
      "gathering gloom\n",
      "peddling wares\n",
      "wares china\n",
      "companies peddling\n",
      "christmas tree\n",
      "economy exporters\n",
      "\n",
      "TOPIC 3\n",
      "china\n",
      "president\n",
      "trade\n",
      "trump\n",
      "us\n",
      "chinese\n",
      "war\n",
      "xi\n",
      "states\n",
      "united\n",
      "\n",
      "TOPIC 4\n",
      "stomach\n",
      "stomach churning\n",
      "churning\n",
      "adored\n",
      "suddenly soured\n",
      "smartphones wall\n",
      "street suddenly\n",
      "seemingly adored\n",
      "people love\n",
      "valley rest\n",
      "\n",
      "TOPIC 5\n",
      "box\n",
      "robot\n",
      "let\n",
      "click\n",
      "know\n",
      "please\n",
      "continue\n",
      "us\n",
      "durable goods\n",
      "durable\n",
      "\n",
      "TOPIC 6\n",
      "rapeseed\n",
      "meal\n",
      "rapeseed meal\n",
      "di\n",
      "resume\n",
      "jakarta\n",
      "jokowi\n",
      "ekonomi\n",
      "dan\n",
      "boeing\n",
      "\n",
      "TOPIC 7\n",
      "fink\n",
      "fledged trade\n",
      "fledged\n",
      "full fledged\n",
      "offset geopolitical\n",
      "session helped\n",
      "brazil\n",
      "helped offset\n",
      "war though\n",
      "inc holiday\n",
      "\n",
      "TOPIC 8\n",
      "economy\n",
      "market\n",
      "earnings blue\n",
      "impact\n",
      "nearly\n",
      "bear\n",
      "stock prices\n",
      "stock\n",
      "many\n",
      "little\n",
      "\n",
      "TOPIC 9\n",
      "state\n",
      "pompeo\n",
      "propaganda\n",
      "mike pompeo\n",
      "investment banking\n",
      "made\n",
      "leland\n",
      "part\n",
      "state mike\n",
      "aim\n",
      "\n"
     ]
    }
   ],
   "source": [
    "for topic in range(n_components):\n",
    "    print(f\"TOPIC {topic}\")\n",
    "    for j in np.argsort(-lda.components_,1)[topic,:10]:\n",
    "        print(vocab[j])\n",
    "    print()"
   ]
  },
  {
   "cell_type": "markdown",
   "metadata": {},
   "source": [
    "### Sentiment Analysis"
   ]
  },
  {
   "cell_type": "code",
   "execution_count": null,
   "metadata": {},
   "outputs": [],
   "source": []
  },
  {
   "cell_type": "markdown",
   "metadata": {},
   "source": [
    "### Recommedation System for Readers"
   ]
  },
  {
   "cell_type": "code",
   "execution_count": null,
   "metadata": {},
   "outputs": [],
   "source": []
  },
  {
   "cell_type": "markdown",
   "metadata": {},
   "source": [
    "### Visualization"
   ]
  },
  {
   "cell_type": "code",
   "execution_count": null,
   "metadata": {
    "ExecuteTime": {
     "end_time": "2018-11-08T00:45:29.727218Z",
     "start_time": "2018-11-08T00:45:29.716701Z"
    }
   },
   "outputs": [],
   "source": [
    "plt.bar(phrase_count.keys(),phrase_count.values())"
   ]
  },
  {
   "cell_type": "code",
   "execution_count": null,
   "metadata": {},
   "outputs": [],
   "source": []
  }
 ],
 "metadata": {
  "kernelspec": {
   "display_name": "Python 3",
   "language": "python",
   "name": "python3"
  },
  "language_info": {
   "codemirror_mode": {
    "name": "ipython",
    "version": 3
   },
   "file_extension": ".py",
   "mimetype": "text/x-python",
   "name": "python",
   "nbconvert_exporter": "python",
   "pygments_lexer": "ipython3",
   "version": "3.6.5"
  }
 },
 "nbformat": 4,
 "nbformat_minor": 2
}
