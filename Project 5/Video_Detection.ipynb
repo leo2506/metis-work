{
 "cells": [
  {
   "cell_type": "code",
   "execution_count": 29,
   "metadata": {
    "ExecuteTime": {
     "end_time": "2018-12-10T09:33:37.979253Z",
     "start_time": "2018-12-10T09:33:33.779021Z"
    }
   },
   "outputs": [],
   "source": [
    "#importing some useful packages\n",
    "import matplotlib.pyplot as plt\n",
    "import matplotlib.image as mpimg\n",
    "import numpy as np\n",
    "import cv2\n",
    "import os\n",
    "import pickle \n",
    "from scipy.interpolate import UnivariateSpline\n",
    "from scipy.signal import find_peaks_cwt\n",
    "\n",
    "from skimage.filters import threshold_minimum\n",
    "from skimage.transform import resize\n",
    "\n",
    "os.environ['KERAS_BACKEND'] = 'tensorflow'\n",
    "from keras.models import Model, load_model\n",
    "from keras.layers import Input, BatchNormalization\n",
    "from keras.layers.core import Dropout, Lambda\n",
    "from keras.layers.convolutional import Conv2D, Conv2DTranspose\n",
    "from keras.layers.pooling import MaxPooling2D\n",
    "from keras.layers.merge import concatenate\n",
    "from keras.callbacks import EarlyStopping, ModelCheckpoint\n",
    "from keras import backend as K\n",
    "import keras.losses\n",
    "import tensorflow as tf\n",
    "\n",
    "from scipy.ndimage.measurements import label\n",
    "import time\n",
    "\n",
    "\n",
    "# Import everything needed to edit/save/watch video clips\n",
    "from moviepy.editor import VideoFileClip\n",
    "from IPython.display import HTML\n",
    "pi = 3.14159\n",
    "\n",
    "%matplotlib inline"
   ]
  },
  {
   "cell_type": "code",
   "execution_count": 30,
   "metadata": {
    "ExecuteTime": {
     "end_time": "2018-12-10T09:34:35.871287Z",
     "start_time": "2018-12-10T09:34:35.867771Z"
    }
   },
   "outputs": [],
   "source": [
    "IMG_HEIGHT = 960\n",
    "IMG_WIDTH = 1280\n",
    "IMG_CHANNELS = 3\n",
    "smooth = 1."
   ]
  },
  {
   "cell_type": "code",
   "execution_count": 31,
   "metadata": {
    "ExecuteTime": {
     "end_time": "2018-12-10T09:34:39.149336Z",
     "start_time": "2018-12-10T09:34:39.145515Z"
    }
   },
   "outputs": [],
   "source": [
    "heatmap_10 = [np.zeros((IMG_HEIGHT, IMG_WIDTH))]*10\n",
    "\n",
    "\n",
    "def smooth_heatmap(heatmap):\n",
    "    # Smoothing heatmap as average of 10 previous frames\n",
    "    global heatmap_10\n",
    "    \n",
    "    heatmap_10_1 = heatmap_10[1:]\n",
    "    heatmap_10_1.append(heatmap)\n",
    "    \n",
    "    heatmap_10 = heatmap_10_1\n",
    "    \n",
    "    heatmap = np.mean(heatmap_10,axis=0)\n",
    "    \n",
    "    return heatmap "
   ]
  },
  {
   "cell_type": "code",
   "execution_count": 32,
   "metadata": {
    "ExecuteTime": {
     "end_time": "2018-12-10T09:34:40.052726Z",
     "start_time": "2018-12-10T09:34:40.048604Z"
    }
   },
   "outputs": [],
   "source": [
    "def IOU_calc(y_true, y_pred):\n",
    "    y_true_f = K.flatten(y_true)\n",
    "    y_pred_f = K.flatten(y_pred)\n",
    "    intersection = K.sum(y_true_f * y_pred_f)\n",
    "\n",
    "    return (2 * (intersection + 1)) / (K.sum(y_true_f) + K.sum(y_pred_f) + 1)\n",
    "\n",
    "\n",
    "def IOU_calc_loss(y_true, y_pred):\n",
    "    return 1 - IOU_calc(y_true, y_pred)"
   ]
  },
  {
   "cell_type": "code",
   "execution_count": 33,
   "metadata": {
    "ExecuteTime": {
     "end_time": "2018-12-10T09:34:40.946252Z",
     "start_time": "2018-12-10T09:34:40.931146Z"
    }
   },
   "outputs": [],
   "source": [
    "# Build a U-Net model\n",
    "def unet_model_builder():\n",
    "    inputs = Input((IMG_HEIGHT, IMG_WIDTH, IMG_CHANNELS))\n",
    "    s = Lambda(lambda x: x / 255) (inputs)\n",
    "\n",
    "    c1 = BatchNormalization() (inputs)\n",
    "    c1 = Conv2D(64, (3, 3), activation='relu', padding='same') (c1)\n",
    "    c1 = BatchNormalization() (c1)\n",
    "    c1 = Conv2D(64, (3, 3), activation='relu', padding='same') (c1)\n",
    "    p1 = MaxPooling2D((2, 2)) (c1)\n",
    "\n",
    "    c2 = BatchNormalization() (p1)\n",
    "    c2 = Conv2D(64, (3, 3), activation='relu', padding='same') (c2)\n",
    "    c2 = BatchNormalization() (c2)\n",
    "    c2 = Conv2D(64, (3, 3), activation='relu', padding='same') (c2)\n",
    "    p2 = MaxPooling2D((2, 2)) (c2)\n",
    "\n",
    "    c3 = BatchNormalization() (p2)\n",
    "    c3 = Conv2D(64, (3, 3), activation='relu', padding='same') (c3)\n",
    "    c3 = BatchNormalization() (c3)\n",
    "    c3 = Conv2D(64, (3, 3), activation='relu', padding='same') (c3)\n",
    "    p3 = MaxPooling2D((2, 2)) (c3)\n",
    "\n",
    "    c4 = BatchNormalization() (p3)\n",
    "    c4 = Conv2D(128, (3, 3), activation='relu', padding='same') (c4)\n",
    "    c4 = BatchNormalization() (c4)\n",
    "    c4 = Conv2D(128, (3, 3), activation='relu', padding='same') (c4)\n",
    "    p4 = MaxPooling2D(pool_size=(2, 2)) (c4)\n",
    "\n",
    "    c5 = BatchNormalization() (p4)\n",
    "    c5 = Conv2D(256, (3, 3), activation='relu', padding='same') (c5)\n",
    "    c5 = BatchNormalization() (c5)\n",
    "    c5 = Conv2D(256, (3, 3), activation='relu', padding='same') (c5)\n",
    "\n",
    "    u6 = Conv2DTranspose(128, (2, 2), strides=(2, 2), padding='same') (c5)\n",
    "    u6 = concatenate([u6, c4])\n",
    "    c6 = BatchNormalization() (u6)\n",
    "    c6 = Conv2D(128, (3, 3), activation='relu', padding='same') (c6)\n",
    "    c6 = BatchNormalization() (c6)\n",
    "    c6 = Conv2D(128, (3, 3), activation='relu', padding='same') (c6)\n",
    "\n",
    "    u7 = Conv2DTranspose(64, (2, 2), strides=(2, 2), padding='same') (c6)\n",
    "    u7 = concatenate([u7, c3])\n",
    "    c7 = BatchNormalization() (u7)\n",
    "    c7 = Conv2D(64, (3, 3), activation='relu', padding='same') (c7)\n",
    "    c7 = BatchNormalization() (c7)\n",
    "    c7 = Conv2D(64, (3, 3), activation='relu', padding='same') (c7)\n",
    "\n",
    "    u8 = Conv2DTranspose(64, (2, 2), strides=(2, 2), padding='same') (c7)\n",
    "    u8 = concatenate([u8, c2])\n",
    "    c8 = BatchNormalization() (u8)\n",
    "    c8 = Conv2D(64, (3, 3), activation='relu', padding='same') (c8)\n",
    "    c8 = BatchNormalization() (c8)\n",
    "    c8 = Conv2D(64, (3, 3), activation='relu', padding='same') (c8)\n",
    "\n",
    "    u9 = Conv2DTranspose(64, (2, 2), strides=(2, 2), padding='same') (c8)\n",
    "    u9 = concatenate([u9, c1], axis=3)\n",
    "    c9 = BatchNormalization() (u9)\n",
    "    c9 = Conv2D(64, (3, 3), activation='relu', padding='same') (c9)\n",
    "    c9 = BatchNormalization() (c9)\n",
    "    c9 = Conv2D(64, (3, 3), activation='relu', padding='same') (c9)\n",
    "\n",
    "    outputs = Conv2D(1, (1, 1), activation='sigmoid') (c9)\n",
    "\n",
    "    model = Model(inputs=[inputs], outputs=[outputs])\n",
    "    \n",
    "    return model"
   ]
  },
  {
   "cell_type": "code",
   "execution_count": 34,
   "metadata": {
    "ExecuteTime": {
     "end_time": "2018-12-10T09:34:46.279158Z",
     "start_time": "2018-12-10T09:34:43.711715Z"
    }
   },
   "outputs": [],
   "source": [
    "keras.losses.IOU_calc_loss = IOU_calc_loss\n",
    "\n",
    "model = unet_model_builder()\n",
    "model.compile(optimizer='adam', loss='IOU_calc_loss', metrics=[IOU_calc])\n",
    "model.load_weights('model/model-aircraft-detection(IOU).h5')  "
   ]
  },
  {
   "cell_type": "code",
   "execution_count": 35,
   "metadata": {
    "ExecuteTime": {
     "end_time": "2018-12-10T09:34:47.564621Z",
     "start_time": "2018-12-10T09:34:47.552085Z"
    }
   },
   "outputs": [
    {
     "name": "stdout",
     "output_type": "stream",
     "text": [
      "__________________________________________________________________________________________________\n",
      "Layer (type)                    Output Shape         Param #     Connected to                     \n",
      "==================================================================================================\n",
      "input_3 (InputLayer)            (None, 960, 1280, 3) 0                                            \n",
      "__________________________________________________________________________________________________\n",
      "batch_normalization_37 (BatchNo (None, 960, 1280, 3) 12          input_3[0][0]                    \n",
      "__________________________________________________________________________________________________\n",
      "conv2d_39 (Conv2D)              (None, 960, 1280, 64 1792        batch_normalization_37[0][0]     \n",
      "__________________________________________________________________________________________________\n",
      "batch_normalization_38 (BatchNo (None, 960, 1280, 64 256         conv2d_39[0][0]                  \n",
      "__________________________________________________________________________________________________\n",
      "conv2d_40 (Conv2D)              (None, 960, 1280, 64 36928       batch_normalization_38[0][0]     \n",
      "__________________________________________________________________________________________________\n",
      "max_pooling2d_9 (MaxPooling2D)  (None, 480, 640, 64) 0           conv2d_40[0][0]                  \n",
      "__________________________________________________________________________________________________\n",
      "batch_normalization_39 (BatchNo (None, 480, 640, 64) 256         max_pooling2d_9[0][0]            \n",
      "__________________________________________________________________________________________________\n",
      "conv2d_41 (Conv2D)              (None, 480, 640, 64) 36928       batch_normalization_39[0][0]     \n",
      "__________________________________________________________________________________________________\n",
      "batch_normalization_40 (BatchNo (None, 480, 640, 64) 256         conv2d_41[0][0]                  \n",
      "__________________________________________________________________________________________________\n",
      "conv2d_42 (Conv2D)              (None, 480, 640, 64) 36928       batch_normalization_40[0][0]     \n",
      "__________________________________________________________________________________________________\n",
      "max_pooling2d_10 (MaxPooling2D) (None, 240, 320, 64) 0           conv2d_42[0][0]                  \n",
      "__________________________________________________________________________________________________\n",
      "batch_normalization_41 (BatchNo (None, 240, 320, 64) 256         max_pooling2d_10[0][0]           \n",
      "__________________________________________________________________________________________________\n",
      "conv2d_43 (Conv2D)              (None, 240, 320, 64) 36928       batch_normalization_41[0][0]     \n",
      "__________________________________________________________________________________________________\n",
      "batch_normalization_42 (BatchNo (None, 240, 320, 64) 256         conv2d_43[0][0]                  \n",
      "__________________________________________________________________________________________________\n",
      "conv2d_44 (Conv2D)              (None, 240, 320, 64) 36928       batch_normalization_42[0][0]     \n",
      "__________________________________________________________________________________________________\n",
      "max_pooling2d_11 (MaxPooling2D) (None, 120, 160, 64) 0           conv2d_44[0][0]                  \n",
      "__________________________________________________________________________________________________\n",
      "batch_normalization_43 (BatchNo (None, 120, 160, 64) 256         max_pooling2d_11[0][0]           \n",
      "__________________________________________________________________________________________________\n",
      "conv2d_45 (Conv2D)              (None, 120, 160, 128 73856       batch_normalization_43[0][0]     \n",
      "__________________________________________________________________________________________________\n",
      "batch_normalization_44 (BatchNo (None, 120, 160, 128 512         conv2d_45[0][0]                  \n",
      "__________________________________________________________________________________________________\n",
      "conv2d_46 (Conv2D)              (None, 120, 160, 128 147584      batch_normalization_44[0][0]     \n",
      "__________________________________________________________________________________________________\n",
      "max_pooling2d_12 (MaxPooling2D) (None, 60, 80, 128)  0           conv2d_46[0][0]                  \n",
      "__________________________________________________________________________________________________\n",
      "batch_normalization_45 (BatchNo (None, 60, 80, 128)  512         max_pooling2d_12[0][0]           \n",
      "__________________________________________________________________________________________________\n",
      "conv2d_47 (Conv2D)              (None, 60, 80, 256)  295168      batch_normalization_45[0][0]     \n",
      "__________________________________________________________________________________________________\n",
      "batch_normalization_46 (BatchNo (None, 60, 80, 256)  1024        conv2d_47[0][0]                  \n",
      "__________________________________________________________________________________________________\n",
      "conv2d_48 (Conv2D)              (None, 60, 80, 256)  590080      batch_normalization_46[0][0]     \n",
      "__________________________________________________________________________________________________\n",
      "conv2d_transpose_9 (Conv2DTrans (None, 120, 160, 128 131200      conv2d_48[0][0]                  \n",
      "__________________________________________________________________________________________________\n",
      "concatenate_9 (Concatenate)     (None, 120, 160, 256 0           conv2d_transpose_9[0][0]         \n",
      "                                                                 conv2d_46[0][0]                  \n",
      "__________________________________________________________________________________________________\n",
      "batch_normalization_47 (BatchNo (None, 120, 160, 256 1024        concatenate_9[0][0]              \n",
      "__________________________________________________________________________________________________\n",
      "conv2d_49 (Conv2D)              (None, 120, 160, 128 295040      batch_normalization_47[0][0]     \n",
      "__________________________________________________________________________________________________\n",
      "batch_normalization_48 (BatchNo (None, 120, 160, 128 512         conv2d_49[0][0]                  \n",
      "__________________________________________________________________________________________________\n",
      "conv2d_50 (Conv2D)              (None, 120, 160, 128 147584      batch_normalization_48[0][0]     \n",
      "__________________________________________________________________________________________________\n",
      "conv2d_transpose_10 (Conv2DTran (None, 240, 320, 64) 32832       conv2d_50[0][0]                  \n",
      "__________________________________________________________________________________________________\n",
      "concatenate_10 (Concatenate)    (None, 240, 320, 128 0           conv2d_transpose_10[0][0]        \n",
      "                                                                 conv2d_44[0][0]                  \n",
      "__________________________________________________________________________________________________\n",
      "batch_normalization_49 (BatchNo (None, 240, 320, 128 512         concatenate_10[0][0]             \n",
      "__________________________________________________________________________________________________\n",
      "conv2d_51 (Conv2D)              (None, 240, 320, 64) 73792       batch_normalization_49[0][0]     \n",
      "__________________________________________________________________________________________________\n",
      "batch_normalization_50 (BatchNo (None, 240, 320, 64) 256         conv2d_51[0][0]                  \n",
      "__________________________________________________________________________________________________\n",
      "conv2d_52 (Conv2D)              (None, 240, 320, 64) 36928       batch_normalization_50[0][0]     \n",
      "__________________________________________________________________________________________________\n",
      "conv2d_transpose_11 (Conv2DTran (None, 480, 640, 64) 16448       conv2d_52[0][0]                  \n",
      "__________________________________________________________________________________________________\n",
      "concatenate_11 (Concatenate)    (None, 480, 640, 128 0           conv2d_transpose_11[0][0]        \n",
      "                                                                 conv2d_42[0][0]                  \n",
      "__________________________________________________________________________________________________\n",
      "batch_normalization_51 (BatchNo (None, 480, 640, 128 512         concatenate_11[0][0]             \n",
      "__________________________________________________________________________________________________\n",
      "conv2d_53 (Conv2D)              (None, 480, 640, 64) 73792       batch_normalization_51[0][0]     \n",
      "__________________________________________________________________________________________________\n",
      "batch_normalization_52 (BatchNo (None, 480, 640, 64) 256         conv2d_53[0][0]                  \n",
      "__________________________________________________________________________________________________\n",
      "conv2d_54 (Conv2D)              (None, 480, 640, 64) 36928       batch_normalization_52[0][0]     \n",
      "__________________________________________________________________________________________________\n",
      "conv2d_transpose_12 (Conv2DTran (None, 960, 1280, 64 16448       conv2d_54[0][0]                  \n",
      "__________________________________________________________________________________________________\n",
      "concatenate_12 (Concatenate)    (None, 960, 1280, 12 0           conv2d_transpose_12[0][0]        \n",
      "                                                                 conv2d_40[0][0]                  \n",
      "__________________________________________________________________________________________________\n",
      "batch_normalization_53 (BatchNo (None, 960, 1280, 12 512         concatenate_12[0][0]             \n",
      "__________________________________________________________________________________________________\n",
      "conv2d_55 (Conv2D)              (None, 960, 1280, 64 73792       batch_normalization_53[0][0]     \n",
      "__________________________________________________________________________________________________\n",
      "batch_normalization_54 (BatchNo (None, 960, 1280, 64 256         conv2d_55[0][0]                  \n",
      "__________________________________________________________________________________________________\n",
      "conv2d_56 (Conv2D)              (None, 960, 1280, 64 36928       batch_normalization_54[0][0]     \n",
      "__________________________________________________________________________________________________\n",
      "conv2d_57 (Conv2D)              (None, 960, 1280, 1) 65          conv2d_56[0][0]                  \n",
      "==================================================================================================\n",
      "Total params: 2,272,333\n",
      "Trainable params: 2,268,615\n",
      "Non-trainable params: 3,718\n",
      "__________________________________________________________________________________________________\n"
     ]
    }
   ],
   "source": [
    "model.summary()"
   ]
  },
  {
   "cell_type": "code",
   "execution_count": 36,
   "metadata": {
    "ExecuteTime": {
     "end_time": "2018-12-10T09:38:04.204536Z",
     "start_time": "2018-12-10T09:38:04.198976Z"
    }
   },
   "outputs": [],
   "source": [
    "def draw_labeled_bboxes(img, labels):\n",
    "    # Iterate through all detected aircrafts\n",
    "    for aircraft_number in range(1, labels[1]+1):\n",
    "        # Find pixels with each aircraft_number label value\n",
    "        nonzero = (labels[0] == aircraft_number).nonzero()\n",
    "        # Identify x and y values of those pixels\n",
    "        nonzeroy = np.array(nonzero[0])\n",
    "        nonzerox = np.array(nonzero[1])\n",
    "        # Define a bounding box based on min/max x and y\n",
    "        if (np.max(nonzeroy)-np.min(nonzeroy)) * (np.max(nonzerox)-np.min(nonzerox)) >= 2500:\n",
    "            bbox = ((np.min(nonzerox), np.min(nonzeroy)), (np.max(nonzerox), np.max(nonzeroy)))\n",
    "            # Draw the box on the image\n",
    "            print(bbox)\n",
    "            cv2.rectangle(img, bbox[0], bbox[1], (0,255,0), 3)\n",
    "    # Return the image\n",
    "    return img"
   ]
  },
  {
   "cell_type": "code",
   "execution_count": 37,
   "metadata": {
    "ExecuteTime": {
     "end_time": "2018-12-10T09:38:04.828897Z",
     "start_time": "2018-12-10T09:38:04.824450Z"
    }
   },
   "outputs": [],
   "source": [
    "def test_new_img(img):\n",
    "    # Test Unet on new image\n",
    "    img = resize(img,(IMG_HEIGHT, IMG_WIDTH), mode='constant')\n",
    "    img = np.reshape(img,(1,IMG_HEIGHT, IMG_WIDTH, IMG_CHANNELS))\n",
    "    pred = model.predict(img)\n",
    "#     pred = (pred > 0.9).astype(int)\n",
    "    return pred,img[0]"
   ]
  },
  {
   "cell_type": "code",
   "execution_count": 38,
   "metadata": {
    "ExecuteTime": {
     "end_time": "2018-12-10T09:38:06.438678Z",
     "start_time": "2018-12-10T09:38:06.433813Z"
    }
   },
   "outputs": [],
   "source": [
    "def get_BB_new_img(img):\n",
    "    \n",
    "    # Take in RGB image\n",
    "    pred,img = test_new_img(img)\n",
    "    img  = np.array(255*img,dtype= np.uint8)\n",
    "    img_pred = np.array(255*pred[0],dtype=np.uint8)\n",
    "    heatmap = img_pred[:,:,0]\n",
    "    heatmap = smooth_heatmap(heatmap)\n",
    "    heatmap = (heatmap >= 0.6*255).astype(int)\n",
    "    \n",
    "    # Use Scipy label function to segregate each individual aircraft in the predicted mask\n",
    "    labels = label(heatmap) # returns a tuple of (labeled array, number of features)\n",
    "    draw_img = draw_labeled_bboxes(np.copy(img), labels)\n",
    "    return draw_img"
   ]
  },
  {
   "cell_type": "code",
   "execution_count": 39,
   "metadata": {
    "ExecuteTime": {
     "end_time": "2018-12-10T09:38:20.401300Z",
     "start_time": "2018-12-10T09:38:20.397760Z"
    }
   },
   "outputs": [],
   "source": [
    "def get_Unet_mask(img):\n",
    "    # Take in RGB image\n",
    "    pred,img = test_new_img(img)\n",
    "    img  = np.array(255*img,dtype= np.uint8)\n",
    "    img_pred = np.array(255*pred[0],dtype=np.uint8)\n",
    "    heatmap = img_pred[:,:,0]\n",
    "    heatmap = smooth_heatmap(heatmap)\n",
    "    labels = label(heatmap)\n",
    "    return heatmap"
   ]
  },
  {
   "cell_type": "code",
   "execution_count": 40,
   "metadata": {
    "ExecuteTime": {
     "end_time": "2018-12-10T09:38:22.681060Z",
     "start_time": "2018-12-10T09:38:22.677577Z"
    }
   },
   "outputs": [],
   "source": [
    "def pipeline_process_airport(image):\n",
    "    result = get_BB_new_img(image)\n",
    "    return result"
   ]
  },
  {
   "cell_type": "code",
   "execution_count": 41,
   "metadata": {
    "ExecuteTime": {
     "end_time": "2018-12-10T09:35:23.435167Z",
     "start_time": "2018-12-10T09:35:23.431684Z"
    }
   },
   "outputs": [],
   "source": [
    "# Import everything needed to edit/save/watch video clips\n",
    "from moviepy.editor import VideoFileClip\n",
    "from IPython.display import HTML"
   ]
  },
  {
   "cell_type": "code",
   "execution_count": null,
   "metadata": {
    "ExecuteTime": {
     "end_time": "2018-12-10T07:14:43.718276Z",
     "start_time": "2018-12-10T07:13:54.733655Z"
    }
   },
   "outputs": [],
   "source": [
    "# clip = VideoFileClip(\"video/KLM_taxiing.mp4\");\n",
    "# white_clip = clip.subclip(15,90)\n",
    "# %time white_clip.write_videofile(short, audio=False);"
   ]
  },
  {
   "cell_type": "code",
   "execution_count": null,
   "metadata": {
    "ExecuteTime": {
     "end_time": "2018-12-10T17:36:15.215336Z",
     "start_time": "2018-12-10T17:35:31.763622Z"
    }
   },
   "outputs": [],
   "source": [
    "# Detect aircrafts in london_short.mp4 video\n",
    "demo_london_path = 'video/london_short_demo.mp4'\n",
    "clip_london = VideoFileClip('video/london_short.mp4');\n",
    "demo_london = clip_london.fl_image(pipeline_process_airport)\n",
    "%time demo_london.write_videofile(demo_london_path, audio=False);"
   ]
  },
  {
   "cell_type": "code",
   "execution_count": null,
   "metadata": {
    "ExecuteTime": {
     "end_time": "2018-12-10T16:28:15.878310Z",
     "start_time": "2018-12-10T09:38:33.922545Z"
    }
   },
   "outputs": [],
   "source": [
    "# Detect aircrafts in KLM_taxiing_short.mp4 video\n",
    "demo_klm_path = 'video/KLM_taxiing_short_demo.mp4'\n",
    "clip_klm = VideoFileClip('video/KLM_taxiing_short.mp4');\n",
    "demo_klm = clip_klm.fl_image(pipeline_process_airport)\n",
    "%time demo_klm.write_videofile(demo_klm_path, audio=False);"
   ]
  },
  {
   "cell_type": "code",
   "execution_count": null,
   "metadata": {},
   "outputs": [
    {
     "name": "stdout",
     "output_type": "stream",
     "text": [
      "[MoviePy] >>>> Building video video/eva_demo.mp4\n",
      "[MoviePy] Writing video video/eva_demo.mp4\n"
     ]
    },
    {
     "name": "stderr",
     "output_type": "stream",
     "text": [
      "\n",
      "\n",
      "  0%|          | 0/2398 [00:00<?, ?it/s]\u001b[A\u001b[A\n",
      "\n",
      "  0%|          | 1/2398 [00:02<1:21:42,  2.05s/it]\u001b[A\u001b[A\n",
      "\n",
      "  0%|          | 2/2398 [00:04<1:23:19,  2.09s/it]\u001b[A\u001b[A\n",
      "\n",
      "  0%|          | 3/2398 [00:06<1:24:45,  2.12s/it]\u001b[A\u001b[A\n",
      "\n",
      "  0%|          | 4/2398 [00:08<1:24:43,  2.12s/it]\u001b[A\u001b[A"
     ]
    },
    {
     "name": "stdout",
     "output_type": "stream",
     "text": [
      "((784, 486), (839, 545))\n",
      "((342, 502), (467, 569))\n",
      "((616, 552), (721, 576))\n",
      "((258, 819), (329, 863))\n"
     ]
    },
    {
     "name": "stderr",
     "output_type": "stream",
     "text": [
      "\n",
      "\n",
      "  0%|          | 5/2398 [00:10<1:28:11,  2.21s/it]\u001b[A\u001b[A"
     ]
    },
    {
     "name": "stdout",
     "output_type": "stream",
     "text": [
      "((782, 486), (855, 546))\n",
      "((313, 501), (497, 570))\n",
      "((611, 551), (723, 577))\n",
      "((206, 818), (361, 869))\n"
     ]
    },
    {
     "name": "stderr",
     "output_type": "stream",
     "text": [
      "\n",
      "\n",
      "  0%|          | 6/2398 [00:13<1:31:49,  2.30s/it]\u001b[A\u001b[A"
     ]
    },
    {
     "name": "stdout",
     "output_type": "stream",
     "text": [
      "((994, 842), (1059, 885))\n",
      "((924, 863), (983, 906))\n",
      "((782, 486), (855, 546))\n",
      "((313, 500), (497, 571))\n",
      "((610, 551), (723, 577))\n"
     ]
    },
    {
     "name": "stderr",
     "output_type": "stream",
     "text": [
      "\n",
      "\n",
      "  0%|          | 7/2398 [00:16<1:36:05,  2.41s/it]\u001b[A\u001b[A"
     ]
    },
    {
     "name": "stdout",
     "output_type": "stream",
     "text": [
      "((206, 818), (363, 869))\n",
      "((994, 842), (1059, 885))\n",
      "((924, 863), (983, 906))\n",
      "((782, 486), (855, 546))\n",
      "((312, 500), (497, 571))\n",
      "((610, 551), (723, 577))\n"
     ]
    },
    {
     "name": "stderr",
     "output_type": "stream",
     "text": [
      "\n",
      "\n",
      "  0%|          | 8/2398 [00:18<1:38:48,  2.48s/it]\u001b[A\u001b[A"
     ]
    },
    {
     "name": "stdout",
     "output_type": "stream",
     "text": [
      "((206, 818), (365, 893))\n",
      "((994, 842), (1059, 885))\n",
      "((924, 863), (983, 906))\n",
      "((782, 486), (857, 546))\n",
      "((310, 500), (497, 571))\n",
      "((610, 551), (723, 577))\n"
     ]
    },
    {
     "name": "stderr",
     "output_type": "stream",
     "text": [
      "\n",
      "\n"
     ]
    },
    {
     "name": "stdout",
     "output_type": "stream",
     "text": [
      "((206, 818), (370, 900))\n",
      "((994, 842), (1059, 885))\n",
      "((924, 862), (983, 906))\n"
     ]
    },
    {
     "name": "stderr",
     "output_type": "stream",
     "text": [
      "  0%|          | 9/2398 [00:21<1:41:06,  2.54s/it]\u001b[A\u001b[A"
     ]
    },
    {
     "name": "stdout",
     "output_type": "stream",
     "text": [
      "((782, 486), (855, 546))\n",
      "((310, 500), (496, 570))\n",
      "((610, 551), (722, 577))\n"
     ]
    },
    {
     "name": "stderr",
     "output_type": "stream",
     "text": [
      "\n",
      "\n",
      "  0%|          | 10/2398 [00:24<1:41:01,  2.54s/it]\u001b[A\u001b[A"
     ]
    },
    {
     "name": "stdout",
     "output_type": "stream",
     "text": [
      "((206, 818), (370, 900))\n",
      "((995, 842), (1059, 885))\n",
      "((924, 862), (983, 906))\n",
      "((782, 486), (853, 546))\n",
      "((310, 500), (496, 570))\n",
      "((610, 551), (721, 576))\n",
      "((206, 818), (370, 900))\n",
      "((995, 842), (1059, 885))\n",
      "((924, 862), (981, 906))\n"
     ]
    },
    {
     "name": "stderr",
     "output_type": "stream",
     "text": [
      "\n",
      "\n",
      "  0%|          | 11/2398 [00:26<1:42:19,  2.57s/it]\u001b[A\u001b[A"
     ]
    },
    {
     "name": "stdout",
     "output_type": "stream",
     "text": [
      "((782, 486), (853, 546))\n",
      "((309, 500), (496, 570))\n",
      "((610, 551), (721, 576))\n",
      "((206, 818), (370, 900))\n",
      "((995, 842), (1059, 885))\n",
      "((924, 862), (981, 906))\n"
     ]
    },
    {
     "name": "stderr",
     "output_type": "stream",
     "text": [
      "\n",
      "\n",
      "  1%|          | 12/2398 [00:29<1:42:33,  2.58s/it]\u001b[A\u001b[A"
     ]
    },
    {
     "name": "stdout",
     "output_type": "stream",
     "text": [
      "((309, 486), (496, 570))\n",
      "((781, 486), (853, 546))\n",
      "((610, 551), (717, 576))\n",
      "((206, 818), (373, 901))\n",
      "((995, 842), (1059, 885))\n",
      "((924, 862), (981, 906))\n"
     ]
    },
    {
     "name": "stderr",
     "output_type": "stream",
     "text": [
      "\n",
      "\n",
      "  1%|          | 13/2398 [00:31<1:43:35,  2.61s/it]\u001b[A\u001b[A"
     ]
    },
    {
     "name": "stdout",
     "output_type": "stream",
     "text": [
      "((308, 486), (496, 570))\n",
      "((781, 486), (852, 546))\n",
      "((612, 552), (717, 576))\n"
     ]
    },
    {
     "name": "stderr",
     "output_type": "stream",
     "text": [
      "\n",
      "\n",
      "  1%|          | 14/2398 [00:34<1:43:37,  2.61s/it]\u001b[A\u001b[A"
     ]
    },
    {
     "name": "stdout",
     "output_type": "stream",
     "text": [
      "((206, 818), (373, 901))\n",
      "((995, 842), (1059, 885))\n",
      "((924, 862), (981, 907))\n",
      "((780, 486), (851, 546))\n",
      "((2, 494), (90, 532))\n",
      "((308, 498), (496, 570))\n",
      "((206, 818), (373, 903))\n"
     ]
    },
    {
     "name": "stderr",
     "output_type": "stream",
     "text": [
      "\n",
      "\n",
      "  1%|          | 15/2398 [00:37<1:44:15,  2.63s/it]\u001b[A\u001b[A"
     ]
    },
    {
     "name": "stdout",
     "output_type": "stream",
     "text": [
      "((779, 488), (850, 546))\n",
      "((2, 494), (90, 532))\n",
      "((308, 498), (496, 570))\n",
      "((206, 818), (371, 903))\n"
     ]
    },
    {
     "name": "stderr",
     "output_type": "stream",
     "text": [
      "\n",
      "\n",
      "  1%|          | 16/2398 [00:39<1:44:32,  2.63s/it]\u001b[A\u001b[A"
     ]
    },
    {
     "name": "stdout",
     "output_type": "stream",
     "text": [
      "((778, 488), (849, 546))\n",
      "((307, 489), (503, 570))\n",
      "((2, 493), (93, 533))\n",
      "((249, 818), (373, 903))\n"
     ]
    },
    {
     "name": "stderr",
     "output_type": "stream",
     "text": [
      "\n",
      "\n",
      "  1%|          | 17/2398 [00:42<1:44:12,  2.63s/it]\u001b[A\u001b[A"
     ]
    },
    {
     "name": "stdout",
     "output_type": "stream",
     "text": [
      "((778, 487), (849, 547))\n",
      "((301, 488), (503, 570))\n",
      "((1, 493), (109, 533))\n",
      "((250, 818), (373, 904))\n"
     ]
    },
    {
     "name": "stderr",
     "output_type": "stream",
     "text": [
      "\n",
      "\n",
      "  1%|          | 18/2398 [00:45<1:46:01,  2.67s/it]\u001b[A\u001b[A"
     ]
    },
    {
     "name": "stdout",
     "output_type": "stream",
     "text": [
      "((301, 487), (503, 570))\n",
      "((776, 487), (849, 547))\n",
      "((1, 493), (109, 532))\n",
      "((250, 818), (373, 904))\n"
     ]
    },
    {
     "name": "stderr",
     "output_type": "stream",
     "text": [
      "\n",
      "\n",
      "  1%|          | 19/2398 [00:47<1:45:49,  2.67s/it]\u001b[A\u001b[A"
     ]
    },
    {
     "name": "stdout",
     "output_type": "stream",
     "text": [
      "((774, 486), (849, 547))\n",
      "((291, 487), (505, 570))\n",
      "((1, 494), (109, 532))\n",
      "((253, 818), (373, 904))\n"
     ]
    },
    {
     "name": "stderr",
     "output_type": "stream",
     "text": [
      "\n",
      "\n",
      "  1%|          | 20/2398 [00:50<1:45:46,  2.67s/it]\u001b[A\u001b[A"
     ]
    },
    {
     "name": "stdout",
     "output_type": "stream",
     "text": [
      "((774, 486), (849, 547))\n",
      "((291, 487), (506, 571))\n",
      "((1, 494), (109, 541))\n",
      "((250, 818), (373, 904))\n",
      "((924, 863), (981, 907))\n"
     ]
    },
    {
     "name": "stderr",
     "output_type": "stream",
     "text": [
      "\n",
      "\n",
      "  1%|          | 21/2398 [00:53<1:46:08,  2.68s/it]\u001b[A\u001b[A"
     ]
    },
    {
     "name": "stdout",
     "output_type": "stream",
     "text": [
      "((774, 486), (849, 547))\n",
      "((290, 488), (507, 571))\n",
      "((1, 494), (109, 541))\n",
      "((250, 818), (373, 904))\n"
     ]
    },
    {
     "name": "stderr",
     "output_type": "stream",
     "text": [
      "\n",
      "\n",
      "  1%|          | 22/2398 [00:55<1:45:29,  2.66s/it]\u001b[A\u001b[A"
     ]
    },
    {
     "name": "stdout",
     "output_type": "stream",
     "text": [
      "((773, 486), (849, 547))\n",
      "((290, 487), (507, 571))\n",
      "((1, 494), (109, 533))\n",
      "((250, 818), (373, 904))\n"
     ]
    },
    {
     "name": "stderr",
     "output_type": "stream",
     "text": [
      "\n",
      "\n",
      "  1%|          | 23/2398 [00:58<1:46:23,  2.69s/it]\u001b[A\u001b[A"
     ]
    },
    {
     "name": "stdout",
     "output_type": "stream",
     "text": [
      "((323, 487), (507, 571))\n",
      "((771, 487), (849, 547))\n",
      "((1, 494), (119, 536))\n",
      "((250, 818), (375, 904))\n",
      "((995, 842), (1059, 884))\n",
      "((924, 863), (983, 906))\n"
     ]
    },
    {
     "name": "stderr",
     "output_type": "stream",
     "text": [
      "\n",
      "\n",
      "  1%|          | 24/2398 [01:01<1:45:47,  2.67s/it]\u001b[A\u001b[A"
     ]
    },
    {
     "name": "stdout",
     "output_type": "stream",
     "text": [
      "((770, 486), (849, 547))\n",
      "((323, 487), (505, 571))\n",
      "((1, 494), (109, 536))\n",
      "((612, 552), (717, 576))\n",
      "((249, 818), (375, 905))\n",
      "((994, 842), (1059, 887))\n",
      "((924, 862), (983, 907))\n"
     ]
    },
    {
     "name": "stderr",
     "output_type": "stream",
     "text": [
      "\n",
      "\n",
      "  1%|          | 25/2398 [01:03<1:44:26,  2.64s/it]\u001b[A\u001b[A"
     ]
    },
    {
     "name": "stdout",
     "output_type": "stream",
     "text": [
      "((770, 486), (849, 547))\n",
      "((330, 487), (502, 571))\n",
      "((1, 494), (109, 536))\n",
      "((250, 818), (375, 905))\n",
      "((994, 835), (1059, 909))\n",
      "((924, 862), (983, 907))\n"
     ]
    },
    {
     "name": "stderr",
     "output_type": "stream",
     "text": [
      "\n",
      "\n",
      "  1%|          | 26/2398 [01:06<1:44:04,  2.63s/it]\u001b[A\u001b[A"
     ]
    },
    {
     "name": "stdout",
     "output_type": "stream",
     "text": [
      "((770, 486), (849, 547))\n",
      "((332, 487), (494, 571))\n",
      "((2, 500), (109, 535))\n",
      "((253, 818), (373, 905))\n",
      "((993, 835), (1059, 909))\n",
      "((924, 862), (983, 907))\n"
     ]
    },
    {
     "name": "stderr",
     "output_type": "stream",
     "text": [
      "\n",
      "\n",
      "  1%|          | 27/2398 [01:09<1:44:40,  2.65s/it]\u001b[A\u001b[A"
     ]
    },
    {
     "name": "stdout",
     "output_type": "stream",
     "text": [
      "((332, 486), (489, 571))\n",
      "((770, 486), (849, 547))\n",
      "((206, 818), (373, 904))\n",
      "((993, 834), (1061, 909))\n",
      "((924, 862), (983, 907))\n"
     ]
    },
    {
     "name": "stderr",
     "output_type": "stream",
     "text": [
      "\n",
      "\n",
      "  1%|          | 28/2398 [01:11<1:45:13,  2.66s/it]\u001b[A\u001b[A"
     ]
    },
    {
     "name": "stdout",
     "output_type": "stream",
     "text": [
      "((332, 486), (488, 571))\n",
      "((770, 488), (849, 547))\n"
     ]
    },
    {
     "name": "stderr",
     "output_type": "stream",
     "text": [
      "\n",
      "\n",
      "  1%|          | 29/2398 [01:14<1:44:14,  2.64s/it]\u001b[A\u001b[A"
     ]
    },
    {
     "name": "stdout",
     "output_type": "stream",
     "text": [
      "((206, 818), (373, 903))\n",
      "((993, 834), (1061, 909))\n",
      "((924, 863), (983, 907))\n",
      "((332, 486), (488, 571))\n",
      "((770, 486), (849, 547))\n",
      "((604, 552), (711, 576))\n",
      "((254, 818), (371, 903))\n"
     ]
    },
    {
     "name": "stderr",
     "output_type": "stream",
     "text": [
      "\n",
      "\n",
      "  1%|▏         | 30/2398 [01:17<1:46:17,  2.69s/it]\u001b[A\u001b[A"
     ]
    },
    {
     "name": "stdout",
     "output_type": "stream",
     "text": [
      "((993, 834), (1061, 909))\n",
      "((924, 863), (983, 907))\n",
      "((301, 486), (488, 571))\n",
      "((770, 486), (849, 547))\n"
     ]
    },
    {
     "name": "stderr",
     "output_type": "stream",
     "text": [
      "\n",
      "\n",
      "  1%|▏         | 31/2398 [01:19<1:46:35,  2.70s/it]\u001b[A\u001b[A"
     ]
    },
    {
     "name": "stdout",
     "output_type": "stream",
     "text": [
      "((254, 818), (371, 903))\n",
      "((993, 834), (1061, 909))\n",
      "((924, 863), (983, 907))\n",
      "((301, 486), (488, 571))\n",
      "((762, 486), (849, 548))\n",
      "((254, 819), (371, 903))\n",
      "((993, 834), (1066, 909))\n",
      "((924, 863), (983, 907))\n"
     ]
    },
    {
     "name": "stderr",
     "output_type": "stream",
     "text": [
      "\n",
      "\n",
      "  1%|▏         | 32/2398 [01:22<1:47:59,  2.74s/it]\u001b[A\u001b[A"
     ]
    },
    {
     "name": "stdout",
     "output_type": "stream",
     "text": [
      "((300, 486), (488, 571))\n",
      "((762, 486), (850, 549))\n",
      "((604, 552), (708, 577))\n",
      "((254, 819), (371, 903))\n",
      "((994, 834), (1061, 909))\n"
     ]
    },
    {
     "name": "stderr",
     "output_type": "stream",
     "text": [
      "\n",
      "\n",
      "  1%|▏         | 33/2398 [01:25<1:48:24,  2.75s/it]\u001b[A\u001b[A"
     ]
    },
    {
     "name": "stdout",
     "output_type": "stream",
     "text": [
      "((924, 863), (983, 907))\n",
      "((300, 486), (488, 571))\n",
      "((762, 489), (850, 549))\n"
     ]
    },
    {
     "name": "stderr",
     "output_type": "stream",
     "text": [
      "\n",
      "\n",
      "  1%|▏         | 34/2398 [01:28<1:47:15,  2.72s/it]\u001b[A\u001b[A"
     ]
    },
    {
     "name": "stdout",
     "output_type": "stream",
     "text": [
      "((254, 819), (371, 903))\n",
      "((994, 834), (1061, 909))\n",
      "((924, 863), (983, 907))\n",
      "((300, 486), (487, 571))\n",
      "((762, 491), (853, 549))\n"
     ]
    },
    {
     "name": "stderr",
     "output_type": "stream",
     "text": [
      "\n",
      "\n",
      "  1%|▏         | 35/2398 [01:30<1:45:58,  2.69s/it]\u001b[A\u001b[A"
     ]
    },
    {
     "name": "stdout",
     "output_type": "stream",
     "text": [
      "((254, 819), (371, 903))\n",
      "((994, 834), (1061, 909))\n",
      "((924, 863), (983, 907))\n",
      "((300, 486), (487, 571))\n",
      "((762, 491), (855, 549))\n"
     ]
    },
    {
     "name": "stderr",
     "output_type": "stream",
     "text": [
      "\n",
      "\n",
      "  2%|▏         | 36/2398 [01:33<1:44:42,  2.66s/it]\u001b[A\u001b[A"
     ]
    },
    {
     "name": "stdout",
     "output_type": "stream",
     "text": [
      "((254, 819), (371, 901))\n",
      "((994, 834), (1061, 909))\n",
      "((924, 863), (983, 907))\n",
      "((298, 486), (487, 571))\n",
      "((770, 491), (855, 548))\n"
     ]
    },
    {
     "name": "stderr",
     "output_type": "stream",
     "text": [
      "\n",
      "\n",
      "  2%|▏         | 37/2398 [01:36<1:44:29,  2.66s/it]\u001b[A\u001b[A"
     ]
    },
    {
     "name": "stdout",
     "output_type": "stream",
     "text": [
      "((254, 819), (371, 901))\n",
      "((994, 834), (1061, 893))\n",
      "((298, 486), (485, 571))\n",
      "((770, 491), (855, 548))\n"
     ]
    },
    {
     "name": "stderr",
     "output_type": "stream",
     "text": [
      "\n",
      "\n",
      "  2%|▏         | 38/2398 [01:38<1:45:04,  2.67s/it]\u001b[A\u001b[A"
     ]
    },
    {
     "name": "stdout",
     "output_type": "stream",
     "text": [
      "((254, 818), (371, 901))\n",
      "((994, 834), (1061, 893))\n",
      "((298, 487), (484, 571))\n",
      "((770, 491), (855, 548))\n",
      "((604, 552), (708, 577))\n"
     ]
    },
    {
     "name": "stderr",
     "output_type": "stream",
     "text": [
      "\n",
      "\n",
      "  2%|▏         | 39/2398 [01:41<1:44:41,  2.66s/it]\u001b[A\u001b[A"
     ]
    },
    {
     "name": "stdout",
     "output_type": "stream",
     "text": [
      "((254, 818), (370, 903))\n",
      "((994, 834), (1067, 893))\n",
      "((297, 487), (484, 571))\n",
      "((770, 491), (853, 547))\n",
      "((604, 552), (708, 577))\n"
     ]
    },
    {
     "name": "stderr",
     "output_type": "stream",
     "text": [
      "\n",
      "\n",
      "  2%|▏         | 40/2398 [01:44<1:44:01,  2.65s/it]\u001b[A\u001b[A"
     ]
    },
    {
     "name": "stdout",
     "output_type": "stream",
     "text": [
      "((254, 818), (370, 903))\n",
      "((994, 834), (1067, 893))\n",
      "((297, 487), (484, 571))\n",
      "((770, 491), (853, 546))\n",
      "((604, 552), (708, 577))\n"
     ]
    },
    {
     "name": "stderr",
     "output_type": "stream",
     "text": [
      "\n",
      "\n",
      "  2%|▏         | 41/2398 [01:46<1:44:37,  2.66s/it]\u001b[A\u001b[A"
     ]
    },
    {
     "name": "stdout",
     "output_type": "stream",
     "text": [
      "((254, 818), (409, 901))\n",
      "((994, 834), (1067, 893))\n",
      "((297, 488), (483, 571))\n",
      "((770, 491), (853, 546))\n"
     ]
    },
    {
     "name": "stderr",
     "output_type": "stream",
     "text": [
      "\n",
      "\n",
      "  2%|▏         | 42/2398 [01:49<1:45:04,  2.68s/it]\u001b[A\u001b[A"
     ]
    },
    {
     "name": "stdout",
     "output_type": "stream",
     "text": [
      "((254, 818), (410, 901))\n",
      "((994, 833), (1067, 897))\n",
      "((297, 488), (483, 571))\n",
      "((770, 491), (853, 546))\n"
     ]
    },
    {
     "name": "stderr",
     "output_type": "stream",
     "text": [
      "\n",
      "\n",
      "  2%|▏         | 43/2398 [01:52<1:45:14,  2.68s/it]\u001b[A\u001b[A"
     ]
    },
    {
     "name": "stdout",
     "output_type": "stream",
     "text": [
      "((254, 818), (461, 896))\n",
      "((994, 833), (1067, 897))\n",
      "((298, 489), (483, 571))\n",
      "((770, 491), (866, 545))\n"
     ]
    },
    {
     "name": "stderr",
     "output_type": "stream",
     "text": [
      "\n",
      "\n",
      "  2%|▏         | 44/2398 [01:54<1:46:18,  2.71s/it]\u001b[A\u001b[A"
     ]
    },
    {
     "name": "stdout",
     "output_type": "stream",
     "text": [
      "((254, 818), (461, 896))\n",
      "((994, 833), (1067, 897))\n",
      "((295, 489), (483, 571))\n",
      "((770, 490), (866, 545))\n"
     ]
    },
    {
     "name": "stderr",
     "output_type": "stream",
     "text": [
      "\n",
      "\n",
      "  2%|▏         | 45/2398 [01:57<1:46:33,  2.72s/it]\u001b[A\u001b[A"
     ]
    },
    {
     "name": "stdout",
     "output_type": "stream",
     "text": [
      "((214, 818), (461, 896))\n",
      "((994, 833), (1067, 897))\n",
      "((758, 488), (853, 545))\n",
      "((286, 489), (482, 571))\n"
     ]
    },
    {
     "name": "stderr",
     "output_type": "stream",
     "text": [
      "\n",
      "\n",
      "  2%|▏         | 46/2398 [02:00<1:47:01,  2.73s/it]\u001b[A\u001b[A"
     ]
    },
    {
     "name": "stdout",
     "output_type": "stream",
     "text": [
      "((207, 818), (461, 896))\n",
      "((994, 834), (1067, 897))\n",
      "((758, 488), (852, 546))\n",
      "((286, 489), (482, 571))\n"
     ]
    },
    {
     "name": "stderr",
     "output_type": "stream",
     "text": [
      "\n",
      "\n",
      "  2%|▏         | 47/2398 [02:03<1:46:44,  2.72s/it]\u001b[A\u001b[A"
     ]
    },
    {
     "name": "stdout",
     "output_type": "stream",
     "text": [
      "((213, 818), (461, 889))\n",
      "((994, 834), (1067, 897))\n",
      "((924, 862), (981, 906))\n",
      "((282, 489), (482, 571))\n",
      "((757, 490), (852, 546))\n"
     ]
    },
    {
     "name": "stderr",
     "output_type": "stream",
     "text": [
      "\n",
      "\n",
      "  2%|▏         | 48/2398 [02:05<1:45:47,  2.70s/it]\u001b[A\u001b[A"
     ]
    },
    {
     "name": "stdout",
     "output_type": "stream",
     "text": [
      "((214, 810), (461, 889))\n",
      "((994, 834), (1067, 897))\n",
      "((924, 862), (982, 907))\n",
      "((757, 488), (838, 546))\n",
      "((278, 490), (481, 570))\n"
     ]
    },
    {
     "name": "stderr",
     "output_type": "stream",
     "text": [
      "\n",
      "\n",
      "  2%|▏         | 49/2398 [02:08<1:45:36,  2.70s/it]\u001b[A\u001b[A"
     ]
    },
    {
     "name": "stdout",
     "output_type": "stream",
     "text": [
      "((214, 810), (461, 889))\n",
      "((994, 834), (1067, 897))\n",
      "((924, 862), (983, 906))\n",
      "((757, 488), (835, 546))\n",
      "((277, 494), (481, 570))\n"
     ]
    },
    {
     "name": "stderr",
     "output_type": "stream",
     "text": [
      "\n",
      "\n",
      "  2%|▏         | 50/2398 [02:11<1:45:36,  2.70s/it]\u001b[A\u001b[A"
     ]
    },
    {
     "name": "stdout",
     "output_type": "stream",
     "text": [
      "((207, 810), (461, 889))\n",
      "((993, 834), (1067, 909))\n",
      "((924, 862), (985, 906))\n",
      "((757, 488), (833, 546))\n",
      "((277, 497), (481, 570))\n"
     ]
    },
    {
     "name": "stderr",
     "output_type": "stream",
     "text": [
      "\n",
      "\n",
      "  2%|▏         | 51/2398 [02:13<1:44:28,  2.67s/it]\u001b[A\u001b[A"
     ]
    },
    {
     "name": "stdout",
     "output_type": "stream",
     "text": [
      "((207, 810), (461, 896))\n",
      "((993, 834), (1067, 909))\n",
      "((924, 862), (985, 906))\n",
      "((757, 488), (832, 546))\n",
      "((276, 498), (481, 569))\n"
     ]
    },
    {
     "name": "stderr",
     "output_type": "stream",
     "text": [
      "\n",
      "\n",
      "  2%|▏         | 52/2398 [02:16<1:43:54,  2.66s/it]\u001b[A\u001b[A"
     ]
    },
    {
     "name": "stdout",
     "output_type": "stream",
     "text": [
      "((222, 810), (461, 896))\n",
      "((993, 834), (1067, 909))\n",
      "((924, 862), (985, 906))\n",
      "((758, 491), (829, 546))\n",
      "((276, 499), (482, 569))\n",
      "((222, 810), (461, 896))\n"
     ]
    },
    {
     "name": "stderr",
     "output_type": "stream",
     "text": [
      "\n",
      "\n",
      "  2%|▏         | 53/2398 [02:18<1:42:27,  2.62s/it]\u001b[A\u001b[A"
     ]
    },
    {
     "name": "stdout",
     "output_type": "stream",
     "text": [
      "((993, 834), (1067, 909))\n",
      "((924, 862), (983, 906))\n",
      "((275, 498), (483, 569))\n",
      "((765, 498), (828, 547))\n",
      "((1, 499), (85, 541))\n",
      "((222, 802), (461, 896))\n"
     ]
    },
    {
     "name": "stderr",
     "output_type": "stream",
     "text": [
      "\n",
      "\n",
      "  2%|▏         | 54/2398 [02:21<1:40:18,  2.57s/it]\u001b[A\u001b[A"
     ]
    },
    {
     "name": "stdout",
     "output_type": "stream",
     "text": [
      "((992, 834), (1067, 909))\n",
      "((924, 862), (983, 906))\n",
      "((274, 498), (483, 569))\n",
      "((1, 499), (90, 544))\n",
      "((765, 499), (828, 547))\n"
     ]
    },
    {
     "name": "stderr",
     "output_type": "stream",
     "text": [
      "\n",
      "\n",
      "  2%|▏         | 55/2398 [02:23<1:40:02,  2.56s/it]\u001b[A\u001b[A"
     ]
    },
    {
     "name": "stdout",
     "output_type": "stream",
     "text": [
      "((223, 810), (461, 896))\n",
      "((993, 834), (1069, 909))\n",
      "((924, 862), (983, 906))\n",
      "((274, 498), (481, 569))\n",
      "((1, 500), (92, 545))\n",
      "((764, 501), (827, 547))\n"
     ]
    },
    {
     "name": "stderr",
     "output_type": "stream",
     "text": [
      "\n",
      "\n",
      "  2%|▏         | 56/2398 [02:26<1:40:10,  2.57s/it]\u001b[A\u001b[A"
     ]
    },
    {
     "name": "stdout",
     "output_type": "stream",
     "text": [
      "((223, 810), (461, 896))\n",
      "((993, 834), (1069, 909))\n",
      "((924, 862), (982, 906))\n",
      "((274, 498), (481, 569))\n",
      "((1, 500), (90, 548))\n"
     ]
    },
    {
     "name": "stderr",
     "output_type": "stream",
     "text": [
      "\n",
      "\n",
      "  2%|▏         | 57/2398 [02:29<1:40:01,  2.56s/it]\u001b[A\u001b[A"
     ]
    },
    {
     "name": "stdout",
     "output_type": "stream",
     "text": [
      "((223, 802), (461, 896))\n",
      "((993, 834), (1069, 909))\n",
      "((924, 862), (981, 906))\n",
      "((274, 498), (480, 569))\n",
      "((1, 500), (90, 548))\n",
      "((590, 552), (697, 576))\n",
      "((223, 802), (461, 895))\n"
     ]
    },
    {
     "name": "stderr",
     "output_type": "stream",
     "text": [
      "\n",
      "\n",
      "  2%|▏         | 58/2398 [02:31<1:39:20,  2.55s/it]\u001b[A\u001b[A"
     ]
    },
    {
     "name": "stdout",
     "output_type": "stream",
     "text": [
      "((993, 834), (1069, 909))\n",
      "((924, 862), (981, 906))\n",
      "((1, 500), (84, 548))\n",
      "((274, 500), (479, 569))\n",
      "((587, 552), (695, 576))\n",
      "((223, 802), (461, 885))\n"
     ]
    },
    {
     "name": "stderr",
     "output_type": "stream",
     "text": [
      "\n",
      "\n",
      "  2%|▏         | 59/2398 [02:34<1:39:30,  2.55s/it]\u001b[A\u001b[A"
     ]
    },
    {
     "name": "stdout",
     "output_type": "stream",
     "text": [
      "((994, 834), (1069, 909))\n",
      "((924, 862), (981, 906))\n",
      "((1, 500), (84, 548))\n",
      "((270, 501), (477, 569))\n",
      "((581, 552), (695, 577))\n",
      "((223, 781), (461, 885))\n"
     ]
    },
    {
     "name": "stderr",
     "output_type": "stream",
     "text": [
      "\n",
      "\n",
      "  3%|▎         | 60/2398 [02:36<1:39:47,  2.56s/it]\u001b[A\u001b[A"
     ]
    },
    {
     "name": "stdout",
     "output_type": "stream",
     "text": [
      "((994, 834), (1067, 909))\n",
      "((924, 862), (981, 906))\n",
      "((270, 500), (476, 569))\n",
      "((581, 552), (692, 577))\n",
      "((223, 781), (461, 885))\n"
     ]
    },
    {
     "name": "stderr",
     "output_type": "stream",
     "text": [
      "\n",
      "\n",
      "  3%|▎         | 61/2398 [02:39<1:40:15,  2.57s/it]\u001b[A\u001b[A"
     ]
    },
    {
     "name": "stdout",
     "output_type": "stream",
     "text": [
      "((994, 834), (1067, 909))\n",
      "((924, 862), (981, 906))\n",
      "((270, 498), (476, 568))\n",
      "((762, 501), (827, 546))\n",
      "((581, 552), (692, 577))\n",
      "((223, 780), (461, 885))\n"
     ]
    },
    {
     "name": "stderr",
     "output_type": "stream",
     "text": [
      "\n",
      "\n",
      "  3%|▎         | 62/2398 [02:41<1:40:55,  2.59s/it]\u001b[A\u001b[A"
     ]
    },
    {
     "name": "stdout",
     "output_type": "stream",
     "text": [
      "((994, 834), (1067, 909))\n",
      "((924, 862), (981, 906))\n",
      "((269, 498), (475, 568))\n",
      "((762, 499), (827, 546))\n",
      "((570, 552), (692, 577))\n",
      "((222, 780), (461, 885))\n"
     ]
    },
    {
     "name": "stderr",
     "output_type": "stream",
     "text": [
      "\n",
      "\n",
      "  3%|▎         | 63/2398 [02:44<1:41:04,  2.60s/it]\u001b[A\u001b[A"
     ]
    },
    {
     "name": "stdout",
     "output_type": "stream",
     "text": [
      "((994, 834), (1067, 909))\n",
      "((924, 862), (981, 906))\n",
      "((269, 497), (475, 568))\n",
      "((758, 499), (827, 546))\n",
      "((570, 551), (691, 577))\n",
      "((206, 780), (461, 885))\n"
     ]
    },
    {
     "name": "stderr",
     "output_type": "stream",
     "text": [
      "\n",
      "\n",
      "  3%|▎         | 64/2398 [02:47<1:41:47,  2.62s/it]\u001b[A\u001b[A"
     ]
    },
    {
     "name": "stdout",
     "output_type": "stream",
     "text": [
      "((994, 834), (1067, 897))\n",
      "((924, 862), (981, 906))\n",
      "((268, 497), (474, 568))\n",
      "((758, 499), (827, 546))\n",
      "((570, 552), (691, 577))\n",
      "((206, 780), (461, 885))\n"
     ]
    },
    {
     "name": "stderr",
     "output_type": "stream",
     "text": [
      "\n",
      "\n",
      "  3%|▎         | 65/2398 [02:49<1:41:49,  2.62s/it]\u001b[A\u001b[A"
     ]
    },
    {
     "name": "stdout",
     "output_type": "stream",
     "text": [
      "((994, 834), (1067, 897))\n",
      "((924, 862), (981, 906))\n",
      "((268, 493), (473, 568))\n",
      "((757, 498), (827, 546))\n",
      "((570, 552), (691, 577))\n",
      "((206, 780), (461, 868))\n"
     ]
    },
    {
     "name": "stderr",
     "output_type": "stream",
     "text": [
      "\n",
      "\n",
      "  3%|▎         | 66/2398 [02:52<1:41:58,  2.62s/it]\u001b[A\u001b[A"
     ]
    },
    {
     "name": "stdout",
     "output_type": "stream",
     "text": [
      "((994, 834), (1067, 897))\n",
      "((268, 492), (473, 568))\n",
      "((757, 492), (826, 546))\n",
      "((570, 552), (691, 577))\n",
      "((206, 773), (461, 868))\n"
     ]
    },
    {
     "name": "stderr",
     "output_type": "stream",
     "text": [
      "\n",
      "\n",
      "  3%|▎         | 67/2398 [02:55<1:42:25,  2.64s/it]\u001b[A\u001b[A"
     ]
    },
    {
     "name": "stdout",
     "output_type": "stream",
     "text": [
      "((994, 834), (1067, 897))\n",
      "((757, 491), (825, 545))\n",
      "((266, 492), (473, 568))\n",
      "((565, 552), (690, 577))\n",
      "((206, 773), (461, 868))\n"
     ]
    },
    {
     "name": "stderr",
     "output_type": "stream",
     "text": [
      "\n",
      "\n",
      "  3%|▎         | 68/2398 [02:57<1:42:14,  2.63s/it]\u001b[A\u001b[A"
     ]
    },
    {
     "name": "stdout",
     "output_type": "stream",
     "text": [
      "((994, 834), (1067, 897))\n",
      "((755, 491), (825, 545))\n",
      "((265, 492), (472, 569))\n",
      "((562, 553), (690, 577))\n",
      "((206, 773), (461, 885))\n"
     ]
    },
    {
     "name": "stderr",
     "output_type": "stream",
     "text": [
      "\n",
      "\n",
      "  3%|▎         | 69/2398 [03:00<1:41:07,  2.61s/it]\u001b[A\u001b[A"
     ]
    },
    {
     "name": "stdout",
     "output_type": "stream",
     "text": [
      "((994, 834), (1065, 893))\n",
      "((753, 491), (825, 545))\n",
      "((265, 492), (472, 569))\n",
      "((562, 553), (690, 577))\n",
      "((206, 773), (461, 885))\n"
     ]
    },
    {
     "name": "stderr",
     "output_type": "stream",
     "text": [
      "\n",
      "\n",
      "  3%|▎         | 70/2398 [03:02<1:40:36,  2.59s/it]\u001b[A\u001b[A"
     ]
    },
    {
     "name": "stdout",
     "output_type": "stream",
     "text": [
      "((994, 834), (1061, 893))\n",
      "((246, 491), (472, 569))\n",
      "((746, 491), (825, 545))\n",
      "((562, 553), (689, 577))\n",
      "((206, 773), (461, 885))\n"
     ]
    },
    {
     "name": "stderr",
     "output_type": "stream",
     "text": [
      "\n",
      "\n",
      "  3%|▎         | 71/2398 [03:05<1:40:37,  2.59s/it]\u001b[A\u001b[A"
     ]
    },
    {
     "name": "stdout",
     "output_type": "stream",
     "text": [
      "((994, 834), (1060, 893))\n",
      "((238, 491), (471, 569))\n",
      "((745, 491), (824, 545))\n",
      "((562, 553), (689, 577))\n",
      "((206, 779), (461, 885))\n"
     ]
    },
    {
     "name": "stderr",
     "output_type": "stream",
     "text": [
      "\n",
      "\n",
      "  3%|▎         | 72/2398 [03:08<1:42:07,  2.63s/it]\u001b[A\u001b[A"
     ]
    },
    {
     "name": "stdout",
     "output_type": "stream",
     "text": [
      "((994, 834), (1060, 893))\n",
      "((238, 490), (471, 569))\n",
      "((742, 491), (821, 545))\n",
      "((562, 553), (689, 577))\n",
      "((206, 780), (461, 868))\n"
     ]
    },
    {
     "name": "stderr",
     "output_type": "stream",
     "text": [
      "\n",
      "\n",
      "  3%|▎         | 73/2398 [03:10<1:41:46,  2.63s/it]\u001b[A\u001b[A"
     ]
    },
    {
     "name": "stdout",
     "output_type": "stream",
     "text": [
      "((994, 834), (1060, 893))\n",
      "((237, 490), (470, 569))\n",
      "((742, 490), (821, 545))\n",
      "((562, 553), (689, 577))\n",
      "((206, 780), (461, 866))\n"
     ]
    },
    {
     "name": "stderr",
     "output_type": "stream",
     "text": [
      "\n",
      "\n",
      "  3%|▎         | 74/2398 [03:13<1:40:34,  2.60s/it]\u001b[A\u001b[A"
     ]
    },
    {
     "name": "stdout",
     "output_type": "stream",
     "text": [
      "((994, 834), (1060, 893))\n",
      "((237, 490), (470, 569))\n",
      "((742, 490), (821, 545))\n",
      "((562, 553), (689, 577))\n",
      "((207, 780), (461, 865))\n"
     ]
    },
    {
     "name": "stderr",
     "output_type": "stream",
     "text": [
      "\n",
      "\n",
      "  3%|▎         | 75/2398 [03:15<1:40:15,  2.59s/it]\u001b[A\u001b[A"
     ]
    },
    {
     "name": "stdout",
     "output_type": "stream",
     "text": [
      "((994, 834), (1060, 893))\n",
      "((232, 490), (470, 569))\n",
      "((741, 491), (821, 545))\n",
      "((557, 553), (689, 577))\n",
      "((207, 780), (461, 885))\n"
     ]
    },
    {
     "name": "stderr",
     "output_type": "stream",
     "text": [
      "\n",
      "\n",
      "  3%|▎         | 76/2398 [03:18<1:40:33,  2.60s/it]\u001b[A\u001b[A"
     ]
    },
    {
     "name": "stdout",
     "output_type": "stream",
     "text": [
      "((994, 834), (1060, 893))\n",
      "((740, 488), (821, 544))\n",
      "((232, 490), (470, 569))\n",
      "((556, 552), (689, 577))\n",
      "((207, 780), (461, 885))\n"
     ]
    },
    {
     "name": "stderr",
     "output_type": "stream",
     "text": [
      "\n",
      "\n",
      "  3%|▎         | 77/2398 [03:21<1:40:24,  2.60s/it]\u001b[A\u001b[A"
     ]
    },
    {
     "name": "stdout",
     "output_type": "stream",
     "text": [
      "((994, 834), (1061, 893))\n",
      "((739, 488), (819, 544))\n",
      "((228, 490), (469, 569))\n",
      "((555, 552), (689, 577))\n",
      "((207, 780), (461, 885))\n"
     ]
    },
    {
     "name": "stderr",
     "output_type": "stream",
     "text": [
      "\n",
      "\n",
      "  3%|▎         | 78/2398 [03:23<1:40:12,  2.59s/it]\u001b[A\u001b[A"
     ]
    },
    {
     "name": "stdout",
     "output_type": "stream",
     "text": [
      "((994, 834), (1061, 893))\n",
      "((739, 488), (819, 544))\n",
      "((228, 490), (469, 568))\n",
      "((139, 521), (221, 568))\n",
      "((554, 552), (685, 577))\n",
      "((207, 781), (461, 886))\n"
     ]
    },
    {
     "name": "stderr",
     "output_type": "stream",
     "text": [
      "\n",
      "\n",
      "  3%|▎         | 79/2398 [03:26<1:39:40,  2.58s/it]\u001b[A\u001b[A"
     ]
    },
    {
     "name": "stdout",
     "output_type": "stream",
     "text": [
      "((994, 834), (1061, 893))\n",
      "((739, 488), (817, 544))\n",
      "((228, 490), (469, 568))\n",
      "((139, 506), (221, 568))\n",
      "((554, 552), (685, 577))\n",
      "((207, 810), (369, 893))\n",
      "((361, 818), (461, 845))\n"
     ]
    },
    {
     "name": "stderr",
     "output_type": "stream",
     "text": [
      "\n",
      "\n",
      "  3%|▎         | 80/2398 [03:28<1:38:46,  2.56s/it]\u001b[A\u001b[A"
     ]
    },
    {
     "name": "stdout",
     "output_type": "stream",
     "text": [
      "((994, 834), (1061, 893))\n",
      "((739, 488), (815, 544))\n",
      "((231, 490), (468, 568))\n",
      "((139, 506), (220, 567))\n",
      "((553, 552), (685, 577))\n",
      "((207, 810), (369, 893))\n"
     ]
    },
    {
     "name": "stderr",
     "output_type": "stream",
     "text": [
      "\n",
      "\n",
      "  3%|▎         | 81/2398 [03:31<1:38:25,  2.55s/it]\u001b[A\u001b[A"
     ]
    },
    {
     "name": "stdout",
     "output_type": "stream",
     "text": [
      "((994, 834), (1061, 893))\n",
      "((234, 486), (468, 568))\n",
      "((739, 490), (814, 544))\n",
      "((547, 552), (685, 577))\n",
      "((207, 817), (369, 893))\n"
     ]
    },
    {
     "name": "stderr",
     "output_type": "stream",
     "text": [
      "\n",
      "\n",
      "  3%|▎         | 82/2398 [03:33<1:38:24,  2.55s/it]\u001b[A\u001b[A"
     ]
    },
    {
     "name": "stdout",
     "output_type": "stream",
     "text": [
      "((994, 834), (1063, 893))\n",
      "((234, 485), (467, 569))\n",
      "((739, 490), (813, 544))\n",
      "((546, 552), (681, 576))\n"
     ]
    },
    {
     "name": "stderr",
     "output_type": "stream",
     "text": [
      "\n",
      "\n",
      "  3%|▎         | 83/2398 [03:36<1:38:47,  2.56s/it]\u001b[A\u001b[A"
     ]
    },
    {
     "name": "stdout",
     "output_type": "stream",
     "text": [
      "((207, 817), (371, 893))\n",
      "((994, 834), (1066, 893))\n",
      "((234, 485), (467, 569))\n",
      "((739, 490), (810, 544))\n",
      "((546, 551), (681, 576))\n",
      "((207, 817), (371, 887))\n"
     ]
    },
    {
     "name": "stderr",
     "output_type": "stream",
     "text": [
      "\n",
      "\n",
      "  4%|▎         | 84/2398 [03:38<1:37:05,  2.52s/it]\u001b[A\u001b[A"
     ]
    },
    {
     "name": "stdout",
     "output_type": "stream",
     "text": [
      "((994, 834), (1067, 893))\n",
      "((234, 483), (317, 528))\n",
      "((306, 489), (466, 569))\n",
      "((739, 491), (809, 544))\n",
      "((541, 552), (678, 576))\n"
     ]
    },
    {
     "name": "stderr",
     "output_type": "stream",
     "text": [
      "\n",
      "\n",
      "  4%|▎         | 85/2398 [03:41<1:38:53,  2.57s/it]\u001b[A\u001b[A"
     ]
    },
    {
     "name": "stdout",
     "output_type": "stream",
     "text": [
      "((207, 817), (371, 896))\n",
      "((994, 834), (1067, 893))\n",
      "((236, 483), (317, 528))\n",
      "((303, 488), (465, 569))\n",
      "((739, 498), (809, 544))\n",
      "((540, 552), (677, 576))\n"
     ]
    },
    {
     "name": "stderr",
     "output_type": "stream",
     "text": [
      "\n",
      "\n",
      "  4%|▎         | 86/2398 [03:44<1:38:47,  2.56s/it]\u001b[A\u001b[A"
     ]
    },
    {
     "name": "stdout",
     "output_type": "stream",
     "text": [
      "((207, 817), (372, 896))\n",
      "((994, 834), (1067, 893))\n",
      "((238, 483), (317, 528))\n",
      "((302, 488), (463, 569))\n",
      "((738, 497), (809, 543))\n",
      "((540, 552), (677, 576))\n"
     ]
    },
    {
     "name": "stderr",
     "output_type": "stream",
     "text": [
      "\n",
      "\n",
      "  4%|▎         | 87/2398 [03:46<1:38:17,  2.55s/it]\u001b[A\u001b[A"
     ]
    },
    {
     "name": "stdout",
     "output_type": "stream",
     "text": [
      "((207, 817), (461, 896))\n",
      "((994, 833), (1067, 893))\n",
      "((253, 485), (316, 528))\n",
      "((302, 488), (461, 569))\n",
      "((738, 497), (809, 543))\n",
      "((540, 552), (676, 576))\n"
     ]
    },
    {
     "name": "stderr",
     "output_type": "stream",
     "text": [
      "\n",
      "\n",
      "  4%|▎         | 88/2398 [03:49<1:39:06,  2.57s/it]\u001b[A\u001b[A"
     ]
    },
    {
     "name": "stdout",
     "output_type": "stream",
     "text": [
      "((207, 817), (461, 896))\n",
      "((994, 832), (1067, 893))\n",
      "((301, 488), (461, 569))\n",
      "((738, 497), (809, 543))\n",
      "((534, 552), (674, 576))\n"
     ]
    },
    {
     "name": "stderr",
     "output_type": "stream",
     "text": [
      "\n",
      "\n",
      "  4%|▎         | 89/2398 [03:51<1:38:53,  2.57s/it]\u001b[A\u001b[A"
     ]
    },
    {
     "name": "stdout",
     "output_type": "stream",
     "text": [
      "((207, 810), (461, 896))\n",
      "((994, 832), (1063, 893))\n",
      "((300, 488), (461, 569))\n",
      "((702, 497), (809, 543))\n",
      "((524, 552), (674, 577))\n",
      "((546, 769), (621, 829))\n",
      "((291, 773), (413, 815))\n",
      "((250, 800), (461, 887))\n"
     ]
    },
    {
     "name": "stderr",
     "output_type": "stream",
     "text": [
      "\n",
      "\n",
      "  4%|▍         | 90/2398 [03:54<1:39:08,  2.58s/it]\u001b[A\u001b[A"
     ]
    },
    {
     "name": "stdout",
     "output_type": "stream",
     "text": [
      "((994, 830), (1061, 893))\n",
      "((924, 862), (981, 906))\n",
      "((290, 488), (463, 569))\n",
      "((694, 497), (809, 543))\n",
      "((520, 552), (673, 577))\n",
      "((538, 769), (636, 845))\n",
      "((253, 772), (461, 885))\n"
     ]
    },
    {
     "name": "stderr",
     "output_type": "stream",
     "text": [
      "\n",
      "\n",
      "  4%|▍         | 91/2398 [03:57<1:41:34,  2.64s/it]\u001b[A\u001b[A"
     ]
    },
    {
     "name": "stdout",
     "output_type": "stream",
     "text": [
      "((993, 829), (1061, 909))\n",
      "((924, 862), (982, 906))\n",
      "((282, 488), (463, 569))\n",
      "((1012, 494), (1083, 538))\n",
      "((694, 497), (807, 543))\n",
      "((514, 552), (673, 577))\n",
      "((538, 769), (636, 847))\n",
      "((256, 772), (461, 865))\n"
     ]
    },
    {
     "name": "stderr",
     "output_type": "stream",
     "text": [
      "\n",
      "\n",
      "  4%|▍         | 92/2398 [03:59<1:42:56,  2.68s/it]\u001b[A\u001b[A"
     ]
    },
    {
     "name": "stdout",
     "output_type": "stream",
     "text": [
      "((993, 829), (1061, 909))\n",
      "((924, 862), (983, 906))\n",
      "((280, 488), (464, 569))\n",
      "((1012, 493), (1082, 539))\n",
      "((694, 497), (807, 544))\n",
      "((514, 552), (673, 577))\n",
      "((538, 769), (636, 847))\n",
      "((258, 772), (461, 865))\n"
     ]
    },
    {
     "name": "stderr",
     "output_type": "stream",
     "text": [
      "\n",
      "\n",
      "  4%|▍         | 93/2398 [04:02<1:43:53,  2.70s/it]\u001b[A\u001b[A"
     ]
    },
    {
     "name": "stdout",
     "output_type": "stream",
     "text": [
      "((993, 829), (1061, 909))\n",
      "((924, 862), (983, 906))\n",
      "((278, 490), (464, 569))\n",
      "((1011, 493), (1082, 539))\n",
      "((693, 497), (807, 543))\n",
      "((514, 552), (673, 577))\n",
      "((538, 769), (636, 847))\n",
      "((259, 772), (461, 865))\n"
     ]
    },
    {
     "name": "stderr",
     "output_type": "stream",
     "text": [
      "\n",
      "\n",
      "  4%|▍         | 94/2398 [04:05<1:43:22,  2.69s/it]\u001b[A\u001b[A"
     ]
    },
    {
     "name": "stdout",
     "output_type": "stream",
     "text": [
      "((993, 829), (1061, 909))\n",
      "((924, 862), (983, 906))\n",
      "((277, 490), (464, 569))\n",
      "((1011, 493), (1082, 538))\n",
      "((693, 497), (807, 543))\n",
      "((514, 553), (653, 577))\n",
      "((538, 769), (636, 847))\n",
      "((259, 772), (461, 865))\n"
     ]
    },
    {
     "name": "stderr",
     "output_type": "stream",
     "text": [
      "\n",
      "\n",
      "  4%|▍         | 95/2398 [04:08<1:43:34,  2.70s/it]\u001b[A\u001b[A"
     ]
    },
    {
     "name": "stdout",
     "output_type": "stream",
     "text": [
      "((993, 829), (1061, 909))\n",
      "((924, 862), (983, 907))\n",
      "((277, 490), (464, 569))\n",
      "((1011, 493), (1081, 538))\n",
      "((693, 497), (807, 543))\n",
      "((514, 552), (653, 577))\n",
      "((538, 769), (624, 847))\n",
      "((259, 772), (461, 865))\n"
     ]
    },
    {
     "name": "stderr",
     "output_type": "stream",
     "text": [
      "\n",
      "\n",
      "  4%|▍         | 96/2398 [04:10<1:43:53,  2.71s/it]\u001b[A\u001b[A"
     ]
    },
    {
     "name": "stdout",
     "output_type": "stream",
     "text": [
      "((993, 830), (1061, 909))\n",
      "((924, 862), (983, 907))\n",
      "((1011, 493), (1080, 537))\n",
      "((693, 497), (807, 543))\n",
      "((276, 500), (465, 569))\n",
      "((500, 552), (653, 577))\n",
      "((538, 770), (624, 847))\n",
      "((259, 772), (461, 865))\n"
     ]
    },
    {
     "name": "stderr",
     "output_type": "stream",
     "text": [
      "\n",
      "\n",
      "  4%|▍         | 97/2398 [04:13<1:44:01,  2.71s/it]\u001b[A\u001b[A"
     ]
    },
    {
     "name": "stdout",
     "output_type": "stream",
     "text": [
      "((993, 830), (1061, 909))\n",
      "((924, 862), (983, 907))\n",
      "((1011, 493), (1079, 537))\n",
      "((693, 497), (807, 542))\n",
      "((276, 500), (468, 569))\n",
      "((499, 552), (653, 577))\n",
      "((538, 770), (623, 847))\n",
      "((259, 772), (461, 865))\n"
     ]
    },
    {
     "name": "stderr",
     "output_type": "stream",
     "text": [
      "\n",
      "\n",
      "  4%|▍         | 98/2398 [04:16<1:43:01,  2.69s/it]\u001b[A\u001b[A"
     ]
    },
    {
     "name": "stdout",
     "output_type": "stream",
     "text": [
      "((993, 830), (1061, 909))\n",
      "((924, 862), (983, 907))\n",
      "((1011, 492), (1079, 537))\n",
      "((693, 497), (807, 542))\n",
      "((276, 500), (468, 568))\n",
      "((491, 552), (647, 577))\n",
      "((538, 770), (623, 847))\n",
      "((259, 772), (461, 865))\n"
     ]
    },
    {
     "name": "stderr",
     "output_type": "stream",
     "text": [
      "\n",
      "\n",
      "  4%|▍         | 99/2398 [04:18<1:42:25,  2.67s/it]\u001b[A\u001b[A"
     ]
    },
    {
     "name": "stdout",
     "output_type": "stream",
     "text": [
      "((993, 830), (1063, 909))\n",
      "((924, 862), (983, 907))\n",
      "((1010, 492), (1079, 537))\n",
      "((692, 498), (803, 541))\n",
      "((276, 500), (467, 568))\n",
      "((489, 552), (643, 577))\n",
      "((259, 772), (461, 865))\n",
      "((538, 779), (589, 847))\n"
     ]
    },
    {
     "name": "stderr",
     "output_type": "stream",
     "text": [
      "\n",
      "\n",
      "  4%|▍         | 100/2398 [04:21<1:42:28,  2.68s/it]\u001b[A\u001b[A"
     ]
    },
    {
     "name": "stdout",
     "output_type": "stream",
     "text": [
      "((993, 830), (1063, 909))\n",
      "((924, 862), (983, 907))\n",
      "((692, 498), (787, 540))\n",
      "((276, 500), (466, 568))\n",
      "((488, 552), (643, 577))\n",
      "((259, 772), (461, 865))\n",
      "((538, 779), (589, 847))\n"
     ]
    },
    {
     "name": "stderr",
     "output_type": "stream",
     "text": [
      "\n",
      "\n",
      "  4%|▍         | 101/2398 [04:24<1:41:46,  2.66s/it]\u001b[A\u001b[A"
     ]
    },
    {
     "name": "stdout",
     "output_type": "stream",
     "text": [
      "((993, 830), (1061, 909))\n",
      "((924, 862), (983, 907))\n",
      "((276, 489), (455, 568))\n",
      "((692, 500), (785, 540))\n",
      "((486, 552), (639, 577))\n",
      "((259, 772), (461, 865))\n",
      "((538, 779), (589, 847))\n"
     ]
    },
    {
     "name": "stderr",
     "output_type": "stream",
     "text": [
      "\n",
      "\n",
      "  4%|▍         | 102/2398 [04:26<1:42:06,  2.67s/it]\u001b[A\u001b[A"
     ]
    },
    {
     "name": "stdout",
     "output_type": "stream",
     "text": [
      "((993, 831), (1061, 909))\n",
      "((924, 862), (983, 907))\n",
      "((275, 490), (451, 568))\n",
      "((486, 552), (635, 577))\n",
      "((259, 772), (461, 885))\n",
      "((538, 779), (589, 847))\n"
     ]
    },
    {
     "name": "stderr",
     "output_type": "stream",
     "text": [
      "\n",
      "\n",
      "  4%|▍         | 103/2398 [04:29<1:41:30,  2.65s/it]\u001b[A\u001b[A"
     ]
    },
    {
     "name": "stdout",
     "output_type": "stream",
     "text": [
      "((993, 834), (1061, 893))\n",
      "((924, 862), (983, 907))\n",
      "((275, 488), (450, 568))\n",
      "((486, 551), (631, 576))\n",
      "((259, 772), (461, 885))\n",
      "((538, 779), (589, 847))\n"
     ]
    },
    {
     "name": "stderr",
     "output_type": "stream",
     "text": [
      "\n",
      "\n",
      "  4%|▍         | 104/2398 [04:32<1:41:38,  2.66s/it]\u001b[A\u001b[A"
     ]
    },
    {
     "name": "stdout",
     "output_type": "stream",
     "text": [
      "((994, 834), (1061, 893))\n",
      "((924, 862), (983, 907))\n",
      "((262, 488), (449, 568))\n",
      "((486, 551), (621, 576))\n",
      "((259, 772), (461, 885))\n",
      "((538, 779), (589, 847))\n"
     ]
    },
    {
     "name": "stderr",
     "output_type": "stream",
     "text": [
      "\n",
      "\n",
      "  4%|▍         | 105/2398 [04:34<1:40:43,  2.64s/it]\u001b[A\u001b[A"
     ]
    },
    {
     "name": "stdout",
     "output_type": "stream",
     "text": [
      "((994, 834), (1061, 893))\n",
      "((924, 862), (983, 907))\n",
      "((262, 488), (449, 567))\n",
      "((486, 551), (621, 576))\n",
      "((538, 770), (589, 847))\n",
      "((289, 772), (413, 822))\n",
      "((259, 810), (461, 885))\n",
      "((994, 834), (1060, 892))\n",
      "((924, 862), (983, 907))\n"
     ]
    },
    {
     "name": "stderr",
     "output_type": "stream",
     "text": [
      "\n",
      "\n",
      "  4%|▍         | 106/2398 [04:37<1:40:38,  2.63s/it]\u001b[A\u001b[A"
     ]
    },
    {
     "name": "stdout",
     "output_type": "stream",
     "text": [
      "((261, 488), (449, 567))\n",
      "((486, 552), (621, 576))\n",
      "((290, 772), (413, 822))\n",
      "((538, 779), (589, 847))\n"
     ]
    },
    {
     "name": "stderr",
     "output_type": "stream",
     "text": [
      "\n",
      "\n",
      "  4%|▍         | 107/2398 [04:39<1:40:39,  2.64s/it]\u001b[A\u001b[A"
     ]
    },
    {
     "name": "stdout",
     "output_type": "stream",
     "text": [
      "((259, 810), (460, 885))\n",
      "((994, 834), (1060, 892))\n",
      "((924, 862), (983, 907))\n",
      "((262, 488), (449, 567))\n",
      "((1140, 492), (1205, 531))\n",
      "((486, 551), (620, 576))\n",
      "((290, 772), (413, 822))\n",
      "((538, 779), (584, 847))\n",
      "((259, 810), (460, 865))\n"
     ]
    },
    {
     "name": "stderr",
     "output_type": "stream",
     "text": [
      "\n",
      "\n",
      "  5%|▍         | 108/2398 [04:42<1:39:31,  2.61s/it]\u001b[A\u001b[A"
     ]
    },
    {
     "name": "stdout",
     "output_type": "stream",
     "text": [
      "((994, 834), (1060, 892))\n",
      "((924, 862), (985, 907))\n",
      "((262, 488), (449, 567))\n",
      "((1139, 490), (1205, 532))\n",
      "((486, 551), (620, 576))\n",
      "((290, 773), (413, 822))\n",
      "((539, 779), (584, 847))\n",
      "((259, 810), (460, 885))\n"
     ]
    },
    {
     "name": "stderr",
     "output_type": "stream",
     "text": [
      "\n",
      "\n",
      "  5%|▍         | 109/2398 [04:45<1:38:35,  2.58s/it]\u001b[A\u001b[A"
     ]
    },
    {
     "name": "stdout",
     "output_type": "stream",
     "text": [
      "((994, 834), (1060, 892))\n",
      "((924, 862), (985, 907))\n",
      "((264, 488), (449, 567))\n",
      "((1136, 490), (1205, 532))\n",
      "((486, 551), (605, 576))\n",
      "((290, 773), (413, 822))\n",
      "((539, 779), (584, 845))\n",
      "((259, 810), (460, 886))\n"
     ]
    },
    {
     "name": "stderr",
     "output_type": "stream",
     "text": [
      "\n",
      "\n",
      "  5%|▍         | 110/2398 [04:47<1:38:04,  2.57s/it]\u001b[A\u001b[A"
     ]
    },
    {
     "name": "stdout",
     "output_type": "stream",
     "text": [
      "((994, 834), (1060, 892))\n",
      "((924, 862), (985, 907))\n",
      "((264, 488), (449, 567))\n",
      "((1131, 489), (1205, 532))\n",
      "((482, 551), (603, 576))\n",
      "((290, 773), (413, 822))\n",
      "((258, 817), (460, 886))\n"
     ]
    },
    {
     "name": "stderr",
     "output_type": "stream",
     "text": [
      "\n",
      "\n",
      "  5%|▍         | 111/2398 [04:50<1:38:12,  2.58s/it]\u001b[A\u001b[A"
     ]
    },
    {
     "name": "stdout",
     "output_type": "stream",
     "text": [
      "((994, 834), (1060, 892))\n",
      "((924, 862), (985, 907))\n",
      "((261, 488), (449, 567))\n",
      "((1130, 489), (1213, 533))\n",
      "((478, 552), (601, 576))\n",
      "((298, 773), (413, 799))\n"
     ]
    },
    {
     "name": "stderr",
     "output_type": "stream",
     "text": [
      "\n",
      "\n",
      "  5%|▍         | 112/2398 [04:52<1:37:50,  2.57s/it]\u001b[A\u001b[A"
     ]
    },
    {
     "name": "stdout",
     "output_type": "stream",
     "text": [
      "((258, 817), (460, 889))\n",
      "((994, 834), (1060, 892))\n",
      "((924, 862), (985, 907))\n",
      "((261, 488), (451, 567))\n",
      "((1123, 489), (1213, 533))\n",
      "((477, 551), (601, 576))\n",
      "((298, 773), (412, 799))\n"
     ]
    },
    {
     "name": "stderr",
     "output_type": "stream",
     "text": [
      "\n",
      "\n",
      "  5%|▍         | 113/2398 [04:55<1:38:10,  2.58s/it]\u001b[A\u001b[A"
     ]
    },
    {
     "name": "stdout",
     "output_type": "stream",
     "text": [
      "((258, 817), (460, 889))\n",
      "((994, 834), (1060, 892))\n",
      "((924, 862), (985, 907))\n",
      "((261, 488), (451, 567))\n",
      "((1122, 489), (1213, 533))\n",
      "((476, 551), (601, 576))\n",
      "((298, 773), (412, 799))\n"
     ]
    },
    {
     "name": "stderr",
     "output_type": "stream",
     "text": [
      "\n",
      "\n",
      "  5%|▍         | 114/2398 [04:57<1:38:04,  2.58s/it]\u001b[A\u001b[A"
     ]
    },
    {
     "name": "stdout",
     "output_type": "stream",
     "text": [
      "((258, 817), (413, 865))\n",
      "((994, 831), (1060, 892))\n",
      "((924, 862), (985, 907))\n",
      "((261, 488), (455, 568))\n",
      "((1087, 489), (1213, 533))\n",
      "((475, 551), (601, 576))\n",
      "((297, 773), (412, 813))\n",
      "((258, 810), (413, 865))\n",
      "((994, 831), (1060, 893))\n",
      "((924, 862), (983, 907))\n"
     ]
    },
    {
     "name": "stderr",
     "output_type": "stream",
     "text": [
      "\n",
      "\n",
      "  5%|▍         | 115/2398 [05:00<1:38:29,  2.59s/it]\u001b[A\u001b[A"
     ]
    },
    {
     "name": "stdout",
     "output_type": "stream",
     "text": [
      "((261, 488), (457, 568))\n",
      "((1002, 489), (1213, 538))\n",
      "((475, 551), (601, 576))\n",
      "((298, 773), (412, 800))\n"
     ]
    },
    {
     "name": "stderr",
     "output_type": "stream",
     "text": [
      "\n",
      "\n",
      "  5%|▍         | 116/2398 [05:03<1:39:07,  2.61s/it]\u001b[A\u001b[A"
     ]
    },
    {
     "name": "stdout",
     "output_type": "stream",
     "text": [
      "((258, 817), (409, 865))\n",
      "((994, 830), (1061, 893))\n",
      "((924, 862), (983, 907))\n",
      "((261, 488), (457, 568))\n",
      "((1001, 489), (1217, 539))\n",
      "((475, 551), (601, 576))\n",
      "((298, 773), (403, 799))\n"
     ]
    },
    {
     "name": "stderr",
     "output_type": "stream",
     "text": [
      "\n",
      "\n",
      "  5%|▍         | 117/2398 [05:05<1:39:53,  2.63s/it]\u001b[A\u001b[A"
     ]
    },
    {
     "name": "stdout",
     "output_type": "stream",
     "text": [
      "((258, 818), (409, 865))\n",
      "((993, 830), (1061, 893))\n",
      "((924, 862), (983, 906))\n",
      "((258, 488), (457, 568))\n",
      "((999, 488), (1213, 538))\n",
      "((475, 551), (601, 576))\n",
      "((298, 773), (409, 799))\n"
     ]
    },
    {
     "name": "stderr",
     "output_type": "stream",
     "text": [
      "\n",
      "\n",
      "  5%|▍         | 118/2398 [05:08<1:40:20,  2.64s/it]\u001b[A\u001b[A"
     ]
    },
    {
     "name": "stdout",
     "output_type": "stream",
     "text": [
      "((258, 818), (409, 865))\n",
      "((993, 830), (1061, 909))\n",
      "((924, 862), (983, 906))\n",
      "((998, 487), (1213, 538))\n",
      "((258, 488), (457, 568))\n",
      "((476, 551), (601, 576))\n",
      "((298, 773), (403, 799))\n"
     ]
    },
    {
     "name": "stderr",
     "output_type": "stream",
     "text": [
      "\n",
      "\n",
      "  5%|▍         | 119/2398 [05:11<1:40:53,  2.66s/it]\u001b[A\u001b[A"
     ]
    },
    {
     "name": "stdout",
     "output_type": "stream",
     "text": [
      "((258, 818), (409, 865))\n",
      "((994, 830), (1061, 909))\n",
      "((924, 862), (983, 907))\n",
      "((998, 487), (1213, 538))\n",
      "((244, 488), (457, 568))\n",
      "((474, 551), (587, 576))\n",
      "((539, 769), (621, 845))\n",
      "((299, 773), (403, 799))\n"
     ]
    },
    {
     "name": "stderr",
     "output_type": "stream",
     "text": [
      "\n",
      "\n",
      "  5%|▌         | 120/2398 [05:13<1:39:48,  2.63s/it]\u001b[A\u001b[A"
     ]
    },
    {
     "name": "stdout",
     "output_type": "stream",
     "text": [
      "((258, 818), (409, 865))\n",
      "((994, 830), (1067, 909))\n",
      "((924, 862), (983, 907))\n",
      "((997, 487), (1213, 538))\n",
      "((243, 488), (457, 568))\n",
      "((474, 551), (587, 576))\n",
      "((539, 769), (621, 845))\n",
      "((298, 773), (401, 799))\n"
     ]
    },
    {
     "name": "stderr",
     "output_type": "stream",
     "text": [
      "\n",
      "\n",
      "  5%|▌         | 121/2398 [05:16<1:40:06,  2.64s/it]\u001b[A\u001b[A"
     ]
    },
    {
     "name": "stdout",
     "output_type": "stream",
     "text": [
      "((258, 818), (408, 865))\n",
      "((994, 830), (1067, 909))\n",
      "((924, 862), (983, 907))\n",
      "((997, 487), (1213, 538))\n",
      "((243, 488), (457, 568))\n",
      "((474, 551), (587, 576))\n",
      "((539, 769), (621, 845))\n",
      "((298, 773), (397, 799))\n"
     ]
    },
    {
     "name": "stderr",
     "output_type": "stream",
     "text": [
      "\n",
      "\n",
      "  5%|▌         | 122/2398 [05:18<1:39:37,  2.63s/it]\u001b[A\u001b[A"
     ]
    },
    {
     "name": "stdout",
     "output_type": "stream",
     "text": [
      "((258, 818), (407, 865))\n",
      "((994, 829), (1067, 909))\n",
      "((924, 862), (983, 907))\n",
      "((997, 487), (1212, 538))\n",
      "((258, 489), (457, 568))\n",
      "((472, 551), (587, 576))\n",
      "((538, 769), (623, 845))\n"
     ]
    },
    {
     "name": "stderr",
     "output_type": "stream",
     "text": [
      "\n",
      "\n",
      "  5%|▌         | 123/2398 [05:21<1:38:18,  2.59s/it]\u001b[A\u001b[A"
     ]
    },
    {
     "name": "stdout",
     "output_type": "stream",
     "text": [
      "((258, 818), (407, 865))\n",
      "((993, 829), (1067, 909))\n",
      "((924, 862), (983, 907))\n",
      "((997, 488), (1211, 538))\n",
      "((258, 500), (457, 568))\n",
      "((472, 551), (595, 576))\n",
      "((538, 769), (623, 846))\n"
     ]
    },
    {
     "name": "stderr",
     "output_type": "stream",
     "text": [
      "\n",
      "\n",
      "  5%|▌         | 124/2398 [05:24<1:40:11,  2.64s/it]\u001b[A\u001b[A"
     ]
    },
    {
     "name": "stdout",
     "output_type": "stream",
     "text": [
      "((258, 818), (407, 865))\n",
      "((993, 828), (1066, 909))\n",
      "((924, 862), (983, 907))\n",
      "((997, 488), (1210, 538))\n",
      "((250, 500), (457, 568))\n",
      "((466, 551), (594, 576))\n",
      "((538, 769), (623, 847))\n"
     ]
    },
    {
     "name": "stderr",
     "output_type": "stream",
     "text": [
      "\n",
      "\n",
      "  5%|▌         | 125/2398 [05:26<1:39:44,  2.63s/it]\u001b[A\u001b[A"
     ]
    },
    {
     "name": "stdout",
     "output_type": "stream",
     "text": [
      "((254, 818), (409, 866))\n",
      "((992, 828), (1066, 909))\n",
      "((924, 862), (983, 907))\n",
      "((996, 487), (1210, 537))\n",
      "((250, 500), (457, 568))\n",
      "((462, 551), (585, 576))\n",
      "((538, 769), (623, 847))\n"
     ]
    },
    {
     "name": "stderr",
     "output_type": "stream",
     "text": [
      "\n",
      "\n",
      "  5%|▌         | 126/2398 [05:29<1:39:44,  2.63s/it]\u001b[A\u001b[A"
     ]
    },
    {
     "name": "stdout",
     "output_type": "stream",
     "text": [
      "((253, 818), (409, 867))\n",
      "((992, 828), (1066, 909))\n",
      "((924, 862), (983, 907))\n",
      "((996, 487), (1209, 537))\n",
      "((246, 500), (453, 568))\n",
      "((462, 551), (585, 576))\n",
      "((538, 769), (623, 847))\n",
      "((302, 773), (397, 812))\n",
      "((206, 818), (409, 870))\n",
      "((992, 828), (1066, 909))\n"
     ]
    },
    {
     "name": "stderr",
     "output_type": "stream",
     "text": [
      "\n",
      "\n",
      "  5%|▌         | 127/2398 [05:32<1:40:02,  2.64s/it]\u001b[A\u001b[A"
     ]
    },
    {
     "name": "stdout",
     "output_type": "stream",
     "text": [
      "((924, 862), (983, 907))\n",
      "((996, 487), (1206, 537))\n",
      "((203, 498), (296, 528))\n",
      "((245, 499), (453, 568))\n",
      "((461, 551), (589, 576))\n",
      "((538, 769), (623, 847))\n",
      "((206, 818), (409, 871))\n",
      "((992, 829), (1066, 909))\n"
     ]
    },
    {
     "name": "stderr",
     "output_type": "stream",
     "text": [
      "\n",
      "\n",
      "  5%|▌         | 128/2398 [05:34<1:41:13,  2.68s/it]\u001b[A\u001b[A"
     ]
    },
    {
     "name": "stdout",
     "output_type": "stream",
     "text": [
      "((924, 862), (983, 907))\n",
      "((996, 487), (1205, 537))\n",
      "((203, 498), (449, 568))\n",
      "((461, 551), (589, 576))\n",
      "((538, 769), (623, 847))\n",
      "((206, 818), (407, 893))\n",
      "((991, 829), (1066, 909))\n",
      "((924, 862), (983, 907))\n"
     ]
    },
    {
     "name": "stderr",
     "output_type": "stream",
     "text": [
      "\n",
      "\n",
      "  5%|▌         | 129/2398 [05:37<1:42:21,  2.71s/it]\u001b[A\u001b[A"
     ]
    },
    {
     "name": "stdout",
     "output_type": "stream",
     "text": [
      "((996, 489), (1204, 537))\n",
      "((203, 496), (449, 568))\n",
      "((460, 551), (589, 576))\n",
      "((538, 769), (623, 847))\n",
      "((302, 774), (396, 811))\n",
      "((206, 818), (407, 893))\n",
      "((991, 829), (1063, 909))\n",
      "((924, 862), (983, 907))\n"
     ]
    },
    {
     "name": "stderr",
     "output_type": "stream",
     "text": [
      "\n",
      "\n",
      "  5%|▌         | 130/2398 [05:40<1:42:06,  2.70s/it]\u001b[A\u001b[A"
     ]
    },
    {
     "name": "stdout",
     "output_type": "stream",
     "text": [
      "((996, 489), (1204, 536))\n",
      "((203, 494), (445, 568))\n",
      "((460, 551), (589, 576))\n",
      "((538, 769), (623, 847))\n",
      "((206, 818), (407, 896))\n",
      "((991, 829), (1063, 909))\n",
      "((924, 862), (985, 907))\n"
     ]
    },
    {
     "name": "stderr",
     "output_type": "stream",
     "text": [
      "\n",
      "\n",
      "  5%|▌         | 131/2398 [05:43<1:41:55,  2.70s/it]\u001b[A\u001b[A"
     ]
    },
    {
     "name": "stdout",
     "output_type": "stream",
     "text": [
      "((995, 489), (1203, 536))\n",
      "((197, 494), (442, 568))\n",
      "((460, 551), (589, 576))\n",
      "((538, 771), (581, 847))\n",
      "((205, 818), (407, 896))\n",
      "((991, 829), (1063, 909))\n",
      "((924, 862), (985, 907))\n"
     ]
    },
    {
     "name": "stderr",
     "output_type": "stream",
     "text": [
      "\n",
      "\n",
      "  6%|▌         | 132/2398 [05:45<1:41:29,  2.69s/it]\u001b[A\u001b[A"
     ]
    },
    {
     "name": "stdout",
     "output_type": "stream",
     "text": [
      "((995, 489), (1202, 536))\n",
      "((194, 490), (442, 568))\n",
      "((458, 551), (589, 576))\n",
      "((539, 771), (581, 847))\n",
      "((205, 818), (405, 903))\n",
      "((991, 829), (1063, 910))\n",
      "((924, 862), (985, 907))\n"
     ]
    },
    {
     "name": "stderr",
     "output_type": "stream",
     "text": [
      "\n",
      "\n",
      "  6%|▌         | 133/2398 [05:48<1:41:48,  2.70s/it]\u001b[A\u001b[A"
     ]
    },
    {
     "name": "stdout",
     "output_type": "stream",
     "text": [
      "((995, 489), (1201, 536))\n",
      "((187, 490), (441, 568))\n",
      "((458, 551), (588, 576))\n",
      "((541, 771), (581, 847))\n",
      "((205, 818), (405, 904))\n",
      "((992, 830), (1063, 910))\n",
      "((924, 862), (985, 907))\n"
     ]
    },
    {
     "name": "stderr",
     "output_type": "stream",
     "text": [
      "\n",
      "\n",
      "  6%|▌         | 134/2398 [05:51<1:40:50,  2.67s/it]\u001b[A\u001b[A"
     ]
    },
    {
     "name": "stdout",
     "output_type": "stream",
     "text": [
      "((995, 489), (1201, 536))\n",
      "((187, 490), (441, 568))\n",
      "((458, 551), (587, 576))\n",
      "((541, 771), (581, 847))\n"
     ]
    },
    {
     "name": "stderr",
     "output_type": "stream",
     "text": [
      "\n",
      "\n",
      "  6%|▌         | 135/2398 [05:53<1:40:28,  2.66s/it]\u001b[A\u001b[A"
     ]
    },
    {
     "name": "stdout",
     "output_type": "stream",
     "text": [
      "((205, 818), (405, 904))\n",
      "((993, 830), (1063, 896))\n",
      "((924, 862), (985, 907))\n",
      "((995, 488), (1201, 535))\n",
      "((186, 494), (440, 568))\n",
      "((456, 551), (587, 576))\n",
      "((541, 771), (581, 847))\n"
     ]
    },
    {
     "name": "stderr",
     "output_type": "stream",
     "text": [
      "\n",
      "\n",
      "  6%|▌         | 136/2398 [05:56<1:41:02,  2.68s/it]\u001b[A\u001b[A"
     ]
    },
    {
     "name": "stdout",
     "output_type": "stream",
     "text": [
      "((205, 818), (405, 904))\n",
      "((994, 830), (1063, 896))\n",
      "((924, 862), (985, 907))\n",
      "((995, 488), (1197, 535))\n",
      "((186, 494), (439, 568))\n",
      "((458, 551), (585, 576))\n",
      "((541, 771), (581, 847))\n",
      "((205, 818), (399, 897))\n"
     ]
    },
    {
     "name": "stderr",
     "output_type": "stream",
     "text": [
      "\n",
      "\n",
      "  6%|▌         | 137/2398 [05:59<1:39:56,  2.65s/it]\u001b[A\u001b[A"
     ]
    },
    {
     "name": "stdout",
     "output_type": "stream",
     "text": [
      "((994, 830), (1063, 896))\n",
      "((924, 862), (985, 907))\n",
      "((995, 488), (1196, 533))\n",
      "((181, 494), (439, 568))\n",
      "((456, 551), (581, 576))\n",
      "((541, 779), (581, 847))\n"
     ]
    },
    {
     "name": "stderr",
     "output_type": "stream",
     "text": [
      "\n",
      "\n",
      "  6%|▌         | 138/2398 [06:01<1:38:23,  2.61s/it]\u001b[A\u001b[A"
     ]
    },
    {
     "name": "stdout",
     "output_type": "stream",
     "text": [
      "((205, 818), (397, 892))\n",
      "((994, 830), (1063, 896))\n",
      "((924, 862), (983, 907))\n",
      "((995, 488), (1101, 533))\n",
      "((1104, 488), (1196, 523))\n",
      "((179, 494), (438, 568))\n",
      "((206, 817), (397, 870))\n",
      "((994, 830), (1063, 896))\n",
      "((924, 862), (983, 907))\n"
     ]
    },
    {
     "name": "stderr",
     "output_type": "stream",
     "text": [
      "\n",
      "\n",
      "  6%|▌         | 139/2398 [06:04<1:38:16,  2.61s/it]\u001b[A\u001b[A"
     ]
    },
    {
     "name": "stdout",
     "output_type": "stream",
     "text": [
      "((1106, 488), (1188, 521))\n",
      "((179, 489), (436, 568))\n",
      "((995, 489), (1101, 533))\n"
     ]
    },
    {
     "name": "stderr",
     "output_type": "stream",
     "text": [
      "\n",
      "\n",
      "  6%|▌         | 140/2398 [06:06<1:38:51,  2.63s/it]\u001b[A\u001b[A"
     ]
    },
    {
     "name": "stdout",
     "output_type": "stream",
     "text": [
      "((206, 810), (397, 869))\n",
      "((994, 830), (1066, 896))\n",
      "((924, 862), (983, 907))\n",
      "((179, 488), (435, 568))\n",
      "((1106, 488), (1188, 521))\n",
      "((994, 489), (1101, 533))\n",
      "((298, 774), (391, 801))\n"
     ]
    },
    {
     "name": "stderr",
     "output_type": "stream",
     "text": [
      "\n",
      "\n",
      "  6%|▌         | 141/2398 [06:09<1:39:26,  2.64s/it]\u001b[A\u001b[A"
     ]
    },
    {
     "name": "stdout",
     "output_type": "stream",
     "text": [
      "((206, 810), (397, 869))\n",
      "((994, 830), (1067, 895))\n",
      "((924, 862), (983, 907))\n",
      "((179, 488), (435, 568))\n",
      "((990, 488), (1101, 533))\n",
      "((1106, 488), (1188, 521))\n",
      "((298, 774), (394, 809))\n",
      "((539, 782), (583, 847))\n",
      "((206, 810), (397, 869))\n",
      "((995, 830), (1067, 893))\n",
      "((924, 862), (982, 907))\n"
     ]
    },
    {
     "name": "stderr",
     "output_type": "stream",
     "text": [
      "\n",
      "\n",
      "  6%|▌         | 142/2398 [06:12<1:38:46,  2.63s/it]\u001b[A\u001b[A"
     ]
    },
    {
     "name": "stdout",
     "output_type": "stream",
     "text": [
      "((179, 488), (434, 567))\n",
      "((988, 488), (1098, 533))\n",
      "((1107, 488), (1188, 521))\n",
      "((298, 774), (395, 809))\n",
      "((539, 782), (583, 847))\n",
      "((253, 810), (397, 866))\n"
     ]
    },
    {
     "name": "stderr",
     "output_type": "stream",
     "text": [
      "\n",
      "\n",
      "  6%|▌         | 143/2398 [06:14<1:39:12,  2.64s/it]\u001b[A\u001b[A"
     ]
    },
    {
     "name": "stdout",
     "output_type": "stream",
     "text": [
      "((995, 834), (1067, 893))\n",
      "((924, 862), (982, 907))\n",
      "((986, 487), (1098, 533))\n",
      "((179, 488), (429, 567))\n",
      "((1107, 488), (1187, 521))\n",
      "((296, 774), (395, 811))\n",
      "((539, 782), (585, 847))\n",
      "((254, 810), (397, 865))\n"
     ]
    },
    {
     "name": "stderr",
     "output_type": "stream",
     "text": [
      "\n",
      "\n",
      "  6%|▌         | 144/2398 [06:17<1:38:53,  2.63s/it]\u001b[A\u001b[A"
     ]
    },
    {
     "name": "stdout",
     "output_type": "stream",
     "text": [
      "((995, 834), (1067, 893))\n",
      "((924, 862), (981, 907))\n",
      "((982, 487), (1097, 533))\n",
      "((1107, 488), (1188, 521))\n",
      "((179, 493), (429, 567))\n",
      "((296, 774), (395, 811))\n",
      "((539, 782), (584, 847))\n",
      "((254, 810), (397, 865))\n"
     ]
    },
    {
     "name": "stderr",
     "output_type": "stream",
     "text": [
      "\n",
      "\n",
      "  6%|▌         | 145/2398 [06:19<1:37:48,  2.60s/it]\u001b[A\u001b[A"
     ]
    },
    {
     "name": "stdout",
     "output_type": "stream",
     "text": [
      "((995, 834), (1067, 893))\n",
      "((924, 862), (981, 907))\n",
      "((982, 486), (1096, 533))\n",
      "((179, 493), (429, 567))\n",
      "((296, 774), (395, 811))\n",
      "((539, 782), (584, 847))\n",
      "((254, 810), (397, 865))\n",
      "((995, 834), (1067, 893))\n",
      "((924, 862), (981, 907))\n"
     ]
    },
    {
     "name": "stderr",
     "output_type": "stream",
     "text": [
      "\n",
      "\n",
      "  6%|▌         | 146/2398 [06:22<1:38:04,  2.61s/it]\u001b[A\u001b[A"
     ]
    },
    {
     "name": "stdout",
     "output_type": "stream",
     "text": [
      "((982, 486), (1095, 533))\n",
      "((179, 493), (429, 567))\n",
      "((296, 774), (393, 811))\n",
      "((539, 782), (584, 847))\n",
      "((254, 810), (397, 865))\n"
     ]
    },
    {
     "name": "stderr",
     "output_type": "stream",
     "text": [
      "\n",
      "\n",
      "  6%|▌         | 147/2398 [06:25<1:36:55,  2.58s/it]\u001b[A\u001b[A"
     ]
    },
    {
     "name": "stdout",
     "output_type": "stream",
     "text": [
      "((995, 834), (1067, 893))\n",
      "((924, 862), (981, 907))\n",
      "((982, 487), (1094, 533))\n",
      "((179, 493), (279, 526))\n",
      "((234, 498), (429, 567))\n",
      "((290, 774), (395, 811))\n",
      "((539, 786), (581, 847))\n",
      "((254, 810), (397, 866))\n",
      "((995, 834), (1067, 893))\n",
      "((924, 862), (981, 907))\n"
     ]
    },
    {
     "name": "stderr",
     "output_type": "stream",
     "text": [
      "\n",
      "\n",
      "  6%|▌         | 148/2398 [06:27<1:37:29,  2.60s/it]\u001b[A\u001b[A"
     ]
    },
    {
     "name": "stdout",
     "output_type": "stream",
     "text": [
      "((980, 487), (1079, 533))\n",
      "((179, 491), (275, 526))\n",
      "((226, 499), (431, 567))\n",
      "((254, 774), (397, 867))\n"
     ]
    },
    {
     "name": "stderr",
     "output_type": "stream",
     "text": [
      "\n",
      "\n",
      "  6%|▌         | 149/2398 [06:30<1:37:22,  2.60s/it]\u001b[A\u001b[A"
     ]
    },
    {
     "name": "stdout",
     "output_type": "stream",
     "text": [
      "((995, 834), (1066, 893))\n",
      "((924, 862), (981, 907))\n",
      "((978, 487), (1073, 533))\n",
      "((179, 492), (270, 529))\n",
      "((220, 499), (431, 567))\n",
      "((254, 773), (397, 868))\n"
     ]
    },
    {
     "name": "stderr",
     "output_type": "stream",
     "text": [
      "\n",
      "\n",
      "  6%|▋         | 150/2398 [06:32<1:37:15,  2.60s/it]\u001b[A\u001b[A"
     ]
    },
    {
     "name": "stdout",
     "output_type": "stream",
     "text": [
      "((995, 834), (1065, 893))\n",
      "((924, 862), (981, 907))\n",
      "((977, 486), (1053, 533))\n",
      "((179, 493), (268, 529))\n",
      "((220, 499), (431, 566))\n",
      "((254, 773), (412, 893))\n"
     ]
    },
    {
     "name": "stderr",
     "output_type": "stream",
     "text": [
      "\n",
      "\n",
      "  6%|▋         | 151/2398 [06:35<1:38:06,  2.62s/it]\u001b[A\u001b[A"
     ]
    },
    {
     "name": "stdout",
     "output_type": "stream",
     "text": [
      "((995, 834), (1063, 893))\n",
      "((924, 863), (981, 907))\n",
      "((974, 486), (1073, 533))\n",
      "((178, 494), (268, 531))\n",
      "((220, 499), (431, 566))\n",
      "((250, 773), (412, 893))\n"
     ]
    },
    {
     "name": "stderr",
     "output_type": "stream",
     "text": [
      "\n",
      "\n",
      "  6%|▋         | 152/2398 [06:38<1:38:15,  2.63s/it]\u001b[A\u001b[A"
     ]
    },
    {
     "name": "stdout",
     "output_type": "stream",
     "text": [
      "((995, 834), (1063, 893))\n",
      "((924, 863), (981, 907))\n",
      "((965, 485), (1073, 533))\n",
      "((178, 494), (268, 531))\n",
      "((220, 499), (431, 566))\n",
      "((245, 772), (425, 896))\n"
     ]
    },
    {
     "name": "stderr",
     "output_type": "stream",
     "text": [
      "\n",
      "\n",
      "  6%|▋         | 153/2398 [06:40<1:38:13,  2.63s/it]\u001b[A\u001b[A"
     ]
    },
    {
     "name": "stdout",
     "output_type": "stream",
     "text": [
      "((369, 803), (461, 844))\n",
      "((994, 834), (1063, 893))\n",
      "((924, 863), (981, 907))\n",
      "((957, 483), (1073, 533))\n",
      "((178, 494), (267, 532))\n",
      "((218, 499), (431, 566))\n",
      "((206, 771), (433, 897))\n",
      "((369, 802), (461, 844))\n",
      "((994, 834), (1063, 893))\n",
      "((924, 863), (981, 907))\n"
     ]
    },
    {
     "name": "stderr",
     "output_type": "stream",
     "text": [
      "\n",
      "\n",
      "  6%|▋         | 154/2398 [06:43<1:38:04,  2.62s/it]\u001b[A\u001b[A"
     ]
    },
    {
     "name": "stdout",
     "output_type": "stream",
     "text": [
      "((957, 483), (1073, 532))\n",
      "((218, 499), (431, 566))\n",
      "((206, 771), (437, 893))\n",
      "((369, 802), (470, 862))\n",
      "((994, 834), (1063, 893))\n",
      "((924, 863), (981, 907))\n"
     ]
    },
    {
     "name": "stderr",
     "output_type": "stream",
     "text": [
      "\n",
      "\n",
      "  6%|▋         | 155/2398 [06:46<1:38:59,  2.65s/it]\u001b[A\u001b[A"
     ]
    },
    {
     "name": "stdout",
     "output_type": "stream",
     "text": [
      "((947, 483), (1070, 532))\n",
      "((178, 493), (267, 532))\n",
      "((218, 499), (431, 566))\n",
      "((206, 771), (439, 893))\n"
     ]
    },
    {
     "name": "stderr",
     "output_type": "stream",
     "text": [
      "\n",
      "\n",
      "  7%|▋         | 156/2398 [06:48<1:38:52,  2.65s/it]\u001b[A\u001b[A"
     ]
    },
    {
     "name": "stdout",
     "output_type": "stream",
     "text": [
      "((369, 802), (471, 862))\n",
      "((994, 833), (1063, 893))\n",
      "((924, 863), (981, 907))\n",
      "((946, 483), (1073, 532))\n",
      "((171, 493), (265, 525))\n",
      "((215, 499), (441, 566))\n",
      "((206, 771), (439, 893))\n"
     ]
    },
    {
     "name": "stderr",
     "output_type": "stream",
     "text": [
      "\n",
      "\n",
      "  7%|▋         | 157/2398 [06:51<1:38:10,  2.63s/it]\u001b[A\u001b[A"
     ]
    },
    {
     "name": "stdout",
     "output_type": "stream",
     "text": [
      "((369, 802), (471, 862))\n",
      "((994, 832), (1063, 893))\n",
      "((924, 863), (981, 907))\n",
      "((942, 483), (1073, 532))\n",
      "((171, 493), (262, 524))\n",
      "((215, 499), (427, 566))\n",
      "((206, 770), (471, 893))\n",
      "((994, 830), (1063, 893))\n"
     ]
    },
    {
     "name": "stderr",
     "output_type": "stream",
     "text": [
      "\n",
      "\n",
      "  7%|▋         | 158/2398 [06:54<1:38:08,  2.63s/it]\u001b[A\u001b[A"
     ]
    },
    {
     "name": "stdout",
     "output_type": "stream",
     "text": [
      "((924, 863), (981, 907))\n",
      "((942, 483), (1053, 532))\n",
      "((699, 492), (754, 539))\n",
      "((171, 493), (262, 525))\n",
      "((215, 499), (426, 566))\n",
      "((246, 770), (471, 877))\n",
      "((540, 786), (581, 847))\n",
      "((994, 830), (1063, 893))\n"
     ]
    },
    {
     "name": "stderr",
     "output_type": "stream",
     "text": [
      "\n",
      "\n",
      "  7%|▋         | 159/2398 [06:56<1:39:41,  2.67s/it]\u001b[A\u001b[A"
     ]
    },
    {
     "name": "stdout",
     "output_type": "stream",
     "text": [
      "((924, 863), (981, 907))\n",
      "((942, 483), (1053, 532))\n",
      "((170, 492), (261, 524))\n",
      "((699, 492), (754, 539))\n",
      "((214, 499), (426, 566))\n",
      "((249, 770), (471, 877))\n",
      "((539, 786), (581, 847))\n",
      "((994, 829), (1063, 893))\n"
     ]
    },
    {
     "name": "stderr",
     "output_type": "stream",
     "text": [
      "\n",
      "\n",
      "  7%|▋         | 160/2398 [06:59<1:39:48,  2.68s/it]\u001b[A\u001b[A"
     ]
    },
    {
     "name": "stdout",
     "output_type": "stream",
     "text": [
      "((924, 863), (981, 907))\n",
      "((942, 483), (1050, 532))\n",
      "((170, 492), (261, 524))\n",
      "((694, 492), (756, 539))\n",
      "((217, 499), (426, 566))\n",
      "((249, 770), (471, 877))\n",
      "((539, 785), (581, 847))\n",
      "((994, 829), (1063, 893))\n"
     ]
    },
    {
     "name": "stderr",
     "output_type": "stream",
     "text": [
      "\n",
      "\n",
      "  7%|▋         | 161/2398 [07:02<1:40:25,  2.69s/it]\u001b[A\u001b[A"
     ]
    },
    {
     "name": "stdout",
     "output_type": "stream",
     "text": [
      "((924, 863), (981, 907))\n",
      "((938, 483), (1050, 532))\n",
      "((693, 491), (756, 539))\n",
      "((168, 492), (261, 524))\n",
      "((213, 499), (425, 565))\n",
      "((257, 770), (472, 869))\n",
      "((539, 785), (581, 847))\n",
      "((994, 829), (1063, 893))\n"
     ]
    },
    {
     "name": "stderr",
     "output_type": "stream",
     "text": [
      "\n",
      "\n",
      "  7%|▋         | 162/2398 [07:04<1:40:51,  2.71s/it]\u001b[A\u001b[A"
     ]
    },
    {
     "name": "stdout",
     "output_type": "stream",
     "text": [
      "((924, 863), (981, 907))\n",
      "((938, 483), (1050, 532))\n",
      "((693, 491), (756, 539))\n",
      "((162, 492), (260, 524))\n",
      "((212, 499), (424, 565))\n",
      "((258, 770), (472, 869))\n",
      "((539, 785), (581, 847))\n"
     ]
    },
    {
     "name": "stderr",
     "output_type": "stream",
     "text": [
      "\n",
      "\n",
      "  7%|▋         | 163/2398 [07:07<1:41:17,  2.72s/it]\u001b[A\u001b[A"
     ]
    },
    {
     "name": "stdout",
     "output_type": "stream",
     "text": [
      "((994, 829), (1067, 895))\n",
      "((924, 863), (981, 907))\n",
      "((938, 483), (1050, 532))\n",
      "((162, 491), (260, 525))\n",
      "((693, 491), (756, 539))\n",
      "((217, 498), (424, 565))\n",
      "((259, 770), (472, 869))\n",
      "((539, 786), (581, 847))\n",
      "((993, 829), (1067, 895))\n"
     ]
    },
    {
     "name": "stderr",
     "output_type": "stream",
     "text": [
      "\n",
      "\n",
      "  7%|▋         | 164/2398 [07:10<1:41:17,  2.72s/it]\u001b[A\u001b[A"
     ]
    },
    {
     "name": "stdout",
     "output_type": "stream",
     "text": [
      "((924, 863), (981, 907))\n",
      "((938, 483), (1045, 531))\n",
      "((162, 491), (261, 526))\n",
      "((693, 491), (756, 539))\n",
      "((217, 498), (423, 565))\n",
      "((259, 770), (472, 869))\n",
      "((539, 785), (581, 845))\n",
      "((993, 828), (1067, 895))\n",
      "((924, 863), (981, 907))\n"
     ]
    },
    {
     "name": "stderr",
     "output_type": "stream",
     "text": [
      "\n",
      "\n",
      "  7%|▋         | 165/2398 [07:13<1:39:47,  2.68s/it]\u001b[A\u001b[A"
     ]
    },
    {
     "name": "stdout",
     "output_type": "stream",
     "text": [
      "((937, 485), (1045, 532))\n",
      "((162, 491), (259, 526))\n",
      "((692, 491), (756, 539))\n",
      "((213, 498), (425, 566))\n",
      "((259, 770), (472, 868))\n",
      "((992, 828), (1067, 895))\n"
     ]
    },
    {
     "name": "stderr",
     "output_type": "stream",
     "text": [
      "\n",
      "\n",
      "  7%|▋         | 166/2398 [07:15<1:41:19,  2.72s/it]\u001b[A\u001b[A"
     ]
    },
    {
     "name": "stdout",
     "output_type": "stream",
     "text": [
      "((924, 863), (981, 907))\n",
      "((936, 485), (1042, 531))\n",
      "((162, 491), (261, 533))\n",
      "((692, 491), (755, 539))\n",
      "((213, 498), (429, 566))\n",
      "((259, 770), (445, 865))\n",
      "((371, 791), (472, 865))\n",
      "((991, 827), (1067, 896))\n"
     ]
    },
    {
     "name": "stderr",
     "output_type": "stream",
     "text": [
      "\n",
      "\n",
      "  7%|▋         | 167/2398 [07:18<1:41:21,  2.73s/it]\u001b[A\u001b[A"
     ]
    },
    {
     "name": "stdout",
     "output_type": "stream",
     "text": [
      "((924, 863), (981, 907))\n",
      "((936, 486), (1041, 531))\n",
      "((692, 489), (753, 539))\n",
      "((162, 491), (259, 533))\n",
      "((214, 498), (429, 566))\n",
      "((259, 770), (472, 865))\n"
     ]
    },
    {
     "name": "stderr",
     "output_type": "stream",
     "text": [
      "\n",
      "\n",
      "  7%|▋         | 168/2398 [07:21<1:40:34,  2.71s/it]\u001b[A\u001b[A"
     ]
    },
    {
     "name": "stdout",
     "output_type": "stream",
     "text": [
      "((991, 827), (1067, 897))\n",
      "((924, 863), (981, 907))\n",
      "((934, 486), (1041, 531))\n",
      "((691, 489), (748, 539))\n",
      "((162, 491), (258, 533))\n",
      "((213, 498), (429, 566))\n",
      "((258, 770), (472, 865))\n",
      "((991, 827), (1067, 897))\n"
     ]
    },
    {
     "name": "stderr",
     "output_type": "stream",
     "text": [
      "\n",
      "\n",
      "  7%|▋         | 169/2398 [07:23<1:41:16,  2.73s/it]\u001b[A\u001b[A"
     ]
    },
    {
     "name": "stdout",
     "output_type": "stream",
     "text": [
      "((691, 487), (746, 539))\n",
      "((934, 488), (1035, 531))\n",
      "((162, 493), (258, 533))\n",
      "((213, 498), (429, 566))\n",
      "((258, 770), (472, 865))\n",
      "((991, 827), (1067, 897))\n"
     ]
    },
    {
     "name": "stderr",
     "output_type": "stream",
     "text": [
      "\n",
      "\n",
      "  7%|▋         | 170/2398 [07:26<1:40:30,  2.71s/it]\u001b[A\u001b[A"
     ]
    },
    {
     "name": "stdout",
     "output_type": "stream",
     "text": [
      "((690, 487), (746, 539))\n",
      "((933, 488), (1034, 531))\n",
      "((162, 493), (255, 530))\n",
      "((213, 498), (429, 566))\n",
      "((258, 770), (472, 865))\n",
      "((991, 827), (1067, 897))\n"
     ]
    },
    {
     "name": "stderr",
     "output_type": "stream",
     "text": [
      "\n",
      "\n",
      "  7%|▋         | 171/2398 [07:29<1:39:22,  2.68s/it]\u001b[A\u001b[A"
     ]
    },
    {
     "name": "stdout",
     "output_type": "stream",
     "text": [
      "((690, 487), (763, 540))\n",
      "((931, 489), (1033, 531))\n",
      "((162, 494), (255, 525))\n",
      "((212, 498), (431, 566))\n",
      "((258, 770), (472, 865))\n"
     ]
    },
    {
     "name": "stderr",
     "output_type": "stream",
     "text": [
      "\n",
      "\n",
      "  7%|▋         | 172/2398 [07:32<1:40:50,  2.72s/it]\u001b[A\u001b[A"
     ]
    },
    {
     "name": "stdout",
     "output_type": "stream",
     "text": [
      "((991, 827), (1067, 897))\n",
      "((926, 489), (1033, 531))\n",
      "((690, 493), (763, 540))\n",
      "((162, 494), (253, 525))\n",
      "((212, 498), (429, 566))\n",
      "((257, 770), (472, 865))\n",
      "((992, 827), (1061, 896))\n"
     ]
    },
    {
     "name": "stderr",
     "output_type": "stream",
     "text": [
      "\n",
      "\n",
      "  7%|▋         | 173/2398 [07:34<1:40:54,  2.72s/it]\u001b[A\u001b[A"
     ]
    },
    {
     "name": "stdout",
     "output_type": "stream",
     "text": [
      "((924, 489), (1032, 531))\n",
      "((162, 497), (253, 525))\n",
      "((210, 498), (429, 566))\n",
      "((249, 770), (472, 865))\n",
      "((992, 827), (1061, 893))\n"
     ]
    },
    {
     "name": "stderr",
     "output_type": "stream",
     "text": [
      "\n",
      "\n",
      "  7%|▋         | 174/2398 [07:37<1:39:39,  2.69s/it]\u001b[A\u001b[A"
     ]
    },
    {
     "name": "stdout",
     "output_type": "stream",
     "text": [
      "((924, 488), (1031, 531))\n",
      "((686, 494), (743, 539))\n",
      "((200, 498), (429, 566))\n",
      "((249, 770), (471, 865))\n"
     ]
    },
    {
     "name": "stderr",
     "output_type": "stream",
     "text": [
      "\n",
      "\n",
      "  7%|▋         | 175/2398 [07:40<1:39:59,  2.70s/it]\u001b[A\u001b[A"
     ]
    },
    {
     "name": "stdout",
     "output_type": "stream",
     "text": [
      "((993, 827), (1061, 893))\n",
      "((923, 488), (1031, 531))\n",
      "((197, 498), (429, 566))\n",
      "((247, 770), (471, 866))\n"
     ]
    },
    {
     "name": "stderr",
     "output_type": "stream",
     "text": [
      "\n",
      "\n",
      "  7%|▋         | 176/2398 [07:42<1:40:04,  2.70s/it]\u001b[A\u001b[A"
     ]
    },
    {
     "name": "stdout",
     "output_type": "stream",
     "text": [
      "((993, 827), (1060, 893))\n",
      "((923, 488), (1030, 531))\n",
      "((686, 493), (741, 539))\n",
      "((194, 498), (429, 566))\n",
      "((247, 770), (471, 869))\n"
     ]
    },
    {
     "name": "stderr",
     "output_type": "stream",
     "text": [
      "\n",
      "\n",
      "  7%|▋         | 177/2398 [07:45<1:38:55,  2.67s/it]\u001b[A\u001b[A"
     ]
    },
    {
     "name": "stdout",
     "output_type": "stream",
     "text": [
      "((993, 827), (1060, 893))\n",
      "((923, 488), (1029, 531))\n",
      "((686, 493), (741, 539))\n",
      "((192, 498), (416, 567))\n",
      "((238, 770), (471, 869))\n"
     ]
    },
    {
     "name": "stderr",
     "output_type": "stream",
     "text": [
      "\n",
      "\n",
      "  7%|▋         | 178/2398 [07:48<1:38:50,  2.67s/it]\u001b[A\u001b[A"
     ]
    },
    {
     "name": "stdout",
     "output_type": "stream",
     "text": [
      "((993, 827), (1060, 893))\n",
      "((923, 488), (1028, 531))\n",
      "((192, 498), (420, 567))\n",
      "((233, 770), (471, 869))\n",
      "((993, 827), (1060, 893))\n"
     ]
    },
    {
     "name": "stderr",
     "output_type": "stream",
     "text": [
      "\n",
      "\n",
      "  7%|▋         | 179/2398 [07:50<1:38:41,  2.67s/it]\u001b[A\u001b[A"
     ]
    },
    {
     "name": "stdout",
     "output_type": "stream",
     "text": [
      "((920, 488), (1028, 531))\n",
      "((190, 498), (420, 567))\n",
      "((233, 770), (435, 867))\n",
      "((372, 802), (470, 865))\n",
      "((994, 827), (1059, 893))\n"
     ]
    },
    {
     "name": "stderr",
     "output_type": "stream",
     "text": [
      "\n",
      "\n",
      "  8%|▊         | 180/2398 [07:53<1:38:21,  2.66s/it]\u001b[A\u001b[A"
     ]
    },
    {
     "name": "stdout",
     "output_type": "stream",
     "text": [
      "((920, 488), (1028, 531))\n",
      "((190, 498), (420, 567))\n",
      "((233, 771), (435, 865))\n",
      "((379, 802), (470, 863))\n",
      "((993, 827), (1059, 893))\n"
     ]
    },
    {
     "name": "stderr",
     "output_type": "stream",
     "text": [
      "\n",
      "\n",
      "  8%|▊         | 181/2398 [07:56<1:37:35,  2.64s/it]\u001b[A\u001b[A"
     ]
    },
    {
     "name": "stdout",
     "output_type": "stream",
     "text": [
      "((918, 488), (1027, 529))\n",
      "((190, 498), (419, 569))\n",
      "((229, 771), (435, 865))\n",
      "((379, 802), (470, 863))\n"
     ]
    },
    {
     "name": "stderr",
     "output_type": "stream",
     "text": [
      "\n",
      "\n",
      "  8%|▊         | 182/2398 [07:58<1:38:14,  2.66s/it]\u001b[A\u001b[A"
     ]
    },
    {
     "name": "stdout",
     "output_type": "stream",
     "text": [
      "((994, 827), (1059, 892))\n",
      "((918, 488), (1027, 529))\n",
      "((189, 498), (413, 570))\n",
      "((229, 771), (435, 865))\n",
      "((379, 802), (470, 863))\n"
     ]
    },
    {
     "name": "stderr",
     "output_type": "stream",
     "text": [
      "\n",
      "\n",
      "  8%|▊         | 183/2398 [08:01<1:37:49,  2.65s/it]\u001b[A\u001b[A"
     ]
    },
    {
     "name": "stdout",
     "output_type": "stream",
     "text": [
      "((993, 827), (1059, 909))\n",
      "((918, 488), (1025, 529))\n",
      "((681, 492), (738, 538))\n",
      "((188, 498), (413, 571))\n",
      "((229, 771), (435, 865))\n",
      "((379, 802), (470, 862))\n",
      "((994, 827), (1059, 892))\n"
     ]
    },
    {
     "name": "stderr",
     "output_type": "stream",
     "text": [
      "\n",
      "\n",
      "  8%|▊         | 184/2398 [08:03<1:36:26,  2.61s/it]\u001b[A\u001b[A"
     ]
    },
    {
     "name": "stdout",
     "output_type": "stream",
     "text": [
      "((918, 488), (1025, 528))\n",
      "((678, 492), (737, 538))\n",
      "((188, 498), (412, 571))\n",
      "((206, 771), (433, 870))\n",
      "((379, 802), (470, 862))\n"
     ]
    },
    {
     "name": "stderr",
     "output_type": "stream",
     "text": [
      "\n",
      "\n",
      "  8%|▊         | 185/2398 [08:06<1:37:36,  2.65s/it]\u001b[A\u001b[A"
     ]
    },
    {
     "name": "stdout",
     "output_type": "stream",
     "text": [
      "((994, 828), (1059, 892))\n",
      "((917, 488), (1025, 528))\n",
      "((678, 492), (737, 538))\n",
      "((187, 498), (411, 571))\n",
      "((229, 772), (433, 865))\n",
      "((379, 803), (470, 862))\n"
     ]
    },
    {
     "name": "stderr",
     "output_type": "stream",
     "text": [
      "\n",
      "\n",
      "  8%|▊         | 186/2398 [08:09<1:38:07,  2.66s/it]\u001b[A\u001b[A"
     ]
    },
    {
     "name": "stdout",
     "output_type": "stream",
     "text": [
      "((994, 828), (1059, 892))\n",
      "((916, 489), (1025, 528))\n",
      "((678, 493), (737, 537))\n",
      "((187, 498), (408, 572))\n",
      "((229, 772), (433, 865))\n",
      "((379, 802), (471, 862))\n"
     ]
    },
    {
     "name": "stderr",
     "output_type": "stream",
     "text": [
      "\n",
      "\n",
      "  8%|▊         | 187/2398 [08:11<1:37:42,  2.65s/it]\u001b[A\u001b[A"
     ]
    },
    {
     "name": "stdout",
     "output_type": "stream",
     "text": [
      "((994, 829), (1059, 892))\n",
      "((915, 489), (1021, 528))\n",
      "((677, 493), (737, 537))\n",
      "((186, 498), (408, 572))\n",
      "((229, 772), (433, 865))\n",
      "((379, 802), (470, 863))\n"
     ]
    },
    {
     "name": "stderr",
     "output_type": "stream",
     "text": [
      "\n",
      "\n",
      "  8%|▊         | 188/2398 [08:14<1:37:54,  2.66s/it]\u001b[A\u001b[A"
     ]
    },
    {
     "name": "stdout",
     "output_type": "stream",
     "text": [
      "((994, 828), (1059, 892))\n",
      "((914, 488), (1021, 528))\n",
      "((184, 498), (408, 573))\n",
      "((239, 772), (433, 864))\n",
      "((372, 802), (470, 863))\n"
     ]
    },
    {
     "name": "stderr",
     "output_type": "stream",
     "text": [
      "\n",
      "\n",
      "  8%|▊         | 189/2398 [08:17<1:37:48,  2.66s/it]\u001b[A\u001b[A"
     ]
    },
    {
     "name": "stdout",
     "output_type": "stream",
     "text": [
      "((994, 829), (1059, 891))\n",
      "((908, 488), (1021, 528))\n",
      "((184, 498), (407, 573))\n",
      "((239, 772), (433, 864))\n",
      "((363, 799), (470, 864))\n"
     ]
    },
    {
     "name": "stderr",
     "output_type": "stream",
     "text": [
      "\n",
      "\n",
      "  8%|▊         | 190/2398 [08:19<1:37:05,  2.64s/it]\u001b[A\u001b[A"
     ]
    },
    {
     "name": "stdout",
     "output_type": "stream",
     "text": [
      "((994, 829), (1059, 891))\n",
      "((907, 488), (1019, 528))\n",
      "((678, 493), (735, 537))\n",
      "((183, 497), (407, 573))\n",
      "((239, 771), (470, 865))\n"
     ]
    },
    {
     "name": "stderr",
     "output_type": "stream",
     "text": [
      "\n",
      "\n",
      "  8%|▊         | 191/2398 [08:22<1:37:30,  2.65s/it]\u001b[A\u001b[A"
     ]
    },
    {
     "name": "stdout",
     "output_type": "stream",
     "text": [
      "((994, 830), (1059, 891))\n",
      "((906, 488), (1019, 528))\n",
      "((182, 497), (407, 572))\n",
      "((238, 772), (470, 865))\n"
     ]
    },
    {
     "name": "stderr",
     "output_type": "stream",
     "text": [
      "\n",
      "\n",
      "  8%|▊         | 192/2398 [08:25<1:37:40,  2.66s/it]\u001b[A\u001b[A"
     ]
    },
    {
     "name": "stdout",
     "output_type": "stream",
     "text": [
      "((994, 832), (1059, 891))\n",
      "((902, 488), (1019, 529))\n",
      "((180, 497), (407, 573))\n",
      "((239, 772), (470, 866))\n"
     ]
    },
    {
     "name": "stderr",
     "output_type": "stream",
     "text": [
      "\n",
      "\n",
      "  8%|▊         | 193/2398 [08:27<1:38:29,  2.68s/it]\u001b[A\u001b[A"
     ]
    },
    {
     "name": "stdout",
     "output_type": "stream",
     "text": [
      "((994, 832), (1059, 891))\n",
      "((902, 488), (1018, 529))\n",
      "((180, 497), (407, 572))\n",
      "((239, 772), (470, 866))\n",
      "((995, 832), (1059, 891))\n"
     ]
    },
    {
     "name": "stderr",
     "output_type": "stream",
     "text": [
      "\n",
      "\n",
      "  8%|▊         | 194/2398 [08:30<1:38:30,  2.68s/it]\u001b[A\u001b[A"
     ]
    },
    {
     "name": "stdout",
     "output_type": "stream",
     "text": [
      "((674, 483), (730, 538))\n",
      "((902, 488), (1018, 529))\n",
      "((173, 498), (405, 573))\n",
      "((239, 772), (461, 864))\n",
      "((995, 832), (1059, 891))\n"
     ]
    },
    {
     "name": "stderr",
     "output_type": "stream",
     "text": [
      "\n",
      "\n",
      "  8%|▊         | 195/2398 [08:33<1:37:36,  2.66s/it]\u001b[A\u001b[A"
     ]
    },
    {
     "name": "stdout",
     "output_type": "stream",
     "text": [
      "((674, 483), (729, 538))\n",
      "((901, 487), (1017, 529))\n",
      "((158, 498), (235, 531))\n",
      "((172, 498), (405, 574))\n",
      "((239, 772), (461, 864))\n"
     ]
    },
    {
     "name": "stderr",
     "output_type": "stream",
     "text": [
      "\n",
      "\n",
      "  8%|▊         | 196/2398 [08:35<1:36:48,  2.64s/it]\u001b[A\u001b[A"
     ]
    },
    {
     "name": "stdout",
     "output_type": "stream",
     "text": [
      "((995, 832), (1059, 891))\n",
      "((674, 483), (730, 539))\n",
      "((901, 487), (1016, 529))\n",
      "((157, 498), (235, 531))\n",
      "((171, 498), (407, 574))\n",
      "((241, 772), (461, 863))\n"
     ]
    },
    {
     "name": "stderr",
     "output_type": "stream",
     "text": [
      "\n",
      "\n",
      "  8%|▊         | 197/2398 [08:38<1:35:29,  2.60s/it]\u001b[A\u001b[A"
     ]
    },
    {
     "name": "stdout",
     "output_type": "stream",
     "text": [
      "((995, 830), (1059, 891))\n",
      "((674, 483), (741, 538))\n",
      "((901, 487), (1015, 529))\n",
      "((149, 497), (409, 574))\n",
      "((245, 772), (416, 864))\n",
      "((369, 803), (461, 844))\n",
      "((995, 830), (1059, 891))\n"
     ]
    },
    {
     "name": "stderr",
     "output_type": "stream",
     "text": [
      "\n",
      "\n",
      "  8%|▊         | 198/2398 [08:40<1:35:11,  2.60s/it]\u001b[A\u001b[A"
     ]
    },
    {
     "name": "stdout",
     "output_type": "stream",
     "text": [
      "((674, 483), (741, 538))\n",
      "((901, 487), (1015, 529))\n",
      "((147, 497), (412, 573))\n",
      "((245, 772), (417, 864))\n"
     ]
    },
    {
     "name": "stderr",
     "output_type": "stream",
     "text": [
      "\n",
      "\n",
      "  8%|▊         | 199/2398 [08:43<1:34:49,  2.59s/it]\u001b[A\u001b[A"
     ]
    },
    {
     "name": "stdout",
     "output_type": "stream",
     "text": [
      "((369, 803), (461, 844))\n",
      "((994, 830), (1059, 892))\n",
      "((674, 483), (741, 539))\n",
      "((901, 487), (1014, 529))\n",
      "((146, 498), (413, 571))\n",
      "((249, 772), (417, 864))\n"
     ]
    },
    {
     "name": "stderr",
     "output_type": "stream",
     "text": [
      "\n",
      "\n",
      "  8%|▊         | 200/2398 [08:46<1:34:32,  2.58s/it]\u001b[A\u001b[A"
     ]
    },
    {
     "name": "stdout",
     "output_type": "stream",
     "text": [
      "((370, 803), (461, 844))\n",
      "((994, 830), (1059, 892))\n",
      "((674, 483), (729, 539))\n",
      "((901, 488), (1013, 528))\n",
      "((141, 498), (233, 527))\n",
      "((168, 498), (419, 571))\n",
      "((249, 772), (416, 864))\n",
      "((372, 803), (461, 842))\n"
     ]
    },
    {
     "name": "stderr",
     "output_type": "stream",
     "text": [
      "\n",
      "\n",
      "  8%|▊         | 201/2398 [08:48<1:33:58,  2.57s/it]\u001b[A\u001b[A"
     ]
    },
    {
     "name": "stdout",
     "output_type": "stream",
     "text": [
      "((994, 830), (1059, 892))\n",
      "((901, 488), (1013, 528))\n",
      "((167, 498), (420, 570))\n",
      "((249, 773), (413, 893))\n",
      "((372, 803), (461, 842))\n"
     ]
    },
    {
     "name": "stderr",
     "output_type": "stream",
     "text": [
      "\n",
      "\n",
      "  8%|▊         | 202/2398 [08:51<1:33:19,  2.55s/it]\u001b[A\u001b[A"
     ]
    },
    {
     "name": "stdout",
     "output_type": "stream",
     "text": [
      "((994, 830), (1059, 892))\n",
      "((901, 488), (1013, 528))\n",
      "((166, 498), (420, 570))\n",
      "((249, 773), (412, 893))\n",
      "((372, 803), (461, 842))\n"
     ]
    },
    {
     "name": "stderr",
     "output_type": "stream",
     "text": [
      "\n",
      "\n",
      "  8%|▊         | 203/2398 [08:53<1:33:36,  2.56s/it]\u001b[A\u001b[A"
     ]
    },
    {
     "name": "stdout",
     "output_type": "stream",
     "text": [
      "((994, 831), (1059, 892))\n",
      "((901, 488), (1011, 528))\n",
      "((131, 498), (227, 525))\n",
      "((165, 498), (419, 569))\n",
      "((249, 773), (397, 893))\n",
      "((372, 803), (461, 842))\n"
     ]
    },
    {
     "name": "stderr",
     "output_type": "stream",
     "text": [
      "\n",
      "\n",
      "  9%|▊         | 204/2398 [08:56<1:33:52,  2.57s/it]\u001b[A\u001b[A"
     ]
    },
    {
     "name": "stdout",
     "output_type": "stream",
     "text": [
      "((994, 831), (1059, 885))\n",
      "((901, 488), (1011, 529))\n",
      "((131, 498), (227, 525))\n",
      "((164, 498), (418, 569))\n",
      "((245, 773), (407, 893))\n",
      "((372, 803), (461, 842))\n",
      "((994, 832), (1059, 884))\n"
     ]
    },
    {
     "name": "stderr",
     "output_type": "stream",
     "text": [
      "\n",
      "\n",
      "  9%|▊         | 205/2398 [08:58<1:34:29,  2.59s/it]\u001b[A\u001b[A"
     ]
    },
    {
     "name": "stdout",
     "output_type": "stream",
     "text": [
      "((902, 488), (1011, 528))\n",
      "((130, 498), (225, 528))\n",
      "((164, 498), (413, 569))\n",
      "((245, 773), (412, 893))\n",
      "((370, 803), (461, 842))\n"
     ]
    },
    {
     "name": "stderr",
     "output_type": "stream",
     "text": [
      "\n",
      "\n",
      "  9%|▊         | 206/2398 [09:01<1:35:08,  2.60s/it]\u001b[A\u001b[A"
     ]
    },
    {
     "name": "stdout",
     "output_type": "stream",
     "text": [
      "((994, 832), (1059, 884))\n",
      "((902, 488), (1011, 528))\n",
      "((122, 498), (223, 530))\n",
      "((164, 498), (435, 574))\n",
      "((242, 773), (412, 893))\n",
      "((369, 803), (461, 842))\n",
      "((995, 831), (1059, 884))\n"
     ]
    },
    {
     "name": "stderr",
     "output_type": "stream",
     "text": [
      "\n",
      "\n",
      "  9%|▊         | 207/2398 [09:04<1:34:52,  2.60s/it]\u001b[A\u001b[A"
     ]
    },
    {
     "name": "stdout",
     "output_type": "stream",
     "text": [
      "((902, 488), (1011, 528))\n",
      "((122, 498), (221, 533))\n",
      "((164, 498), (435, 574))\n",
      "((242, 773), (412, 893))\n",
      "((369, 803), (461, 843))\n"
     ]
    },
    {
     "name": "stderr",
     "output_type": "stream",
     "text": [
      "\n",
      "\n",
      "  9%|▊         | 208/2398 [09:06<1:34:14,  2.58s/it]\u001b[A\u001b[A"
     ]
    },
    {
     "name": "stdout",
     "output_type": "stream",
     "text": [
      "((995, 832), (1059, 884))\n",
      "((902, 488), (1010, 529))\n",
      "((118, 498), (221, 532))\n",
      "((164, 498), (429, 574))\n",
      "((242, 773), (412, 893))\n",
      "((369, 803), (461, 843))\n",
      "((995, 832), (1059, 884))\n"
     ]
    },
    {
     "name": "stderr",
     "output_type": "stream",
     "text": [
      "\n",
      "\n",
      "  9%|▊         | 209/2398 [09:09<1:35:02,  2.60s/it]\u001b[A\u001b[A"
     ]
    },
    {
     "name": "stdout",
     "output_type": "stream",
     "text": [
      "((902, 488), (1010, 531))\n",
      "((115, 498), (220, 533))\n",
      "((162, 498), (433, 574))\n",
      "((242, 773), (411, 900))\n"
     ]
    },
    {
     "name": "stderr",
     "output_type": "stream",
     "text": [
      "\n",
      "\n",
      "  9%|▉         | 210/2398 [09:11<1:35:23,  2.62s/it]\u001b[A\u001b[A"
     ]
    },
    {
     "name": "stdout",
     "output_type": "stream",
     "text": [
      "((995, 832), (1059, 884))\n",
      "((902, 488), (1010, 531))\n",
      "((115, 498), (220, 533))\n",
      "((157, 498), (433, 577))\n",
      "((243, 773), (412, 900))\n"
     ]
    },
    {
     "name": "stderr",
     "output_type": "stream",
     "text": [
      "\n",
      "\n",
      "  9%|▉         | 211/2398 [09:14<1:35:54,  2.63s/it]\u001b[A\u001b[A"
     ]
    },
    {
     "name": "stdout",
     "output_type": "stream",
     "text": [
      "((995, 830), (1059, 884))\n",
      "((902, 488), (1010, 531))\n",
      "((157, 498), (433, 577))\n",
      "((115, 499), (219, 533))\n",
      "((243, 772), (413, 900))\n"
     ]
    },
    {
     "name": "stderr",
     "output_type": "stream",
     "text": [
      "\n",
      "\n",
      "  9%|▉         | 212/2398 [09:17<1:35:32,  2.62s/it]\u001b[A\u001b[A"
     ]
    },
    {
     "name": "stdout",
     "output_type": "stream",
     "text": [
      "((995, 830), (1059, 885))\n",
      "((902, 488), (1008, 531))\n",
      "((156, 498), (433, 577))\n",
      "((114, 499), (218, 534))\n",
      "((258, 772), (413, 900))\n"
     ]
    },
    {
     "name": "stderr",
     "output_type": "stream",
     "text": [
      "\n",
      "\n",
      "  9%|▉         | 213/2398 [09:19<1:35:34,  2.62s/it]\u001b[A\u001b[A"
     ]
    },
    {
     "name": "stdout",
     "output_type": "stream",
     "text": [
      "((995, 830), (1059, 885))\n",
      "((901, 488), (1008, 531))\n",
      "((155, 498), (437, 577))\n",
      "((114, 499), (217, 534))\n",
      "((258, 772), (415, 900))\n"
     ]
    },
    {
     "name": "stderr",
     "output_type": "stream",
     "text": [
      "\n",
      "\n",
      "  9%|▉         | 214/2398 [09:22<1:35:45,  2.63s/it]\u001b[A\u001b[A"
     ]
    },
    {
     "name": "stdout",
     "output_type": "stream",
     "text": [
      "((995, 830), (1059, 885))\n",
      "((901, 488), (1008, 531))\n",
      "((156, 498), (437, 574))\n",
      "((114, 499), (217, 534))\n",
      "((258, 772), (415, 900))\n"
     ]
    },
    {
     "name": "stderr",
     "output_type": "stream",
     "text": [
      "\n",
      "\n",
      "  9%|▉         | 215/2398 [09:25<1:34:55,  2.61s/it]\u001b[A\u001b[A"
     ]
    },
    {
     "name": "stdout",
     "output_type": "stream",
     "text": [
      "((995, 830), (1059, 891))\n",
      "((901, 488), (1008, 532))\n",
      "((114, 498), (437, 575))\n",
      "((258, 772), (413, 900))\n"
     ]
    },
    {
     "name": "stderr",
     "output_type": "stream",
     "text": [
      "\n",
      "\n",
      "  9%|▉         | 216/2398 [09:27<1:35:16,  2.62s/it]\u001b[A\u001b[A"
     ]
    },
    {
     "name": "stdout",
     "output_type": "stream",
     "text": [
      "((994, 830), (1059, 891))\n",
      "((901, 488), (1009, 532))\n",
      "((114, 498), (437, 575))\n",
      "((258, 773), (413, 901))\n"
     ]
    },
    {
     "name": "stderr",
     "output_type": "stream",
     "text": [
      "\n",
      "\n",
      "  9%|▉         | 217/2398 [09:30<1:34:38,  2.60s/it]\u001b[A\u001b[A"
     ]
    },
    {
     "name": "stdout",
     "output_type": "stream",
     "text": [
      "((994, 830), (1059, 891))\n",
      "((901, 488), (1008, 532))\n",
      "((115, 498), (437, 575))\n",
      "((258, 773), (409, 902))\n"
     ]
    },
    {
     "name": "stderr",
     "output_type": "stream",
     "text": [
      "\n",
      "\n",
      "  9%|▉         | 218/2398 [09:32<1:35:30,  2.63s/it]\u001b[A\u001b[A"
     ]
    },
    {
     "name": "stdout",
     "output_type": "stream",
     "text": [
      "((994, 830), (1059, 891))\n",
      "((899, 488), (1008, 533))\n",
      "((115, 498), (437, 576))\n",
      "((258, 774), (395, 902))\n"
     ]
    },
    {
     "name": "stderr",
     "output_type": "stream",
     "text": [
      "\n",
      "\n",
      "  9%|▉         | 219/2398 [09:35<1:36:03,  2.65s/it]\u001b[A\u001b[A"
     ]
    },
    {
     "name": "stdout",
     "output_type": "stream",
     "text": [
      "((994, 830), (1059, 891))\n",
      "((895, 487), (1009, 533))\n",
      "((122, 498), (437, 576))\n",
      "((258, 774), (395, 907))\n",
      "((994, 830), (1059, 891))\n"
     ]
    },
    {
     "name": "stderr",
     "output_type": "stream",
     "text": [
      "\n",
      "\n",
      "  9%|▉         | 220/2398 [09:38<1:35:54,  2.64s/it]\u001b[A\u001b[A"
     ]
    },
    {
     "name": "stdout",
     "output_type": "stream",
     "text": [
      "((894, 487), (1011, 533))\n",
      "((130, 498), (439, 576))\n",
      "((258, 774), (395, 908))\n"
     ]
    },
    {
     "name": "stderr",
     "output_type": "stream",
     "text": [
      "\n",
      "\n",
      "  9%|▉         | 221/2398 [09:40<1:34:11,  2.60s/it]\u001b[A\u001b[A"
     ]
    },
    {
     "name": "stdout",
     "output_type": "stream",
     "text": [
      "((994, 829), (1060, 892))\n",
      "((894, 487), (1011, 533))\n",
      "((130, 498), (439, 576))\n",
      "((257, 775), (395, 908))\n"
     ]
    },
    {
     "name": "stderr",
     "output_type": "stream",
     "text": [
      "\n",
      "\n",
      "  9%|▉         | 222/2398 [09:43<1:34:29,  2.61s/it]\u001b[A\u001b[A"
     ]
    },
    {
     "name": "stdout",
     "output_type": "stream",
     "text": [
      "((994, 829), (1060, 892))\n",
      "((894, 486), (1011, 533))\n",
      "((659, 494), (715, 539))\n",
      "((131, 498), (389, 568))\n",
      "((249, 775), (395, 908))\n",
      "((994, 829), (1060, 892))\n"
     ]
    },
    {
     "name": "stderr",
     "output_type": "stream",
     "text": [
      "\n",
      "\n",
      "  9%|▉         | 223/2398 [09:45<1:33:28,  2.58s/it]\u001b[A\u001b[A"
     ]
    },
    {
     "name": "stdout",
     "output_type": "stream",
     "text": [
      "((894, 486), (1009, 533))\n",
      "((142, 498), (389, 568))\n",
      "((249, 775), (395, 907))\n",
      "((994, 829), (1060, 892))\n"
     ]
    },
    {
     "name": "stderr",
     "output_type": "stream",
     "text": [
      "\n",
      "\n",
      "  9%|▉         | 224/2398 [09:48<1:32:56,  2.57s/it]\u001b[A\u001b[A"
     ]
    },
    {
     "name": "stdout",
     "output_type": "stream",
     "text": [
      "((894, 486), (1009, 532))\n",
      "((142, 499), (387, 568))\n",
      "((249, 775), (395, 907))\n"
     ]
    },
    {
     "name": "stderr",
     "output_type": "stream",
     "text": [
      "\n",
      "\n",
      "  9%|▉         | 225/2398 [09:51<1:33:18,  2.58s/it]\u001b[A\u001b[A"
     ]
    },
    {
     "name": "stdout",
     "output_type": "stream",
     "text": [
      "((994, 829), (1060, 892))\n",
      "((894, 486), (997, 532))\n",
      "((142, 498), (387, 570))\n",
      "((249, 773), (412, 908))\n"
     ]
    },
    {
     "name": "stderr",
     "output_type": "stream",
     "text": [
      "\n",
      "\n",
      "  9%|▉         | 226/2398 [09:53<1:33:23,  2.58s/it]\u001b[A\u001b[A"
     ]
    },
    {
     "name": "stdout",
     "output_type": "stream",
     "text": [
      "((994, 829), (1060, 892))\n",
      "((894, 486), (997, 532))\n",
      "((142, 498), (387, 570))\n",
      "((258, 773), (413, 907))\n"
     ]
    },
    {
     "name": "stderr",
     "output_type": "stream",
     "text": [
      "\n",
      "\n",
      "  9%|▉         | 227/2398 [09:56<1:32:54,  2.57s/it]\u001b[A\u001b[A"
     ]
    },
    {
     "name": "stdout",
     "output_type": "stream",
     "text": [
      "((994, 829), (1060, 892))\n",
      "((894, 486), (997, 532))\n",
      "((142, 499), (387, 572))\n",
      "((379, 535), (466, 575))\n",
      "((293, 773), (413, 813))\n",
      "((258, 810), (373, 907))\n",
      "((994, 829), (1060, 893))\n"
     ]
    },
    {
     "name": "stderr",
     "output_type": "stream",
     "text": [
      "\n",
      "\n",
      " 10%|▉         | 228/2398 [09:58<1:33:45,  2.59s/it]\u001b[A\u001b[A"
     ]
    },
    {
     "name": "stdout",
     "output_type": "stream",
     "text": [
      "((894, 486), (997, 532))\n",
      "((142, 499), (387, 574))\n",
      "((377, 535), (469, 575))\n",
      "((293, 772), (413, 813))\n"
     ]
    },
    {
     "name": "stderr",
     "output_type": "stream",
     "text": [
      "\n",
      "\n",
      " 10%|▉         | 229/2398 [10:01<1:32:32,  2.56s/it]\u001b[A\u001b[A"
     ]
    },
    {
     "name": "stdout",
     "output_type": "stream",
     "text": [
      "((258, 818), (374, 908))\n",
      "((994, 829), (1061, 893))\n",
      "((894, 486), (997, 532))\n",
      "((141, 499), (387, 572))\n",
      "((377, 535), (469, 575))\n",
      "((258, 818), (374, 908))\n",
      "((994, 828), (1061, 893))\n"
     ]
    },
    {
     "name": "stderr",
     "output_type": "stream",
     "text": [
      "\n",
      "\n",
      " 10%|▉         | 230/2398 [10:03<1:32:52,  2.57s/it]\u001b[A\u001b[A"
     ]
    },
    {
     "name": "stdout",
     "output_type": "stream",
     "text": [
      "((894, 486), (996, 531))\n",
      "((140, 499), (469, 575))\n",
      "((369, 803), (461, 844))\n",
      "((258, 818), (374, 908))\n",
      "((994, 828), (1061, 893))\n"
     ]
    },
    {
     "name": "stderr",
     "output_type": "stream",
     "text": [
      "\n",
      "\n",
      " 10%|▉         | 231/2398 [10:06<1:33:33,  2.59s/it]\u001b[A\u001b[A"
     ]
    },
    {
     "name": "stdout",
     "output_type": "stream",
     "text": [
      "((894, 486), (995, 532))\n",
      "((150, 498), (469, 576))\n",
      "((361, 803), (461, 844))\n",
      "((259, 818), (375, 908))\n",
      "((994, 829), (1061, 892))\n"
     ]
    },
    {
     "name": "stderr",
     "output_type": "stream",
     "text": [
      "\n",
      "\n",
      " 10%|▉         | 232/2398 [10:09<1:34:11,  2.61s/it]\u001b[A\u001b[A"
     ]
    },
    {
     "name": "stdout",
     "output_type": "stream",
     "text": [
      "((893, 487), (995, 532))\n",
      "((150, 498), (540, 576))\n"
     ]
    },
    {
     "name": "stderr",
     "output_type": "stream",
     "text": [
      "\n",
      "\n",
      " 10%|▉         | 233/2398 [10:11<1:33:27,  2.59s/it]\u001b[A\u001b[A"
     ]
    },
    {
     "name": "stdout",
     "output_type": "stream",
     "text": [
      "((361, 803), (461, 849))\n",
      "((259, 818), (375, 909))\n",
      "((994, 829), (1061, 892))\n",
      "((1234, 455), (1279, 520))\n",
      "((893, 486), (995, 533))\n",
      "((148, 498), (537, 576))\n"
     ]
    },
    {
     "name": "stderr",
     "output_type": "stream",
     "text": [
      "\n",
      "\n",
      " 10%|▉         | 234/2398 [10:14<1:32:37,  2.57s/it]\u001b[A\u001b[A"
     ]
    },
    {
     "name": "stdout",
     "output_type": "stream",
     "text": [
      "((259, 803), (461, 909))\n",
      "((994, 828), (1061, 892))\n",
      "((1230, 455), (1279, 524))\n",
      "((890, 486), (995, 533))\n",
      "((147, 498), (533, 576))\n",
      "((293, 772), (417, 815))\n",
      "((259, 803), (461, 910))\n"
     ]
    },
    {
     "name": "stderr",
     "output_type": "stream",
     "text": [
      "\n",
      "\n",
      " 10%|▉         | 235/2398 [10:16<1:32:05,  2.55s/it]\u001b[A\u001b[A"
     ]
    },
    {
     "name": "stdout",
     "output_type": "stream",
     "text": [
      "((994, 829), (1061, 892))\n",
      "((1230, 455), (1279, 524))\n",
      "((890, 486), (996, 533))\n",
      "((148, 498), (533, 576))\n",
      "((259, 772), (461, 910))\n"
     ]
    },
    {
     "name": "stderr",
     "output_type": "stream",
     "text": [
      "\n",
      "\n",
      " 10%|▉         | 236/2398 [10:19<1:31:04,  2.53s/it]\u001b[A\u001b[A"
     ]
    },
    {
     "name": "stdout",
     "output_type": "stream",
     "text": [
      "((994, 829), (1060, 892))\n",
      "((1229, 455), (1279, 524))\n",
      "((890, 486), (1004, 533))\n",
      "((130, 499), (215, 535))\n",
      "((144, 499), (533, 576))\n"
     ]
    },
    {
     "name": "stderr",
     "output_type": "stream",
     "text": [
      "\n",
      "\n",
      " 10%|▉         | 237/2398 [10:21<1:30:41,  2.52s/it]\u001b[A\u001b[A"
     ]
    },
    {
     "name": "stdout",
     "output_type": "stream",
     "text": [
      "((259, 772), (461, 910))\n",
      "((994, 829), (1060, 892))\n",
      "((1229, 455), (1279, 524))\n",
      "((890, 486), (1005, 533))\n",
      "((129, 499), (215, 535))\n",
      "((142, 499), (533, 576))\n",
      "((259, 772), (461, 910))\n",
      "((994, 829), (1060, 892))\n"
     ]
    },
    {
     "name": "stderr",
     "output_type": "stream",
     "text": [
      "\n",
      "\n",
      " 10%|▉         | 238/2398 [10:24<1:30:43,  2.52s/it]\u001b[A\u001b[A"
     ]
    },
    {
     "name": "stdout",
     "output_type": "stream",
     "text": [
      "((1229, 455), (1279, 524))\n",
      "((891, 486), (1005, 533))\n",
      "((126, 499), (533, 576))\n",
      "((259, 772), (461, 910))\n"
     ]
    },
    {
     "name": "stderr",
     "output_type": "stream",
     "text": [
      "\n",
      "\n",
      " 10%|▉         | 239/2398 [10:26<1:30:11,  2.51s/it]\u001b[A\u001b[A"
     ]
    },
    {
     "name": "stdout",
     "output_type": "stream",
     "text": [
      "((994, 829), (1060, 892))\n",
      "((1228, 455), (1279, 524))\n",
      "((890, 486), (1029, 533))\n",
      "((126, 499), (529, 576))\n",
      "((259, 772), (461, 902))\n"
     ]
    },
    {
     "name": "stderr",
     "output_type": "stream",
     "text": [
      "\n",
      "\n",
      " 10%|█         | 240/2398 [10:29<1:29:14,  2.48s/it]\u001b[A\u001b[A"
     ]
    },
    {
     "name": "stdout",
     "output_type": "stream",
     "text": [
      "((994, 829), (1060, 892))\n",
      "((1228, 455), (1279, 524))\n",
      "((888, 486), (1029, 533))\n",
      "((126, 499), (529, 576))\n",
      "((259, 772), (461, 902))\n",
      "((994, 827), (1060, 892))\n"
     ]
    },
    {
     "name": "stderr",
     "output_type": "stream",
     "text": [
      "\n",
      "\n",
      " 10%|█         | 241/2398 [10:31<1:28:47,  2.47s/it]\u001b[A\u001b[A"
     ]
    },
    {
     "name": "stdout",
     "output_type": "stream",
     "text": [
      "((1227, 455), (1279, 524))\n",
      "((888, 486), (1028, 533))\n",
      "((129, 499), (525, 576))\n",
      "((259, 772), (461, 893))\n",
      "((994, 827), (1060, 892))\n"
     ]
    },
    {
     "name": "stderr",
     "output_type": "stream",
     "text": [
      "\n",
      "\n",
      " 10%|█         | 242/2398 [10:34<1:28:42,  2.47s/it]\u001b[A\u001b[A"
     ]
    },
    {
     "name": "stdout",
     "output_type": "stream",
     "text": [
      "((1227, 455), (1279, 524))\n",
      "((886, 486), (1027, 534))\n",
      "((127, 499), (525, 576))\n",
      "((259, 771), (461, 893))\n",
      "((994, 827), (1060, 892))\n"
     ]
    },
    {
     "name": "stderr",
     "output_type": "stream",
     "text": [
      "\n",
      "\n",
      " 10%|█         | 243/2398 [10:36<1:28:03,  2.45s/it]\u001b[A\u001b[A"
     ]
    },
    {
     "name": "stdout",
     "output_type": "stream",
     "text": [
      "((1227, 455), (1279, 524))\n",
      "((898, 486), (1009, 533))\n",
      "((127, 499), (389, 569))\n",
      "((371, 550), (525, 576))\n",
      "((259, 771), (461, 893))\n"
     ]
    },
    {
     "name": "stderr",
     "output_type": "stream",
     "text": [
      "\n",
      "\n",
      " 10%|█         | 244/2398 [10:38<1:28:06,  2.45s/it]\u001b[A\u001b[A"
     ]
    },
    {
     "name": "stdout",
     "output_type": "stream",
     "text": [
      "((992, 827), (1060, 892))\n",
      "((1226, 456), (1279, 524))\n",
      "((898, 486), (1005, 533))\n",
      "((127, 499), (389, 569))\n",
      "((371, 550), (525, 576))\n",
      "((259, 771), (461, 893))\n"
     ]
    },
    {
     "name": "stderr",
     "output_type": "stream",
     "text": [
      "\n",
      "\n",
      " 10%|█         | 245/2398 [10:41<1:28:36,  2.47s/it]\u001b[A\u001b[A"
     ]
    },
    {
     "name": "stdout",
     "output_type": "stream",
     "text": [
      "((992, 826), (1060, 892))\n",
      "((1225, 456), (1279, 524))\n",
      "((885, 486), (1005, 534))\n",
      "((126, 499), (389, 569))\n",
      "((371, 546), (516, 576))\n",
      "((259, 771), (461, 893))\n"
     ]
    },
    {
     "name": "stderr",
     "output_type": "stream",
     "text": [
      "\n",
      "\n",
      " 10%|█         | 246/2398 [10:43<1:28:55,  2.48s/it]\u001b[A\u001b[A"
     ]
    },
    {
     "name": "stdout",
     "output_type": "stream",
     "text": [
      "((992, 826), (1060, 892))\n",
      "((1224, 456), (1279, 524))\n",
      "((885, 486), (1005, 534))\n",
      "((124, 499), (516, 576))\n",
      "((259, 771), (461, 905))\n"
     ]
    },
    {
     "name": "stderr",
     "output_type": "stream",
     "text": [
      "\n",
      "\n",
      " 10%|█         | 247/2398 [10:46<1:29:30,  2.50s/it]\u001b[A\u001b[A"
     ]
    },
    {
     "name": "stdout",
     "output_type": "stream",
     "text": [
      "((992, 826), (1060, 892))\n",
      "((1219, 456), (1279, 524))\n",
      "((883, 486), (1005, 533))\n",
      "((124, 499), (516, 576))\n",
      "((259, 771), (461, 897))\n"
     ]
    },
    {
     "name": "stderr",
     "output_type": "stream",
     "text": [
      "\n",
      "\n",
      " 10%|█         | 248/2398 [10:49<1:29:47,  2.51s/it]\u001b[A\u001b[A"
     ]
    },
    {
     "name": "stdout",
     "output_type": "stream",
     "text": [
      "((992, 826), (1060, 892))\n",
      "((1204, 455), (1279, 525))\n",
      "((883, 486), (1005, 533))\n",
      "((123, 499), (516, 576))\n",
      "((259, 771), (461, 902))\n"
     ]
    },
    {
     "name": "stderr",
     "output_type": "stream",
     "text": [
      "\n",
      "\n",
      " 10%|█         | 249/2398 [10:51<1:31:12,  2.55s/it]\u001b[A\u001b[A"
     ]
    },
    {
     "name": "stdout",
     "output_type": "stream",
     "text": [
      "((990, 826), (1060, 893))\n",
      "((924, 862), (981, 906))\n",
      "((1204, 455), (1279, 525))\n",
      "((883, 486), (1005, 533))\n",
      "((119, 499), (525, 576))\n",
      "((259, 771), (470, 902))\n",
      "((534, 771), (621, 847))\n"
     ]
    },
    {
     "name": "stderr",
     "output_type": "stream",
     "text": [
      "\n",
      "\n",
      " 10%|█         | 250/2398 [10:54<1:32:31,  2.58s/it]\u001b[A\u001b[A"
     ]
    },
    {
     "name": "stdout",
     "output_type": "stream",
     "text": [
      "((992, 826), (1066, 909))\n",
      "((924, 862), (981, 906))\n",
      "((1204, 455), (1279, 525))\n",
      "((885, 484), (1005, 533))\n",
      "((114, 498), (525, 576))\n",
      "((531, 769), (633, 848))\n",
      "((162, 770), (471, 903))\n"
     ]
    },
    {
     "name": "stderr",
     "output_type": "stream",
     "text": [
      "\n",
      "\n",
      " 10%|█         | 251/2398 [10:56<1:32:49,  2.59s/it]\u001b[A\u001b[A"
     ]
    },
    {
     "name": "stdout",
     "output_type": "stream",
     "text": [
      "((992, 826), (1067, 909))\n",
      "((924, 862), (981, 906))\n",
      "((1204, 455), (1279, 525))\n",
      "((902, 484), (1005, 532))\n",
      "((109, 496), (525, 576))\n",
      "((531, 769), (636, 849))\n",
      "((162, 770), (471, 903))\n",
      "((992, 826), (1067, 909))\n",
      "((924, 862), (981, 906))\n"
     ]
    },
    {
     "name": "stderr",
     "output_type": "stream",
     "text": [
      "\n",
      "\n",
      " 11%|█         | 252/2398 [10:59<1:34:22,  2.64s/it]\u001b[A\u001b[A"
     ]
    },
    {
     "name": "stdout",
     "output_type": "stream",
     "text": [
      "((1204, 455), (1279, 526))\n",
      "((918, 483), (1006, 532))\n",
      "((88, 496), (525, 576))\n",
      "((531, 769), (636, 849))\n",
      "((162, 770), (471, 903))\n",
      "((994, 826), (1067, 909))\n",
      "((924, 862), (982, 906))\n"
     ]
    },
    {
     "name": "stderr",
     "output_type": "stream",
     "text": [
      "\n",
      "\n",
      " 11%|█         | 253/2398 [11:02<1:34:33,  2.65s/it]\u001b[A\u001b[A"
     ]
    },
    {
     "name": "stdout",
     "output_type": "stream",
     "text": [
      "((1204, 456), (1279, 527))\n",
      "((918, 483), (1010, 532))\n",
      "((86, 496), (525, 577))\n",
      "((531, 769), (637, 849))\n",
      "((162, 770), (471, 903))\n",
      "((994, 826), (1067, 909))\n",
      "((924, 862), (983, 906))\n"
     ]
    },
    {
     "name": "stderr",
     "output_type": "stream",
     "text": [
      "\n",
      "\n",
      " 11%|█         | 254/2398 [11:04<1:34:26,  2.64s/it]\u001b[A\u001b[A"
     ]
    },
    {
     "name": "stdout",
     "output_type": "stream",
     "text": [
      "((1204, 456), (1279, 528))\n",
      "((918, 483), (1020, 532))\n",
      "((86, 496), (525, 577))\n",
      "((531, 769), (637, 849))\n",
      "((162, 770), (471, 903))\n",
      "((994, 826), (1067, 909))\n",
      "((924, 862), (983, 906))\n"
     ]
    },
    {
     "name": "stderr",
     "output_type": "stream",
     "text": [
      "\n",
      "\n",
      " 11%|█         | 255/2398 [11:07<1:34:36,  2.65s/it]\u001b[A\u001b[A"
     ]
    },
    {
     "name": "stdout",
     "output_type": "stream",
     "text": [
      "((1204, 456), (1279, 528))\n",
      "((938, 485), (1021, 531))\n",
      "((82, 495), (525, 577))\n",
      "((531, 769), (637, 849))\n",
      "((162, 770), (471, 903))\n"
     ]
    },
    {
     "name": "stderr",
     "output_type": "stream",
     "text": [
      "\n",
      "\n",
      " 11%|█         | 256/2398 [11:10<1:34:01,  2.63s/it]\u001b[A\u001b[A"
     ]
    },
    {
     "name": "stdout",
     "output_type": "stream",
     "text": [
      "((994, 826), (1067, 909))\n",
      "((924, 862), (983, 906))\n",
      "((1203, 456), (1279, 528))\n",
      "((938, 485), (1021, 531))\n",
      "((74, 495), (525, 577))\n",
      "((531, 769), (637, 849))\n",
      "((162, 770), (471, 903))\n"
     ]
    },
    {
     "name": "stderr",
     "output_type": "stream",
     "text": [
      "\n",
      "\n",
      " 11%|█         | 257/2398 [11:12<1:34:00,  2.63s/it]\u001b[A\u001b[A"
     ]
    },
    {
     "name": "stdout",
     "output_type": "stream",
     "text": [
      "((994, 826), (1067, 909))\n",
      "((924, 862), (983, 906))\n",
      "((1203, 456), (1279, 528))\n",
      "((938, 486), (1021, 531))\n",
      "((57, 495), (525, 577))\n",
      "((531, 769), (637, 849))\n",
      "((162, 770), (471, 903))\n"
     ]
    },
    {
     "name": "stderr",
     "output_type": "stream",
     "text": [
      "\n",
      "\n",
      " 11%|█         | 258/2398 [11:15<1:33:33,  2.62s/it]\u001b[A\u001b[A"
     ]
    },
    {
     "name": "stdout",
     "output_type": "stream",
     "text": [
      "((994, 827), (1067, 909))\n",
      "((924, 862), (983, 906))\n",
      "((1203, 456), (1279, 529))\n",
      "((933, 487), (1021, 531))\n",
      "((54, 495), (525, 577))\n",
      "((531, 769), (636, 849))\n",
      "((162, 770), (471, 903))\n"
     ]
    },
    {
     "name": "stderr",
     "output_type": "stream",
     "text": [
      "\n",
      "\n",
      " 11%|█         | 259/2398 [11:18<1:33:11,  2.61s/it]\u001b[A\u001b[A"
     ]
    },
    {
     "name": "stdout",
     "output_type": "stream",
     "text": [
      "((994, 827), (1067, 909))\n",
      "((924, 862), (983, 907))\n",
      "((1200, 456), (1279, 530))\n",
      "((934, 487), (1116, 529))\n",
      "((54, 498), (525, 577))\n",
      "((531, 769), (636, 848))\n",
      "((161, 770), (471, 903))\n"
     ]
    },
    {
     "name": "stderr",
     "output_type": "stream",
     "text": [
      "\n",
      "\n",
      " 11%|█         | 260/2398 [11:20<1:31:59,  2.58s/it]\u001b[A\u001b[A"
     ]
    },
    {
     "name": "stdout",
     "output_type": "stream",
     "text": [
      "((994, 827), (1067, 909))\n",
      "((924, 862), (983, 907))\n",
      "((1195, 456), (1279, 531))\n",
      "((934, 488), (1116, 529))\n",
      "((54, 496), (525, 577))\n",
      "((531, 769), (635, 848))\n",
      "((158, 770), (471, 903))\n"
     ]
    },
    {
     "name": "stderr",
     "output_type": "stream",
     "text": [
      "\n",
      "\n",
      " 11%|█         | 261/2398 [11:23<1:32:00,  2.58s/it]\u001b[A\u001b[A"
     ]
    },
    {
     "name": "stdout",
     "output_type": "stream",
     "text": [
      "((994, 827), (1067, 909))\n",
      "((924, 862), (983, 907))\n",
      "((1194, 456), (1279, 531))\n",
      "((934, 488), (1116, 528))\n",
      "((54, 496), (525, 577))\n",
      "((532, 769), (634, 848))\n",
      "((158, 771), (470, 904))\n"
     ]
    },
    {
     "name": "stderr",
     "output_type": "stream",
     "text": [
      "\n",
      "\n",
      " 11%|█         | 262/2398 [11:25<1:32:10,  2.59s/it]\u001b[A\u001b[A"
     ]
    },
    {
     "name": "stdout",
     "output_type": "stream",
     "text": [
      "((994, 826), (1067, 893))\n",
      "((924, 862), (983, 907))\n",
      "((1194, 456), (1279, 531))\n",
      "((933, 488), (1116, 528))\n",
      "((53, 496), (549, 577))\n",
      "((532, 769), (634, 848))\n",
      "((158, 771), (461, 904))\n"
     ]
    },
    {
     "name": "stderr",
     "output_type": "stream",
     "text": [
      "\n",
      "\n",
      " 11%|█         | 263/2398 [11:28<1:32:25,  2.60s/it]\u001b[A\u001b[A"
     ]
    },
    {
     "name": "stdout",
     "output_type": "stream",
     "text": [
      "((994, 826), (1067, 893))\n",
      "((924, 862), (983, 907))\n",
      "((1194, 456), (1279, 531))\n",
      "((933, 486), (1115, 529))\n",
      "((54, 496), (549, 577))\n",
      "((532, 769), (631, 848))\n",
      "((158, 771), (461, 904))\n"
     ]
    },
    {
     "name": "stderr",
     "output_type": "stream",
     "text": [
      "\n",
      "\n",
      " 11%|█         | 264/2398 [11:30<1:32:19,  2.60s/it]\u001b[A\u001b[A"
     ]
    },
    {
     "name": "stdout",
     "output_type": "stream",
     "text": [
      "((994, 826), (1067, 893))\n",
      "((924, 862), (983, 907))\n",
      "((1190, 456), (1279, 531))\n",
      "((932, 486), (1114, 529))\n",
      "((53, 496), (554, 577))\n",
      "((533, 769), (631, 848))\n",
      "((158, 771), (461, 904))\n"
     ]
    },
    {
     "name": "stderr",
     "output_type": "stream",
     "text": [
      "\n",
      "\n",
      " 11%|█         | 265/2398 [11:33<1:32:51,  2.61s/it]\u001b[A\u001b[A"
     ]
    },
    {
     "name": "stdout",
     "output_type": "stream",
     "text": [
      "((994, 826), (1067, 892))\n",
      "((924, 862), (983, 907))\n",
      "((1189, 456), (1279, 531))\n",
      "((931, 486), (1114, 529))\n",
      "((53, 496), (554, 577))\n",
      "((533, 769), (631, 848))\n",
      "((158, 771), (461, 904))\n"
     ]
    },
    {
     "name": "stderr",
     "output_type": "stream",
     "text": [
      "\n",
      "\n",
      " 11%|█         | 266/2398 [11:36<1:33:27,  2.63s/it]\u001b[A\u001b[A"
     ]
    },
    {
     "name": "stdout",
     "output_type": "stream",
     "text": [
      "((994, 826), (1067, 892))\n",
      "((924, 862), (983, 907))\n",
      "((1188, 456), (1279, 531))\n",
      "((931, 486), (1113, 529))\n",
      "((53, 496), (553, 577))\n",
      "((533, 769), (624, 848))\n",
      "((158, 771), (461, 904))\n"
     ]
    },
    {
     "name": "stderr",
     "output_type": "stream",
     "text": [
      "\n",
      "\n",
      " 11%|█         | 267/2398 [11:38<1:33:28,  2.63s/it]\u001b[A\u001b[A"
     ]
    },
    {
     "name": "stdout",
     "output_type": "stream",
     "text": [
      "((994, 826), (1067, 893))\n",
      "((924, 862), (983, 907))\n",
      "((1187, 456), (1279, 531))\n",
      "((930, 486), (1113, 530))\n",
      "((51, 496), (553, 577))\n",
      "((533, 769), (624, 848))\n",
      "((158, 771), (461, 904))\n"
     ]
    },
    {
     "name": "stderr",
     "output_type": "stream",
     "text": [
      "\n",
      "\n",
      " 11%|█         | 268/2398 [11:41<1:33:08,  2.62s/it]\u001b[A\u001b[A"
     ]
    },
    {
     "name": "stdout",
     "output_type": "stream",
     "text": [
      "((994, 826), (1067, 893))\n",
      "((924, 862), (983, 907))\n",
      "((1187, 456), (1279, 531))\n",
      "((929, 486), (1113, 531))\n",
      "((51, 496), (553, 577))\n",
      "((533, 769), (624, 848))\n",
      "((161, 771), (470, 908))\n"
     ]
    },
    {
     "name": "stderr",
     "output_type": "stream",
     "text": [
      "\n",
      "\n",
      " 11%|█         | 269/2398 [11:44<1:32:05,  2.60s/it]\u001b[A\u001b[A"
     ]
    },
    {
     "name": "stdout",
     "output_type": "stream",
     "text": [
      "((994, 826), (1067, 893))\n",
      "((924, 862), (983, 907))\n",
      "((1187, 457), (1279, 531))\n",
      "((927, 486), (1113, 531))\n",
      "((51, 496), (533, 577))\n",
      "((161, 769), (472, 908))\n",
      "((533, 769), (623, 848))\n"
     ]
    },
    {
     "name": "stderr",
     "output_type": "stream",
     "text": [
      "\n",
      "\n",
      " 11%|█▏        | 270/2398 [11:46<1:31:59,  2.59s/it]\u001b[A\u001b[A"
     ]
    },
    {
     "name": "stdout",
     "output_type": "stream",
     "text": [
      "((994, 826), (1067, 893))\n",
      "((924, 862), (983, 907))\n",
      "((1187, 457), (1279, 531))\n",
      "((927, 487), (1113, 531))\n",
      "((51, 496), (525, 577))\n",
      "((162, 769), (472, 908))\n",
      "((533, 769), (623, 848))\n"
     ]
    },
    {
     "name": "stderr",
     "output_type": "stream",
     "text": [
      "\n",
      "\n",
      " 11%|█▏        | 271/2398 [11:49<1:30:49,  2.56s/it]\u001b[A\u001b[A"
     ]
    },
    {
     "name": "stdout",
     "output_type": "stream",
     "text": [
      "((994, 826), (1067, 893))\n",
      "((924, 862), (983, 907))\n",
      "((1187, 457), (1279, 531))\n",
      "((925, 488), (1113, 532))\n",
      "((50, 496), (525, 577))\n",
      "((162, 769), (472, 908))\n",
      "((533, 769), (623, 848))\n"
     ]
    },
    {
     "name": "stderr",
     "output_type": "stream",
     "text": [
      "\n",
      "\n",
      " 11%|█▏        | 272/2398 [11:51<1:30:29,  2.55s/it]\u001b[A\u001b[A"
     ]
    },
    {
     "name": "stdout",
     "output_type": "stream",
     "text": [
      "((994, 826), (1067, 893))\n",
      "((924, 862), (983, 907))\n",
      "((1186, 457), (1279, 531))\n",
      "((922, 488), (1113, 532))\n",
      "((38, 500), (525, 577))\n",
      "((162, 769), (472, 908))\n",
      "((533, 769), (621, 848))\n"
     ]
    },
    {
     "name": "stderr",
     "output_type": "stream",
     "text": [
      "\n",
      "\n",
      " 11%|█▏        | 273/2398 [11:54<1:29:35,  2.53s/it]\u001b[A\u001b[A"
     ]
    },
    {
     "name": "stdout",
     "output_type": "stream",
     "text": [
      "((994, 826), (1067, 893))\n",
      "((924, 862), (983, 907))\n",
      "((1186, 457), (1279, 531))\n",
      "((918, 488), (1113, 532))\n",
      "((38, 500), (521, 580))\n",
      "((162, 769), (472, 908))\n",
      "((533, 769), (621, 848))\n"
     ]
    },
    {
     "name": "stderr",
     "output_type": "stream",
     "text": [
      "\n",
      "\n",
      " 11%|█▏        | 274/2398 [11:56<1:28:13,  2.49s/it]\u001b[A\u001b[A"
     ]
    },
    {
     "name": "stdout",
     "output_type": "stream",
     "text": [
      "((994, 826), (1067, 909))\n",
      "((924, 862), (983, 907))\n",
      "((1186, 457), (1279, 531))\n",
      "((917, 488), (1108, 532))\n",
      "((38, 500), (521, 580))\n",
      "((533, 769), (621, 848))\n",
      "((230, 770), (472, 908))\n"
     ]
    },
    {
     "name": "stderr",
     "output_type": "stream",
     "text": [
      "\n",
      "\n",
      " 11%|█▏        | 275/2398 [11:59<1:28:50,  2.51s/it]\u001b[A\u001b[A"
     ]
    },
    {
     "name": "stdout",
     "output_type": "stream",
     "text": [
      "((994, 826), (1067, 909))\n",
      "((924, 862), (983, 907))\n",
      "((1186, 457), (1279, 531))\n",
      "((917, 488), (1107, 532))\n",
      "((37, 500), (365, 580))\n",
      "((354, 551), (521, 577))\n",
      "((533, 769), (621, 848))\n",
      "((252, 770), (472, 905))\n"
     ]
    },
    {
     "name": "stderr",
     "output_type": "stream",
     "text": [
      "\n",
      "\n",
      " 12%|█▏        | 276/2398 [12:01<1:29:12,  2.52s/it]\u001b[A\u001b[A"
     ]
    },
    {
     "name": "stdout",
     "output_type": "stream",
     "text": [
      "((994, 826), (1067, 909))\n",
      "((924, 862), (982, 907))\n",
      "((1186, 457), (1279, 532))\n",
      "((922, 488), (1106, 532))\n",
      "((37, 500), (365, 580))\n",
      "((377, 551), (521, 577))\n",
      "((533, 769), (621, 848))\n",
      "((254, 770), (472, 908))\n"
     ]
    },
    {
     "name": "stderr",
     "output_type": "stream",
     "text": [
      "\n",
      "\n",
      " 12%|█▏        | 277/2398 [12:04<1:30:13,  2.55s/it]\u001b[A\u001b[A"
     ]
    },
    {
     "name": "stdout",
     "output_type": "stream",
     "text": [
      "((994, 826), (1067, 909))\n",
      "((924, 862), (982, 907))\n",
      "((1184, 457), (1279, 532))\n",
      "((922, 488), (1105, 532))\n",
      "((38, 500), (365, 580))\n",
      "((380, 551), (521, 577))\n",
      "((533, 769), (621, 848))\n",
      "((258, 770), (472, 904))\n"
     ]
    },
    {
     "name": "stderr",
     "output_type": "stream",
     "text": [
      "\n",
      "\n",
      " 12%|█▏        | 278/2398 [12:06<1:31:34,  2.59s/it]\u001b[A\u001b[A"
     ]
    },
    {
     "name": "stdout",
     "output_type": "stream",
     "text": [
      "((993, 826), (1067, 909))\n",
      "((924, 862), (982, 907))\n",
      "((1184, 456), (1279, 532))\n",
      "((922, 489), (1105, 532))\n",
      "((38, 500), (365, 580))\n",
      "((386, 551), (521, 577))\n",
      "((533, 769), (621, 848))\n",
      "((258, 770), (472, 904))\n"
     ]
    },
    {
     "name": "stderr",
     "output_type": "stream",
     "text": [
      "\n",
      "\n",
      " 12%|█▏        | 279/2398 [12:09<1:31:30,  2.59s/it]\u001b[A\u001b[A"
     ]
    },
    {
     "name": "stdout",
     "output_type": "stream",
     "text": [
      "((993, 826), (1067, 909))\n",
      "((924, 862), (981, 907))\n",
      "((1183, 456), (1279, 532))\n",
      "((916, 489), (1105, 532))\n",
      "((38, 500), (365, 581))\n",
      "((390, 551), (521, 577))\n",
      "((258, 770), (472, 904))\n",
      "((533, 770), (621, 848))\n",
      "((992, 826), (1067, 909))\n",
      "((924, 862), (981, 906))\n"
     ]
    },
    {
     "name": "stderr",
     "output_type": "stream",
     "text": [
      "\n",
      "\n",
      " 12%|█▏        | 280/2398 [12:12<1:32:11,  2.61s/it]\u001b[A\u001b[A"
     ]
    },
    {
     "name": "stdout",
     "output_type": "stream",
     "text": [
      "((1178, 456), (1279, 532))\n",
      "((916, 489), (1103, 532))\n",
      "((38, 500), (365, 581))\n",
      "((398, 551), (521, 577))\n",
      "((533, 770), (621, 848))\n",
      "((258, 771), (468, 904))\n"
     ]
    },
    {
     "name": "stderr",
     "output_type": "stream",
     "text": [
      "\n",
      "\n"
     ]
    },
    {
     "name": "stdout",
     "output_type": "stream",
     "text": [
      "((992, 826), (1067, 909))\n",
      "((924, 862), (981, 906))\n"
     ]
    },
    {
     "name": "stderr",
     "output_type": "stream",
     "text": [
      " 12%|█▏        | 281/2398 [12:14<1:31:56,  2.61s/it]\u001b[A\u001b[A"
     ]
    },
    {
     "name": "stdout",
     "output_type": "stream",
     "text": [
      "((1178, 456), (1279, 532))\n",
      "((917, 489), (1005, 532))\n",
      "((1010, 489), (1101, 528))\n",
      "((38, 498), (365, 581))\n",
      "((402, 550), (524, 577))\n",
      "((533, 770), (623, 848))\n",
      "((258, 771), (468, 904))\n",
      "((992, 826), (1068, 908))\n",
      "((924, 861), (981, 906))\n"
     ]
    },
    {
     "name": "stderr",
     "output_type": "stream",
     "text": [
      "\n",
      "\n",
      " 12%|█▏        | 282/2398 [12:17<1:32:04,  2.61s/it]\u001b[A\u001b[A"
     ]
    },
    {
     "name": "stdout",
     "output_type": "stream",
     "text": [
      "((1178, 456), (1279, 532))\n",
      "((1011, 489), (1101, 528))\n",
      "((42, 498), (365, 583))\n",
      "((403, 550), (525, 577))\n",
      "((533, 770), (623, 848))\n",
      "((258, 771), (461, 904))\n"
     ]
    },
    {
     "name": "stderr",
     "output_type": "stream",
     "text": [
      "\n",
      "\n",
      " 12%|█▏        | 283/2398 [12:20<1:31:52,  2.61s/it]\u001b[A\u001b[A"
     ]
    },
    {
     "name": "stdout",
     "output_type": "stream",
     "text": [
      "((992, 826), (1068, 908))\n",
      "((924, 861), (981, 906))\n",
      "((1178, 457), (1279, 532))\n",
      "((1017, 489), (1101, 528))\n",
      "((50, 498), (364, 584))\n",
      "((404, 550), (529, 577))\n",
      "((258, 771), (461, 904))\n",
      "((533, 784), (589, 848))\n"
     ]
    },
    {
     "name": "stderr",
     "output_type": "stream",
     "text": [
      "\n",
      "\n",
      " 12%|█▏        | 284/2398 [12:22<1:32:22,  2.62s/it]\u001b[A\u001b[A"
     ]
    },
    {
     "name": "stdout",
     "output_type": "stream",
     "text": [
      "((992, 826), (1068, 908))\n",
      "((924, 861), (981, 906))\n",
      "((1178, 457), (1279, 532))\n",
      "((1017, 490), (1101, 529))\n",
      "((54, 495), (364, 585))\n",
      "((404, 550), (529, 577))\n",
      "((258, 771), (461, 904))\n",
      "((534, 784), (589, 847))\n"
     ]
    },
    {
     "name": "stderr",
     "output_type": "stream",
     "text": [
      "\n",
      "\n",
      " 12%|█▏        | 285/2398 [12:25<1:32:03,  2.61s/it]\u001b[A\u001b[A"
     ]
    },
    {
     "name": "stdout",
     "output_type": "stream",
     "text": [
      "((993, 826), (1068, 908))\n",
      "((924, 861), (981, 906))\n",
      "((1178, 457), (1279, 533))\n",
      "((1026, 490), (1098, 528))\n",
      "((72, 495), (364, 585))\n",
      "((403, 550), (531, 577))\n",
      "((258, 771), (461, 904))\n",
      "((534, 785), (583, 847))\n"
     ]
    },
    {
     "name": "stderr",
     "output_type": "stream",
     "text": [
      "\n",
      "\n",
      " 12%|█▏        | 286/2398 [12:27<1:32:31,  2.63s/it]\u001b[A\u001b[A"
     ]
    },
    {
     "name": "stdout",
     "output_type": "stream",
     "text": [
      "((994, 826), (1068, 893))\n",
      "((924, 862), (981, 906))\n",
      "((1178, 457), (1279, 533))\n",
      "((1026, 490), (1098, 528))\n",
      "((76, 495), (364, 585))\n",
      "((404, 550), (531, 577))\n",
      "((259, 772), (461, 904))\n",
      "((534, 786), (583, 847))\n"
     ]
    },
    {
     "name": "stderr",
     "output_type": "stream",
     "text": [
      "\n",
      "\n",
      " 12%|█▏        | 287/2398 [12:30<1:33:26,  2.66s/it]\u001b[A\u001b[A"
     ]
    },
    {
     "name": "stdout",
     "output_type": "stream",
     "text": [
      "((994, 827), (1068, 893))\n",
      "((924, 862), (981, 906))\n",
      "((1178, 458), (1279, 533))\n",
      "((76, 498), (364, 585))\n",
      "((404, 551), (531, 577))\n",
      "((259, 772), (461, 903))\n",
      "((534, 786), (583, 847))\n"
     ]
    },
    {
     "name": "stderr",
     "output_type": "stream",
     "text": [
      "\n",
      "\n",
      " 12%|█▏        | 288/2398 [12:33<1:32:47,  2.64s/it]\u001b[A\u001b[A"
     ]
    },
    {
     "name": "stdout",
     "output_type": "stream",
     "text": [
      "((994, 828), (1067, 893))\n",
      "((924, 862), (981, 906))\n",
      "((1179, 458), (1279, 533))\n",
      "((76, 500), (364, 585))\n",
      "((405, 551), (532, 577))\n",
      "((297, 772), (470, 844))\n",
      "((534, 786), (581, 847))\n",
      "((259, 810), (373, 903))\n",
      "((994, 828), (1067, 893))\n"
     ]
    },
    {
     "name": "stderr",
     "output_type": "stream",
     "text": [
      "\n",
      "\n",
      " 12%|█▏        | 289/2398 [12:35<1:31:27,  2.60s/it]\u001b[A\u001b[A"
     ]
    },
    {
     "name": "stdout",
     "output_type": "stream",
     "text": [
      "((924, 862), (981, 906))\n",
      "((1178, 458), (1279, 533))\n",
      "((76, 500), (363, 585))\n",
      "((406, 551), (532, 577))\n",
      "((297, 772), (470, 855))\n",
      "((534, 786), (581, 847))\n",
      "((259, 810), (373, 903))\n"
     ]
    },
    {
     "name": "stderr",
     "output_type": "stream",
     "text": [
      "\n",
      "\n",
      " 12%|█▏        | 290/2398 [12:38<1:30:43,  2.58s/it]\u001b[A\u001b[A"
     ]
    },
    {
     "name": "stdout",
     "output_type": "stream",
     "text": [
      "((994, 829), (1067, 893))\n",
      "((924, 862), (981, 906))\n",
      "((1181, 458), (1279, 533))\n",
      "((75, 500), (362, 583))\n",
      "((406, 551), (529, 577))\n",
      "((297, 772), (470, 859))\n",
      "((534, 786), (581, 847))\n",
      "((259, 810), (373, 903))\n",
      "((994, 829), (1067, 893))\n",
      "((924, 863), (981, 907))\n"
     ]
    },
    {
     "name": "stderr",
     "output_type": "stream",
     "text": [
      "\n",
      "\n",
      " 12%|█▏        | 291/2398 [12:40<1:31:25,  2.60s/it]\u001b[A\u001b[A"
     ]
    },
    {
     "name": "stdout",
     "output_type": "stream",
     "text": [
      "((1184, 458), (1279, 533))\n",
      "((75, 498), (360, 581))\n",
      "((422, 551), (525, 577))\n",
      "((298, 772), (470, 860))\n",
      "((538, 786), (581, 847))\n",
      "((259, 810), (373, 903))\n",
      "((994, 829), (1067, 893))\n",
      "((924, 863), (981, 907))\n"
     ]
    },
    {
     "name": "stderr",
     "output_type": "stream",
     "text": [
      "\n",
      "\n",
      " 12%|█▏        | 292/2398 [12:43<1:32:27,  2.63s/it]\u001b[A\u001b[A"
     ]
    },
    {
     "name": "stdout",
     "output_type": "stream",
     "text": [
      "((1184, 459), (1279, 534))\n",
      "((74, 500), (350, 582))\n",
      "((259, 772), (470, 903))\n",
      "((538, 786), (581, 847))\n"
     ]
    },
    {
     "name": "stderr",
     "output_type": "stream",
     "text": [
      "\n",
      "\n"
     ]
    },
    {
     "name": "stdout",
     "output_type": "stream",
     "text": [
      "((994, 830), (1067, 892))\n",
      "((924, 863), (981, 907))\n"
     ]
    },
    {
     "name": "stderr",
     "output_type": "stream",
     "text": [
      " 12%|█▏        | 293/2398 [12:46<1:32:42,  2.64s/it]\u001b[A\u001b[A"
     ]
    },
    {
     "name": "stdout",
     "output_type": "stream",
     "text": [
      "((1184, 459), (1279, 534))\n",
      "((74, 499), (349, 582))\n",
      "((259, 772), (471, 903))\n",
      "((538, 786), (581, 847))\n"
     ]
    },
    {
     "name": "stderr",
     "output_type": "stream",
     "text": [
      "\n",
      "\n",
      " 12%|█▏        | 294/2398 [12:49<1:33:13,  2.66s/it]\u001b[A\u001b[A"
     ]
    },
    {
     "name": "stdout",
     "output_type": "stream",
     "text": [
      "((994, 832), (1067, 892))\n",
      "((924, 863), (981, 907))\n",
      "((1184, 459), (1279, 534))\n",
      "((73, 492), (348, 582))\n",
      "((259, 772), (463, 903))\n",
      "((538, 787), (581, 847))\n"
     ]
    },
    {
     "name": "stderr",
     "output_type": "stream",
     "text": [
      "\n",
      "\n",
      " 12%|█▏        | 295/2398 [12:51<1:32:26,  2.64s/it]\u001b[A\u001b[A"
     ]
    },
    {
     "name": "stdout",
     "output_type": "stream",
     "text": [
      "((994, 834), (1067, 892))\n",
      "((924, 863), (981, 907))\n",
      "((1182, 459), (1279, 534))\n",
      "((71, 492), (348, 583))\n",
      "((259, 772), (461, 903))\n",
      "((538, 787), (581, 847))\n",
      "((994, 834), (1067, 892))\n",
      "((924, 863), (982, 907))\n"
     ]
    },
    {
     "name": "stderr",
     "output_type": "stream",
     "text": [
      "\n",
      "\n",
      " 12%|█▏        | 296/2398 [12:54<1:32:19,  2.64s/it]\u001b[A\u001b[A"
     ]
    },
    {
     "name": "stdout",
     "output_type": "stream",
     "text": [
      "((1182, 459), (1279, 535))\n",
      "((68, 492), (347, 583))\n",
      "((259, 772), (461, 903))\n",
      "((534, 787), (581, 847))\n"
     ]
    },
    {
     "name": "stderr",
     "output_type": "stream",
     "text": [
      "\n",
      "\n",
      " 12%|█▏        | 297/2398 [12:56<1:32:32,  2.64s/it]\u001b[A\u001b[A"
     ]
    },
    {
     "name": "stdout",
     "output_type": "stream",
     "text": [
      "((994, 834), (1067, 892))\n",
      "((924, 863), (981, 907))\n",
      "((1181, 460), (1279, 535))\n",
      "((67, 490), (345, 583))\n",
      "((259, 772), (461, 903))\n",
      "((534, 787), (581, 847))\n"
     ]
    },
    {
     "name": "stderr",
     "output_type": "stream",
     "text": [
      "\n",
      "\n",
      " 12%|█▏        | 298/2398 [12:59<1:31:51,  2.62s/it]\u001b[A\u001b[A"
     ]
    },
    {
     "name": "stdout",
     "output_type": "stream",
     "text": [
      "((994, 834), (1067, 892))\n",
      "((924, 863), (981, 907))\n",
      "((1180, 460), (1279, 535))\n",
      "((65, 490), (345, 583))\n",
      "((259, 772), (461, 902))\n",
      "((534, 788), (580, 847))\n"
     ]
    },
    {
     "name": "stderr",
     "output_type": "stream",
     "text": [
      "\n",
      "\n",
      " 12%|█▏        | 299/2398 [13:02<1:31:40,  2.62s/it]\u001b[A\u001b[A"
     ]
    },
    {
     "name": "stdout",
     "output_type": "stream",
     "text": [
      "((994, 834), (1067, 892))\n",
      "((924, 862), (981, 906))\n",
      "((1180, 460), (1279, 535))\n",
      "((67, 490), (343, 583))\n",
      "((259, 772), (461, 902))\n",
      "((534, 788), (580, 847))\n",
      "((994, 834), (1067, 892))\n",
      "((924, 862), (981, 906))\n"
     ]
    },
    {
     "name": "stderr",
     "output_type": "stream",
     "text": [
      "\n",
      "\n",
      " 13%|█▎        | 300/2398 [13:04<1:32:11,  2.64s/it]\u001b[A\u001b[A"
     ]
    },
    {
     "name": "stdout",
     "output_type": "stream",
     "text": [
      "((1180, 460), (1279, 535))\n",
      "((67, 490), (345, 583))\n",
      "((259, 773), (461, 902))\n"
     ]
    },
    {
     "name": "stderr",
     "output_type": "stream",
     "text": [
      "\n",
      "\n",
      " 13%|█▎        | 301/2398 [13:07<1:32:04,  2.63s/it]\u001b[A\u001b[A"
     ]
    },
    {
     "name": "stdout",
     "output_type": "stream",
     "text": [
      "((994, 834), (1067, 892))\n",
      "((924, 862), (981, 906))\n",
      "((1180, 460), (1278, 535))\n",
      "((68, 490), (345, 581))\n",
      "((259, 773), (461, 902))\n"
     ]
    },
    {
     "name": "stderr",
     "output_type": "stream",
     "text": [
      "\n",
      "\n",
      " 13%|█▎        | 302/2398 [13:10<1:32:31,  2.65s/it]\u001b[A\u001b[A"
     ]
    },
    {
     "name": "stdout",
     "output_type": "stream",
     "text": [
      "((994, 834), (1067, 892))\n",
      "((924, 862), (981, 906))\n",
      "((1179, 460), (1277, 534))\n",
      "((84, 490), (345, 580))\n",
      "((258, 773), (461, 902))\n"
     ]
    },
    {
     "name": "stderr",
     "output_type": "stream",
     "text": [
      "\n",
      "\n",
      " 13%|█▎        | 303/2398 [13:12<1:32:18,  2.64s/it]\u001b[A\u001b[A"
     ]
    },
    {
     "name": "stdout",
     "output_type": "stream",
     "text": [
      "((994, 834), (1067, 892))\n",
      "((924, 862), (981, 906))\n",
      "((1164, 460), (1253, 532))\n",
      "((86, 491), (345, 574))\n",
      "((259, 773), (461, 865))\n"
     ]
    },
    {
     "name": "stderr",
     "output_type": "stream",
     "text": [
      "\n",
      "\n",
      " 13%|█▎        | 304/2398 [13:15<1:32:41,  2.66s/it]\u001b[A\u001b[A"
     ]
    },
    {
     "name": "stdout",
     "output_type": "stream",
     "text": [
      "((994, 834), (1067, 892))\n",
      "((924, 862), (981, 906))\n",
      "((1164, 460), (1253, 532))\n",
      "((85, 494), (346, 574))\n",
      "((259, 773), (461, 902))\n",
      "((994, 834), (1067, 892))\n"
     ]
    },
    {
     "name": "stderr",
     "output_type": "stream",
     "text": [
      "\n",
      "\n",
      " 13%|█▎        | 305/2398 [13:18<1:33:38,  2.68s/it]\u001b[A\u001b[A"
     ]
    },
    {
     "name": "stdout",
     "output_type": "stream",
     "text": [
      "((924, 862), (981, 906))\n",
      "((1163, 460), (1250, 529))\n",
      "((85, 500), (346, 574))\n",
      "((258, 773), (461, 902))\n"
     ]
    },
    {
     "name": "stderr",
     "output_type": "stream",
     "text": [
      "\n",
      "\n",
      " 13%|█▎        | 306/2398 [13:20<1:33:18,  2.68s/it]\u001b[A\u001b[A"
     ]
    },
    {
     "name": "stdout",
     "output_type": "stream",
     "text": [
      "((994, 834), (1060, 885))\n",
      "((924, 862), (981, 906))\n",
      "((1112, 460), (1250, 529))\n",
      "((84, 500), (348, 574))\n",
      "((258, 773), (461, 902))\n"
     ]
    },
    {
     "name": "stderr",
     "output_type": "stream",
     "text": [
      "\n",
      "\n",
      " 13%|█▎        | 307/2398 [13:23<1:32:27,  2.65s/it]\u001b[A\u001b[A"
     ]
    },
    {
     "name": "stdout",
     "output_type": "stream",
     "text": [
      "((994, 834), (1060, 885))\n",
      "((924, 862), (981, 906))\n",
      "((1083, 460), (1230, 528))\n",
      "((82, 500), (348, 574))\n",
      "((258, 773), (413, 902))\n"
     ]
    },
    {
     "name": "stderr",
     "output_type": "stream",
     "text": [
      "\n",
      "\n",
      " 13%|█▎        | 308/2398 [13:26<1:32:27,  2.65s/it]\u001b[A\u001b[A"
     ]
    },
    {
     "name": "stdout",
     "output_type": "stream",
     "text": [
      "((994, 834), (1060, 885))\n",
      "((924, 862), (981, 906))\n",
      "((1082, 460), (1229, 529))\n",
      "((82, 500), (348, 574))\n",
      "((258, 773), (413, 902))\n"
     ]
    },
    {
     "name": "stderr",
     "output_type": "stream",
     "text": [
      "\n",
      "\n",
      " 13%|█▎        | 309/2398 [13:28<1:32:50,  2.67s/it]\u001b[A\u001b[A"
     ]
    },
    {
     "name": "stdout",
     "output_type": "stream",
     "text": [
      "((994, 834), (1060, 891))\n",
      "((924, 862), (981, 906))\n",
      "((1081, 460), (1229, 531))\n",
      "((81, 501), (349, 583))\n",
      "((258, 773), (413, 902))\n"
     ]
    },
    {
     "name": "stderr",
     "output_type": "stream",
     "text": [
      "\n",
      "\n",
      " 13%|█▎        | 310/2398 [13:31<1:33:10,  2.68s/it]\u001b[A\u001b[A"
     ]
    },
    {
     "name": "stdout",
     "output_type": "stream",
     "text": [
      "((994, 834), (1060, 885))\n",
      "((924, 862), (981, 906))\n",
      "((1078, 460), (1229, 532))\n",
      "((78, 501), (349, 574))\n",
      "((258, 773), (461, 901))\n"
     ]
    },
    {
     "name": "stderr",
     "output_type": "stream",
     "text": [
      "\n",
      "\n",
      " 13%|█▎        | 311/2398 [13:34<1:32:17,  2.65s/it]\u001b[A\u001b[A"
     ]
    },
    {
     "name": "stdout",
     "output_type": "stream",
     "text": [
      "((994, 834), (1060, 885))\n",
      "((924, 862), (981, 906))\n",
      "((1078, 461), (1229, 532))\n",
      "((78, 501), (349, 574))\n",
      "((259, 772), (461, 901))\n"
     ]
    },
    {
     "name": "stderr",
     "output_type": "stream",
     "text": [
      "\n",
      "\n",
      " 13%|█▎        | 312/2398 [13:36<1:31:21,  2.63s/it]\u001b[A\u001b[A"
     ]
    },
    {
     "name": "stdout",
     "output_type": "stream",
     "text": [
      "((994, 834), (1059, 884))\n",
      "((924, 862), (981, 906))\n",
      "((1078, 461), (1228, 532))\n",
      "((76, 501), (349, 575))\n",
      "((259, 772), (461, 869))\n"
     ]
    },
    {
     "name": "stderr",
     "output_type": "stream",
     "text": [
      "\n",
      "\n",
      " 13%|█▎        | 313/2398 [13:39<1:30:54,  2.62s/it]\u001b[A\u001b[A"
     ]
    },
    {
     "name": "stdout",
     "output_type": "stream",
     "text": [
      "((995, 834), (1059, 884))\n",
      "((924, 862), (981, 906))\n",
      "((1078, 461), (1228, 532))\n",
      "((75, 504), (349, 585))\n",
      "((258, 772), (461, 901))\n",
      "((996, 834), (1067, 884))\n"
     ]
    },
    {
     "name": "stderr",
     "output_type": "stream",
     "text": [
      "\n",
      "\n",
      " 13%|█▎        | 314/2398 [13:41<1:32:02,  2.65s/it]\u001b[A\u001b[A"
     ]
    },
    {
     "name": "stdout",
     "output_type": "stream",
     "text": [
      "((924, 862), (981, 906))\n",
      "((1078, 461), (1228, 532))\n",
      "((73, 504), (349, 587))\n",
      "((258, 772), (461, 901))\n"
     ]
    },
    {
     "name": "stderr",
     "output_type": "stream",
     "text": [
      "\n",
      "\n",
      " 13%|█▎        | 315/2398 [13:44<1:31:53,  2.65s/it]\u001b[A\u001b[A"
     ]
    },
    {
     "name": "stdout",
     "output_type": "stream",
     "text": [
      "((996, 834), (1067, 883))\n",
      "((924, 862), (981, 906))\n",
      "((1075, 461), (1228, 532))\n",
      "((72, 504), (349, 587))\n",
      "((258, 772), (461, 901))\n"
     ]
    },
    {
     "name": "stderr",
     "output_type": "stream",
     "text": [
      "\n",
      "\n",
      " 13%|█▎        | 316/2398 [13:47<1:32:53,  2.68s/it]\u001b[A\u001b[A"
     ]
    },
    {
     "name": "stdout",
     "output_type": "stream",
     "text": [
      "((997, 834), (1069, 883))\n",
      "((924, 862), (981, 906))\n",
      "((1074, 461), (1228, 533))\n",
      "((71, 505), (364, 588))\n",
      "((258, 772), (414, 901))\n"
     ]
    },
    {
     "name": "stderr",
     "output_type": "stream",
     "text": [
      "\n",
      "\n",
      " 13%|█▎        | 317/2398 [13:50<1:33:40,  2.70s/it]\u001b[A\u001b[A"
     ]
    },
    {
     "name": "stdout",
     "output_type": "stream",
     "text": [
      "((1002, 834), (1070, 881))\n",
      "((924, 862), (981, 906))\n",
      "((1068, 866), (1113, 925))\n",
      "((1026, 461), (1228, 541))\n",
      "((70, 505), (365, 588))\n",
      "((258, 773), (413, 901))\n"
     ]
    },
    {
     "name": "stderr",
     "output_type": "stream",
     "text": [
      "\n",
      "\n",
      " 13%|█▎        | 318/2398 [13:52<1:33:11,  2.69s/it]\u001b[A\u001b[A"
     ]
    },
    {
     "name": "stdout",
     "output_type": "stream",
     "text": [
      "((1002, 834), (1071, 881))\n",
      "((924, 862), (981, 906))\n",
      "((1060, 866), (1113, 925))\n",
      "((1026, 462), (1277, 541))\n",
      "((69, 505), (365, 588))\n",
      "((258, 773), (413, 902))\n"
     ]
    },
    {
     "name": "stderr",
     "output_type": "stream",
     "text": [
      "\n",
      "\n",
      " 13%|█▎        | 319/2398 [13:55<1:32:04,  2.66s/it]\u001b[A\u001b[A"
     ]
    },
    {
     "name": "stdout",
     "output_type": "stream",
     "text": [
      "((1002, 834), (1071, 881))\n",
      "((924, 862), (981, 906))\n",
      "((1060, 866), (1113, 925))\n",
      "((1026, 462), (1277, 541))\n",
      "((68, 505), (365, 588))\n",
      "((259, 773), (413, 904))\n"
     ]
    },
    {
     "name": "stderr",
     "output_type": "stream",
     "text": [
      "\n",
      "\n",
      " 13%|█▎        | 320/2398 [13:58<1:32:58,  2.68s/it]\u001b[A\u001b[A"
     ]
    },
    {
     "name": "stdout",
     "output_type": "stream",
     "text": [
      "((1002, 834), (1071, 881))\n",
      "((924, 862), (981, 907))\n",
      "((1060, 866), (1113, 925))\n",
      "((1022, 462), (1274, 541))\n",
      "((68, 505), (365, 588))\n",
      "((259, 773), (404, 905))\n",
      "((538, 786), (581, 845))\n",
      "((1002, 835), (1073, 881))\n",
      "((924, 862), (981, 907))\n"
     ]
    },
    {
     "name": "stderr",
     "output_type": "stream",
     "text": [
      "\n",
      "\n",
      " 13%|█▎        | 321/2398 [14:00<1:32:50,  2.68s/it]\u001b[A\u001b[A"
     ]
    },
    {
     "name": "stdout",
     "output_type": "stream",
     "text": [
      "((1060, 866), (1113, 925))\n",
      "((1020, 462), (1273, 541))\n",
      "((66, 505), (365, 588))\n",
      "((259, 773), (403, 905))\n",
      "((538, 786), (581, 845))\n"
     ]
    },
    {
     "name": "stderr",
     "output_type": "stream",
     "text": [
      "\n",
      "\n",
      " 13%|█▎        | 322/2398 [14:03<1:32:52,  2.68s/it]\u001b[A\u001b[A"
     ]
    },
    {
     "name": "stdout",
     "output_type": "stream",
     "text": [
      "((1002, 835), (1073, 883))\n",
      "((924, 862), (981, 907))\n",
      "((1060, 866), (1113, 925))\n",
      "((1019, 462), (1273, 541))\n",
      "((66, 506), (365, 588))\n",
      "((259, 773), (403, 905))\n",
      "((538, 786), (581, 845))\n"
     ]
    },
    {
     "name": "stderr",
     "output_type": "stream",
     "text": [
      "\n",
      "\n",
      " 13%|█▎        | 323/2398 [14:06<1:32:56,  2.69s/it]\u001b[A\u001b[A"
     ]
    },
    {
     "name": "stdout",
     "output_type": "stream",
     "text": [
      "((1002, 836), (1073, 883))\n",
      "((924, 862), (981, 907))\n",
      "((1060, 866), (1113, 925))\n",
      "((1018, 462), (1269, 541))\n",
      "((65, 505), (365, 587))\n",
      "((259, 773), (401, 905))\n",
      "((538, 786), (581, 845))\n"
     ]
    },
    {
     "name": "stderr",
     "output_type": "stream",
     "text": [
      "\n",
      "\n",
      " 14%|█▎        | 324/2398 [14:08<1:33:40,  2.71s/it]\u001b[A\u001b[A"
     ]
    },
    {
     "name": "stdout",
     "output_type": "stream",
     "text": [
      "((1002, 836), (1073, 883))\n",
      "((924, 862), (981, 907))\n",
      "((1060, 866), (1113, 925))\n",
      "((1018, 462), (1269, 540))\n",
      "((64, 505), (365, 587))\n",
      "((259, 774), (399, 905))\n",
      "((538, 786), (581, 845))\n",
      "((1002, 836), (1073, 883))\n"
     ]
    },
    {
     "name": "stderr",
     "output_type": "stream",
     "text": [
      "\n",
      "\n",
      " 14%|█▎        | 325/2398 [14:11<1:34:36,  2.74s/it]\u001b[A\u001b[A"
     ]
    },
    {
     "name": "stdout",
     "output_type": "stream",
     "text": [
      "((924, 862), (981, 907))\n",
      "((1060, 866), (1113, 925))\n",
      "((1016, 462), (1268, 540))\n",
      "((62, 506), (365, 585))\n",
      "((259, 774), (397, 905))\n",
      "((538, 786), (581, 845))\n",
      "((1002, 836), (1073, 883))\n"
     ]
    },
    {
     "name": "stderr",
     "output_type": "stream",
     "text": [
      "\n",
      "\n",
      " 14%|█▎        | 326/2398 [14:14<1:34:28,  2.74s/it]\u001b[A\u001b[A"
     ]
    },
    {
     "name": "stdout",
     "output_type": "stream",
     "text": [
      "((924, 862), (981, 907))\n",
      "((1060, 866), (1113, 925))\n",
      "((1015, 463), (1268, 540))\n",
      "((62, 506), (365, 583))\n",
      "((259, 774), (397, 905))\n"
     ]
    },
    {
     "name": "stderr",
     "output_type": "stream",
     "text": [
      "\n",
      "\n",
      " 14%|█▎        | 327/2398 [14:17<1:34:34,  2.74s/it]\u001b[A\u001b[A"
     ]
    },
    {
     "name": "stdout",
     "output_type": "stream",
     "text": [
      "((1002, 835), (1073, 883))\n",
      "((924, 862), (981, 907))\n",
      "((1060, 866), (1113, 925))\n",
      "((1014, 463), (1261, 540))\n",
      "((60, 506), (365, 583))\n",
      "((259, 774), (397, 905))\n"
     ]
    },
    {
     "name": "stderr",
     "output_type": "stream",
     "text": [
      "\n",
      "\n",
      " 14%|█▎        | 328/2398 [14:19<1:34:08,  2.73s/it]\u001b[A\u001b[A"
     ]
    },
    {
     "name": "stdout",
     "output_type": "stream",
     "text": [
      "((1002, 836), (1113, 925))\n",
      "((924, 862), (981, 907))\n",
      "((1013, 463), (1261, 540))\n",
      "((59, 506), (368, 583))\n",
      "((259, 775), (393, 905))\n"
     ]
    },
    {
     "name": "stderr",
     "output_type": "stream",
     "text": [
      "\n",
      "\n",
      " 14%|█▎        | 329/2398 [14:22<1:34:14,  2.73s/it]\u001b[A\u001b[A"
     ]
    },
    {
     "name": "stdout",
     "output_type": "stream",
     "text": [
      "((1002, 836), (1113, 925))\n",
      "((924, 862), (981, 907))\n",
      "((1013, 463), (1261, 540))\n",
      "((565, 501), (641, 545))\n",
      "((58, 506), (383, 583))\n",
      "((259, 775), (393, 905))\n"
     ]
    },
    {
     "name": "stderr",
     "output_type": "stream",
     "text": [
      "\n",
      "\n",
      " 14%|█▍        | 330/2398 [14:25<1:34:16,  2.74s/it]\u001b[A\u001b[A"
     ]
    },
    {
     "name": "stdout",
     "output_type": "stream",
     "text": [
      "((1002, 836), (1113, 925))\n",
      "((924, 862), (981, 907))\n",
      "((1013, 464), (1261, 540))\n",
      "((558, 501), (640, 546))\n",
      "((56, 507), (413, 583))\n",
      "((259, 775), (393, 904))\n"
     ]
    },
    {
     "name": "stderr",
     "output_type": "stream",
     "text": [
      "\n",
      "\n",
      " 14%|█▍        | 331/2398 [14:28<1:34:08,  2.73s/it]\u001b[A\u001b[A"
     ]
    },
    {
     "name": "stdout",
     "output_type": "stream",
     "text": [
      "((996, 836), (1113, 925))\n",
      "((924, 862), (981, 907))\n",
      "((1012, 464), (1261, 539))\n",
      "((550, 501), (639, 547))\n",
      "((54, 507), (413, 583))\n",
      "((259, 774), (393, 904))\n"
     ]
    },
    {
     "name": "stderr",
     "output_type": "stream",
     "text": [
      "\n",
      "\n",
      " 14%|█▍        | 332/2398 [14:30<1:31:11,  2.65s/it]\u001b[A\u001b[A"
     ]
    },
    {
     "name": "stdout",
     "output_type": "stream",
     "text": [
      "((996, 836), (1113, 925))\n",
      "((924, 862), (981, 907))\n",
      "((1012, 464), (1261, 539))\n",
      "((549, 501), (639, 547))\n",
      "((53, 507), (413, 583))\n",
      "((259, 774), (393, 903))\n"
     ]
    },
    {
     "name": "stderr",
     "output_type": "stream",
     "text": [
      "\n",
      "\n",
      " 14%|█▍        | 333/2398 [14:33<1:30:38,  2.63s/it]\u001b[A\u001b[A"
     ]
    },
    {
     "name": "stdout",
     "output_type": "stream",
     "text": [
      "((996, 836), (1113, 925))\n",
      "((924, 862), (981, 907))\n",
      "((1012, 464), (1261, 539))\n",
      "((548, 502), (637, 547))\n",
      "((52, 506), (323, 583))\n",
      "((330, 542), (413, 583))\n",
      "((254, 774), (393, 903))\n"
     ]
    },
    {
     "name": "stderr",
     "output_type": "stream",
     "text": [
      "\n",
      "\n",
      " 14%|█▍        | 334/2398 [14:35<1:31:18,  2.65s/it]\u001b[A\u001b[A"
     ]
    },
    {
     "name": "stdout",
     "output_type": "stream",
     "text": [
      "((996, 836), (1117, 925))\n",
      "((924, 862), (981, 907))\n",
      "((1012, 464), (1261, 538))\n",
      "((548, 502), (636, 547))\n",
      "((52, 506), (313, 583))\n",
      "((254, 774), (393, 903))\n",
      "((995, 836), (1119, 933))\n",
      "((924, 862), (981, 907))\n"
     ]
    },
    {
     "name": "stderr",
     "output_type": "stream",
     "text": [
      "\n",
      "\n",
      " 14%|█▍        | 335/2398 [14:38<1:32:39,  2.69s/it]\u001b[A\u001b[A"
     ]
    },
    {
     "name": "stdout",
     "output_type": "stream",
     "text": [
      "((1012, 464), (1261, 538))\n",
      "((547, 502), (635, 547))\n",
      "((51, 506), (292, 583))\n",
      "((251, 774), (393, 903))\n"
     ]
    },
    {
     "name": "stderr",
     "output_type": "stream",
     "text": [
      "\n",
      "\n",
      " 14%|█▍        | 336/2398 [14:41<1:32:58,  2.71s/it]\u001b[A\u001b[A"
     ]
    },
    {
     "name": "stdout",
     "output_type": "stream",
     "text": [
      "((996, 836), (1117, 933))\n",
      "((924, 862), (981, 907))\n",
      "((1056, 464), (1252, 537))\n",
      "((547, 502), (635, 547))\n",
      "((50, 506), (308, 581))\n",
      "((246, 774), (392, 903))\n"
     ]
    },
    {
     "name": "stderr",
     "output_type": "stream",
     "text": [
      "\n",
      "\n",
      " 14%|█▍        | 337/2398 [14:43<1:31:47,  2.67s/it]\u001b[A\u001b[A"
     ]
    },
    {
     "name": "stdout",
     "output_type": "stream",
     "text": [
      "((996, 836), (1119, 933))\n",
      "((924, 862), (981, 907))\n",
      "((1058, 464), (1245, 537))\n",
      "((547, 502), (634, 547))\n",
      "((49, 508), (301, 583))\n",
      "((246, 774), (392, 903))\n"
     ]
    },
    {
     "name": "stderr",
     "output_type": "stream",
     "text": [
      "\n",
      "\n",
      " 14%|█▍        | 338/2398 [14:46<1:32:55,  2.71s/it]\u001b[A\u001b[A"
     ]
    },
    {
     "name": "stdout",
     "output_type": "stream",
     "text": [
      "((996, 840), (1119, 933))\n",
      "((924, 862), (981, 906))\n",
      "((1084, 465), (1245, 536))\n",
      "((546, 502), (633, 536))\n",
      "((48, 508), (300, 584))\n",
      "((251, 774), (389, 903))\n",
      "((372, 803), (461, 842))\n",
      "((1002, 842), (1119, 925))\n"
     ]
    },
    {
     "name": "stderr",
     "output_type": "stream",
     "text": [
      "\n",
      "\n",
      " 14%|█▍        | 339/2398 [14:49<1:33:27,  2.72s/it]\u001b[A\u001b[A"
     ]
    },
    {
     "name": "stdout",
     "output_type": "stream",
     "text": [
      "((924, 862), (981, 906))\n",
      "((1084, 465), (1245, 538))\n",
      "((546, 502), (632, 536))\n",
      "((47, 508), (298, 584))\n",
      "((246, 775), (389, 903))\n",
      "((372, 803), (461, 842))\n",
      "((1002, 842), (1119, 925))\n"
     ]
    },
    {
     "name": "stderr",
     "output_type": "stream",
     "text": [
      "\n",
      "\n",
      " 14%|█▍        | 340/2398 [14:52<1:34:12,  2.75s/it]\u001b[A\u001b[A"
     ]
    },
    {
     "name": "stdout",
     "output_type": "stream",
     "text": [
      "((924, 862), (981, 906))\n",
      "((1084, 465), (1245, 538))\n",
      "((546, 502), (631, 536))\n",
      "((44, 508), (297, 585))\n",
      "((242, 775), (389, 903))\n",
      "((372, 811), (461, 842))\n"
     ]
    },
    {
     "name": "stderr",
     "output_type": "stream",
     "text": [
      "\n",
      "\n",
      " 14%|█▍        | 341/2398 [14:54<1:33:03,  2.71s/it]\u001b[A\u001b[A"
     ]
    },
    {
     "name": "stdout",
     "output_type": "stream",
     "text": [
      "((1003, 842), (1119, 925))\n",
      "((924, 862), (981, 906))\n",
      "((1084, 465), (1245, 538))\n",
      "((546, 502), (630, 536))\n",
      "((42, 508), (297, 585))\n",
      "((242, 775), (389, 903))\n"
     ]
    },
    {
     "name": "stderr",
     "output_type": "stream",
     "text": [
      "\n",
      "\n",
      " 14%|█▍        | 342/2398 [14:57<1:32:35,  2.70s/it]\u001b[A\u001b[A"
     ]
    },
    {
     "name": "stdout",
     "output_type": "stream",
     "text": [
      "((1003, 842), (1119, 925))\n",
      "((924, 862), (981, 906))\n",
      "((1084, 465), (1245, 538))\n",
      "((546, 502), (629, 536))\n",
      "((41, 508), (296, 589))\n",
      "((249, 776), (389, 904))\n"
     ]
    },
    {
     "name": "stderr",
     "output_type": "stream",
     "text": [
      "\n",
      "\n",
      " 14%|█▍        | 343/2398 [15:00<1:32:38,  2.71s/it]\u001b[A\u001b[A"
     ]
    },
    {
     "name": "stdout",
     "output_type": "stream",
     "text": [
      "((1003, 842), (1113, 925))\n",
      "((924, 862), (981, 907))\n",
      "((1083, 465), (1245, 541))\n",
      "((546, 502), (629, 536))\n",
      "((40, 508), (296, 590))\n",
      "((334, 558), (438, 584))\n",
      "((250, 776), (388, 904))\n"
     ]
    },
    {
     "name": "stderr",
     "output_type": "stream",
     "text": [
      "\n",
      "\n",
      " 14%|█▍        | 344/2398 [15:03<1:32:47,  2.71s/it]\u001b[A\u001b[A"
     ]
    },
    {
     "name": "stdout",
     "output_type": "stream",
     "text": [
      "((1003, 842), (1113, 925))\n",
      "((924, 862), (981, 907))\n",
      "((1083, 465), (1245, 542))\n",
      "((540, 503), (629, 536))\n",
      "((38, 508), (295, 591))\n",
      "((334, 558), (449, 584))\n",
      "((251, 776), (387, 905))\n"
     ]
    },
    {
     "name": "stderr",
     "output_type": "stream",
     "text": [
      "\n",
      "\n",
      " 14%|█▍        | 345/2398 [15:05<1:32:28,  2.70s/it]\u001b[A\u001b[A"
     ]
    },
    {
     "name": "stdout",
     "output_type": "stream",
     "text": [
      "((1003, 842), (1113, 925))\n",
      "((924, 862), (981, 907))\n",
      "((1083, 465), (1245, 542))\n",
      "((539, 503), (628, 536))\n",
      "((37, 508), (285, 591))\n",
      "((334, 558), (449, 585))\n",
      "((252, 780), (370, 905))\n"
     ]
    },
    {
     "name": "stderr",
     "output_type": "stream",
     "text": [
      "\n",
      "\n",
      " 14%|█▍        | 346/2398 [15:08<1:33:15,  2.73s/it]\u001b[A\u001b[A"
     ]
    },
    {
     "name": "stdout",
     "output_type": "stream",
     "text": [
      "((1002, 842), (1113, 925))\n",
      "((924, 862), (981, 907))\n",
      "((1083, 465), (1245, 543))\n",
      "((538, 503), (627, 536))\n",
      "((36, 508), (279, 592))\n",
      "((334, 558), (449, 585))\n",
      "((253, 780), (370, 905))\n"
     ]
    },
    {
     "name": "stderr",
     "output_type": "stream",
     "text": [
      "\n",
      "\n",
      " 14%|█▍        | 347/2398 [15:11<1:33:01,  2.72s/it]\u001b[A\u001b[A"
     ]
    },
    {
     "name": "stdout",
     "output_type": "stream",
     "text": [
      "((1002, 842), (1113, 925))\n",
      "((924, 862), (981, 907))\n",
      "((1082, 466), (1245, 543))\n",
      "((538, 503), (627, 536))\n",
      "((36, 508), (275, 592))\n",
      "((354, 549), (449, 585))\n",
      "((258, 781), (370, 905))\n"
     ]
    },
    {
     "name": "stderr",
     "output_type": "stream",
     "text": [
      "\n",
      "\n",
      " 15%|█▍        | 348/2398 [15:13<1:31:57,  2.69s/it]\u001b[A\u001b[A"
     ]
    },
    {
     "name": "stdout",
     "output_type": "stream",
     "text": [
      "((1002, 842), (1113, 925))\n",
      "((924, 862), (981, 907))\n",
      "((1000, 466), (1245, 543))\n",
      "((537, 503), (626, 537))\n",
      "((36, 508), (269, 592))\n",
      "((358, 546), (445, 585))\n",
      "((253, 781), (370, 905))\n"
     ]
    },
    {
     "name": "stderr",
     "output_type": "stream",
     "text": [
      "\n",
      "\n",
      " 15%|█▍        | 349/2398 [15:16<1:31:14,  2.67s/it]\u001b[A\u001b[A"
     ]
    },
    {
     "name": "stdout",
     "output_type": "stream",
     "text": [
      "((1002, 842), (1113, 925))\n",
      "((924, 862), (981, 907))\n",
      "((998, 466), (1245, 543))\n",
      "((35, 498), (269, 592))\n",
      "((537, 503), (625, 537))\n",
      "((358, 544), (445, 585))\n",
      "((234, 781), (370, 905))\n"
     ]
    },
    {
     "name": "stderr",
     "output_type": "stream",
     "text": [
      "\n",
      "\n",
      " 15%|█▍        | 350/2398 [15:18<1:29:23,  2.62s/it]\u001b[A\u001b[A"
     ]
    },
    {
     "name": "stdout",
     "output_type": "stream",
     "text": [
      "((1002, 842), (1113, 925))\n",
      "((924, 862), (981, 907))\n",
      "((994, 466), (1245, 543))\n",
      "((34, 498), (269, 592))\n",
      "((537, 503), (625, 537))\n",
      "((361, 544), (445, 585))\n",
      "((255, 781), (370, 905))\n"
     ]
    },
    {
     "name": "stderr",
     "output_type": "stream",
     "text": [
      "\n",
      "\n",
      " 15%|█▍        | 351/2398 [15:21<1:29:32,  2.62s/it]\u001b[A\u001b[A"
     ]
    },
    {
     "name": "stdout",
     "output_type": "stream",
     "text": [
      "((1002, 842), (1113, 925))\n",
      "((924, 862), (981, 907))\n",
      "((994, 467), (1245, 543))\n",
      "((33, 498), (269, 593))\n",
      "((538, 503), (624, 549))\n",
      "((361, 544), (445, 585))\n",
      "((255, 781), (370, 905))\n"
     ]
    },
    {
     "name": "stderr",
     "output_type": "stream",
     "text": [
      "\n",
      "\n",
      " 15%|█▍        | 352/2398 [15:24<1:30:09,  2.64s/it]\u001b[A\u001b[A"
     ]
    },
    {
     "name": "stdout",
     "output_type": "stream",
     "text": [
      "((1002, 842), (1113, 925))\n",
      "((924, 862), (981, 907))\n",
      "((994, 467), (1245, 542))\n",
      "((32, 498), (268, 593))\n",
      "((538, 504), (623, 549))\n",
      "((363, 544), (445, 584))\n",
      "((255, 781), (370, 905))\n"
     ]
    },
    {
     "name": "stderr",
     "output_type": "stream",
     "text": [
      "\n",
      "\n",
      " 15%|█▍        | 353/2398 [15:26<1:30:20,  2.65s/it]\u001b[A\u001b[A"
     ]
    },
    {
     "name": "stdout",
     "output_type": "stream",
     "text": [
      "((1002, 842), (1121, 925))\n",
      "((924, 862), (981, 907))\n",
      "((994, 467), (1245, 542))\n",
      "((30, 498), (268, 591))\n",
      "((538, 503), (622, 549))\n",
      "((258, 780), (370, 905))\n"
     ]
    },
    {
     "name": "stderr",
     "output_type": "stream",
     "text": [
      "\n",
      "\n",
      " 15%|█▍        | 354/2398 [15:29<1:30:38,  2.66s/it]\u001b[A\u001b[A"
     ]
    },
    {
     "name": "stdout",
     "output_type": "stream",
     "text": [
      "((1003, 842), (1121, 925))\n",
      "((924, 862), (980, 907))\n",
      "((994, 467), (1245, 543))\n",
      "((27, 498), (268, 589))\n",
      "((538, 502), (621, 549))\n",
      "((258, 775), (389, 905))\n"
     ]
    },
    {
     "name": "stderr",
     "output_type": "stream",
     "text": [
      "\n",
      "\n",
      " 15%|█▍        | 355/2398 [15:32<1:30:25,  2.66s/it]\u001b[A\u001b[A"
     ]
    },
    {
     "name": "stdout",
     "output_type": "stream",
     "text": [
      "((1003, 842), (1125, 956))\n",
      "((1017, 467), (1245, 543))\n",
      "((26, 498), (266, 583))\n",
      "((538, 502), (621, 549))\n",
      "((258, 775), (389, 905))\n"
     ]
    },
    {
     "name": "stderr",
     "output_type": "stream",
     "text": [
      "\n",
      "\n",
      " 15%|█▍        | 356/2398 [15:34<1:29:37,  2.63s/it]\u001b[A\u001b[A"
     ]
    },
    {
     "name": "stdout",
     "output_type": "stream",
     "text": [
      "((1010, 842), (1125, 956))\n",
      "((1030, 467), (1245, 543))\n",
      "((26, 498), (265, 583))\n",
      "((539, 502), (620, 550))\n",
      "((258, 775), (389, 905))\n"
     ]
    },
    {
     "name": "stderr",
     "output_type": "stream",
     "text": [
      "\n",
      "\n",
      " 15%|█▍        | 357/2398 [15:37<1:29:40,  2.64s/it]\u001b[A\u001b[A"
     ]
    },
    {
     "name": "stdout",
     "output_type": "stream",
     "text": [
      "((1010, 842), (1126, 956))\n",
      "((1070, 467), (1245, 543))\n",
      "((24, 498), (265, 585))\n",
      "((539, 502), (619, 550))\n",
      "((258, 774), (395, 904))\n"
     ]
    },
    {
     "name": "stderr",
     "output_type": "stream",
     "text": [
      "\n",
      "\n",
      " 15%|█▍        | 358/2398 [15:40<1:29:09,  2.62s/it]\u001b[A\u001b[A"
     ]
    },
    {
     "name": "stdout",
     "output_type": "stream",
     "text": [
      "((1010, 842), (1126, 956))\n",
      "((1070, 468), (1245, 544))\n",
      "((23, 499), (253, 585))\n",
      "((539, 502), (618, 550))\n",
      "((258, 774), (395, 904))\n"
     ]
    },
    {
     "name": "stderr",
     "output_type": "stream",
     "text": [
      "\n",
      "\n",
      " 15%|█▍        | 359/2398 [15:42<1:29:03,  2.62s/it]\u001b[A\u001b[A"
     ]
    },
    {
     "name": "stdout",
     "output_type": "stream",
     "text": [
      "((1010, 842), (1126, 956))\n",
      "((1070, 468), (1245, 544))\n",
      "((22, 500), (253, 585))\n",
      "((540, 502), (617, 551))\n",
      "((258, 774), (395, 904))\n"
     ]
    },
    {
     "name": "stderr",
     "output_type": "stream",
     "text": [
      "\n",
      "\n",
      " 15%|█▌        | 360/2398 [15:45<1:29:33,  2.64s/it]\u001b[A\u001b[A"
     ]
    },
    {
     "name": "stdout",
     "output_type": "stream",
     "text": [
      "((1010, 842), (1125, 956))\n",
      "((1070, 468), (1245, 544))\n",
      "((22, 501), (253, 585))\n",
      "((542, 502), (617, 551))\n",
      "((258, 775), (389, 904))\n"
     ]
    },
    {
     "name": "stderr",
     "output_type": "stream",
     "text": [
      "\n",
      "\n",
      " 15%|█▌        | 361/2398 [15:48<1:30:07,  2.65s/it]\u001b[A\u001b[A"
     ]
    },
    {
     "name": "stdout",
     "output_type": "stream",
     "text": [
      "((1002, 842), (1125, 956))\n",
      "((1070, 468), (1245, 544))\n",
      "((20, 502), (253, 585))\n",
      "((552, 505), (616, 551))\n",
      "((258, 775), (389, 904))\n"
     ]
    },
    {
     "name": "stderr",
     "output_type": "stream",
     "text": [
      "\n",
      "\n",
      " 15%|█▌        | 362/2398 [15:50<1:30:05,  2.65s/it]\u001b[A\u001b[A"
     ]
    },
    {
     "name": "stdout",
     "output_type": "stream",
     "text": [
      "((1002, 842), (1125, 956))\n",
      "((1070, 468), (1245, 545))\n",
      "((20, 508), (253, 584))\n",
      "((258, 775), (389, 904))\n"
     ]
    },
    {
     "name": "stderr",
     "output_type": "stream",
     "text": [
      "\n",
      "\n",
      " 15%|█▌        | 363/2398 [15:53<1:30:11,  2.66s/it]\u001b[A\u001b[A"
     ]
    },
    {
     "name": "stdout",
     "output_type": "stream",
     "text": [
      "((1002, 842), (1125, 956))\n",
      "((924, 863), (981, 907))\n",
      "((1068, 468), (1242, 545))\n",
      "((843, 502), (909, 541))\n",
      "((20, 510), (253, 584))\n",
      "((258, 775), (389, 904))\n"
     ]
    },
    {
     "name": "stderr",
     "output_type": "stream",
     "text": [
      "\n",
      "\n",
      " 15%|█▌        | 364/2398 [15:56<1:31:11,  2.69s/it]\u001b[A\u001b[A"
     ]
    },
    {
     "name": "stdout",
     "output_type": "stream",
     "text": [
      "((1002, 842), (1125, 956))\n",
      "((924, 863), (981, 907))\n",
      "((1067, 468), (1242, 545))\n",
      "((20, 511), (261, 584))\n",
      "((258, 773), (403, 904))\n",
      "((1002, 842), (1125, 956))\n"
     ]
    },
    {
     "name": "stderr",
     "output_type": "stream",
     "text": [
      "\n",
      "\n",
      " 15%|█▌        | 365/2398 [15:58<1:31:51,  2.71s/it]\u001b[A\u001b[A"
     ]
    },
    {
     "name": "stdout",
     "output_type": "stream",
     "text": [
      "((924, 863), (981, 907))\n",
      "((1064, 468), (1242, 545))\n",
      "((19, 511), (263, 592))\n",
      "((258, 773), (406, 904))\n"
     ]
    },
    {
     "name": "stderr",
     "output_type": "stream",
     "text": [
      "\n",
      "\n",
      " 15%|█▌        | 366/2398 [16:01<1:32:02,  2.72s/it]\u001b[A\u001b[A"
     ]
    },
    {
     "name": "stdout",
     "output_type": "stream",
     "text": [
      "((1002, 842), (1125, 956))\n",
      "((924, 863), (981, 907))\n",
      "((1062, 468), (1242, 545))\n",
      "((18, 512), (277, 592))\n",
      "((258, 773), (411, 904))\n"
     ]
    },
    {
     "name": "stderr",
     "output_type": "stream",
     "text": [
      "\n",
      "\n",
      " 15%|█▌        | 367/2398 [16:04<1:33:03,  2.75s/it]\u001b[A\u001b[A"
     ]
    },
    {
     "name": "stdout",
     "output_type": "stream",
     "text": [
      "((1002, 842), (1125, 956))\n",
      "((924, 863), (981, 907))\n",
      "((1061, 468), (1242, 545))\n",
      "((17, 512), (277, 592))\n",
      "((254, 774), (395, 904))\n"
     ]
    },
    {
     "name": "stderr",
     "output_type": "stream",
     "text": [
      "\n",
      "\n",
      " 15%|█▌        | 368/2398 [16:07<1:33:59,  2.78s/it]\u001b[A\u001b[A"
     ]
    },
    {
     "name": "stdout",
     "output_type": "stream",
     "text": [
      "((1002, 842), (1124, 956))\n",
      "((924, 863), (981, 907))\n",
      "((1059, 468), (1242, 545))\n",
      "((17, 512), (277, 592))\n",
      "((257, 774), (395, 904))\n"
     ]
    },
    {
     "name": "stderr",
     "output_type": "stream",
     "text": [
      "\n",
      "\n",
      " 15%|█▌        | 369/2398 [16:10<1:34:30,  2.79s/it]\u001b[A\u001b[A"
     ]
    },
    {
     "name": "stdout",
     "output_type": "stream",
     "text": [
      "((1002, 842), (1122, 956))\n",
      "((924, 863), (981, 907))\n",
      "((1058, 469), (1245, 545))\n",
      "((17, 512), (277, 592))\n",
      "((254, 774), (395, 904))\n"
     ]
    },
    {
     "name": "stderr",
     "output_type": "stream",
     "text": [
      "\n",
      "\n",
      " 15%|█▌        | 370/2398 [16:12<1:33:48,  2.78s/it]\u001b[A\u001b[A"
     ]
    },
    {
     "name": "stdout",
     "output_type": "stream",
     "text": [
      "((1002, 842), (1075, 883))\n",
      "((924, 863), (981, 907))\n",
      "((1060, 874), (1122, 956))\n",
      "((1057, 469), (1245, 545))\n",
      "((13, 512), (276, 592))\n",
      "((251, 773), (403, 904))\n"
     ]
    },
    {
     "name": "stderr",
     "output_type": "stream",
     "text": [
      "\n",
      "\n",
      " 15%|█▌        | 371/2398 [16:15<1:33:08,  2.76s/it]\u001b[A\u001b[A"
     ]
    },
    {
     "name": "stdout",
     "output_type": "stream",
     "text": [
      "((1002, 842), (1075, 883))\n",
      "((924, 863), (981, 907))\n",
      "((1059, 874), (1119, 956))\n",
      "((1057, 469), (1245, 545))\n",
      "((11, 512), (330, 591))\n",
      "((251, 773), (403, 904))\n"
     ]
    },
    {
     "name": "stderr",
     "output_type": "stream",
     "text": [
      "\n",
      "\n",
      " 16%|█▌        | 372/2398 [16:18<1:32:57,  2.75s/it]\u001b[A\u001b[A"
     ]
    },
    {
     "name": "stdout",
     "output_type": "stream",
     "text": [
      "((1002, 842), (1075, 883))\n",
      "((924, 863), (981, 907))\n",
      "((1059, 874), (1113, 933))\n",
      "((1052, 469), (1245, 545))\n",
      "((11, 512), (330, 591))\n",
      "((246, 773), (403, 904))\n",
      "((1002, 842), (1075, 883))\n",
      "((924, 863), (981, 907))\n",
      "((1060, 874), (1113, 933))\n"
     ]
    },
    {
     "name": "stderr",
     "output_type": "stream",
     "text": [
      "\n",
      "\n",
      " 16%|█▌        | 373/2398 [16:21<1:33:01,  2.76s/it]\u001b[A\u001b[A"
     ]
    },
    {
     "name": "stdout",
     "output_type": "stream",
     "text": [
      "((1034, 469), (1245, 545))\n",
      "((10, 512), (325, 591))\n",
      "((246, 773), (403, 904))\n",
      "((205, 818), (255, 869))\n",
      "((1002, 842), (1075, 882))\n"
     ]
    },
    {
     "name": "stderr",
     "output_type": "stream",
     "text": [
      "\n",
      "\n",
      " 16%|█▌        | 374/2398 [16:23<1:33:10,  2.76s/it]\u001b[A\u001b[A"
     ]
    },
    {
     "name": "stdout",
     "output_type": "stream",
     "text": [
      "((924, 863), (981, 907))\n",
      "((1060, 874), (1113, 933))\n",
      "((1041, 469), (1245, 545))\n",
      "((11, 512), (322, 591))\n",
      "((246, 773), (403, 904))\n",
      "((205, 818), (255, 869))\n",
      "((1003, 842), (1075, 882))\n"
     ]
    },
    {
     "name": "stderr",
     "output_type": "stream",
     "text": [
      "\n",
      "\n",
      " 16%|█▌        | 375/2398 [16:26<1:32:53,  2.75s/it]\u001b[A\u001b[A"
     ]
    },
    {
     "name": "stdout",
     "output_type": "stream",
     "text": [
      "((924, 863), (981, 907))\n",
      "((1060, 874), (1113, 933))\n",
      "((1030, 469), (1252, 545))\n",
      "((9, 512), (317, 592))\n",
      "((252, 773), (403, 904))\n",
      "((205, 818), (255, 869))\n",
      "((1010, 842), (1075, 881))\n",
      "((924, 863), (981, 907))\n"
     ]
    },
    {
     "name": "stderr",
     "output_type": "stream",
     "text": [
      "\n",
      "\n",
      " 16%|█▌        | 376/2398 [16:29<1:33:01,  2.76s/it]\u001b[A\u001b[A"
     ]
    },
    {
     "name": "stdout",
     "output_type": "stream",
     "text": [
      "((1067, 874), (1113, 933))\n",
      "((1030, 469), (1252, 545))\n",
      "((5, 512), (317, 595))\n",
      "((257, 773), (403, 904))\n",
      "((1010, 842), (1112, 933))\n"
     ]
    },
    {
     "name": "stderr",
     "output_type": "stream",
     "text": [
      "\n",
      "\n",
      " 16%|█▌        | 377/2398 [16:32<1:32:57,  2.76s/it]\u001b[A\u001b[A"
     ]
    },
    {
     "name": "stdout",
     "output_type": "stream",
     "text": [
      "((924, 863), (981, 907))\n",
      "((1030, 469), (1254, 545))\n",
      "((5, 512), (317, 595))\n",
      "((257, 772), (413, 903))\n",
      "((1010, 842), (1112, 933))\n"
     ]
    },
    {
     "name": "stderr",
     "output_type": "stream",
     "text": [
      "\n",
      "\n",
      " 16%|█▌        | 378/2398 [16:35<1:34:27,  2.81s/it]\u001b[A\u001b[A"
     ]
    },
    {
     "name": "stdout",
     "output_type": "stream",
     "text": [
      "((924, 863), (981, 907))\n",
      "((1030, 469), (1254, 545))\n",
      "((6, 513), (317, 592))\n",
      "((252, 772), (413, 903))\n"
     ]
    },
    {
     "name": "stderr",
     "output_type": "stream",
     "text": [
      "\n",
      "\n"
     ]
    },
    {
     "name": "stdout",
     "output_type": "stream",
     "text": [
      "((1010, 842), (1112, 933))\n",
      "((924, 863), (981, 907))\n"
     ]
    },
    {
     "name": "stderr",
     "output_type": "stream",
     "text": [
      " 16%|█▌        | 379/2398 [16:37<1:34:12,  2.80s/it]\u001b[A\u001b[A"
     ]
    },
    {
     "name": "stdout",
     "output_type": "stream",
     "text": [
      "((1029, 469), (1250, 545))\n",
      "((5, 513), (317, 592))\n",
      "((257, 772), (413, 903))\n",
      "((1010, 842), (1112, 933))\n"
     ]
    },
    {
     "name": "stderr",
     "output_type": "stream",
     "text": [
      "\n",
      "\n",
      " 16%|█▌        | 380/2398 [16:40<1:34:10,  2.80s/it]\u001b[A\u001b[A"
     ]
    },
    {
     "name": "stdout",
     "output_type": "stream",
     "text": [
      "((924, 863), (981, 907))\n",
      "((1026, 469), (1245, 546))\n",
      "((4, 513), (321, 592))\n",
      "((257, 772), (413, 903))\n",
      "((1010, 842), (1112, 938))\n"
     ]
    },
    {
     "name": "stderr",
     "output_type": "stream",
     "text": [
      "\n",
      "\n",
      " 16%|█▌        | 381/2398 [16:43<1:34:48,  2.82s/it]\u001b[A\u001b[A"
     ]
    },
    {
     "name": "stdout",
     "output_type": "stream",
     "text": [
      "((924, 863), (981, 907))\n",
      "((1026, 470), (1244, 546))\n",
      "((4, 514), (417, 591))\n",
      "((257, 772), (413, 903))\n"
     ]
    },
    {
     "name": "stderr",
     "output_type": "stream",
     "text": [
      "\n",
      "\n",
      " 16%|█▌        | 382/2398 [16:46<1:34:21,  2.81s/it]\u001b[A\u001b[A"
     ]
    },
    {
     "name": "stdout",
     "output_type": "stream",
     "text": [
      "((1010, 842), (1112, 939))\n",
      "((924, 863), (981, 907))\n",
      "((1022, 470), (1244, 546))\n",
      "((3, 514), (413, 592))\n",
      "((257, 772), (413, 904))\n",
      "((1010, 842), (1111, 939))\n"
     ]
    },
    {
     "name": "stderr",
     "output_type": "stream",
     "text": [
      "\n",
      "\n",
      " 16%|█▌        | 383/2398 [16:49<1:34:53,  2.83s/it]\u001b[A\u001b[A"
     ]
    },
    {
     "name": "stdout",
     "output_type": "stream",
     "text": [
      "((924, 863), (981, 907))\n",
      "((1021, 470), (1237, 546))\n",
      "((774, 504), (881, 542))\n",
      "((2, 514), (413, 592))\n",
      "((257, 772), (413, 904))\n"
     ]
    },
    {
     "name": "stderr",
     "output_type": "stream",
     "text": [
      "\n",
      "\n",
      " 16%|█▌        | 384/2398 [16:51<1:31:46,  2.73s/it]\u001b[A\u001b[A"
     ]
    },
    {
     "name": "stdout",
     "output_type": "stream",
     "text": [
      "((1010, 842), (1111, 939))\n",
      "((1019, 470), (1229, 547))\n",
      "((773, 505), (881, 543))\n",
      "((1, 508), (413, 592))\n",
      "((257, 772), (413, 904))\n"
     ]
    },
    {
     "name": "stderr",
     "output_type": "stream",
     "text": [
      "\n",
      "\n",
      " 16%|█▌        | 385/2398 [16:54<1:30:00,  2.68s/it]\u001b[A\u001b[A"
     ]
    },
    {
     "name": "stdout",
     "output_type": "stream",
     "text": [
      "((1010, 842), (1075, 882))\n",
      "((924, 863), (981, 907))\n",
      "((1068, 874), (1111, 939))\n",
      "((1016, 470), (1229, 547))\n",
      "((772, 505), (880, 543))\n",
      "((1, 508), (413, 592))\n",
      "((258, 772), (413, 904))\n"
     ]
    },
    {
     "name": "stderr",
     "output_type": "stream",
     "text": [
      "\n",
      "\n",
      " 16%|█▌        | 386/2398 [16:57<1:30:48,  2.71s/it]\u001b[A\u001b[A"
     ]
    },
    {
     "name": "stdout",
     "output_type": "stream",
     "text": [
      "((1010, 842), (1075, 882))\n",
      "((1068, 874), (1109, 937))\n",
      "((1014, 470), (1229, 547))\n",
      "((772, 505), (878, 544))\n",
      "((1, 508), (413, 592))\n",
      "((257, 772), (412, 904))\n"
     ]
    },
    {
     "name": "stderr",
     "output_type": "stream",
     "text": [
      "\n",
      "\n",
      " 16%|█▌        | 387/2398 [16:59<1:30:32,  2.70s/it]\u001b[A\u001b[A"
     ]
    },
    {
     "name": "stdout",
     "output_type": "stream",
     "text": [
      "((924, 862), (980, 907))\n",
      "((1002, 470), (1229, 547))\n",
      "((771, 505), (877, 545))\n",
      "((1, 508), (413, 592))\n",
      "((258, 772), (411, 904))\n"
     ]
    },
    {
     "name": "stderr",
     "output_type": "stream",
     "text": [
      "\n",
      "\n",
      " 16%|█▌        | 388/2398 [17:02<1:30:20,  2.70s/it]\u001b[A\u001b[A"
     ]
    },
    {
     "name": "stdout",
     "output_type": "stream",
     "text": [
      "((998, 470), (1229, 547))\n",
      "((771, 505), (874, 545))\n",
      "((1, 514), (412, 592))\n",
      "((258, 773), (409, 904))\n"
     ]
    },
    {
     "name": "stderr",
     "output_type": "stream",
     "text": [
      "\n",
      "\n",
      " 16%|█▌        | 389/2398 [17:05<1:30:33,  2.70s/it]\u001b[A\u001b[A"
     ]
    },
    {
     "name": "stdout",
     "output_type": "stream",
     "text": [
      "((998, 470), (1229, 547))\n",
      "((771, 505), (873, 545))\n",
      "((1, 515), (409, 592))\n",
      "((259, 773), (409, 904))\n"
     ]
    },
    {
     "name": "stderr",
     "output_type": "stream",
     "text": [
      "\n",
      "\n",
      " 16%|█▋        | 390/2398 [17:07<1:30:47,  2.71s/it]\u001b[A\u001b[A"
     ]
    },
    {
     "name": "stdout",
     "output_type": "stream",
     "text": [
      "((998, 470), (1225, 547))\n",
      "((771, 505), (872, 545))\n",
      "((1, 515), (409, 592))\n",
      "((259, 773), (409, 904))\n"
     ]
    },
    {
     "name": "stderr",
     "output_type": "stream",
     "text": [
      "\n",
      "\n",
      " 16%|█▋        | 391/2398 [17:10<1:30:24,  2.70s/it]\u001b[A\u001b[A"
     ]
    },
    {
     "name": "stdout",
     "output_type": "stream",
     "text": [
      "((1001, 471), (1225, 547))\n",
      "((771, 505), (872, 547))\n",
      "((1, 515), (407, 592))\n",
      "((259, 773), (407, 904))\n"
     ]
    },
    {
     "name": "stderr",
     "output_type": "stream",
     "text": [
      "\n",
      "\n",
      " 16%|█▋        | 392/2398 [17:13<1:29:58,  2.69s/it]\u001b[A\u001b[A"
     ]
    },
    {
     "name": "stdout",
     "output_type": "stream",
     "text": [
      "((1002, 471), (1225, 547))\n",
      "((771, 505), (872, 547))\n",
      "((1, 515), (234, 588))\n",
      "((236, 527), (405, 592))\n",
      "((258, 773), (407, 904))\n"
     ]
    },
    {
     "name": "stderr",
     "output_type": "stream",
     "text": [
      "\n",
      "\n",
      " 16%|█▋        | 393/2398 [17:15<1:30:22,  2.70s/it]\u001b[A\u001b[A"
     ]
    },
    {
     "name": "stdout",
     "output_type": "stream",
     "text": [
      "((1002, 471), (1225, 547))\n",
      "((771, 505), (871, 547))\n",
      "((1, 515), (229, 588))\n",
      "((236, 527), (405, 592))\n",
      "((258, 773), (407, 904))\n"
     ]
    },
    {
     "name": "stderr",
     "output_type": "stream",
     "text": [
      "\n",
      "\n",
      " 16%|█▋        | 394/2398 [17:18<1:29:00,  2.67s/it]\u001b[A\u001b[A"
     ]
    },
    {
     "name": "stdout",
     "output_type": "stream",
     "text": [
      "((1002, 471), (1225, 547))\n",
      "((771, 504), (871, 548))\n",
      "((1, 515), (229, 588))\n",
      "((236, 518), (403, 592))\n",
      "((258, 773), (395, 904))\n"
     ]
    },
    {
     "name": "stderr",
     "output_type": "stream",
     "text": [
      "\n",
      "\n",
      " 16%|█▋        | 395/2398 [17:21<1:29:33,  2.68s/it]\u001b[A\u001b[A"
     ]
    },
    {
     "name": "stdout",
     "output_type": "stream",
     "text": [
      "((1002, 471), (1225, 547))\n",
      "((772, 504), (871, 548))\n",
      "((1, 515), (229, 588))\n",
      "((236, 518), (402, 593))\n",
      "((258, 775), (389, 905))\n"
     ]
    },
    {
     "name": "stderr",
     "output_type": "stream",
     "text": [
      "\n",
      "\n",
      " 17%|█▋        | 396/2398 [17:23<1:28:50,  2.66s/it]\u001b[A\u001b[A"
     ]
    },
    {
     "name": "stdout",
     "output_type": "stream",
     "text": [
      "((1026, 472), (1217, 547))\n",
      "((772, 503), (875, 548))\n",
      "((1, 515), (229, 588))\n",
      "((234, 518), (402, 593))\n",
      "((258, 775), (389, 905))\n"
     ]
    },
    {
     "name": "stderr",
     "output_type": "stream",
     "text": [
      "\n",
      "\n",
      " 17%|█▋        | 397/2398 [17:26<1:28:29,  2.65s/it]\u001b[A\u001b[A"
     ]
    },
    {
     "name": "stdout",
     "output_type": "stream",
     "text": [
      "((1026, 472), (1217, 547))\n",
      "((772, 503), (875, 549))\n",
      "((1, 515), (404, 593))\n",
      "((258, 776), (387, 905))\n"
     ]
    },
    {
     "name": "stderr",
     "output_type": "stream",
     "text": [
      "\n",
      "\n",
      " 17%|█▋        | 398/2398 [17:29<1:27:34,  2.63s/it]\u001b[A\u001b[A"
     ]
    },
    {
     "name": "stdout",
     "output_type": "stream",
     "text": [
      "((1026, 472), (1217, 548))\n",
      "((771, 503), (875, 549))\n",
      "((1, 515), (404, 593))\n",
      "((258, 776), (387, 905))\n"
     ]
    },
    {
     "name": "stderr",
     "output_type": "stream",
     "text": [
      "\n",
      "\n",
      " 17%|█▋        | 399/2398 [17:31<1:28:03,  2.64s/it]\u001b[A\u001b[A"
     ]
    },
    {
     "name": "stdout",
     "output_type": "stream",
     "text": [
      "((1026, 472), (1216, 548))\n",
      "((771, 503), (875, 549))\n",
      "((1, 515), (404, 593))\n",
      "((258, 776), (386, 905))\n"
     ]
    },
    {
     "name": "stderr",
     "output_type": "stream",
     "text": [
      "\n",
      "\n",
      " 17%|█▋        | 400/2398 [17:34<1:28:25,  2.66s/it]\u001b[A\u001b[A"
     ]
    },
    {
     "name": "stdout",
     "output_type": "stream",
     "text": [
      "((998, 472), (1215, 548))\n",
      "((770, 504), (876, 549))\n",
      "((1, 515), (405, 593))\n",
      "((258, 776), (386, 905))\n"
     ]
    },
    {
     "name": "stderr",
     "output_type": "stream",
     "text": [
      "\n",
      "\n",
      " 17%|█▋        | 401/2398 [17:37<1:27:38,  2.63s/it]\u001b[A\u001b[A"
     ]
    },
    {
     "name": "stdout",
     "output_type": "stream",
     "text": [
      "((1025, 472), (1215, 548))\n",
      "((770, 504), (876, 549))\n",
      "((1, 515), (247, 588))\n",
      "((259, 526), (405, 593))\n",
      "((258, 776), (386, 905))\n"
     ]
    },
    {
     "name": "stderr",
     "output_type": "stream",
     "text": [
      "\n",
      "\n",
      " 17%|█▋        | 402/2398 [17:39<1:28:05,  2.65s/it]\u001b[A\u001b[A"
     ]
    },
    {
     "name": "stdout",
     "output_type": "stream",
     "text": [
      "((970, 471), (1215, 548))\n",
      "((770, 505), (876, 549))\n",
      "((1, 515), (249, 588))\n",
      "((259, 566), (408, 593))\n",
      "((258, 776), (386, 905))\n"
     ]
    },
    {
     "name": "stderr",
     "output_type": "stream",
     "text": [
      "\n",
      "\n",
      " 17%|█▋        | 403/2398 [17:42<1:27:52,  2.64s/it]\u001b[A\u001b[A"
     ]
    },
    {
     "name": "stdout",
     "output_type": "stream",
     "text": [
      "((965, 471), (1213, 548))\n",
      "((770, 505), (877, 548))\n",
      "((1, 515), (245, 588))\n",
      "((259, 566), (413, 593))\n",
      "((258, 776), (386, 905))\n"
     ]
    },
    {
     "name": "stderr",
     "output_type": "stream",
     "text": [
      "\n",
      "\n",
      " 17%|█▋        | 404/2398 [17:44<1:27:42,  2.64s/it]\u001b[A\u001b[A"
     ]
    },
    {
     "name": "stdout",
     "output_type": "stream",
     "text": [
      "((947, 471), (1213, 548))\n",
      "((770, 505), (877, 548))\n",
      "((1, 516), (245, 588))\n",
      "((259, 566), (413, 593))\n",
      "((258, 776), (386, 905))\n"
     ]
    },
    {
     "name": "stderr",
     "output_type": "stream",
     "text": [
      "\n",
      "\n",
      " 17%|█▋        | 405/2398 [17:47<1:27:09,  2.62s/it]\u001b[A\u001b[A"
     ]
    },
    {
     "name": "stdout",
     "output_type": "stream",
     "text": [
      "((946, 471), (1214, 548))\n",
      "((766, 505), (879, 548))\n",
      "((2, 516), (245, 588))\n",
      "((259, 566), (413, 593))\n",
      "((258, 776), (386, 905))\n"
     ]
    },
    {
     "name": "stderr",
     "output_type": "stream",
     "text": [
      "\n",
      "\n",
      " 17%|█▋        | 406/2398 [17:50<1:26:40,  2.61s/it]\u001b[A\u001b[A"
     ]
    },
    {
     "name": "stdout",
     "output_type": "stream",
     "text": [
      "((914, 471), (1252, 548))\n",
      "((765, 505), (879, 548))\n",
      "((2, 516), (243, 588))\n",
      "((259, 567), (413, 593))\n",
      "((258, 776), (386, 905))\n"
     ]
    },
    {
     "name": "stderr",
     "output_type": "stream",
     "text": [
      "\n",
      "\n",
      " 17%|█▋        | 407/2398 [17:52<1:25:16,  2.57s/it]\u001b[A\u001b[A"
     ]
    },
    {
     "name": "stdout",
     "output_type": "stream",
     "text": [
      "((914, 471), (1252, 548))\n",
      "((763, 505), (885, 547))\n",
      "((2, 516), (241, 589))\n",
      "((259, 567), (409, 593))\n",
      "((258, 776), (386, 905))\n"
     ]
    },
    {
     "name": "stderr",
     "output_type": "stream",
     "text": [
      "\n",
      "\n",
      " 17%|█▋        | 408/2398 [17:55<1:26:15,  2.60s/it]\u001b[A\u001b[A"
     ]
    },
    {
     "name": "stdout",
     "output_type": "stream",
     "text": [
      "((910, 472), (1252, 548))\n",
      "((762, 506), (885, 547))\n",
      "((2, 516), (241, 589))\n",
      "((259, 567), (409, 593))\n",
      "((257, 776), (387, 904))\n"
     ]
    },
    {
     "name": "stderr",
     "output_type": "stream",
     "text": [
      "\n",
      "\n",
      " 17%|█▋        | 409/2398 [17:58<1:27:41,  2.65s/it]\u001b[A\u001b[A"
     ]
    },
    {
     "name": "stdout",
     "output_type": "stream",
     "text": [
      "((924, 863), (981, 907))\n",
      "((1059, 874), (1109, 925))\n",
      "((896, 472), (1250, 548))\n",
      "((761, 506), (885, 547))\n",
      "((2, 516), (240, 589))\n",
      "((266, 567), (409, 593))\n",
      "((257, 774), (408, 904))\n",
      "((538, 786), (581, 847))\n"
     ]
    },
    {
     "name": "stderr",
     "output_type": "stream",
     "text": [
      "\n",
      "\n",
      " 17%|█▋        | 410/2398 [18:00<1:28:51,  2.68s/it]\u001b[A\u001b[A"
     ]
    },
    {
     "name": "stdout",
     "output_type": "stream",
     "text": [
      "((1010, 842), (1113, 925))\n",
      "((896, 472), (1249, 548))\n",
      "((781, 506), (885, 547))\n",
      "((2, 516), (237, 589))\n",
      "((266, 567), (404, 593))\n",
      "((531, 770), (621, 847))\n",
      "((251, 773), (421, 904))\n",
      "((142, 793), (243, 820))\n"
     ]
    },
    {
     "name": "stderr",
     "output_type": "stream",
     "text": [
      "\n",
      "\n",
      " 17%|█▋        | 411/2398 [18:03<1:28:42,  2.68s/it]\u001b[A\u001b[A"
     ]
    },
    {
     "name": "stdout",
     "output_type": "stream",
     "text": [
      "((1010, 842), (1122, 933))\n",
      "((924, 862), (981, 906))\n",
      "((894, 472), (1249, 548))\n",
      "((782, 506), (885, 547))\n",
      "((2, 516), (237, 589))\n",
      "((266, 567), (397, 593))\n",
      "((531, 770), (621, 848))\n",
      "((142, 772), (461, 904))\n"
     ]
    },
    {
     "name": "stderr",
     "output_type": "stream",
     "text": [
      "\n",
      "\n",
      " 17%|█▋        | 412/2398 [18:06<1:28:44,  2.68s/it]\u001b[A\u001b[A"
     ]
    },
    {
     "name": "stdout",
     "output_type": "stream",
     "text": [
      "((1010, 842), (1122, 933))\n",
      "((924, 862), (981, 906))\n",
      "((782, 472), (1249, 548))\n",
      "((2, 516), (236, 589))\n",
      "((266, 567), (397, 593))\n",
      "((531, 769), (621, 849))\n",
      "((142, 771), (472, 904))\n",
      "((1010, 842), (1122, 933))\n",
      "((924, 862), (981, 906))\n"
     ]
    },
    {
     "name": "stderr",
     "output_type": "stream",
     "text": [
      "\n",
      "\n",
      " 17%|█▋        | 413/2398 [18:09<1:30:47,  2.74s/it]\u001b[A\u001b[A"
     ]
    },
    {
     "name": "stdout",
     "output_type": "stream",
     "text": [
      "((782, 465), (1248, 548))\n",
      "((2, 516), (236, 589))\n",
      "((268, 568), (397, 593))\n",
      "((531, 769), (623, 849))\n",
      "((141, 770), (472, 904))\n",
      "((1010, 842), (1123, 933))\n",
      "((924, 862), (981, 906))\n"
     ]
    },
    {
     "name": "stderr",
     "output_type": "stream",
     "text": [
      "\n",
      "\n",
      " 17%|█▋        | 414/2398 [18:11<1:29:47,  2.72s/it]\u001b[A\u001b[A"
     ]
    },
    {
     "name": "stdout",
     "output_type": "stream",
     "text": [
      "((792, 465), (1249, 548))\n",
      "((2, 516), (236, 589))\n",
      "((268, 568), (397, 593))\n",
      "((531, 769), (621, 849))\n",
      "((142, 770), (472, 903))\n",
      "((1010, 842), (1123, 933))\n",
      "((924, 862), (981, 906))\n"
     ]
    },
    {
     "name": "stderr",
     "output_type": "stream",
     "text": [
      "\n",
      "\n",
      " 17%|█▋        | 415/2398 [18:14<1:29:19,  2.70s/it]\u001b[A\u001b[A"
     ]
    },
    {
     "name": "stdout",
     "output_type": "stream",
     "text": [
      "((790, 466), (1251, 548))\n",
      "((2, 517), (234, 589))\n",
      "((268, 568), (397, 593))\n",
      "((531, 769), (621, 849))\n",
      "((142, 770), (472, 903))\n",
      "((1010, 842), (1123, 933))\n"
     ]
    },
    {
     "name": "stderr",
     "output_type": "stream",
     "text": [
      "\n",
      "\n",
      " 17%|█▋        | 416/2398 [18:17<1:29:24,  2.71s/it]\u001b[A\u001b[A"
     ]
    },
    {
     "name": "stdout",
     "output_type": "stream",
     "text": [
      "((790, 466), (1257, 550))\n",
      "((1, 517), (234, 589))\n",
      "((268, 568), (397, 593))\n",
      "((154, 770), (472, 903))\n",
      "((532, 770), (621, 849))\n"
     ]
    },
    {
     "name": "stderr",
     "output_type": "stream",
     "text": [
      "\n",
      "\n",
      " 17%|█▋        | 417/2398 [18:19<1:28:43,  2.69s/it]\u001b[A\u001b[A"
     ]
    },
    {
     "name": "stdout",
     "output_type": "stream",
     "text": [
      "((1010, 842), (1123, 933))\n",
      "((924, 862), (981, 906))\n",
      "((790, 469), (1258, 551))\n",
      "((1, 517), (233, 589))\n",
      "((274, 568), (397, 593))\n",
      "((158, 770), (471, 903))\n",
      "((534, 786), (609, 849))\n"
     ]
    },
    {
     "name": "stderr",
     "output_type": "stream",
     "text": [
      "\n",
      "\n",
      " 17%|█▋        | 418/2398 [18:22<1:28:53,  2.69s/it]\u001b[A\u001b[A"
     ]
    },
    {
     "name": "stdout",
     "output_type": "stream",
     "text": [
      "((1010, 842), (1122, 933))\n",
      "((924, 862), (981, 906))\n",
      "((1042, 472), (1273, 549))\n",
      "((790, 493), (1041, 551))\n",
      "((1, 517), (231, 589))\n",
      "((278, 568), (393, 593))\n",
      "((158, 771), (461, 904))\n",
      "((534, 786), (609, 849))\n"
     ]
    },
    {
     "name": "stderr",
     "output_type": "stream",
     "text": [
      "\n",
      "\n",
      " 17%|█▋        | 419/2398 [18:25<1:29:37,  2.72s/it]\u001b[A\u001b[A"
     ]
    },
    {
     "name": "stdout",
     "output_type": "stream",
     "text": [
      "((1010, 842), (1123, 933))\n",
      "((1043, 472), (1279, 549))\n",
      "((790, 493), (1040, 551))\n",
      "((1, 517), (229, 600))\n",
      "((289, 568), (391, 594))\n",
      "((158, 771), (461, 903))\n",
      "((538, 787), (585, 848))\n"
     ]
    },
    {
     "name": "stderr",
     "output_type": "stream",
     "text": [
      "\n",
      "\n",
      " 18%|█▊        | 420/2398 [18:27<1:29:06,  2.70s/it]\u001b[A\u001b[A"
     ]
    },
    {
     "name": "stdout",
     "output_type": "stream",
     "text": [
      "((1010, 842), (1123, 933))\n",
      "((1043, 472), (1279, 550))\n",
      "((790, 493), (1040, 551))\n",
      "((1, 518), (228, 600))\n",
      "((290, 568), (391, 594))\n",
      "((158, 772), (461, 903))\n",
      "((538, 787), (585, 847))\n"
     ]
    },
    {
     "name": "stderr",
     "output_type": "stream",
     "text": [
      "\n",
      "\n",
      " 18%|█▊        | 421/2398 [18:30<1:28:42,  2.69s/it]\u001b[A\u001b[A"
     ]
    },
    {
     "name": "stdout",
     "output_type": "stream",
     "text": [
      "((1010, 842), (1123, 933))\n",
      "((924, 862), (981, 906))\n",
      "((1043, 473), (1279, 550))\n",
      "((790, 493), (1039, 551))\n",
      "((1, 518), (225, 600))\n",
      "((286, 568), (391, 594))\n",
      "((158, 772), (461, 903))\n",
      "((538, 787), (585, 847))\n"
     ]
    },
    {
     "name": "stderr",
     "output_type": "stream",
     "text": [
      "\n",
      "\n",
      " 18%|█▊        | 422/2398 [18:33<1:27:46,  2.67s/it]\u001b[A\u001b[A"
     ]
    },
    {
     "name": "stdout",
     "output_type": "stream",
     "text": [
      "((1010, 842), (1123, 933))\n",
      "((1043, 474), (1279, 550))\n",
      "((789, 493), (1039, 551))\n",
      "((1, 518), (225, 600))\n",
      "((282, 568), (389, 594))\n",
      "((158, 772), (461, 903))\n",
      "((538, 787), (585, 847))\n"
     ]
    },
    {
     "name": "stderr",
     "output_type": "stream",
     "text": [
      "\n",
      "\n",
      " 18%|█▊        | 423/2398 [18:35<1:27:22,  2.65s/it]\u001b[A\u001b[A"
     ]
    },
    {
     "name": "stdout",
     "output_type": "stream",
     "text": [
      "((1010, 842), (1123, 933))\n",
      "((1043, 474), (1278, 550))\n",
      "((788, 493), (1037, 551))\n",
      "((1, 518), (225, 600))\n",
      "((286, 568), (389, 594))\n",
      "((158, 773), (461, 903))\n",
      "((538, 787), (585, 847))\n"
     ]
    },
    {
     "name": "stderr",
     "output_type": "stream",
     "text": [
      "\n",
      "\n",
      " 18%|█▊        | 424/2398 [18:38<1:26:58,  2.64s/it]\u001b[A\u001b[A"
     ]
    },
    {
     "name": "stdout",
     "output_type": "stream",
     "text": [
      "((1010, 842), (1123, 933))\n",
      "((1043, 474), (1277, 550))\n",
      "((788, 493), (1037, 549))\n",
      "((1, 518), (225, 600))\n",
      "((286, 568), (389, 594))\n",
      "((158, 773), (461, 903))\n",
      "((538, 787), (585, 847))\n"
     ]
    },
    {
     "name": "stderr",
     "output_type": "stream",
     "text": [
      "\n",
      "\n",
      " 18%|█▊        | 425/2398 [18:41<1:27:42,  2.67s/it]\u001b[A\u001b[A"
     ]
    },
    {
     "name": "stdout",
     "output_type": "stream",
     "text": [
      "((1010, 845), (1123, 933))\n",
      "((1043, 474), (1276, 550))\n",
      "((786, 493), (1037, 549))\n",
      "((0, 518), (221, 600))\n",
      "((286, 569), (389, 594))\n",
      "((158, 773), (461, 903))\n",
      "((538, 787), (585, 848))\n"
     ]
    },
    {
     "name": "stderr",
     "output_type": "stream",
     "text": [
      "\n",
      "\n",
      " 18%|█▊        | 426/2398 [18:43<1:27:37,  2.67s/it]\u001b[A\u001b[A"
     ]
    },
    {
     "name": "stdout",
     "output_type": "stream",
     "text": [
      "((1010, 845), (1123, 933))\n",
      "((1043, 474), (1275, 550))\n",
      "((785, 493), (1036, 550))\n",
      "((1, 518), (208, 600))\n",
      "((286, 568), (389, 594))\n",
      "((157, 773), (411, 903))\n",
      "((534, 781), (589, 848))\n"
     ]
    },
    {
     "name": "stderr",
     "output_type": "stream",
     "text": [
      "\n",
      "\n",
      " 18%|█▊        | 427/2398 [18:46<1:27:08,  2.65s/it]\u001b[A\u001b[A"
     ]
    },
    {
     "name": "stdout",
     "output_type": "stream",
     "text": [
      "((1010, 845), (1123, 933))\n",
      "((1043, 474), (1271, 550))\n",
      "((784, 494), (1041, 549))\n",
      "((1, 518), (207, 600))\n",
      "((285, 568), (391, 595))\n",
      "((533, 769), (621, 848))\n",
      "((154, 773), (411, 903))\n"
     ]
    },
    {
     "name": "stderr",
     "output_type": "stream",
     "text": [
      "\n",
      "\n",
      " 18%|█▊        | 428/2398 [18:49<1:26:39,  2.64s/it]\u001b[A\u001b[A"
     ]
    },
    {
     "name": "stdout",
     "output_type": "stream",
     "text": [
      "((1010, 845), (1123, 933))\n",
      "((1042, 474), (1270, 551))\n",
      "((783, 494), (1041, 549))\n",
      "((1, 518), (207, 600))\n",
      "((285, 568), (391, 595))\n",
      "((532, 769), (621, 848))\n",
      "((153, 773), (461, 903))\n"
     ]
    },
    {
     "name": "stderr",
     "output_type": "stream",
     "text": [
      "\n",
      "\n",
      " 18%|█▊        | 429/2398 [18:51<1:27:00,  2.65s/it]\u001b[A\u001b[A"
     ]
    },
    {
     "name": "stdout",
     "output_type": "stream",
     "text": [
      "((1010, 845), (1123, 933))\n",
      "((1042, 475), (1269, 551))\n",
      "((898, 494), (1043, 549))\n",
      "((782, 507), (887, 549))\n",
      "((1, 518), (205, 600))\n",
      "((285, 568), (391, 595))\n",
      "((532, 769), (621, 849))\n",
      "((139, 773), (461, 903))\n"
     ]
    },
    {
     "name": "stderr",
     "output_type": "stream",
     "text": [
      "\n",
      "\n",
      " 18%|█▊        | 430/2398 [18:54<1:26:54,  2.65s/it]\u001b[A\u001b[A"
     ]
    },
    {
     "name": "stdout",
     "output_type": "stream",
     "text": [
      "((1014, 845), (1122, 933))\n",
      "((899, 475), (1267, 551))\n",
      "((770, 508), (884, 549))\n",
      "((1, 518), (209, 600))\n",
      "((285, 570), (387, 595))\n",
      "((532, 769), (621, 849))\n",
      "((139, 773), (461, 903))\n"
     ]
    },
    {
     "name": "stderr",
     "output_type": "stream",
     "text": [
      "\n",
      "\n",
      " 18%|█▊        | 431/2398 [18:56<1:26:41,  2.64s/it]\u001b[A\u001b[A"
     ]
    },
    {
     "name": "stdout",
     "output_type": "stream",
     "text": [
      "((1017, 845), (1122, 933))\n",
      "((901, 475), (1267, 551))\n",
      "((769, 508), (869, 549))\n",
      "((1, 518), (209, 600))\n",
      "((532, 769), (621, 849))\n",
      "((139, 774), (461, 903))\n"
     ]
    },
    {
     "name": "stderr",
     "output_type": "stream",
     "text": [
      "\n",
      "\n",
      " 18%|█▊        | 432/2398 [18:59<1:27:50,  2.68s/it]\u001b[A\u001b[A"
     ]
    },
    {
     "name": "stdout",
     "output_type": "stream",
     "text": [
      "((1018, 845), (1122, 933))\n",
      "((914, 475), (1267, 551))\n",
      "((766, 508), (869, 549))\n",
      "((460, 514), (541, 549))\n",
      "((1, 518), (215, 600))\n",
      "((533, 769), (621, 848))\n",
      "((153, 774), (410, 904))\n"
     ]
    },
    {
     "name": "stderr",
     "output_type": "stream",
     "text": [
      "\n",
      "\n",
      " 18%|█▊        | 433/2398 [19:02<1:27:50,  2.68s/it]\u001b[A\u001b[A"
     ]
    },
    {
     "name": "stdout",
     "output_type": "stream",
     "text": [
      "((1018, 845), (1122, 933))\n",
      "((915, 475), (1267, 551))\n",
      "((765, 509), (858, 549))\n",
      "((460, 514), (547, 553))\n",
      "((1, 518), (217, 600))\n",
      "((154, 774), (410, 904))\n",
      "((538, 787), (585, 848))\n"
     ]
    },
    {
     "name": "stderr",
     "output_type": "stream",
     "text": [
      "\n",
      "\n",
      " 18%|█▊        | 434/2398 [19:05<1:27:35,  2.68s/it]\u001b[A\u001b[A"
     ]
    },
    {
     "name": "stdout",
     "output_type": "stream",
     "text": [
      "((1018, 847), (1122, 933))\n",
      "((915, 476), (1267, 551))\n",
      "((762, 509), (841, 549))\n",
      "((459, 513), (547, 556))\n",
      "((1, 518), (217, 600))\n",
      "((154, 775), (410, 904))\n",
      "((538, 787), (582, 848))\n"
     ]
    },
    {
     "name": "stderr",
     "output_type": "stream",
     "text": [
      "\n",
      "\n",
      " 18%|█▊        | 435/2398 [19:07<1:26:35,  2.65s/it]\u001b[A\u001b[A"
     ]
    },
    {
     "name": "stdout",
     "output_type": "stream",
     "text": [
      "((1018, 848), (1122, 933))\n",
      "((1026, 476), (1278, 551))\n",
      "((915, 499), (1022, 549))\n",
      "((761, 509), (839, 549))\n",
      "((459, 513), (547, 556))\n",
      "((1, 518), (217, 600))\n",
      "((155, 775), (409, 904))\n"
     ]
    },
    {
     "name": "stderr",
     "output_type": "stream",
     "text": [
      "\n",
      "\n",
      " 18%|█▊        | 436/2398 [19:10<1:25:54,  2.63s/it]\u001b[A\u001b[A"
     ]
    },
    {
     "name": "stdout",
     "output_type": "stream",
     "text": [
      "((1018, 849), (1122, 925))\n",
      "((1026, 476), (1278, 551))\n",
      "((915, 499), (1022, 546))\n",
      "((761, 509), (839, 549))\n",
      "((458, 513), (548, 556))\n",
      "((0, 518), (218, 600))\n",
      "((158, 775), (409, 904))\n"
     ]
    },
    {
     "name": "stderr",
     "output_type": "stream",
     "text": [
      "\n",
      "\n",
      " 18%|█▊        | 437/2398 [19:12<1:26:35,  2.65s/it]\u001b[A\u001b[A"
     ]
    },
    {
     "name": "stdout",
     "output_type": "stream",
     "text": [
      "((1018, 849), (1121, 925))\n",
      "((1026, 475), (1279, 551))\n",
      "((915, 495), (1022, 547))\n",
      "((748, 509), (837, 549))\n",
      "((456, 513), (548, 556))\n",
      "((0, 518), (218, 600))\n",
      "((158, 775), (409, 904))\n",
      "((1018, 850), (1121, 925))\n"
     ]
    },
    {
     "name": "stderr",
     "output_type": "stream",
     "text": [
      "\n",
      "\n",
      " 18%|█▊        | 438/2398 [19:15<1:26:35,  2.65s/it]\u001b[A\u001b[A"
     ]
    },
    {
     "name": "stdout",
     "output_type": "stream",
     "text": [
      "((1026, 475), (1279, 551))\n",
      "((932, 498), (1021, 545))\n",
      "((748, 509), (837, 549))\n",
      "((456, 513), (547, 556))\n",
      "((0, 518), (220, 600))\n",
      "((158, 775), (409, 904))\n"
     ]
    },
    {
     "name": "stderr",
     "output_type": "stream",
     "text": [
      "\n",
      "\n",
      " 18%|█▊        | 439/2398 [19:18<1:26:05,  2.64s/it]\u001b[A\u001b[A"
     ]
    },
    {
     "name": "stdout",
     "output_type": "stream",
     "text": [
      "((1018, 850), (1122, 925))\n",
      "((1026, 475), (1279, 551))\n",
      "((933, 498), (1020, 545))\n",
      "((749, 509), (837, 549))\n",
      "((454, 513), (547, 556))\n",
      "((0, 519), (221, 600))\n",
      "((158, 775), (409, 904))\n"
     ]
    },
    {
     "name": "stderr",
     "output_type": "stream",
     "text": [
      "\n",
      "\n",
      " 18%|█▊        | 440/2398 [19:20<1:24:54,  2.60s/it]\u001b[A\u001b[A"
     ]
    },
    {
     "name": "stdout",
     "output_type": "stream",
     "text": [
      "((1010, 850), (1122, 925))\n",
      "((1026, 475), (1279, 551))\n",
      "((932, 501), (1021, 545))\n",
      "((749, 510), (837, 549))\n",
      "((453, 513), (547, 556))\n",
      "((0, 519), (221, 600))\n",
      "((158, 775), (409, 904))\n"
     ]
    },
    {
     "name": "stderr",
     "output_type": "stream",
     "text": [
      "\n",
      "\n",
      " 18%|█▊        | 441/2398 [19:23<1:23:47,  2.57s/it]\u001b[A\u001b[A"
     ]
    },
    {
     "name": "stdout",
     "output_type": "stream",
     "text": [
      "((1010, 849), (1121, 925))\n",
      "((1026, 475), (1279, 551))\n",
      "((932, 501), (1021, 544))\n",
      "((748, 510), (837, 549))\n",
      "((452, 513), (546, 556))\n",
      "((0, 519), (221, 600))\n",
      "((158, 775), (410, 904))\n",
      "((1010, 847), (1121, 925))\n"
     ]
    },
    {
     "name": "stderr",
     "output_type": "stream",
     "text": [
      "\n",
      "\n",
      " 18%|█▊        | 442/2398 [19:25<1:24:12,  2.58s/it]\u001b[A\u001b[A"
     ]
    },
    {
     "name": "stdout",
     "output_type": "stream",
     "text": [
      "((1026, 475), (1279, 551))\n",
      "((932, 502), (1024, 544))\n",
      "((746, 510), (837, 549))\n",
      "((450, 513), (546, 556))\n",
      "((0, 519), (207, 600))\n",
      "((157, 775), (409, 908))\n"
     ]
    },
    {
     "name": "stderr",
     "output_type": "stream",
     "text": [
      "\n",
      "\n",
      " 18%|█▊        | 443/2398 [19:28<1:24:38,  2.60s/it]\u001b[A\u001b[A"
     ]
    },
    {
     "name": "stdout",
     "output_type": "stream",
     "text": [
      "((1010, 847), (1113, 925))\n",
      "((1026, 475), (1279, 551))\n",
      "((915, 501), (1024, 544))\n",
      "((746, 510), (837, 549))\n",
      "((449, 513), (546, 556))\n",
      "((0, 520), (205, 600))\n",
      "((157, 775), (410, 908))\n",
      "((1010, 847), (1113, 925))\n"
     ]
    },
    {
     "name": "stderr",
     "output_type": "stream",
     "text": [
      "\n",
      "\n",
      " 19%|█▊        | 444/2398 [19:31<1:25:57,  2.64s/it]\u001b[A\u001b[A"
     ]
    },
    {
     "name": "stdout",
     "output_type": "stream",
     "text": [
      "((915, 476), (1279, 551))\n",
      "((746, 510), (836, 549))\n",
      "((448, 513), (545, 556))\n",
      "((0, 520), (205, 600))\n",
      "((157, 775), (410, 908))\n"
     ]
    },
    {
     "name": "stderr",
     "output_type": "stream",
     "text": [
      "\n",
      "\n",
      " 19%|█▊        | 445/2398 [19:33<1:25:41,  2.63s/it]\u001b[A\u001b[A"
     ]
    },
    {
     "name": "stdout",
     "output_type": "stream",
     "text": [
      "((1010, 847), (1113, 925))\n",
      "((914, 476), (1279, 551))\n",
      "((749, 509), (836, 549))\n",
      "((448, 513), (545, 557))\n",
      "((0, 520), (205, 600))\n",
      "((157, 775), (410, 908))\n"
     ]
    },
    {
     "name": "stderr",
     "output_type": "stream",
     "text": [
      "\n",
      "\n",
      " 19%|█▊        | 446/2398 [19:36<1:23:56,  2.58s/it]\u001b[A\u001b[A"
     ]
    },
    {
     "name": "stdout",
     "output_type": "stream",
     "text": [
      "((1010, 846), (1113, 925))\n",
      "((909, 471), (1279, 552))\n",
      "((750, 509), (835, 549))\n",
      "((446, 514), (545, 557))\n",
      "((0, 520), (205, 600))\n",
      "((157, 775), (411, 908))\n"
     ]
    },
    {
     "name": "stderr",
     "output_type": "stream",
     "text": [
      "\n",
      "\n",
      " 19%|█▊        | 447/2398 [19:38<1:23:35,  2.57s/it]\u001b[A\u001b[A"
     ]
    },
    {
     "name": "stdout",
     "output_type": "stream",
     "text": [
      "((1010, 846), (1113, 925))\n",
      "((902, 467), (1279, 552))\n",
      "((750, 509), (830, 549))\n",
      "((446, 514), (545, 557))\n",
      "((0, 520), (205, 600))\n",
      "((158, 775), (411, 908))\n"
     ]
    },
    {
     "name": "stderr",
     "output_type": "stream",
     "text": [
      "\n",
      "\n",
      " 19%|█▊        | 448/2398 [19:41<1:24:09,  2.59s/it]\u001b[A\u001b[A"
     ]
    },
    {
     "name": "stdout",
     "output_type": "stream",
     "text": [
      "((1002, 842), (1113, 925))\n",
      "((902, 466), (1279, 552))\n",
      "((754, 509), (828, 549))\n",
      "((446, 514), (537, 557))\n",
      "((0, 520), (204, 600))\n",
      "((165, 776), (412, 908))\n",
      "((1002, 842), (1113, 925))\n"
     ]
    },
    {
     "name": "stderr",
     "output_type": "stream",
     "text": [
      "\n",
      "\n",
      " 19%|█▊        | 449/2398 [19:43<1:23:29,  2.57s/it]\u001b[A\u001b[A"
     ]
    },
    {
     "name": "stdout",
     "output_type": "stream",
     "text": [
      "((902, 453), (1279, 552))\n",
      "((756, 509), (828, 549))\n",
      "((446, 514), (535, 557))\n",
      "((0, 520), (204, 600))\n",
      "((166, 778), (412, 908))\n",
      "((1002, 841), (1113, 925))\n"
     ]
    },
    {
     "name": "stderr",
     "output_type": "stream",
     "text": [
      "\n",
      "\n",
      " 19%|█▉        | 450/2398 [19:46<1:23:02,  2.56s/it]\u001b[A\u001b[A"
     ]
    },
    {
     "name": "stdout",
     "output_type": "stream",
     "text": [
      "((902, 452), (1279, 552))\n",
      "((756, 509), (828, 549))\n",
      "((446, 514), (535, 557))\n",
      "((0, 520), (203, 592))\n",
      "((178, 778), (461, 908))\n"
     ]
    },
    {
     "name": "stderr",
     "output_type": "stream",
     "text": [
      "\n",
      "\n",
      " 19%|█▉        | 451/2398 [19:48<1:22:18,  2.54s/it]\u001b[A\u001b[A"
     ]
    },
    {
     "name": "stdout",
     "output_type": "stream",
     "text": [
      "((1002, 840), (1113, 925))\n",
      "((902, 452), (1279, 552))\n",
      "((756, 509), (828, 549))\n",
      "((446, 514), (535, 557))\n",
      "((0, 520), (201, 592))\n",
      "((178, 778), (461, 908))\n"
     ]
    },
    {
     "name": "stderr",
     "output_type": "stream",
     "text": [
      "\n",
      "\n",
      " 19%|█▉        | 452/2398 [19:51<1:22:28,  2.54s/it]\u001b[A\u001b[A"
     ]
    },
    {
     "name": "stdout",
     "output_type": "stream",
     "text": [
      "((999, 839), (1113, 925))\n",
      "((901, 451), (1279, 552))\n",
      "((756, 509), (826, 549))\n",
      "((446, 514), (535, 557))\n",
      "((0, 520), (220, 592))\n",
      "((178, 778), (461, 904))\n"
     ]
    },
    {
     "name": "stderr",
     "output_type": "stream",
     "text": [
      "\n",
      "\n",
      " 19%|█▉        | 453/2398 [19:54<1:22:50,  2.56s/it]\u001b[A\u001b[A"
     ]
    },
    {
     "name": "stdout",
     "output_type": "stream",
     "text": [
      "((995, 836), (1112, 925))\n",
      "((901, 451), (1279, 552))\n",
      "((757, 509), (820, 549))\n",
      "((446, 514), (535, 548))\n",
      "((1, 520), (195, 592))\n",
      "((206, 778), (461, 904))\n"
     ]
    },
    {
     "name": "stderr",
     "output_type": "stream",
     "text": [
      "\n",
      "\n",
      " 19%|█▉        | 454/2398 [19:56<1:22:56,  2.56s/it]\u001b[A\u001b[A"
     ]
    },
    {
     "name": "stdout",
     "output_type": "stream",
     "text": [
      "((994, 834), (1111, 925))\n",
      "((901, 451), (1279, 552))\n",
      "((454, 514), (535, 548))\n",
      "((1, 520), (195, 592))\n",
      "((206, 778), (461, 904))\n",
      "((994, 834), (1110, 925))\n",
      "((924, 862), (980, 907))\n"
     ]
    },
    {
     "name": "stderr",
     "output_type": "stream",
     "text": [
      "\n",
      "\n",
      " 19%|█▉        | 455/2398 [19:59<1:24:32,  2.61s/it]\u001b[A\u001b[A"
     ]
    },
    {
     "name": "stdout",
     "output_type": "stream",
     "text": [
      "((916, 451), (1279, 552))\n",
      "((756, 509), (820, 549))\n",
      "((454, 514), (535, 548))\n",
      "((1, 520), (195, 591))\n",
      "((206, 779), (461, 904))\n",
      "((994, 834), (1109, 925))\n",
      "((924, 862), (981, 907))\n"
     ]
    },
    {
     "name": "stderr",
     "output_type": "stream",
     "text": [
      "\n",
      "\n",
      " 19%|█▉        | 456/2398 [20:02<1:25:12,  2.63s/it]\u001b[A\u001b[A"
     ]
    },
    {
     "name": "stdout",
     "output_type": "stream",
     "text": [
      "((921, 451), (1279, 552))\n",
      "((454, 514), (541, 548))\n",
      "((1, 520), (191, 591))\n",
      "((206, 779), (461, 904))\n",
      "((994, 834), (1109, 925))\n",
      "((924, 862), (981, 906))\n"
     ]
    },
    {
     "name": "stderr",
     "output_type": "stream",
     "text": [
      "\n",
      "\n",
      " 19%|█▉        | 457/2398 [20:04<1:25:50,  2.65s/it]\u001b[A\u001b[A"
     ]
    },
    {
     "name": "stdout",
     "output_type": "stream",
     "text": [
      "((946, 452), (1279, 552))\n",
      "((456, 514), (589, 548))\n",
      "((2, 520), (190, 585))\n",
      "((206, 779), (461, 904))\n",
      "((994, 834), (1109, 925))\n",
      "((924, 862), (981, 906))\n"
     ]
    },
    {
     "name": "stderr",
     "output_type": "stream",
     "text": [
      "\n",
      "\n",
      " 19%|█▉        | 458/2398 [20:07<1:25:58,  2.66s/it]\u001b[A\u001b[A"
     ]
    },
    {
     "name": "stdout",
     "output_type": "stream",
     "text": [
      "((946, 451), (1279, 552))\n",
      "((456, 514), (589, 548))\n",
      "((2, 520), (205, 597))\n",
      "((206, 778), (461, 904))\n"
     ]
    },
    {
     "name": "stderr",
     "output_type": "stream",
     "text": [
      "\n",
      "\n",
      " 19%|█▉        | 459/2398 [20:10<1:24:44,  2.62s/it]\u001b[A\u001b[A"
     ]
    },
    {
     "name": "stdout",
     "output_type": "stream",
     "text": [
      "((994, 834), (1109, 924))\n",
      "((924, 862), (981, 906))\n",
      "((946, 450), (1279, 553))\n",
      "((456, 514), (601, 548))\n",
      "((2, 520), (205, 597))\n",
      "((206, 778), (461, 904))\n"
     ]
    },
    {
     "name": "stderr",
     "output_type": "stream",
     "text": [
      "\n",
      "\n",
      " 19%|█▉        | 460/2398 [20:12<1:24:54,  2.63s/it]\u001b[A\u001b[A"
     ]
    },
    {
     "name": "stdout",
     "output_type": "stream",
     "text": [
      "((994, 834), (1109, 924))\n",
      "((924, 862), (981, 906))\n",
      "((1144, 450), (1279, 553))\n",
      "((946, 478), (1138, 550))\n",
      "((458, 513), (605, 548))\n",
      "((2, 520), (205, 597))\n",
      "((207, 778), (461, 904))\n"
     ]
    },
    {
     "name": "stderr",
     "output_type": "stream",
     "text": [
      "\n",
      "\n",
      " 19%|█▉        | 461/2398 [20:15<1:24:43,  2.62s/it]\u001b[A\u001b[A"
     ]
    },
    {
     "name": "stdout",
     "output_type": "stream",
     "text": [
      "((994, 834), (1109, 924))\n",
      "((924, 862), (981, 906))\n",
      "((1144, 450), (1279, 553))\n",
      "((946, 478), (1138, 551))\n",
      "((459, 513), (605, 548))\n",
      "((2, 520), (205, 597))\n",
      "((249, 777), (461, 904))\n"
     ]
    },
    {
     "name": "stderr",
     "output_type": "stream",
     "text": [
      "\n",
      "\n",
      " 19%|█▉        | 462/2398 [20:18<1:25:37,  2.65s/it]\u001b[A\u001b[A"
     ]
    },
    {
     "name": "stdout",
     "output_type": "stream",
     "text": [
      "((994, 834), (1109, 924))\n",
      "((924, 862), (981, 906))\n",
      "((1144, 450), (1279, 553))\n",
      "((946, 478), (1133, 551))\n",
      "((470, 513), (605, 544))\n",
      "((2, 520), (201, 596))\n",
      "((257, 776), (461, 904))\n"
     ]
    },
    {
     "name": "stderr",
     "output_type": "stream",
     "text": [
      "\n",
      "\n",
      " 19%|█▉        | 463/2398 [20:20<1:25:01,  2.64s/it]\u001b[A\u001b[A"
     ]
    },
    {
     "name": "stdout",
     "output_type": "stream",
     "text": [
      "((994, 834), (1109, 924))\n",
      "((924, 862), (981, 906))\n",
      "((1144, 449), (1279, 553))\n",
      "((946, 478), (1133, 551))\n",
      "((503, 513), (605, 544))\n",
      "((2, 520), (201, 597))\n",
      "((258, 776), (461, 904))\n"
     ]
    },
    {
     "name": "stderr",
     "output_type": "stream",
     "text": [
      "\n",
      "\n",
      " 19%|█▉        | 464/2398 [20:23<1:24:47,  2.63s/it]\u001b[A\u001b[A"
     ]
    },
    {
     "name": "stdout",
     "output_type": "stream",
     "text": [
      "((994, 834), (1109, 924))\n",
      "((924, 862), (981, 906))\n",
      "((1144, 439), (1279, 553))\n",
      "((946, 478), (1133, 551))\n",
      "((510, 513), (606, 544))\n",
      "((2, 520), (199, 597))\n",
      "((258, 775), (461, 904))\n"
     ]
    },
    {
     "name": "stderr",
     "output_type": "stream",
     "text": [
      "\n",
      "\n",
      " 19%|█▉        | 465/2398 [20:25<1:24:35,  2.63s/it]\u001b[A\u001b[A"
     ]
    },
    {
     "name": "stdout",
     "output_type": "stream",
     "text": [
      "((994, 834), (1109, 923))\n",
      "((924, 862), (981, 906))\n",
      "((1143, 415), (1279, 553))\n",
      "((946, 478), (1133, 551))\n",
      "((510, 513), (613, 544))\n",
      "((2, 520), (197, 597))\n",
      "((258, 775), (461, 904))\n"
     ]
    },
    {
     "name": "stderr",
     "output_type": "stream",
     "text": [
      "\n",
      "\n",
      " 19%|█▉        | 466/2398 [20:28<1:24:40,  2.63s/it]\u001b[A\u001b[A"
     ]
    },
    {
     "name": "stdout",
     "output_type": "stream",
     "text": [
      "((995, 834), (1109, 923))\n",
      "((924, 862), (981, 906))\n",
      "((1140, 415), (1279, 553))\n",
      "((946, 478), (1133, 551))\n",
      "((510, 513), (617, 543))\n",
      "((2, 520), (197, 597))\n",
      "((259, 775), (461, 904))\n"
     ]
    },
    {
     "name": "stderr",
     "output_type": "stream",
     "text": [
      "\n",
      "\n",
      " 19%|█▉        | 467/2398 [20:31<1:23:35,  2.60s/it]\u001b[A\u001b[A"
     ]
    },
    {
     "name": "stdout",
     "output_type": "stream",
     "text": [
      "((995, 835), (1109, 923))\n",
      "((924, 862), (981, 906))\n",
      "((1138, 414), (1279, 553))\n",
      "((938, 478), (1133, 551))\n",
      "((510, 513), (620, 543))\n",
      "((1, 521), (167, 584))\n",
      "((259, 773), (461, 904))\n"
     ]
    },
    {
     "name": "stderr",
     "output_type": "stream",
     "text": [
      "\n",
      "\n",
      " 20%|█▉        | 468/2398 [20:33<1:24:00,  2.61s/it]\u001b[A\u001b[A"
     ]
    },
    {
     "name": "stdout",
     "output_type": "stream",
     "text": [
      "((998, 837), (1109, 923))\n",
      "((1138, 414), (1279, 553))\n",
      "((937, 478), (1133, 551))\n",
      "((510, 513), (620, 543))\n",
      "((1, 521), (165, 584))\n",
      "((259, 773), (461, 904))\n"
     ]
    },
    {
     "name": "stderr",
     "output_type": "stream",
     "text": [
      "\n",
      "\n",
      " 20%|█▉        | 469/2398 [20:36<1:24:20,  2.62s/it]\u001b[A\u001b[A"
     ]
    },
    {
     "name": "stdout",
     "output_type": "stream",
     "text": [
      "((1002, 838), (1109, 923))\n",
      "((1137, 414), (1279, 553))\n",
      "((934, 478), (1133, 551))\n",
      "((513, 513), (620, 543))\n",
      "((2, 521), (163, 585))\n",
      "((259, 772), (461, 904))\n"
     ]
    },
    {
     "name": "stderr",
     "output_type": "stream",
     "text": [
      "\n",
      "\n",
      " 20%|█▉        | 470/2398 [20:38<1:23:58,  2.61s/it]\u001b[A\u001b[A"
     ]
    },
    {
     "name": "stdout",
     "output_type": "stream",
     "text": [
      "((1002, 839), (1109, 923))\n",
      "((934, 414), (1279, 553))\n",
      "((514, 514), (621, 543))\n",
      "((2, 521), (163, 585))\n",
      "((259, 774), (461, 904))\n"
     ]
    },
    {
     "name": "stderr",
     "output_type": "stream",
     "text": [
      "\n",
      "\n",
      " 20%|█▉        | 471/2398 [20:41<1:23:27,  2.60s/it]\u001b[A\u001b[A"
     ]
    },
    {
     "name": "stdout",
     "output_type": "stream",
     "text": [
      "((1002, 839), (1109, 923))\n",
      "((933, 415), (1279, 554))\n",
      "((524, 514), (621, 545))\n",
      "((1, 521), (162, 585))\n",
      "((259, 772), (461, 904))\n"
     ]
    },
    {
     "name": "stderr",
     "output_type": "stream",
     "text": [
      "\n",
      "\n",
      " 20%|█▉        | 472/2398 [20:44<1:23:21,  2.60s/it]\u001b[A\u001b[A"
     ]
    },
    {
     "name": "stdout",
     "output_type": "stream",
     "text": [
      "((1002, 840), (1109, 923))\n",
      "((931, 415), (1279, 554))\n",
      "((524, 514), (621, 546))\n",
      "((2, 522), (162, 586))\n",
      "((259, 772), (461, 908))\n"
     ]
    },
    {
     "name": "stderr",
     "output_type": "stream",
     "text": [
      "\n",
      "\n",
      " 20%|█▉        | 473/2398 [20:46<1:23:34,  2.61s/it]\u001b[A\u001b[A"
     ]
    },
    {
     "name": "stdout",
     "output_type": "stream",
     "text": [
      "((1010, 841), (1109, 923))\n",
      "((930, 415), (1279, 555))\n",
      "((514, 514), (635, 546))\n",
      "((1, 521), (162, 586))\n",
      "((259, 772), (461, 908))\n"
     ]
    },
    {
     "name": "stderr",
     "output_type": "stream",
     "text": [
      "\n",
      "\n",
      " 20%|█▉        | 474/2398 [20:49<1:22:12,  2.56s/it]\u001b[A\u001b[A"
     ]
    },
    {
     "name": "stdout",
     "output_type": "stream",
     "text": [
      "((1010, 842), (1109, 923))\n",
      "((930, 415), (1279, 555))\n",
      "((515, 514), (635, 546))\n",
      "((0, 521), (161, 586))\n",
      "((259, 772), (461, 908))\n"
     ]
    },
    {
     "name": "stderr",
     "output_type": "stream",
     "text": [
      "\n",
      "\n",
      " 20%|█▉        | 475/2398 [20:51<1:22:01,  2.56s/it]\u001b[A\u001b[A"
     ]
    },
    {
     "name": "stdout",
     "output_type": "stream",
     "text": [
      "((1010, 842), (1109, 923))\n",
      "((930, 415), (1279, 556))\n",
      "((515, 514), (636, 546))\n",
      "((0, 521), (161, 586))\n",
      "((259, 772), (415, 908))\n"
     ]
    },
    {
     "name": "stderr",
     "output_type": "stream",
     "text": [
      "\n",
      "\n",
      " 20%|█▉        | 476/2398 [20:54<1:22:31,  2.58s/it]\u001b[A\u001b[A"
     ]
    },
    {
     "name": "stdout",
     "output_type": "stream",
     "text": [
      "((1010, 842), (1109, 923))\n",
      "((929, 415), (1279, 556))\n",
      "((517, 514), (637, 546))\n",
      "((0, 521), (162, 586))\n",
      "((259, 772), (415, 908))\n"
     ]
    },
    {
     "name": "stderr",
     "output_type": "stream",
     "text": [
      "\n",
      "\n",
      " 20%|█▉        | 477/2398 [20:56<1:22:01,  2.56s/it]\u001b[A\u001b[A"
     ]
    },
    {
     "name": "stdout",
     "output_type": "stream",
     "text": [
      "((1010, 842), (1109, 923))\n",
      "((882, 416), (1279, 556))\n",
      "((523, 514), (637, 546))\n",
      "((1, 521), (161, 586))\n",
      "((259, 772), (415, 904))\n"
     ]
    },
    {
     "name": "stderr",
     "output_type": "stream",
     "text": [
      "\n",
      "\n",
      " 20%|█▉        | 478/2398 [20:59<1:22:59,  2.59s/it]\u001b[A\u001b[A"
     ]
    },
    {
     "name": "stdout",
     "output_type": "stream",
     "text": [
      "((1010, 842), (1109, 923))\n",
      "((890, 416), (1279, 557))\n",
      "((526, 514), (637, 545))\n",
      "((1, 521), (155, 586))\n",
      "((259, 772), (415, 904))\n"
     ]
    },
    {
     "name": "stderr",
     "output_type": "stream",
     "text": [
      "\n",
      "\n",
      " 20%|█▉        | 479/2398 [21:02<1:22:37,  2.58s/it]\u001b[A\u001b[A"
     ]
    },
    {
     "name": "stdout",
     "output_type": "stream",
     "text": [
      "((1010, 842), (1109, 923))\n",
      "((912, 416), (1279, 557))\n",
      "((525, 514), (636, 545))\n",
      "((1, 521), (155, 586))\n",
      "((259, 772), (415, 904))\n"
     ]
    },
    {
     "name": "stderr",
     "output_type": "stream",
     "text": [
      "\n",
      "\n",
      " 20%|██        | 480/2398 [21:04<1:22:18,  2.57s/it]\u001b[A\u001b[A"
     ]
    },
    {
     "name": "stdout",
     "output_type": "stream",
     "text": [
      "((1010, 842), (1109, 923))\n",
      "((915, 416), (1279, 557))\n",
      "((522, 514), (628, 545))\n",
      "((1, 521), (155, 586))\n",
      "((258, 772), (461, 904))\n"
     ]
    },
    {
     "name": "stderr",
     "output_type": "stream",
     "text": [
      "\n",
      "\n",
      " 20%|██        | 481/2398 [21:07<1:22:28,  2.58s/it]\u001b[A\u001b[A"
     ]
    },
    {
     "name": "stdout",
     "output_type": "stream",
     "text": [
      "((1010, 842), (1108, 923))\n",
      "((917, 417), (1279, 559))\n",
      "((522, 514), (628, 545))\n",
      "((1, 521), (153, 586))\n",
      "((245, 772), (461, 904))\n"
     ]
    },
    {
     "name": "stderr",
     "output_type": "stream",
     "text": [
      "\n",
      "\n",
      " 20%|██        | 482/2398 [21:09<1:21:55,  2.57s/it]\u001b[A\u001b[A"
     ]
    },
    {
     "name": "stdout",
     "output_type": "stream",
     "text": [
      "((1010, 842), (1108, 923))\n",
      "((917, 417), (1279, 560))\n",
      "((522, 514), (621, 544))\n",
      "((1, 521), (149, 586))\n",
      "((242, 772), (417, 904))\n"
     ]
    },
    {
     "name": "stderr",
     "output_type": "stream",
     "text": [
      "\n",
      "\n",
      " 20%|██        | 483/2398 [21:12<1:22:11,  2.58s/it]\u001b[A\u001b[A"
     ]
    },
    {
     "name": "stdout",
     "output_type": "stream",
     "text": [
      "((1010, 842), (1108, 923))\n",
      "((924, 862), (980, 907))\n",
      "((917, 417), (1279, 560))\n",
      "((523, 514), (621, 544))\n",
      "((1, 522), (149, 586))\n",
      "((242, 772), (417, 904))\n"
     ]
    },
    {
     "name": "stderr",
     "output_type": "stream",
     "text": [
      "\n",
      "\n",
      " 20%|██        | 484/2398 [21:14<1:22:23,  2.58s/it]\u001b[A\u001b[A"
     ]
    },
    {
     "name": "stdout",
     "output_type": "stream",
     "text": [
      "((1010, 842), (1108, 923))\n",
      "((924, 862), (981, 907))\n",
      "((977, 417), (1279, 560))\n",
      "((522, 514), (621, 545))\n",
      "((1, 522), (149, 585))\n",
      "((242, 772), (421, 904))\n",
      "((1010, 842), (1107, 923))\n"
     ]
    },
    {
     "name": "stderr",
     "output_type": "stream",
     "text": [
      "\n",
      "\n",
      " 20%|██        | 485/2398 [21:17<1:22:10,  2.58s/it]\u001b[A\u001b[A"
     ]
    },
    {
     "name": "stdout",
     "output_type": "stream",
     "text": [
      "((924, 862), (981, 907))\n",
      "((915, 417), (1279, 561))\n",
      "((523, 514), (621, 545))\n",
      "((1, 522), (149, 585))\n",
      "((242, 772), (461, 904))\n",
      "((1010, 842), (1107, 922))\n"
     ]
    },
    {
     "name": "stderr",
     "output_type": "stream",
     "text": [
      "\n",
      "\n",
      " 20%|██        | 486/2398 [21:19<1:21:10,  2.55s/it]\u001b[A\u001b[A"
     ]
    },
    {
     "name": "stdout",
     "output_type": "stream",
     "text": [
      "((924, 862), (981, 907))\n",
      "((915, 418), (1279, 561))\n",
      "((523, 514), (621, 546))\n",
      "((1, 522), (147, 585))\n",
      "((243, 772), (461, 904))\n",
      "((1010, 842), (1107, 922))\n"
     ]
    },
    {
     "name": "stderr",
     "output_type": "stream",
     "text": [
      "\n",
      "\n",
      " 20%|██        | 487/2398 [21:22<1:19:23,  2.49s/it]\u001b[A\u001b[A"
     ]
    },
    {
     "name": "stdout",
     "output_type": "stream",
     "text": [
      "((924, 862), (981, 907))\n",
      "((915, 418), (1279, 562))\n",
      "((523, 514), (621, 546))\n",
      "((1, 522), (145, 584))\n",
      "((250, 772), (461, 904))\n"
     ]
    },
    {
     "name": "stderr",
     "output_type": "stream",
     "text": [
      "\n",
      "\n",
      " 20%|██        | 488/2398 [21:24<1:19:03,  2.48s/it]\u001b[A\u001b[A"
     ]
    },
    {
     "name": "stdout",
     "output_type": "stream",
     "text": [
      "((1010, 842), (1107, 922))\n",
      "((924, 862), (981, 907))\n",
      "((914, 418), (1279, 562))\n",
      "((522, 514), (621, 546))\n",
      "((1, 522), (145, 584))\n",
      "((250, 772), (461, 904))\n"
     ]
    },
    {
     "name": "stderr",
     "output_type": "stream",
     "text": [
      "\n",
      "\n",
      " 20%|██        | 489/2398 [21:27<1:19:09,  2.49s/it]\u001b[A\u001b[A"
     ]
    },
    {
     "name": "stdout",
     "output_type": "stream",
     "text": [
      "((1010, 842), (1106, 921))\n",
      "((924, 862), (981, 907))\n",
      "((914, 418), (1279, 563))\n",
      "((523, 514), (621, 546))\n",
      "((1, 522), (141, 584))\n",
      "((250, 771), (461, 904))\n"
     ]
    },
    {
     "name": "stderr",
     "output_type": "stream",
     "text": [
      "\n",
      "\n",
      " 20%|██        | 490/2398 [21:29<1:19:06,  2.49s/it]\u001b[A\u001b[A"
     ]
    },
    {
     "name": "stdout",
     "output_type": "stream",
     "text": [
      "((1010, 842), (1094, 917))\n",
      "((924, 862), (981, 907))\n",
      "((914, 418), (1279, 563))\n",
      "((523, 514), (620, 546))\n",
      "((1, 522), (140, 583))\n",
      "((250, 771), (461, 904))\n"
     ]
    },
    {
     "name": "stderr",
     "output_type": "stream",
     "text": [
      "\n",
      "\n",
      " 20%|██        | 491/2398 [21:32<1:20:57,  2.55s/it]\u001b[A\u001b[A"
     ]
    },
    {
     "name": "stdout",
     "output_type": "stream",
     "text": [
      "((1010, 842), (1091, 913))\n",
      "((924, 862), (981, 907))\n",
      "((962, 418), (1279, 563))\n",
      "((523, 514), (618, 546))\n",
      "((0, 522), (137, 584))\n",
      "((250, 771), (461, 904))\n"
     ]
    },
    {
     "name": "stderr",
     "output_type": "stream",
     "text": [
      "\n",
      "\n",
      " 21%|██        | 492/2398 [21:35<1:21:02,  2.55s/it]\u001b[A\u001b[A"
     ]
    },
    {
     "name": "stdout",
     "output_type": "stream",
     "text": [
      "((1010, 842), (1076, 881))\n",
      "((924, 862), (981, 907))\n",
      "((963, 418), (1279, 564))\n",
      "((522, 514), (617, 546))\n",
      "((0, 522), (136, 584))\n"
     ]
    },
    {
     "name": "stderr",
     "output_type": "stream",
     "text": [
      "\n",
      "\n",
      " 21%|██        | 493/2398 [21:37<1:20:46,  2.54s/it]\u001b[A\u001b[A"
     ]
    },
    {
     "name": "stdout",
     "output_type": "stream",
     "text": [
      "((250, 771), (461, 903))\n",
      "((1010, 842), (1076, 881))\n",
      "((924, 862), (981, 907))\n",
      "((963, 418), (1279, 565))\n",
      "((522, 514), (612, 545))\n",
      "((0, 522), (133, 584))\n",
      "((257, 771), (461, 873))\n"
     ]
    },
    {
     "name": "stderr",
     "output_type": "stream",
     "text": [
      "\n",
      "\n",
      " 21%|██        | 494/2398 [21:40<1:20:13,  2.53s/it]\u001b[A\u001b[A"
     ]
    },
    {
     "name": "stdout",
     "output_type": "stream",
     "text": [
      "((924, 862), (981, 907))\n",
      "((963, 418), (1279, 567))\n",
      "((522, 514), (611, 545))\n",
      "((0, 522), (133, 584))\n",
      "((250, 771), (461, 873))\n"
     ]
    },
    {
     "name": "stderr",
     "output_type": "stream",
     "text": [
      "\n",
      "\n",
      " 21%|██        | 495/2398 [21:42<1:18:56,  2.49s/it]\u001b[A\u001b[A"
     ]
    },
    {
     "name": "stdout",
     "output_type": "stream",
     "text": [
      "((924, 862), (981, 907))\n",
      "((963, 418), (1279, 568))\n",
      "((517, 514), (610, 545))\n",
      "((0, 522), (133, 584))\n",
      "((250, 772), (461, 865))\n"
     ]
    },
    {
     "name": "stderr",
     "output_type": "stream",
     "text": [
      "\n",
      "\n",
      " 21%|██        | 496/2398 [21:44<1:18:29,  2.48s/it]\u001b[A\u001b[A"
     ]
    },
    {
     "name": "stdout",
     "output_type": "stream",
     "text": [
      "((924, 862), (981, 907))\n",
      "((962, 418), (1279, 568))\n",
      "((517, 514), (609, 545))\n",
      "((0, 522), (133, 584))\n",
      "((250, 772), (461, 865))\n"
     ]
    },
    {
     "name": "stderr",
     "output_type": "stream",
     "text": [
      "\n",
      "\n",
      " 21%|██        | 497/2398 [21:47<1:19:01,  2.49s/it]\u001b[A\u001b[A"
     ]
    },
    {
     "name": "stdout",
     "output_type": "stream",
     "text": [
      "((1010, 842), (1073, 882))\n",
      "((924, 862), (981, 907))\n",
      "((962, 418), (1279, 568))\n",
      "((515, 514), (609, 546))\n",
      "((0, 522), (133, 584))\n",
      "((250, 772), (461, 865))\n"
     ]
    },
    {
     "name": "stderr",
     "output_type": "stream",
     "text": [
      "\n",
      "\n",
      " 21%|██        | 498/2398 [21:49<1:18:57,  2.49s/it]\u001b[A\u001b[A"
     ]
    },
    {
     "name": "stdout",
     "output_type": "stream",
     "text": [
      "((1010, 842), (1073, 883))\n",
      "((924, 862), (981, 907))\n",
      "((962, 418), (1279, 568))\n",
      "((515, 514), (609, 546))\n",
      "((0, 522), (133, 584))\n",
      "((250, 772), (461, 865))\n"
     ]
    },
    {
     "name": "stderr",
     "output_type": "stream",
     "text": [
      "\n",
      "\n",
      " 21%|██        | 499/2398 [21:52<1:19:00,  2.50s/it]\u001b[A\u001b[A"
     ]
    },
    {
     "name": "stdout",
     "output_type": "stream",
     "text": [
      "((924, 862), (981, 907))\n",
      "((962, 418), (1279, 569))\n",
      "((515, 514), (609, 546))\n",
      "((0, 522), (133, 583))\n",
      "((250, 772), (461, 865))\n"
     ]
    },
    {
     "name": "stderr",
     "output_type": "stream",
     "text": [
      "\n",
      "\n",
      " 21%|██        | 500/2398 [21:55<1:19:43,  2.52s/it]\u001b[A\u001b[A"
     ]
    },
    {
     "name": "stdout",
     "output_type": "stream",
     "text": [
      "((924, 862), (981, 907))\n",
      "((960, 418), (1279, 569))\n",
      "((516, 514), (605, 546))\n",
      "((0, 522), (133, 583))\n",
      "((250, 772), (461, 865))\n"
     ]
    },
    {
     "name": "stderr",
     "output_type": "stream",
     "text": [
      "\n",
      "\n",
      " 21%|██        | 501/2398 [21:57<1:21:31,  2.58s/it]\u001b[A\u001b[A"
     ]
    },
    {
     "name": "stdout",
     "output_type": "stream",
     "text": [
      "((924, 862), (981, 907))\n",
      "((900, 418), (1279, 569))\n",
      "((0, 522), (131, 583))\n",
      "((250, 772), (461, 873))\n"
     ]
    },
    {
     "name": "stderr",
     "output_type": "stream",
     "text": [
      "\n",
      "\n",
      " 21%|██        | 502/2398 [22:00<1:21:46,  2.59s/it]\u001b[A\u001b[A"
     ]
    },
    {
     "name": "stdout",
     "output_type": "stream",
     "text": [
      "((924, 862), (981, 907))\n",
      "((899, 418), (1279, 569))\n",
      "((0, 522), (130, 583))\n",
      "((250, 771), (461, 873))\n"
     ]
    },
    {
     "name": "stderr",
     "output_type": "stream",
     "text": [
      "\n",
      "\n",
      " 21%|██        | 503/2398 [22:02<1:21:16,  2.57s/it]\u001b[A\u001b[A"
     ]
    },
    {
     "name": "stdout",
     "output_type": "stream",
     "text": [
      "((1010, 842), (1073, 882))\n",
      "((924, 862), (981, 907))\n",
      "((898, 418), (1279, 570))\n",
      "((0, 522), (125, 582))\n",
      "((250, 771), (461, 873))\n",
      "((1010, 842), (1073, 883))\n"
     ]
    },
    {
     "name": "stderr",
     "output_type": "stream",
     "text": [
      "\n",
      "\n",
      " 21%|██        | 504/2398 [22:05<1:22:04,  2.60s/it]\u001b[A\u001b[A"
     ]
    },
    {
     "name": "stdout",
     "output_type": "stream",
     "text": [
      "((924, 862), (981, 907))\n",
      "((898, 419), (1279, 571))\n",
      "((0, 522), (124, 582))\n",
      "((250, 771), (461, 865))\n"
     ]
    },
    {
     "name": "stderr",
     "output_type": "stream",
     "text": [
      "\n",
      "\n",
      " 21%|██        | 505/2398 [22:08<1:22:04,  2.60s/it]\u001b[A\u001b[A"
     ]
    },
    {
     "name": "stdout",
     "output_type": "stream",
     "text": [
      "((1010, 842), (1073, 882))\n",
      "((924, 862), (981, 907))\n",
      "((898, 419), (1279, 571))\n",
      "((0, 522), (123, 582))\n",
      "((250, 771), (461, 865))\n"
     ]
    },
    {
     "name": "stderr",
     "output_type": "stream",
     "text": [
      "\n",
      "\n",
      " 21%|██        | 506/2398 [22:10<1:22:13,  2.61s/it]\u001b[A\u001b[A"
     ]
    },
    {
     "name": "stdout",
     "output_type": "stream",
     "text": [
      "((1010, 842), (1073, 882))\n",
      "((924, 862), (981, 907))\n",
      "((898, 419), (1279, 571))\n",
      "((0, 523), (123, 582))\n",
      "((250, 771), (461, 865))\n"
     ]
    },
    {
     "name": "stderr",
     "output_type": "stream",
     "text": [
      "\n",
      "\n",
      " 21%|██        | 507/2398 [22:13<1:22:27,  2.62s/it]\u001b[A\u001b[A"
     ]
    },
    {
     "name": "stdout",
     "output_type": "stream",
     "text": [
      "((1010, 842), (1073, 882))\n",
      "((924, 862), (981, 907))\n",
      "((898, 419), (1279, 572))\n",
      "((0, 523), (123, 583))\n",
      "((249, 771), (461, 864))\n"
     ]
    },
    {
     "name": "stderr",
     "output_type": "stream",
     "text": [
      "\n",
      "\n",
      " 21%|██        | 508/2398 [22:15<1:21:07,  2.58s/it]\u001b[A\u001b[A"
     ]
    },
    {
     "name": "stdout",
     "output_type": "stream",
     "text": [
      "((1010, 842), (1073, 883))\n",
      "((924, 862), (981, 907))\n",
      "((1074, 419), (1279, 572))\n",
      "((898, 481), (1071, 551))\n",
      "((0, 523), (121, 583))\n",
      "((249, 771), (461, 865))\n"
     ]
    },
    {
     "name": "stderr",
     "output_type": "stream",
     "text": [
      "\n",
      "\n",
      " 21%|██        | 509/2398 [22:18<1:20:43,  2.56s/it]\u001b[A\u001b[A"
     ]
    },
    {
     "name": "stdout",
     "output_type": "stream",
     "text": [
      "((1010, 842), (1071, 883))\n",
      "((924, 862), (981, 907))\n",
      "((1075, 418), (1279, 573))\n",
      "((898, 481), (1069, 551))\n",
      "((662, 516), (737, 550))\n",
      "((0, 523), (119, 583))\n",
      "((250, 771), (461, 865))\n"
     ]
    },
    {
     "name": "stderr",
     "output_type": "stream",
     "text": [
      "\n",
      "\n",
      " 21%|██▏       | 510/2398 [22:20<1:20:53,  2.57s/it]\u001b[A\u001b[A"
     ]
    },
    {
     "name": "stdout",
     "output_type": "stream",
     "text": [
      "((1002, 842), (1070, 883))\n",
      "((924, 862), (983, 907))\n",
      "((1075, 418), (1279, 575))\n",
      "((895, 481), (1069, 551))\n",
      "((0, 523), (117, 583))\n",
      "((250, 771), (461, 865))\n"
     ]
    },
    {
     "name": "stderr",
     "output_type": "stream",
     "text": [
      "\n",
      "\n",
      " 21%|██▏       | 511/2398 [22:23<1:20:03,  2.55s/it]\u001b[A\u001b[A"
     ]
    },
    {
     "name": "stdout",
     "output_type": "stream",
     "text": [
      "((1002, 842), (1069, 884))\n",
      "((924, 862), (983, 907))\n",
      "((1075, 418), (1279, 575))\n",
      "((882, 481), (1069, 551))\n",
      "((657, 516), (737, 551))\n",
      "((0, 524), (116, 583))\n",
      "((250, 771), (461, 865))\n"
     ]
    },
    {
     "name": "stderr",
     "output_type": "stream",
     "text": [
      "\n",
      "\n",
      " 21%|██▏       | 512/2398 [22:26<1:19:45,  2.54s/it]\u001b[A\u001b[A"
     ]
    },
    {
     "name": "stdout",
     "output_type": "stream",
     "text": [
      "((1002, 842), (1069, 884))\n",
      "((924, 862), (983, 907))\n",
      "((1075, 418), (1279, 575))\n",
      "((882, 481), (1069, 551))\n",
      "((654, 515), (738, 552))\n",
      "((0, 524), (116, 583))\n",
      "((250, 771), (461, 864))\n"
     ]
    },
    {
     "name": "stderr",
     "output_type": "stream",
     "text": [
      "\n",
      "\n",
      " 21%|██▏       | 513/2398 [22:28<1:20:20,  2.56s/it]\u001b[A\u001b[A"
     ]
    },
    {
     "name": "stdout",
     "output_type": "stream",
     "text": [
      "((1002, 841), (1069, 884))\n",
      "((924, 862), (983, 907))\n",
      "((1075, 418), (1279, 575))\n",
      "((882, 481), (1069, 551))\n",
      "((652, 515), (737, 552))\n",
      "((382, 517), (463, 548))\n",
      "((0, 524), (115, 583))\n",
      "((245, 771), (461, 865))\n"
     ]
    },
    {
     "name": "stderr",
     "output_type": "stream",
     "text": [
      "\n",
      "\n",
      " 21%|██▏       | 514/2398 [22:31<1:20:43,  2.57s/it]\u001b[A\u001b[A"
     ]
    },
    {
     "name": "stdout",
     "output_type": "stream",
     "text": [
      "((1002, 841), (1067, 885))\n",
      "((924, 862), (981, 907))\n",
      "((1075, 418), (1279, 575))\n",
      "((882, 481), (1069, 551))\n",
      "((651, 515), (736, 552))\n",
      "((382, 517), (463, 548))\n",
      "((0, 524), (115, 583))\n",
      "((245, 771), (461, 865))\n",
      "((1002, 839), (1067, 885))\n"
     ]
    },
    {
     "name": "stderr",
     "output_type": "stream",
     "text": [
      "\n",
      "\n",
      " 21%|██▏       | 515/2398 [22:33<1:20:08,  2.55s/it]\u001b[A\u001b[A"
     ]
    },
    {
     "name": "stdout",
     "output_type": "stream",
     "text": [
      "((924, 862), (981, 906))\n",
      "((1073, 418), (1279, 575))\n",
      "((882, 481), (1069, 551))\n",
      "((650, 515), (735, 552))\n",
      "((378, 517), (463, 548))\n",
      "((0, 525), (115, 581))\n",
      "((250, 771), (461, 865))\n"
     ]
    },
    {
     "name": "stderr",
     "output_type": "stream",
     "text": [
      "\n",
      "\n",
      " 22%|██▏       | 516/2398 [22:36<1:20:37,  2.57s/it]\u001b[A\u001b[A"
     ]
    },
    {
     "name": "stdout",
     "output_type": "stream",
     "text": [
      "((998, 839), (1067, 885))\n",
      "((924, 862), (982, 906))\n",
      "((1072, 418), (1279, 575))\n",
      "((882, 482), (1069, 551))\n",
      "((650, 515), (735, 552))\n",
      "((375, 517), (463, 548))\n",
      "((1, 525), (105, 580))\n",
      "((250, 771), (461, 865))\n"
     ]
    },
    {
     "name": "stderr",
     "output_type": "stream",
     "text": [
      "\n",
      "\n",
      " 22%|██▏       | 517/2398 [22:38<1:20:14,  2.56s/it]\u001b[A\u001b[A"
     ]
    },
    {
     "name": "stdout",
     "output_type": "stream",
     "text": [
      "((997, 839), (1067, 885))\n",
      "((924, 862), (982, 906))\n",
      "((1071, 418), (1279, 575))\n",
      "((882, 482), (1069, 551))\n",
      "((647, 515), (734, 552))\n",
      "((374, 517), (464, 548))\n",
      "((1, 526), (101, 580))\n",
      "((250, 772), (461, 865))\n"
     ]
    },
    {
     "name": "stderr",
     "output_type": "stream",
     "text": [
      "\n",
      "\n",
      " 22%|██▏       | 518/2398 [22:41<1:21:16,  2.59s/it]\u001b[A\u001b[A"
     ]
    },
    {
     "name": "stdout",
     "output_type": "stream",
     "text": [
      "((997, 836), (1067, 885))\n",
      "((924, 862), (982, 906))\n",
      "((1068, 418), (1279, 575))\n",
      "((882, 482), (1069, 552))\n",
      "((646, 515), (735, 553))\n",
      "((372, 517), (464, 549))\n",
      "((1, 526), (97, 579))\n",
      "((138, 566), (233, 600))\n",
      "((249, 772), (461, 865))\n",
      "((995, 835), (1067, 885))\n"
     ]
    },
    {
     "name": "stderr",
     "output_type": "stream",
     "text": [
      "\n",
      "\n",
      " 22%|██▏       | 519/2398 [22:44<1:21:08,  2.59s/it]\u001b[A\u001b[A"
     ]
    },
    {
     "name": "stdout",
     "output_type": "stream",
     "text": [
      "((924, 862), (982, 906))\n",
      "((882, 418), (1279, 575))\n",
      "((644, 515), (735, 553))\n",
      "((372, 517), (529, 549))\n",
      "((2, 526), (96, 578))\n",
      "((141, 565), (229, 600))\n",
      "((243, 772), (413, 866))\n",
      "((995, 835), (1067, 885))\n"
     ]
    },
    {
     "name": "stderr",
     "output_type": "stream",
     "text": [
      "\n",
      "\n",
      " 22%|██▏       | 520/2398 [22:46<1:20:31,  2.57s/it]\u001b[A\u001b[A"
     ]
    },
    {
     "name": "stdout",
     "output_type": "stream",
     "text": [
      "((924, 862), (981, 906))\n",
      "((881, 418), (1279, 575))\n",
      "((643, 515), (732, 553))\n",
      "((370, 517), (532, 549))\n",
      "((3, 527), (93, 577))\n",
      "((141, 564), (231, 600))\n",
      "((243, 773), (413, 868))\n"
     ]
    },
    {
     "name": "stderr",
     "output_type": "stream",
     "text": [
      "\n",
      "\n",
      " 22%|██▏       | 521/2398 [22:49<1:20:08,  2.56s/it]\u001b[A\u001b[A"
     ]
    },
    {
     "name": "stdout",
     "output_type": "stream",
     "text": [
      "((995, 834), (1067, 892))\n",
      "((924, 862), (981, 906))\n",
      "((829, 418), (1279, 575))\n",
      "((642, 515), (729, 553))\n",
      "((370, 516), (532, 549))\n",
      "((3, 527), (93, 577))\n",
      "((137, 561), (228, 600))\n",
      "((243, 773), (413, 869))\n"
     ]
    },
    {
     "name": "stderr",
     "output_type": "stream",
     "text": [
      "\n",
      "\n",
      " 22%|██▏       | 522/2398 [22:51<1:20:12,  2.57s/it]\u001b[A\u001b[A"
     ]
    },
    {
     "name": "stdout",
     "output_type": "stream",
     "text": [
      "((994, 834), (1067, 893))\n",
      "((924, 862), (981, 906))\n",
      "((828, 418), (1279, 575))\n",
      "((638, 515), (724, 553))\n",
      "((370, 516), (529, 549))\n",
      "((4, 528), (90, 576))\n",
      "((138, 560), (228, 600))\n",
      "((242, 773), (413, 869))\n",
      "((994, 834), (1067, 893))\n",
      "((924, 862), (981, 906))\n"
     ]
    },
    {
     "name": "stderr",
     "output_type": "stream",
     "text": [
      "\n",
      "\n",
      " 22%|██▏       | 523/2398 [22:54<1:18:36,  2.52s/it]\u001b[A\u001b[A"
     ]
    },
    {
     "name": "stdout",
     "output_type": "stream",
     "text": [
      "((826, 418), (1279, 575))\n",
      "((638, 515), (724, 553))\n",
      "((366, 516), (529, 549))\n",
      "((146, 560), (225, 600))\n",
      "((242, 773), (413, 869))\n"
     ]
    },
    {
     "name": "stderr",
     "output_type": "stream",
     "text": [
      "\n",
      "\n",
      " 22%|██▏       | 524/2398 [22:56<1:18:40,  2.52s/it]\u001b[A\u001b[A"
     ]
    },
    {
     "name": "stdout",
     "output_type": "stream",
     "text": [
      "((994, 834), (1067, 893))\n",
      "((924, 862), (981, 906))\n",
      "((825, 418), (1279, 575))\n",
      "((637, 515), (724, 553))\n",
      "((366, 516), (529, 549))\n",
      "((146, 560), (225, 600))\n",
      "((242, 773), (413, 869))\n",
      "((994, 834), (1067, 893))\n",
      "((924, 862), (981, 906))\n"
     ]
    },
    {
     "name": "stderr",
     "output_type": "stream",
     "text": [
      "\n",
      "\n",
      " 22%|██▏       | 525/2398 [22:59<1:18:06,  2.50s/it]\u001b[A\u001b[A"
     ]
    },
    {
     "name": "stdout",
     "output_type": "stream",
     "text": [
      "((825, 419), (1279, 575))\n",
      "((637, 515), (723, 553))\n",
      "((366, 516), (525, 549))\n",
      "((146, 561), (221, 600))\n",
      "((242, 773), (413, 869))\n",
      "((994, 834), (1067, 893))\n"
     ]
    },
    {
     "name": "stderr",
     "output_type": "stream",
     "text": [
      "\n",
      "\n",
      " 22%|██▏       | 526/2398 [23:01<1:17:51,  2.50s/it]\u001b[A\u001b[A"
     ]
    },
    {
     "name": "stdout",
     "output_type": "stream",
     "text": [
      "((823, 419), (1279, 575))\n",
      "((366, 516), (529, 549))\n",
      "((634, 516), (723, 553))\n",
      "((146, 561), (221, 600))\n",
      "((242, 773), (413, 869))\n"
     ]
    },
    {
     "name": "stderr",
     "output_type": "stream",
     "text": [
      "\n",
      "\n",
      " 22%|██▏       | 527/2398 [23:04<1:18:01,  2.50s/it]\u001b[A\u001b[A"
     ]
    },
    {
     "name": "stdout",
     "output_type": "stream",
     "text": [
      "((994, 831), (1067, 893))\n",
      "((845, 419), (1279, 575))\n",
      "((365, 516), (525, 549))\n",
      "((634, 516), (723, 553))\n",
      "((146, 561), (221, 600))\n",
      "((242, 773), (461, 869))\n"
     ]
    },
    {
     "name": "stderr",
     "output_type": "stream",
     "text": [
      "\n",
      "\n",
      " 22%|██▏       | 528/2398 [23:06<1:18:25,  2.52s/it]\u001b[A\u001b[A"
     ]
    },
    {
     "name": "stdout",
     "output_type": "stream",
     "text": [
      "((994, 830), (1067, 893))\n",
      "((845, 419), (1279, 575))\n",
      "((362, 516), (525, 549))\n",
      "((633, 516), (722, 553))\n",
      "((146, 561), (221, 600))\n",
      "((242, 773), (461, 869))\n",
      "((994, 830), (1068, 909))\n"
     ]
    },
    {
     "name": "stderr",
     "output_type": "stream",
     "text": [
      "\n",
      "\n",
      " 22%|██▏       | 529/2398 [23:09<1:18:12,  2.51s/it]\u001b[A\u001b[A"
     ]
    },
    {
     "name": "stdout",
     "output_type": "stream",
     "text": [
      "((845, 419), (1279, 575))\n",
      "((362, 516), (525, 548))\n",
      "((629, 516), (722, 553))\n",
      "((146, 560), (221, 601))\n",
      "((242, 773), (461, 869))\n",
      "((994, 830), (1068, 909))\n"
     ]
    },
    {
     "name": "stderr",
     "output_type": "stream",
     "text": [
      "\n",
      "\n",
      " 22%|██▏       | 530/2398 [23:11<1:17:51,  2.50s/it]\u001b[A\u001b[A"
     ]
    },
    {
     "name": "stdout",
     "output_type": "stream",
     "text": [
      "((842, 419), (1279, 575))\n",
      "((360, 516), (525, 549))\n",
      "((628, 516), (723, 553))\n",
      "((122, 560), (221, 601))\n",
      "((241, 773), (461, 869))\n",
      "((994, 830), (1068, 909))\n"
     ]
    },
    {
     "name": "stderr",
     "output_type": "stream",
     "text": [
      "\n",
      "\n",
      " 22%|██▏       | 531/2398 [23:14<1:17:56,  2.50s/it]\u001b[A\u001b[A"
     ]
    },
    {
     "name": "stdout",
     "output_type": "stream",
     "text": [
      "((306, 864), (372, 902))\n",
      "((845, 419), (1279, 575))\n",
      "((628, 516), (724, 553))\n",
      "((360, 517), (525, 549))\n",
      "((126, 560), (221, 601))\n",
      "((241, 773), (461, 902))\n"
     ]
    },
    {
     "name": "stderr",
     "output_type": "stream",
     "text": [
      "\n",
      "\n",
      " 22%|██▏       | 532/2398 [23:16<1:18:50,  2.54s/it]\u001b[A\u001b[A"
     ]
    },
    {
     "name": "stdout",
     "output_type": "stream",
     "text": [
      "((994, 830), (1069, 909))\n",
      "((850, 419), (1279, 575))\n",
      "((628, 516), (724, 553))\n",
      "((356, 517), (525, 549))\n",
      "((99, 560), (221, 601))\n",
      "((241, 774), (461, 903))\n"
     ]
    },
    {
     "name": "stderr",
     "output_type": "stream",
     "text": [
      "\n",
      "\n",
      " 22%|██▏       | 533/2398 [23:19<1:19:01,  2.54s/it]\u001b[A\u001b[A"
     ]
    },
    {
     "name": "stdout",
     "output_type": "stream",
     "text": [
      "((994, 830), (1069, 909))\n",
      "((849, 419), (1279, 575))\n",
      "((627, 516), (724, 553))\n",
      "((355, 517), (525, 549))\n",
      "((98, 560), (221, 602))\n",
      "((210, 774), (461, 869))\n",
      "((994, 830), (1069, 909))\n"
     ]
    },
    {
     "name": "stderr",
     "output_type": "stream",
     "text": [
      "\n",
      "\n",
      " 22%|██▏       | 534/2398 [23:21<1:18:13,  2.52s/it]\u001b[A\u001b[A"
     ]
    },
    {
     "name": "stdout",
     "output_type": "stream",
     "text": [
      "((306, 864), (373, 902))\n",
      "((846, 419), (1279, 575))\n",
      "((627, 515), (723, 554))\n",
      "((355, 517), (525, 549))\n",
      "((97, 560), (221, 603))\n",
      "((210, 774), (461, 869))\n"
     ]
    },
    {
     "name": "stderr",
     "output_type": "stream",
     "text": [
      "\n",
      "\n",
      " 22%|██▏       | 535/2398 [23:24<1:18:09,  2.52s/it]\u001b[A\u001b[A"
     ]
    },
    {
     "name": "stdout",
     "output_type": "stream",
     "text": [
      "((994, 829), (1069, 909))\n",
      "((844, 420), (1279, 576))\n",
      "((627, 515), (721, 554))\n",
      "((355, 517), (525, 549))\n",
      "((82, 560), (221, 603))\n",
      "((210, 775), (461, 869))\n",
      "((994, 828), (1069, 909))\n"
     ]
    },
    {
     "name": "stderr",
     "output_type": "stream",
     "text": [
      "\n",
      "\n",
      " 22%|██▏       | 536/2398 [23:26<1:17:12,  2.49s/it]\u001b[A\u001b[A"
     ]
    },
    {
     "name": "stdout",
     "output_type": "stream",
     "text": [
      "((842, 420), (1279, 576))\n",
      "((627, 515), (721, 554))\n",
      "((354, 517), (517, 549))\n",
      "((82, 560), (221, 604))\n",
      "((210, 775), (461, 903))\n"
     ]
    },
    {
     "name": "stderr",
     "output_type": "stream",
     "text": [
      "\n",
      "\n",
      " 22%|██▏       | 537/2398 [23:29<1:16:56,  2.48s/it]\u001b[A\u001b[A"
     ]
    },
    {
     "name": "stdout",
     "output_type": "stream",
     "text": [
      "((994, 828), (1069, 909))\n",
      "((842, 420), (1279, 576))\n",
      "((627, 515), (721, 554))\n",
      "((354, 517), (513, 551))\n",
      "((82, 562), (221, 604))\n",
      "((207, 775), (461, 869))\n"
     ]
    },
    {
     "name": "stderr",
     "output_type": "stream",
     "text": [
      "\n",
      "\n",
      " 22%|██▏       | 538/2398 [23:31<1:17:29,  2.50s/it]\u001b[A\u001b[A"
     ]
    },
    {
     "name": "stdout",
     "output_type": "stream",
     "text": [
      "((992, 828), (1069, 909))\n",
      "((810, 420), (1279, 576))\n",
      "((626, 515), (721, 554))\n",
      "((349, 517), (509, 551))\n",
      "((82, 562), (221, 605))\n",
      "((207, 775), (461, 869))\n",
      "((991, 828), (1069, 909))\n"
     ]
    },
    {
     "name": "stderr",
     "output_type": "stream",
     "text": [
      "\n",
      "\n",
      " 22%|██▏       | 539/2398 [23:34<1:18:11,  2.52s/it]\u001b[A\u001b[A"
     ]
    },
    {
     "name": "stdout",
     "output_type": "stream",
     "text": [
      "((807, 420), (1279, 576))\n",
      "((626, 515), (721, 554))\n",
      "((342, 517), (509, 551))\n",
      "((82, 562), (218, 604))\n",
      "((193, 776), (461, 869))\n",
      "((991, 827), (1069, 909))\n"
     ]
    },
    {
     "name": "stderr",
     "output_type": "stream",
     "text": [
      "\n",
      "\n",
      " 23%|██▎       | 540/2398 [23:36<1:19:00,  2.55s/it]\u001b[A\u001b[A"
     ]
    },
    {
     "name": "stdout",
     "output_type": "stream",
     "text": [
      "((806, 420), (1279, 576))\n",
      "((622, 515), (711, 554))\n",
      "((338, 517), (509, 551))\n",
      "((82, 562), (217, 604))\n",
      "((193, 777), (461, 869))\n",
      "((991, 827), (1068, 909))\n"
     ]
    },
    {
     "name": "stderr",
     "output_type": "stream",
     "text": [
      "\n",
      "\n",
      " 23%|██▎       | 541/2398 [23:39<1:17:59,  2.52s/it]\u001b[A\u001b[A"
     ]
    },
    {
     "name": "stdout",
     "output_type": "stream",
     "text": [
      "((805, 420), (1279, 576))\n",
      "((621, 515), (709, 554))\n",
      "((338, 517), (509, 551))\n",
      "((82, 562), (212, 604))\n",
      "((190, 777), (390, 869))\n",
      "((991, 828), (1068, 909))\n"
     ]
    },
    {
     "name": "stderr",
     "output_type": "stream",
     "text": [
      "\n",
      "\n",
      " 23%|██▎       | 542/2398 [23:41<1:17:14,  2.50s/it]\u001b[A\u001b[A"
     ]
    },
    {
     "name": "stdout",
     "output_type": "stream",
     "text": [
      "((804, 420), (1279, 577))\n",
      "((619, 515), (711, 555))\n",
      "((336, 517), (509, 551))\n",
      "((82, 562), (209, 604))\n",
      "((190, 778), (389, 869))\n",
      "((992, 828), (1068, 909))\n"
     ]
    },
    {
     "name": "stderr",
     "output_type": "stream",
     "text": [
      "\n",
      "\n",
      " 23%|██▎       | 543/2398 [23:44<1:17:13,  2.50s/it]\u001b[A\u001b[A"
     ]
    },
    {
     "name": "stdout",
     "output_type": "stream",
     "text": [
      "((804, 421), (1279, 577))\n",
      "((618, 515), (711, 555))\n",
      "((336, 517), (509, 551))\n",
      "((82, 562), (209, 603))\n",
      "((190, 780), (365, 869))\n",
      "((992, 828), (1069, 909))\n"
     ]
    },
    {
     "name": "stderr",
     "output_type": "stream",
     "text": [
      "\n",
      "\n",
      " 23%|██▎       | 544/2398 [23:46<1:17:10,  2.50s/it]\u001b[A\u001b[A"
     ]
    },
    {
     "name": "stdout",
     "output_type": "stream",
     "text": [
      "((804, 421), (1279, 577))\n",
      "((613, 515), (709, 555))\n",
      "((338, 517), (509, 551))\n",
      "((82, 562), (205, 603))\n",
      "((189, 780), (365, 869))\n"
     ]
    },
    {
     "name": "stderr",
     "output_type": "stream",
     "text": [
      "\n",
      "\n",
      " 23%|██▎       | 545/2398 [23:49<1:17:18,  2.50s/it]\u001b[A\u001b[A"
     ]
    },
    {
     "name": "stdout",
     "output_type": "stream",
     "text": [
      "((992, 828), (1069, 909))\n",
      "((826, 421), (1279, 577))\n",
      "((613, 516), (709, 555))\n",
      "((338, 517), (509, 551))\n",
      "((82, 562), (205, 604))\n",
      "((189, 780), (365, 869))\n"
     ]
    },
    {
     "name": "stderr",
     "output_type": "stream",
     "text": [
      "\n",
      "\n",
      " 23%|██▎       | 546/2398 [23:52<1:18:34,  2.55s/it]\u001b[A\u001b[A"
     ]
    },
    {
     "name": "stdout",
     "output_type": "stream",
     "text": [
      "((992, 828), (1069, 909))\n",
      "((826, 421), (1279, 577))\n",
      "((613, 516), (709, 554))\n",
      "((338, 517), (509, 551))\n",
      "((82, 562), (205, 604))\n",
      "((189, 779), (365, 869))\n",
      "((992, 828), (1069, 909))\n"
     ]
    },
    {
     "name": "stderr",
     "output_type": "stream",
     "text": [
      "\n",
      "\n",
      " 23%|██▎       | 547/2398 [23:54<1:21:31,  2.64s/it]\u001b[A\u001b[A"
     ]
    },
    {
     "name": "stdout",
     "output_type": "stream",
     "text": [
      "((827, 421), (1279, 577))\n",
      "((638, 516), (708, 554))\n",
      "((338, 517), (509, 551))\n",
      "((81, 562), (205, 604))\n",
      "((242, 780), (373, 902))\n"
     ]
    },
    {
     "name": "stderr",
     "output_type": "stream",
     "text": [
      "\n",
      "\n",
      " 23%|██▎       | 548/2398 [23:57<1:21:17,  2.64s/it]\u001b[A\u001b[A"
     ]
    },
    {
     "name": "stdout",
     "output_type": "stream",
     "text": [
      "((991, 829), (1068, 909))\n",
      "((826, 421), (1279, 577))\n",
      "((338, 518), (508, 551))\n",
      "((70, 562), (205, 604))\n",
      "((181, 780), (374, 903))\n"
     ]
    },
    {
     "name": "stderr",
     "output_type": "stream",
     "text": [
      "\n",
      "\n",
      " 23%|██▎       | 549/2398 [24:00<1:22:02,  2.66s/it]\u001b[A\u001b[A"
     ]
    },
    {
     "name": "stdout",
     "output_type": "stream",
     "text": [
      "((991, 829), (1068, 909))\n",
      "((924, 862), (981, 906))\n",
      "((826, 421), (1279, 577))\n",
      "((338, 518), (508, 551))\n",
      "((69, 562), (205, 605))\n",
      "((181, 780), (375, 908))\n"
     ]
    },
    {
     "name": "stderr",
     "output_type": "stream",
     "text": [
      "\n",
      "\n",
      " 23%|██▎       | 550/2398 [24:02<1:21:38,  2.65s/it]\u001b[A\u001b[A"
     ]
    },
    {
     "name": "stdout",
     "output_type": "stream",
     "text": [
      "((991, 829), (1068, 909))\n",
      "((924, 862), (981, 906))\n",
      "((825, 421), (1279, 576))\n",
      "((411, 518), (499, 548))\n",
      "((69, 562), (205, 605))\n",
      "((181, 780), (375, 908))\n"
     ]
    },
    {
     "name": "stderr",
     "output_type": "stream",
     "text": [
      "\n",
      "\n",
      " 23%|██▎       | 551/2398 [24:05<1:21:44,  2.66s/it]\u001b[A\u001b[A"
     ]
    },
    {
     "name": "stdout",
     "output_type": "stream",
     "text": [
      "((991, 829), (1069, 909))\n",
      "((924, 862), (981, 906))\n",
      "((822, 422), (1279, 576))\n",
      "((411, 518), (498, 548))\n",
      "((67, 562), (195, 605))\n",
      "((181, 781), (375, 908))\n",
      "((991, 829), (1069, 909))\n"
     ]
    },
    {
     "name": "stderr",
     "output_type": "stream",
     "text": [
      "\n",
      "\n",
      " 23%|██▎       | 552/2398 [24:07<1:20:08,  2.60s/it]\u001b[A\u001b[A"
     ]
    },
    {
     "name": "stdout",
     "output_type": "stream",
     "text": [
      "((924, 862), (982, 906))\n",
      "((822, 422), (1279, 576))\n",
      "((411, 518), (497, 548))\n",
      "((66, 562), (189, 606))\n",
      "((181, 781), (375, 908))\n"
     ]
    },
    {
     "name": "stderr",
     "output_type": "stream",
     "text": [
      "\n",
      "\n",
      " 23%|██▎       | 553/2398 [24:10<1:18:39,  2.56s/it]\u001b[A\u001b[A"
     ]
    },
    {
     "name": "stdout",
     "output_type": "stream",
     "text": [
      "((991, 828), (1069, 909))\n",
      "((924, 862), (981, 906))\n",
      "((818, 422), (1279, 577))\n",
      "((411, 518), (493, 550))\n",
      "((66, 562), (165, 606))\n",
      "((242, 781), (375, 908))\n"
     ]
    },
    {
     "name": "stderr",
     "output_type": "stream",
     "text": [
      "\n",
      "\n",
      " 23%|██▎       | 554/2398 [24:13<1:20:09,  2.61s/it]\u001b[A\u001b[A"
     ]
    },
    {
     "name": "stdout",
     "output_type": "stream",
     "text": [
      "((991, 829), (1069, 909))\n",
      "((924, 862), (981, 906))\n",
      "((816, 422), (1279, 577))\n",
      "((411, 518), (493, 551))\n",
      "((62, 562), (165, 606))\n",
      "((253, 781), (375, 908))\n"
     ]
    },
    {
     "name": "stderr",
     "output_type": "stream",
     "text": [
      "\n",
      "\n",
      " 23%|██▎       | 555/2398 [24:15<1:20:29,  2.62s/it]\u001b[A\u001b[A"
     ]
    },
    {
     "name": "stdout",
     "output_type": "stream",
     "text": [
      "((992, 828), (1069, 909))\n",
      "((924, 862), (981, 906))\n",
      "((814, 422), (1279, 577))\n",
      "((411, 518), (493, 550))\n",
      "((60, 562), (161, 605))\n",
      "((255, 781), (359, 865))\n"
     ]
    },
    {
     "name": "stderr",
     "output_type": "stream",
     "text": [
      "\n",
      "\n",
      " 23%|██▎       | 556/2398 [24:18<1:20:27,  2.62s/it]\u001b[A\u001b[A"
     ]
    },
    {
     "name": "stdout",
     "output_type": "stream",
     "text": [
      "((994, 828), (1069, 909))\n",
      "((924, 862), (981, 906))\n",
      "((813, 422), (1279, 577))\n",
      "((406, 518), (493, 548))\n",
      "((56, 562), (157, 605))\n",
      "((259, 782), (357, 865))\n"
     ]
    },
    {
     "name": "stderr",
     "output_type": "stream",
     "text": [
      "\n",
      "\n",
      " 23%|██▎       | 557/2398 [24:20<1:19:22,  2.59s/it]\u001b[A\u001b[A"
     ]
    },
    {
     "name": "stdout",
     "output_type": "stream",
     "text": [
      "((994, 829), (1069, 909))\n",
      "((812, 422), (1279, 578))\n",
      "((402, 518), (493, 548))\n",
      "((51, 563), (157, 605))\n"
     ]
    },
    {
     "name": "stderr",
     "output_type": "stream",
     "text": [
      "\n",
      "\n",
      " 23%|██▎       | 558/2398 [24:23<1:19:44,  2.60s/it]\u001b[A\u001b[A"
     ]
    },
    {
     "name": "stdout",
     "output_type": "stream",
     "text": [
      "((259, 783), (357, 865))\n",
      "((994, 829), (1069, 909))\n",
      "((812, 422), (1279, 578))\n",
      "((401, 518), (493, 549))\n",
      "((50, 564), (157, 605))\n",
      "((259, 782), (357, 865))\n"
     ]
    },
    {
     "name": "stderr",
     "output_type": "stream",
     "text": [
      "\n",
      "\n",
      " 23%|██▎       | 559/2398 [24:26<1:19:02,  2.58s/it]\u001b[A\u001b[A"
     ]
    },
    {
     "name": "stdout",
     "output_type": "stream",
     "text": [
      "((994, 829), (1069, 909))\n",
      "((811, 422), (1279, 578))\n",
      "((397, 518), (493, 549))\n",
      "((50, 564), (157, 605))\n",
      "((259, 802), (357, 865))\n"
     ]
    },
    {
     "name": "stderr",
     "output_type": "stream",
     "text": [
      "\n",
      "\n",
      " 23%|██▎       | 560/2398 [24:28<1:19:17,  2.59s/it]\u001b[A\u001b[A"
     ]
    },
    {
     "name": "stdout",
     "output_type": "stream",
     "text": [
      "((994, 829), (1069, 909))\n",
      "((810, 422), (1279, 578))\n",
      "((394, 518), (492, 549))\n",
      "((50, 564), (157, 606))\n",
      "((259, 802), (357, 865))\n"
     ]
    },
    {
     "name": "stderr",
     "output_type": "stream",
     "text": [
      "\n",
      "\n",
      " 23%|██▎       | 561/2398 [24:31<1:19:37,  2.60s/it]\u001b[A\u001b[A"
     ]
    },
    {
     "name": "stdout",
     "output_type": "stream",
     "text": [
      "((994, 829), (1069, 909))\n",
      "((810, 422), (1279, 577))\n",
      "((397, 518), (487, 547))\n",
      "((13, 564), (154, 606))\n"
     ]
    },
    {
     "name": "stderr",
     "output_type": "stream",
     "text": [
      "\n",
      "\n",
      " 23%|██▎       | 562/2398 [24:34<1:20:35,  2.63s/it]\u001b[A\u001b[A"
     ]
    },
    {
     "name": "stdout",
     "output_type": "stream",
     "text": [
      "((260, 810), (357, 865))\n",
      "((994, 829), (1069, 909))\n",
      "((808, 422), (1279, 577))\n",
      "((5, 564), (154, 606))\n"
     ]
    },
    {
     "name": "stderr",
     "output_type": "stream",
     "text": [
      "\n",
      "\n",
      " 23%|██▎       | 563/2398 [24:36<1:20:54,  2.65s/it]\u001b[A\u001b[A"
     ]
    },
    {
     "name": "stdout",
     "output_type": "stream",
     "text": [
      "((261, 810), (357, 865))\n",
      "((994, 829), (1069, 909))\n",
      "((807, 422), (1279, 577))\n",
      "((644, 516), (733, 552))\n",
      "((5, 564), (157, 605))\n",
      "((261, 818), (357, 865))\n"
     ]
    },
    {
     "name": "stderr",
     "output_type": "stream",
     "text": [
      "\n",
      "\n",
      " 24%|██▎       | 564/2398 [24:39<1:19:43,  2.61s/it]\u001b[A\u001b[A"
     ]
    },
    {
     "name": "stdout",
     "output_type": "stream",
     "text": [
      "((994, 829), (1069, 909))\n",
      "((805, 422), (1279, 577))\n",
      "((29, 564), (157, 605))\n"
     ]
    },
    {
     "name": "stderr",
     "output_type": "stream",
     "text": [
      "\n",
      "\n",
      " 24%|██▎       | 565/2398 [24:41<1:19:28,  2.60s/it]\u001b[A\u001b[A"
     ]
    },
    {
     "name": "stdout",
     "output_type": "stream",
     "text": [
      "((261, 818), (357, 865))\n",
      "((994, 829), (1069, 909))\n",
      "((798, 422), (1279, 577))\n",
      "((29, 564), (149, 605))\n"
     ]
    },
    {
     "name": "stderr",
     "output_type": "stream",
     "text": [
      "\n",
      "\n",
      " 24%|██▎       | 566/2398 [24:44<1:19:53,  2.62s/it]\u001b[A\u001b[A"
     ]
    },
    {
     "name": "stdout",
     "output_type": "stream",
     "text": [
      "((261, 818), (357, 865))\n",
      "((994, 829), (1069, 909))\n",
      "((924, 862), (981, 906))\n",
      "((797, 422), (1279, 577))\n",
      "((389, 518), (477, 547))\n",
      "((30, 564), (147, 605))\n",
      "((262, 818), (357, 865))\n"
     ]
    },
    {
     "name": "stderr",
     "output_type": "stream",
     "text": [
      "\n",
      "\n",
      " 24%|██▎       | 567/2398 [24:47<1:19:12,  2.60s/it]\u001b[A\u001b[A"
     ]
    },
    {
     "name": "stdout",
     "output_type": "stream",
     "text": [
      "((994, 829), (1069, 909))\n",
      "((924, 862), (981, 906))\n",
      "((797, 422), (1279, 578))\n",
      "((30, 563), (147, 605))\n"
     ]
    },
    {
     "name": "stderr",
     "output_type": "stream",
     "text": [
      "\n",
      "\n",
      " 24%|██▎       | 568/2398 [24:49<1:18:14,  2.57s/it]\u001b[A\u001b[A"
     ]
    },
    {
     "name": "stdout",
     "output_type": "stream",
     "text": [
      "((262, 818), (357, 865))\n",
      "((994, 829), (1069, 909))\n",
      "((924, 862), (981, 906))\n",
      "((794, 422), (1279, 578))\n",
      "((30, 563), (147, 605))\n"
     ]
    },
    {
     "name": "stderr",
     "output_type": "stream",
     "text": [
      "\n",
      "\n",
      " 24%|██▎       | 569/2398 [24:52<1:18:10,  2.56s/it]\u001b[A\u001b[A"
     ]
    },
    {
     "name": "stdout",
     "output_type": "stream",
     "text": [
      "((262, 818), (357, 865))\n",
      "((993, 828), (1069, 909))\n",
      "((924, 862), (981, 906))\n",
      "((794, 422), (1279, 578))\n",
      "((307, 518), (477, 552))\n",
      "((30, 563), (147, 605))\n",
      "((538, 771), (620, 845))\n",
      "((262, 818), (360, 865))\n",
      "((992, 828), (1069, 909))\n",
      "((924, 862), (983, 906))\n"
     ]
    },
    {
     "name": "stderr",
     "output_type": "stream",
     "text": [
      "\n",
      "\n",
      " 24%|██▍       | 570/2398 [24:54<1:20:25,  2.64s/it]\u001b[A\u001b[A"
     ]
    },
    {
     "name": "stdout",
     "output_type": "stream",
     "text": [
      "((794, 422), (1279, 578))\n",
      "((306, 518), (477, 552))\n",
      "((30, 562), (147, 605))\n",
      "((534, 770), (628, 847))\n",
      "((262, 818), (369, 865))\n",
      "((992, 826), (1069, 909))\n",
      "((924, 862), (983, 907))\n"
     ]
    },
    {
     "name": "stderr",
     "output_type": "stream",
     "text": [
      "\n",
      "\n",
      " 24%|██▍       | 571/2398 [24:57<1:20:01,  2.63s/it]\u001b[A\u001b[A"
     ]
    },
    {
     "name": "stdout",
     "output_type": "stream",
     "text": [
      "((794, 422), (1279, 577))\n",
      "((306, 518), (477, 552))\n",
      "((30, 562), (147, 605))\n",
      "((534, 770), (631, 847))\n",
      "((262, 797), (409, 865))\n"
     ]
    },
    {
     "name": "stderr",
     "output_type": "stream",
     "text": [
      "\n",
      "\n",
      " 24%|██▍       | 572/2398 [25:00<1:19:14,  2.60s/it]\u001b[A\u001b[A"
     ]
    },
    {
     "name": "stdout",
     "output_type": "stream",
     "text": [
      "((991, 826), (1069, 909))\n",
      "((924, 862), (983, 907))\n",
      "((794, 422), (1279, 578))\n",
      "((300, 518), (477, 552))\n",
      "((30, 562), (149, 605))\n",
      "((533, 770), (631, 847))\n",
      "((262, 794), (410, 887))\n",
      "((991, 826), (1069, 909))\n",
      "((924, 862), (984, 907))\n"
     ]
    },
    {
     "name": "stderr",
     "output_type": "stream",
     "text": [
      "\n",
      "\n",
      " 24%|██▍       | 573/2398 [25:02<1:19:53,  2.63s/it]\u001b[A\u001b[A"
     ]
    },
    {
     "name": "stdout",
     "output_type": "stream",
     "text": [
      "((794, 422), (1279, 578))\n",
      "((300, 517), (476, 552))\n",
      "((37, 565), (157, 605))\n",
      "((533, 770), (633, 847))\n",
      "((262, 794), (410, 887))\n",
      "((992, 826), (1069, 909))\n"
     ]
    },
    {
     "name": "stderr",
     "output_type": "stream",
     "text": [
      "\n",
      "\n",
      " 24%|██▍       | 574/2398 [25:05<1:21:19,  2.67s/it]\u001b[A\u001b[A"
     ]
    },
    {
     "name": "stdout",
     "output_type": "stream",
     "text": [
      "((924, 862), (984, 907))\n",
      "((791, 422), (1279, 578))\n",
      "((298, 517), (476, 552))\n",
      "((37, 565), (149, 605))\n",
      "((533, 770), (621, 847))\n",
      "((262, 795), (410, 887))\n",
      "((992, 826), (1069, 909))\n",
      "((924, 862), (983, 907))\n"
     ]
    },
    {
     "name": "stderr",
     "output_type": "stream",
     "text": [
      "\n",
      "\n",
      " 24%|██▍       | 575/2398 [25:08<1:21:02,  2.67s/it]\u001b[A\u001b[A"
     ]
    },
    {
     "name": "stdout",
     "output_type": "stream",
     "text": [
      "((779, 422), (1279, 578))\n",
      "((293, 518), (476, 552))\n",
      "((37, 566), (151, 605))\n",
      "((533, 771), (621, 845))\n",
      "((262, 797), (409, 887))\n",
      "((993, 826), (1069, 909))\n"
     ]
    },
    {
     "name": "stderr",
     "output_type": "stream",
     "text": [
      "\n",
      "\n",
      " 24%|██▍       | 576/2398 [25:10<1:22:13,  2.71s/it]\u001b[A\u001b[A"
     ]
    },
    {
     "name": "stdout",
     "output_type": "stream",
     "text": [
      "((924, 862), (983, 907))\n",
      "((780, 423), (1279, 578))\n",
      "((292, 518), (465, 552))\n",
      "((37, 565), (151, 605))\n",
      "((533, 780), (604, 829))\n",
      "((261, 797), (409, 887))\n",
      "((994, 826), (1069, 909))\n",
      "((924, 862), (981, 906))\n"
     ]
    },
    {
     "name": "stderr",
     "output_type": "stream",
     "text": [
      "\n",
      "\n",
      " 24%|██▍       | 577/2398 [25:13<1:22:02,  2.70s/it]\u001b[A\u001b[A"
     ]
    },
    {
     "name": "stdout",
     "output_type": "stream",
     "text": [
      "((785, 422), (1279, 578))\n",
      "((292, 518), (461, 552))\n",
      "((37, 570), (133, 605))\n",
      "((259, 798), (409, 887))\n"
     ]
    },
    {
     "name": "stderr",
     "output_type": "stream",
     "text": [
      "\n",
      "\n",
      " 24%|██▍       | 578/2398 [25:16<1:21:04,  2.67s/it]\u001b[A\u001b[A"
     ]
    },
    {
     "name": "stdout",
     "output_type": "stream",
     "text": [
      "((994, 826), (1069, 909))\n",
      "((924, 862), (981, 906))\n",
      "((785, 422), (1279, 577))\n",
      "((291, 518), (461, 552))\n",
      "((30, 570), (133, 605))\n",
      "((259, 798), (409, 887))\n"
     ]
    },
    {
     "name": "stderr",
     "output_type": "stream",
     "text": [
      "\n",
      "\n",
      " 24%|██▍       | 579/2398 [25:18<1:21:07,  2.68s/it]\u001b[A\u001b[A"
     ]
    },
    {
     "name": "stdout",
     "output_type": "stream",
     "text": [
      "((994, 826), (1069, 899))\n",
      "((924, 862), (981, 906))\n",
      "((785, 422), (1279, 577))\n",
      "((290, 518), (461, 552))\n",
      "((259, 798), (409, 900))\n"
     ]
    },
    {
     "name": "stderr",
     "output_type": "stream",
     "text": [
      "\n",
      "\n",
      " 24%|██▍       | 580/2398 [25:21<1:21:12,  2.68s/it]\u001b[A\u001b[A"
     ]
    },
    {
     "name": "stdout",
     "output_type": "stream",
     "text": [
      "((994, 826), (1069, 897))\n",
      "((924, 862), (981, 906))\n",
      "((782, 422), (1279, 577))\n",
      "((290, 518), (461, 552))\n",
      "((259, 799), (409, 900))\n"
     ]
    },
    {
     "name": "stderr",
     "output_type": "stream",
     "text": [
      "\n",
      "\n",
      " 24%|██▍       | 581/2398 [25:24<1:20:16,  2.65s/it]\u001b[A\u001b[A"
     ]
    },
    {
     "name": "stdout",
     "output_type": "stream",
     "text": [
      "((994, 826), (1068, 897))\n",
      "((924, 862), (981, 906))\n",
      "((782, 422), (1279, 578))\n",
      "((290, 518), (460, 552))\n",
      "((259, 802), (409, 901))\n"
     ]
    },
    {
     "name": "stderr",
     "output_type": "stream",
     "text": [
      "\n",
      "\n",
      " 24%|██▍       | 582/2398 [25:26<1:19:26,  2.62s/it]\u001b[A\u001b[A"
     ]
    },
    {
     "name": "stdout",
     "output_type": "stream",
     "text": [
      "((994, 826), (1068, 897))\n",
      "((924, 862), (981, 906))\n",
      "((781, 422), (1279, 578))\n",
      "((290, 518), (458, 552))\n",
      "((261, 802), (409, 902))\n"
     ]
    },
    {
     "name": "stderr",
     "output_type": "stream",
     "text": [
      "\n",
      "\n",
      " 24%|██▍       | 583/2398 [25:29<1:18:35,  2.60s/it]\u001b[A\u001b[A"
     ]
    },
    {
     "name": "stdout",
     "output_type": "stream",
     "text": [
      "((994, 826), (1068, 897))\n",
      "((924, 862), (981, 906))\n",
      "((781, 423), (1279, 578))\n",
      "((284, 518), (451, 552))\n",
      "((262, 802), (369, 902))\n"
     ]
    },
    {
     "name": "stderr",
     "output_type": "stream",
     "text": [
      "\n",
      "\n",
      " 24%|██▍       | 584/2398 [25:31<1:18:30,  2.60s/it]\u001b[A\u001b[A"
     ]
    },
    {
     "name": "stdout",
     "output_type": "stream",
     "text": [
      "((994, 827), (1068, 897))\n",
      "((924, 862), (981, 906))\n",
      "((781, 423), (1279, 578))\n",
      "((284, 518), (445, 552))\n",
      "((268, 803), (367, 902))\n",
      "((994, 827), (1068, 897))\n"
     ]
    },
    {
     "name": "stderr",
     "output_type": "stream",
     "text": [
      "\n",
      "\n",
      " 24%|██▍       | 585/2398 [25:34<1:18:20,  2.59s/it]\u001b[A\u001b[A"
     ]
    },
    {
     "name": "stdout",
     "output_type": "stream",
     "text": [
      "((780, 423), (1279, 578))\n",
      "((282, 518), (445, 552))\n",
      "((270, 803), (367, 902))\n"
     ]
    },
    {
     "name": "stderr",
     "output_type": "stream",
     "text": [
      "\n",
      "\n",
      " 24%|██▍       | 586/2398 [25:37<1:18:58,  2.62s/it]\u001b[A\u001b[A"
     ]
    },
    {
     "name": "stdout",
     "output_type": "stream",
     "text": [
      "((994, 827), (1068, 897))\n",
      "((924, 862), (981, 907))\n",
      "((778, 423), (1279, 578))\n",
      "((277, 518), (444, 552))\n",
      "((270, 803), (367, 902))\n"
     ]
    },
    {
     "name": "stderr",
     "output_type": "stream",
     "text": [
      "\n",
      "\n",
      " 24%|██▍       | 587/2398 [25:39<1:18:53,  2.61s/it]\u001b[A\u001b[A"
     ]
    },
    {
     "name": "stdout",
     "output_type": "stream",
     "text": [
      "((994, 827), (1068, 897))\n",
      "((924, 862), (981, 907))\n",
      "((777, 423), (1279, 578))\n",
      "((274, 518), (444, 552))\n",
      "((270, 802), (370, 902))\n"
     ]
    },
    {
     "name": "stderr",
     "output_type": "stream",
     "text": [
      "\n",
      "\n",
      " 25%|██▍       | 588/2398 [25:42<1:18:37,  2.61s/it]\u001b[A\u001b[A"
     ]
    },
    {
     "name": "stdout",
     "output_type": "stream",
     "text": [
      "((994, 827), (1068, 897))\n",
      "((924, 862), (981, 907))\n",
      "((774, 423), (1279, 578))\n",
      "((274, 518), (436, 552))\n"
     ]
    },
    {
     "name": "stderr",
     "output_type": "stream",
     "text": [
      "\n",
      "\n",
      " 25%|██▍       | 589/2398 [25:44<1:18:31,  2.60s/it]\u001b[A\u001b[A"
     ]
    },
    {
     "name": "stdout",
     "output_type": "stream",
     "text": [
      "((270, 802), (409, 902))\n",
      "((994, 826), (1068, 897))\n",
      "((924, 862), (981, 907))\n",
      "((773, 424), (1279, 578))\n",
      "((274, 518), (436, 552))\n",
      "((270, 802), (384, 902))\n"
     ]
    },
    {
     "name": "stderr",
     "output_type": "stream",
     "text": [
      "\n",
      "\n",
      " 25%|██▍       | 590/2398 [25:47<1:18:01,  2.59s/it]\u001b[A\u001b[A"
     ]
    },
    {
     "name": "stdout",
     "output_type": "stream",
     "text": [
      "((994, 826), (1068, 897))\n",
      "((924, 862), (983, 907))\n",
      "((770, 424), (1279, 578))\n",
      "((274, 518), (421, 552))\n",
      "((270, 802), (387, 902))\n",
      "((994, 826), (1068, 909))\n"
     ]
    },
    {
     "name": "stderr",
     "output_type": "stream",
     "text": [
      "\n",
      "\n",
      " 25%|██▍       | 591/2398 [25:49<1:16:45,  2.55s/it]\u001b[A\u001b[A"
     ]
    },
    {
     "name": "stdout",
     "output_type": "stream",
     "text": [
      "((924, 861), (983, 907))\n",
      "((770, 424), (1279, 578))\n",
      "((273, 518), (421, 552))\n",
      "((266, 802), (409, 902))\n",
      "((994, 826), (1068, 909))\n"
     ]
    },
    {
     "name": "stderr",
     "output_type": "stream",
     "text": [
      "\n",
      "\n",
      " 25%|██▍       | 592/2398 [25:52<1:15:34,  2.51s/it]\u001b[A\u001b[A"
     ]
    },
    {
     "name": "stdout",
     "output_type": "stream",
     "text": [
      "((924, 861), (983, 907))\n",
      "((766, 424), (1279, 578))\n",
      "((273, 518), (420, 552))\n",
      "((266, 802), (409, 902))\n",
      "((994, 826), (1068, 909))\n",
      "((924, 861), (983, 907))\n"
     ]
    },
    {
     "name": "stderr",
     "output_type": "stream",
     "text": [
      "\n",
      "\n",
      " 25%|██▍       | 593/2398 [25:55<1:16:27,  2.54s/it]\u001b[A\u001b[A"
     ]
    },
    {
     "name": "stdout",
     "output_type": "stream",
     "text": [
      "((764, 424), (1279, 578))\n",
      "((273, 518), (420, 552))\n"
     ]
    },
    {
     "name": "stderr",
     "output_type": "stream",
     "text": [
      "\n",
      "\n",
      " 25%|██▍       | 594/2398 [25:57<1:17:08,  2.57s/it]\u001b[A\u001b[A"
     ]
    },
    {
     "name": "stdout",
     "output_type": "stream",
     "text": [
      "((266, 802), (409, 902))\n",
      "((994, 826), (1068, 909))\n",
      "((924, 861), (984, 907))\n",
      "((764, 424), (1279, 578))\n",
      "((270, 518), (420, 552))\n"
     ]
    },
    {
     "name": "stderr",
     "output_type": "stream",
     "text": [
      "\n",
      "\n",
      " 25%|██▍       | 595/2398 [26:00<1:17:38,  2.58s/it]\u001b[A\u001b[A"
     ]
    },
    {
     "name": "stdout",
     "output_type": "stream",
     "text": [
      "((266, 802), (387, 902))\n",
      "((994, 826), (1068, 909))\n",
      "((924, 861), (984, 907))\n",
      "((762, 424), (1279, 578))\n",
      "((267, 518), (420, 552))\n",
      "((265, 802), (387, 902))\n",
      "((994, 826), (1068, 897))\n",
      "((924, 861), (983, 907))\n"
     ]
    },
    {
     "name": "stderr",
     "output_type": "stream",
     "text": [
      "\n",
      "\n",
      " 25%|██▍       | 596/2398 [26:02<1:17:30,  2.58s/it]\u001b[A\u001b[A"
     ]
    },
    {
     "name": "stdout",
     "output_type": "stream",
     "text": [
      "((762, 424), (1279, 578))\n",
      "((262, 802), (387, 902))\n"
     ]
    },
    {
     "name": "stderr",
     "output_type": "stream",
     "text": [
      "\n",
      "\n",
      " 25%|██▍       | 597/2398 [26:05<1:18:32,  2.62s/it]\u001b[A\u001b[A"
     ]
    },
    {
     "name": "stdout",
     "output_type": "stream",
     "text": [
      "((994, 826), (1068, 897))\n",
      "((924, 861), (983, 907))\n",
      "((760, 424), (1279, 578))\n"
     ]
    },
    {
     "name": "stderr",
     "output_type": "stream",
     "text": [
      "\n",
      "\n",
      " 25%|██▍       | 598/2398 [26:08<1:18:37,  2.62s/it]\u001b[A\u001b[A"
     ]
    },
    {
     "name": "stdout",
     "output_type": "stream",
     "text": [
      "((262, 802), (387, 902))\n",
      "((994, 826), (1068, 897))\n",
      "((924, 861), (983, 907))\n",
      "((760, 424), (1279, 578))\n",
      "((262, 802), (387, 902))\n"
     ]
    },
    {
     "name": "stderr",
     "output_type": "stream",
     "text": [
      "\n",
      "\n",
      " 25%|██▍       | 599/2398 [26:10<1:18:06,  2.60s/it]\u001b[A\u001b[A"
     ]
    },
    {
     "name": "stdout",
     "output_type": "stream",
     "text": [
      "((994, 826), (1068, 897))\n",
      "((924, 862), (983, 907))\n",
      "((758, 424), (1279, 578))\n",
      "((262, 802), (387, 903))\n"
     ]
    },
    {
     "name": "stderr",
     "output_type": "stream",
     "text": [
      "\n",
      "\n",
      " 25%|██▌       | 600/2398 [26:13<1:17:05,  2.57s/it]\u001b[A\u001b[A"
     ]
    },
    {
     "name": "stdout",
     "output_type": "stream",
     "text": [
      "((994, 826), (1068, 897))\n",
      "((924, 862), (983, 907))\n",
      "((756, 424), (1279, 578))\n",
      "((322, 518), (426, 545))\n"
     ]
    },
    {
     "name": "stderr",
     "output_type": "stream",
     "text": [
      "\n",
      "\n",
      " 25%|██▌       | 601/2398 [26:15<1:16:41,  2.56s/it]\u001b[A\u001b[A"
     ]
    },
    {
     "name": "stdout",
     "output_type": "stream",
     "text": [
      "((262, 802), (393, 904))\n",
      "((994, 827), (1067, 897))\n",
      "((924, 862), (983, 907))\n",
      "((755, 424), (1279, 578))\n"
     ]
    },
    {
     "name": "stderr",
     "output_type": "stream",
     "text": [
      "\n",
      "\n",
      " 25%|██▌       | 602/2398 [26:18<1:16:50,  2.57s/it]\u001b[A\u001b[A"
     ]
    },
    {
     "name": "stdout",
     "output_type": "stream",
     "text": [
      "((262, 802), (388, 904))\n",
      "((994, 827), (1067, 897))\n",
      "((924, 862), (983, 907))\n",
      "((750, 424), (1277, 578))\n"
     ]
    },
    {
     "name": "stderr",
     "output_type": "stream",
     "text": [
      "\n",
      "\n",
      " 25%|██▌       | 603/2398 [26:20<1:16:35,  2.56s/it]\u001b[A\u001b[A"
     ]
    },
    {
     "name": "stdout",
     "output_type": "stream",
     "text": [
      "((262, 802), (389, 904))\n",
      "((994, 827), (1067, 897))\n",
      "((925, 862), (983, 907))\n",
      "((749, 424), (1277, 578))\n",
      "((258, 518), (420, 552))\n"
     ]
    },
    {
     "name": "stderr",
     "output_type": "stream",
     "text": [
      "\n",
      "\n",
      " 25%|██▌       | 604/2398 [26:23<1:16:48,  2.57s/it]\u001b[A\u001b[A"
     ]
    },
    {
     "name": "stdout",
     "output_type": "stream",
     "text": [
      "((262, 802), (389, 904))\n",
      "((994, 827), (1067, 893))\n",
      "((925, 862), (983, 907))\n",
      "((748, 424), (1277, 578))\n",
      "((258, 518), (407, 552))\n",
      "((262, 802), (389, 903))\n"
     ]
    },
    {
     "name": "stderr",
     "output_type": "stream",
     "text": [
      "\n",
      "\n",
      " 25%|██▌       | 605/2398 [26:26<1:16:49,  2.57s/it]\u001b[A\u001b[A"
     ]
    },
    {
     "name": "stdout",
     "output_type": "stream",
     "text": [
      "((994, 827), (1067, 893))\n",
      "((925, 862), (983, 907))\n",
      "((747, 424), (1277, 578))\n",
      "((258, 518), (405, 552))\n",
      "((262, 802), (389, 903))\n"
     ]
    },
    {
     "name": "stderr",
     "output_type": "stream",
     "text": [
      "\n",
      "\n",
      " 25%|██▌       | 606/2398 [26:28<1:16:33,  2.56s/it]\u001b[A\u001b[A"
     ]
    },
    {
     "name": "stdout",
     "output_type": "stream",
     "text": [
      "((994, 827), (1067, 893))\n",
      "((925, 862), (983, 907))\n",
      "((747, 426), (1269, 578))\n",
      "((258, 518), (405, 552))\n",
      "((262, 802), (389, 903))\n",
      "((994, 827), (1067, 893))\n"
     ]
    },
    {
     "name": "stderr",
     "output_type": "stream",
     "text": [
      "\n",
      "\n",
      " 25%|██▌       | 607/2398 [26:31<1:16:24,  2.56s/it]\u001b[A\u001b[A"
     ]
    },
    {
     "name": "stdout",
     "output_type": "stream",
     "text": [
      "((925, 862), (983, 907))\n",
      "((747, 426), (1265, 578))\n",
      "((262, 802), (389, 903))\n",
      "((994, 828), (1067, 893))\n"
     ]
    },
    {
     "name": "stderr",
     "output_type": "stream",
     "text": [
      "\n",
      "\n",
      " 25%|██▌       | 608/2398 [26:33<1:16:50,  2.58s/it]\u001b[A\u001b[A"
     ]
    },
    {
     "name": "stdout",
     "output_type": "stream",
     "text": [
      "((925, 862), (983, 907))\n",
      "((746, 426), (1263, 578))\n",
      "((262, 797), (389, 903))\n"
     ]
    },
    {
     "name": "stderr",
     "output_type": "stream",
     "text": [
      "\n",
      "\n",
      " 25%|██▌       | 609/2398 [26:36<1:16:32,  2.57s/it]\u001b[A\u001b[A"
     ]
    },
    {
     "name": "stdout",
     "output_type": "stream",
     "text": [
      "((994, 828), (1067, 893))\n",
      "((925, 862), (983, 907))\n",
      "((745, 426), (1261, 578))\n",
      "((262, 794), (389, 903))\n"
     ]
    },
    {
     "name": "stderr",
     "output_type": "stream",
     "text": [
      "\n",
      "\n",
      " 25%|██▌       | 610/2398 [26:38<1:16:14,  2.56s/it]\u001b[A\u001b[A"
     ]
    },
    {
     "name": "stdout",
     "output_type": "stream",
     "text": [
      "((994, 828), (1067, 893))\n",
      "((925, 862), (983, 907))\n",
      "((742, 426), (1260, 578))\n",
      "((262, 797), (389, 903))\n"
     ]
    },
    {
     "name": "stderr",
     "output_type": "stream",
     "text": [
      "\n",
      "\n",
      " 25%|██▌       | 611/2398 [26:41<1:16:57,  2.58s/it]\u001b[A\u001b[A"
     ]
    },
    {
     "name": "stdout",
     "output_type": "stream",
     "text": [
      "((994, 828), (1067, 893))\n",
      "((925, 862), (983, 907))\n",
      "((740, 426), (1259, 578))\n",
      "((262, 794), (389, 902))\n",
      "((994, 828), (1067, 893))\n"
     ]
    },
    {
     "name": "stderr",
     "output_type": "stream",
     "text": [
      "\n",
      "\n",
      " 26%|██▌       | 612/2398 [26:44<1:16:42,  2.58s/it]\u001b[A\u001b[A"
     ]
    },
    {
     "name": "stdout",
     "output_type": "stream",
     "text": [
      "((925, 862), (983, 906))\n",
      "((734, 426), (1259, 578))\n",
      "((262, 794), (381, 902))\n"
     ]
    },
    {
     "name": "stderr",
     "output_type": "stream",
     "text": [
      "\n",
      "\n",
      " 26%|██▌       | 613/2398 [26:46<1:16:52,  2.58s/it]\u001b[A\u001b[A"
     ]
    },
    {
     "name": "stdout",
     "output_type": "stream",
     "text": [
      "((994, 828), (1067, 893))\n",
      "((925, 862), (982, 906))\n",
      "((733, 426), (1259, 578))\n",
      "((259, 794), (381, 901))\n",
      "((994, 828), (1067, 893))\n"
     ]
    },
    {
     "name": "stderr",
     "output_type": "stream",
     "text": [
      "\n",
      "\n",
      " 26%|██▌       | 614/2398 [26:49<1:16:27,  2.57s/it]\u001b[A\u001b[A"
     ]
    },
    {
     "name": "stdout",
     "output_type": "stream",
     "text": [
      "((925, 862), (982, 906))\n",
      "((732, 426), (1259, 578))\n",
      "((258, 793), (381, 901))\n"
     ]
    },
    {
     "name": "stderr",
     "output_type": "stream",
     "text": [
      "\n",
      "\n",
      " 26%|██▌       | 615/2398 [26:51<1:16:55,  2.59s/it]\u001b[A\u001b[A"
     ]
    },
    {
     "name": "stdout",
     "output_type": "stream",
     "text": [
      "((994, 829), (1067, 893))\n",
      "((732, 426), (1259, 578))\n",
      "((258, 790), (381, 902))\n",
      "((994, 829), (1067, 893))\n"
     ]
    },
    {
     "name": "stderr",
     "output_type": "stream",
     "text": [
      "\n",
      "\n",
      " 26%|██▌       | 616/2398 [26:54<1:16:13,  2.57s/it]\u001b[A\u001b[A"
     ]
    },
    {
     "name": "stdout",
     "output_type": "stream",
     "text": [
      "((732, 426), (1260, 578))\n",
      "((258, 781), (381, 901))\n"
     ]
    },
    {
     "name": "stderr",
     "output_type": "stream",
     "text": [
      "\n",
      "\n",
      " 26%|██▌       | 617/2398 [26:56<1:16:02,  2.56s/it]\u001b[A\u001b[A"
     ]
    },
    {
     "name": "stdout",
     "output_type": "stream",
     "text": [
      "((994, 829), (1068, 893))\n",
      "((732, 426), (1262, 578))\n",
      "((258, 780), (381, 901))\n"
     ]
    },
    {
     "name": "stderr",
     "output_type": "stream",
     "text": [
      "\n",
      "\n",
      " 26%|██▌       | 618/2398 [26:59<1:16:29,  2.58s/it]\u001b[A\u001b[A"
     ]
    },
    {
     "name": "stdout",
     "output_type": "stream",
     "text": [
      "((994, 828), (1068, 893))\n",
      "((718, 426), (1279, 578))\n",
      "((258, 780), (381, 901))\n"
     ]
    },
    {
     "name": "stderr",
     "output_type": "stream",
     "text": [
      "\n",
      "\n",
      " 26%|██▌       | 619/2398 [27:02<1:16:23,  2.58s/it]\u001b[A\u001b[A"
     ]
    },
    {
     "name": "stdout",
     "output_type": "stream",
     "text": [
      "((994, 828), (1068, 893))\n",
      "((714, 426), (1279, 578))\n",
      "((563, 517), (637, 557))\n",
      "((258, 779), (381, 901))\n"
     ]
    },
    {
     "name": "stderr",
     "output_type": "stream",
     "text": [
      "\n",
      "\n",
      " 26%|██▌       | 620/2398 [27:04<1:16:24,  2.58s/it]\u001b[A\u001b[A"
     ]
    },
    {
     "name": "stdout",
     "output_type": "stream",
     "text": [
      "((994, 828), (1068, 893))\n",
      "((714, 426), (1279, 578))\n",
      "((560, 517), (637, 557))\n",
      "((258, 779), (381, 901))\n"
     ]
    },
    {
     "name": "stderr",
     "output_type": "stream",
     "text": [
      "\n",
      "\n",
      " 26%|██▌       | 621/2398 [27:07<1:15:45,  2.56s/it]\u001b[A\u001b[A"
     ]
    },
    {
     "name": "stdout",
     "output_type": "stream",
     "text": [
      "((995, 829), (1068, 893))\n",
      "((712, 426), (1279, 578))\n",
      "((557, 516), (637, 558))\n",
      "((290, 518), (397, 542))\n",
      "((259, 778), (388, 901))\n"
     ]
    },
    {
     "name": "stderr",
     "output_type": "stream",
     "text": [
      "\n",
      "\n",
      " 26%|██▌       | 622/2398 [27:09<1:16:14,  2.58s/it]\u001b[A\u001b[A"
     ]
    },
    {
     "name": "stdout",
     "output_type": "stream",
     "text": [
      "((995, 829), (1068, 893))\n",
      "((713, 426), (1278, 578))\n",
      "((549, 516), (623, 557))\n",
      "((259, 778), (388, 901))\n"
     ]
    },
    {
     "name": "stderr",
     "output_type": "stream",
     "text": [
      "\n",
      "\n",
      " 26%|██▌       | 623/2398 [27:12<1:16:24,  2.58s/it]\u001b[A\u001b[A"
     ]
    },
    {
     "name": "stdout",
     "output_type": "stream",
     "text": [
      "((995, 829), (1068, 893))\n",
      "((713, 426), (1278, 578))\n",
      "((547, 518), (623, 557))\n"
     ]
    },
    {
     "name": "stderr",
     "output_type": "stream",
     "text": [
      "\n",
      "\n",
      " 26%|██▌       | 624/2398 [27:14<1:16:33,  2.59s/it]\u001b[A\u001b[A"
     ]
    },
    {
     "name": "stdout",
     "output_type": "stream",
     "text": [
      "((259, 779), (381, 897))\n",
      "((994, 829), (1068, 893))\n",
      "((713, 426), (1278, 578))\n",
      "((547, 516), (623, 559))\n",
      "((259, 778), (388, 897))\n"
     ]
    },
    {
     "name": "stderr",
     "output_type": "stream",
     "text": [
      "\n",
      "\n",
      " 26%|██▌       | 625/2398 [27:17<1:16:03,  2.57s/it]\u001b[A\u001b[A"
     ]
    },
    {
     "name": "stdout",
     "output_type": "stream",
     "text": [
      "((994, 829), (1068, 893))\n",
      "((713, 426), (1277, 579))\n",
      "((547, 516), (623, 557))\n",
      "((259, 779), (381, 893))\n"
     ]
    },
    {
     "name": "stderr",
     "output_type": "stream",
     "text": [
      "\n",
      "\n",
      " 26%|██▌       | 626/2398 [27:20<1:15:17,  2.55s/it]\u001b[A\u001b[A"
     ]
    },
    {
     "name": "stdout",
     "output_type": "stream",
     "text": [
      "((994, 829), (1068, 893))\n",
      "((665, 426), (1275, 579))\n",
      "((546, 516), (621, 557))\n",
      "((259, 778), (387, 888))\n",
      "((994, 828), (1069, 893))\n"
     ]
    },
    {
     "name": "stderr",
     "output_type": "stream",
     "text": [
      "\n",
      "\n",
      " 26%|██▌       | 627/2398 [27:22<1:14:35,  2.53s/it]\u001b[A\u001b[A"
     ]
    },
    {
     "name": "stdout",
     "output_type": "stream",
     "text": [
      "((666, 427), (1271, 579))\n",
      "((531, 516), (621, 557))\n",
      "((259, 778), (387, 888))\n",
      "((994, 828), (1069, 893))\n"
     ]
    },
    {
     "name": "stderr",
     "output_type": "stream",
     "text": [
      "\n",
      "\n",
      " 26%|██▌       | 628/2398 [27:25<1:14:45,  2.53s/it]\u001b[A\u001b[A"
     ]
    },
    {
     "name": "stdout",
     "output_type": "stream",
     "text": [
      "((665, 436), (1270, 579))\n",
      "((531, 516), (621, 557))\n",
      "((259, 778), (386, 888))\n",
      "((994, 828), (1069, 895))\n"
     ]
    },
    {
     "name": "stderr",
     "output_type": "stream",
     "text": [
      "\n",
      "\n",
      " 26%|██▌       | 629/2398 [27:27<1:14:29,  2.53s/it]\u001b[A\u001b[A"
     ]
    },
    {
     "name": "stdout",
     "output_type": "stream",
     "text": [
      "((665, 426), (1269, 579))\n",
      "((531, 516), (623, 557))\n",
      "((259, 778), (385, 888))\n",
      "((994, 828), (1069, 893))\n"
     ]
    },
    {
     "name": "stderr",
     "output_type": "stream",
     "text": [
      "\n",
      "\n",
      " 26%|██▋       | 630/2398 [27:30<1:14:03,  2.51s/it]\u001b[A\u001b[A"
     ]
    },
    {
     "name": "stdout",
     "output_type": "stream",
     "text": [
      "((659, 426), (1267, 578))\n",
      "((531, 516), (626, 558))\n",
      "((259, 778), (381, 887))\n",
      "((994, 828), (1069, 893))\n"
     ]
    },
    {
     "name": "stderr",
     "output_type": "stream",
     "text": [
      "\n",
      "\n",
      " 26%|██▋       | 631/2398 [27:32<1:14:10,  2.52s/it]\u001b[A\u001b[A"
     ]
    },
    {
     "name": "stdout",
     "output_type": "stream",
     "text": [
      "((658, 426), (1264, 578))\n",
      "((531, 516), (653, 557))\n",
      "((259, 778), (381, 887))\n",
      "((994, 828), (1069, 893))\n"
     ]
    },
    {
     "name": "stderr",
     "output_type": "stream",
     "text": [
      "\n",
      "\n",
      " 26%|██▋       | 632/2398 [27:35<1:13:36,  2.50s/it]\u001b[A\u001b[A"
     ]
    },
    {
     "name": "stdout",
     "output_type": "stream",
     "text": [
      "((658, 427), (1261, 578))\n",
      "((531, 516), (653, 557))\n",
      "((259, 778), (381, 888))\n",
      "((994, 828), (1068, 893))\n"
     ]
    },
    {
     "name": "stderr",
     "output_type": "stream",
     "text": [
      "\n",
      "\n",
      " 26%|██▋       | 633/2398 [27:37<1:13:13,  2.49s/it]\u001b[A\u001b[A"
     ]
    },
    {
     "name": "stdout",
     "output_type": "stream",
     "text": [
      "((658, 427), (1261, 579))\n",
      "((531, 516), (648, 557))\n",
      "((259, 779), (383, 893))\n"
     ]
    },
    {
     "name": "stderr",
     "output_type": "stream",
     "text": [
      "\n",
      "\n",
      " 26%|██▋       | 634/2398 [27:39<1:13:17,  2.49s/it]\u001b[A\u001b[A"
     ]
    },
    {
     "name": "stdout",
     "output_type": "stream",
     "text": [
      "((994, 828), (1068, 893))\n",
      "((658, 427), (1259, 579))\n",
      "((531, 516), (630, 556))\n",
      "((259, 779), (383, 893))\n",
      "((994, 828), (1068, 893))\n"
     ]
    },
    {
     "name": "stderr",
     "output_type": "stream",
     "text": [
      "\n",
      "\n",
      " 26%|██▋       | 635/2398 [27:42<1:13:24,  2.50s/it]\u001b[A\u001b[A"
     ]
    },
    {
     "name": "stdout",
     "output_type": "stream",
     "text": [
      "((675, 442), (1257, 579))\n",
      "((531, 516), (632, 556))\n",
      "((209, 520), (294, 551))\n",
      "((259, 779), (381, 888))\n",
      "((994, 828), (1068, 893))\n"
     ]
    },
    {
     "name": "stderr",
     "output_type": "stream",
     "text": [
      "\n",
      "\n",
      " 27%|██▋       | 636/2398 [27:45<1:13:29,  2.50s/it]\u001b[A\u001b[A"
     ]
    },
    {
     "name": "stdout",
     "output_type": "stream",
     "text": [
      "((676, 442), (1256, 578))\n",
      "((531, 516), (605, 556))\n",
      "((206, 520), (295, 552))\n",
      "((258, 779), (381, 889))\n",
      "((994, 828), (1068, 893))\n"
     ]
    },
    {
     "name": "stderr",
     "output_type": "stream",
     "text": [
      "\n",
      "\n",
      " 27%|██▋       | 637/2398 [27:47<1:13:19,  2.50s/it]\u001b[A\u001b[A"
     ]
    },
    {
     "name": "stdout",
     "output_type": "stream",
     "text": [
      "((677, 442), (1253, 579))\n",
      "((531, 516), (603, 556))\n",
      "((203, 520), (353, 552))\n",
      "((258, 780), (381, 873))\n",
      "((994, 828), (1068, 893))\n"
     ]
    },
    {
     "name": "stderr",
     "output_type": "stream",
     "text": [
      "\n",
      "\n",
      " 27%|██▋       | 638/2398 [27:49<1:13:13,  2.50s/it]\u001b[A\u001b[A"
     ]
    },
    {
     "name": "stdout",
     "output_type": "stream",
     "text": [
      "((678, 442), (1253, 579))\n",
      "((531, 516), (602, 556))\n",
      "((202, 520), (353, 552))\n",
      "((258, 780), (383, 873))\n",
      "((994, 828), (1068, 893))\n"
     ]
    },
    {
     "name": "stderr",
     "output_type": "stream",
     "text": [
      "\n",
      "\n",
      " 27%|██▋       | 639/2398 [27:52<1:13:14,  2.50s/it]\u001b[A\u001b[A"
     ]
    },
    {
     "name": "stdout",
     "output_type": "stream",
     "text": [
      "((678, 442), (1253, 579))\n",
      "((531, 516), (597, 556))\n",
      "((202, 520), (349, 552))\n",
      "((258, 780), (383, 873))\n",
      "((994, 828), (1068, 893))\n"
     ]
    },
    {
     "name": "stderr",
     "output_type": "stream",
     "text": [
      "\n",
      "\n",
      " 27%|██▋       | 640/2398 [27:55<1:13:49,  2.52s/it]\u001b[A\u001b[A"
     ]
    },
    {
     "name": "stdout",
     "output_type": "stream",
     "text": [
      "((683, 450), (1251, 579))\n",
      "((201, 520), (295, 552))\n",
      "((258, 780), (383, 873))\n"
     ]
    },
    {
     "name": "stderr",
     "output_type": "stream",
     "text": [
      "\n",
      "\n",
      " 27%|██▋       | 641/2398 [27:57<1:15:51,  2.59s/it]\u001b[A\u001b[A"
     ]
    },
    {
     "name": "stdout",
     "output_type": "stream",
     "text": [
      "((994, 828), (1068, 893))\n",
      "((691, 450), (1249, 579))\n",
      "((515, 517), (594, 556))\n",
      "((198, 521), (293, 552))\n",
      "((258, 780), (383, 901))\n"
     ]
    },
    {
     "name": "stderr",
     "output_type": "stream",
     "text": [
      "\n",
      "\n",
      " 27%|██▋       | 642/2398 [28:00<1:15:58,  2.60s/it]\u001b[A\u001b[A"
     ]
    },
    {
     "name": "stdout",
     "output_type": "stream",
     "text": [
      "((994, 829), (1068, 893))\n",
      "((690, 442), (1248, 579))\n",
      "((515, 517), (594, 556))\n",
      "((195, 521), (293, 552))\n",
      "((258, 780), (371, 901))\n",
      "((994, 829), (1068, 893))\n"
     ]
    },
    {
     "name": "stderr",
     "output_type": "stream",
     "text": [
      "\n",
      "\n",
      " 27%|██▋       | 643/2398 [28:03<1:15:51,  2.59s/it]\u001b[A\u001b[A"
     ]
    },
    {
     "name": "stdout",
     "output_type": "stream",
     "text": [
      "((690, 450), (1242, 578))\n",
      "((515, 517), (590, 556))\n",
      "((195, 521), (290, 552))\n",
      "((258, 780), (371, 901))\n",
      "((994, 829), (1068, 893))\n"
     ]
    },
    {
     "name": "stderr",
     "output_type": "stream",
     "text": [
      "\n",
      "\n",
      " 27%|██▋       | 644/2398 [28:05<1:14:53,  2.56s/it]\u001b[A\u001b[A"
     ]
    },
    {
     "name": "stdout",
     "output_type": "stream",
     "text": [
      "((690, 450), (1240, 578))\n",
      "((515, 517), (589, 556))\n",
      "((194, 521), (281, 552))\n",
      "((258, 780), (371, 901))\n",
      "((994, 829), (1068, 893))\n"
     ]
    },
    {
     "name": "stderr",
     "output_type": "stream",
     "text": [
      "\n",
      "\n",
      " 27%|██▋       | 645/2398 [28:07<1:13:29,  2.52s/it]\u001b[A\u001b[A"
     ]
    },
    {
     "name": "stdout",
     "output_type": "stream",
     "text": [
      "((690, 442), (1240, 578))\n",
      "((515, 517), (586, 556))\n",
      "((191, 520), (281, 552))\n",
      "((258, 780), (377, 901))\n",
      "((994, 828), (1067, 893))\n"
     ]
    },
    {
     "name": "stderr",
     "output_type": "stream",
     "text": [
      "\n",
      "\n",
      " 27%|██▋       | 646/2398 [28:10<1:13:46,  2.53s/it]\u001b[A\u001b[A"
     ]
    },
    {
     "name": "stdout",
     "output_type": "stream",
     "text": [
      "((686, 442), (1240, 578))\n",
      "((515, 517), (581, 556))\n",
      "((191, 521), (279, 552))\n",
      "((253, 780), (377, 901))\n",
      "((994, 828), (1067, 893))\n"
     ]
    },
    {
     "name": "stderr",
     "output_type": "stream",
     "text": [
      "\n",
      "\n",
      " 27%|██▋       | 647/2398 [28:13<1:14:16,  2.55s/it]\u001b[A\u001b[A"
     ]
    },
    {
     "name": "stdout",
     "output_type": "stream",
     "text": [
      "((686, 442), (1239, 578))\n",
      "((190, 520), (279, 552))\n",
      "((250, 780), (377, 901))\n",
      "((994, 828), (1067, 893))\n"
     ]
    },
    {
     "name": "stderr",
     "output_type": "stream",
     "text": [
      "\n",
      "\n",
      " 27%|██▋       | 648/2398 [28:15<1:13:15,  2.51s/it]\u001b[A\u001b[A"
     ]
    }
   ],
   "source": [
    "# Detect aircrafts in eva.mp4 video\n",
    "demo_eva_path = 'video/eva_demo.mp4'\n",
    "clip_eva = VideoFileClip('video/eva.mp4');\n",
    "clip_eva = clip_eva.subclip(120, 200)\n",
    "demo_eva = clip_eva.fl_image(pipeline_process_airport)\n",
    "%time demo_eva.write_videofile(demo_eva_path, audio=False);"
   ]
  },
  {
   "cell_type": "code",
   "execution_count": null,
   "metadata": {},
   "outputs": [],
   "source": []
  }
 ],
 "metadata": {
  "kernelspec": {
   "display_name": "Python 3",
   "language": "python",
   "name": "python3"
  },
  "language_info": {
   "codemirror_mode": {
    "name": "ipython",
    "version": 3
   },
   "file_extension": ".py",
   "mimetype": "text/x-python",
   "name": "python",
   "nbconvert_exporter": "python",
   "pygments_lexer": "ipython3",
   "version": "3.6.5"
  }
 },
 "nbformat": 4,
 "nbformat_minor": 2
}
